{
 "cells": [
  {
   "cell_type": "markdown",
   "id": "ab99449f",
   "metadata": {},
   "source": [
    "**Input:** \n",
    "- UK Biobank cancer-related fields\n",
    "- ACCEL dataset (Katori et al. 2022)\n",
    "\n",
    "\n",
    "**Process:**\n",
    " - Extract the subset population with ACCEL dataset available\n",
    " - See whether cancer makes any difference in ACCEL features\n",
    "\n",
    "**Output:**\n"
   ]
  },
  {
   "cell_type": "markdown",
   "id": "6d495afd",
   "metadata": {},
   "source": [
    "# Preparation (Execute all in this section!)"
   ]
  },
  {
   "cell_type": "markdown",
   "id": "73867402",
   "metadata": {},
   "source": [
    "## Import libraries & set environment variables"
   ]
  },
  {
   "cell_type": "code",
   "execution_count": 1,
   "id": "bde0e43d",
   "metadata": {},
   "outputs": [
    {
     "name": "stdout",
     "output_type": "stream",
     "text": [
      "Current directory (check that it's your home directory): J:\\sugai\\UKBiobank\n"
     ]
    }
   ],
   "source": [
    "import collections\n",
    "import csv\n",
    "from datetime import datetime\n",
    "import os\n",
    "import numpy as np\n",
    "import pandas as pd\n",
    "from pathlib import Path\n",
    "import polars as pl\n",
    "import re\n",
    "from matplotlib import pyplot as plt\n",
    "\n",
    "from scipy import stats\n",
    "from sklearn.preprocessing import MinMaxScaler\n",
    "from sklearn import linear_model\n",
    "import statsmodels.api as sm\n",
    "\n",
    "from contextlib import redirect_stdout\n",
    "from io import StringIO\n",
    "\n",
    "import warnings\n",
    "# suppress DeprecationWarning messages\n",
    "warnings.filterwarnings(\"ignore\", category=DeprecationWarning)\n",
    "\n",
    "\n",
    "# Draw flowcharts using Mermaid\n",
    "import base64\n",
    "from IPython.display import Image, display\n",
    "\n",
    "def mm(graph):\n",
    "  graphbytes = graph.encode(\"ascii\")\n",
    "  base64_bytes = base64.b64encode(graphbytes)\n",
    "  base64_string = base64_bytes.decode(\"ascii\")\n",
    "  display(Image(url=\"https://mermaid.ink/img/\" + base64_string))\n",
    "\n",
    "\n",
    "dir_home = Path(os.getcwd()).parent.parent.parent\n",
    "os.chdir(dir_home)\n",
    "print(\"Current directory (check that it's your home directory):\", os.getcwd())"
   ]
  },
  {
   "cell_type": "code",
   "execution_count": 2,
   "id": "297f5743",
   "metadata": {},
   "outputs": [],
   "source": [
    "DIR_SOURCE = os.path.join(\"data\", \"accel_ukbb\", \"split\")\n",
    "DIR_OUT = os.path.join(\"analysis\", \"specific\", \"analysis_20230510_01_ACCEL_cancer\")\n",
    "\n",
    "if not os.path.exists(DIR_OUT):\n",
    "    os.makedirs(DIR_OUT)"
   ]
  },
  {
   "cell_type": "code",
   "execution_count": 4,
   "id": "7f7cf8ea",
   "metadata": {},
   "outputs": [
    {
     "data": {
      "text/html": [
       "<img src=\"https://mermaid.ink/img/CmdyYXBoIFREOwogICAgY2xhc3NEZWYgZGFyayBmaWxsOiNEREREREQsIHN0cm9rZTojRERERERELCBmb250LXNpemU6MTJweAogICAgVUtCQltVS0JCIHBvcHVsYXRpb246IDUwMiwzODZdIC0tPiBBQ0NFTFtBQ0NFTCBkYXRhIGF2YWlsYWJsZTogODEsNDk2XTsKICAgIEFDQ0VMIC0uLT4gQzFbY2FuY2VyIHJlY29yZCBiZWZvcmUgYWNjZWxlcm9tZXRyeTogMTEsNjg0XTo6OmRhcms7CiAgICBBQ0NFTCAtLT4gQzJbY2FuY2VyIHJlY29yZCBhZnRlciBhY2NlbGVyb21ldHJ5OiA2LDA5OF07CiAgICBBQ0NFTCAtLT4gQzNbbm8gY2FuY2VyIHJlY29yZDogNjMsNzE0XTsK\"/>"
      ],
      "text/plain": [
       "<IPython.core.display.Image object>"
      ]
     },
     "metadata": {},
     "output_type": "display_data"
    }
   ],
   "source": [
    "mm(\"\"\"\n",
    "graph TD;\n",
    "    classDef dark fill:#DDDDDD, stroke:#DDDDDD, font-size:12px\n",
    "    UKBB[UKBB population: 502,386] --> ACCEL[ACCEL data available: 81,496];\n",
    "    ACCEL -.-> C1[cancer record before accelerometry: 11,684]:::dark;\n",
    "    ACCEL --> C2[cancer record after accelerometry: 6,098];\n",
    "    ACCEL --> C3[no cancer record: 63,714];\n",
    "\"\"\")\n"
   ]
  },
  {
   "cell_type": "markdown",
   "id": "57a78ac5",
   "metadata": {},
   "source": [
    "## Functions"
   ]
  },
  {
   "cell_type": "code",
   "execution_count": 185,
   "id": "d50d7876",
   "metadata": {
    "scrolled": true
   },
   "outputs": [],
   "source": [
    "def merge_files(list_files, dir):\n",
    "    list_files = [os.path.join(dir, file) for file in list_files]\n",
    "\n",
    "    # Initialize an empty DataFrame\n",
    "    df_merged = pl.DataFrame()\n",
    "    \n",
    "    print(datetime.now(), \"Start processing\", len(list_files), \"files\")\n",
    "\n",
    "    # Loop over each file in the list and add it to the merged DataFrame\n",
    "    for i, file in enumerate(list_files):\n",
    "        func_print(i + 1)\n",
    "        # Read in the current file as a DataFrame\n",
    "        df_current = pl.read_csv(file, separator=\"\\t\")\n",
    "\n",
    "        # Get the column name for the current file's specific column\n",
    "        column_name = os.path.splitext(os.path.basename(file))[0]\n",
    "\n",
    "        # Rename the specific column to the name of the current file\n",
    "        #df_current = df_current.rename(columns={df_current.columns[1]: column_name})\n",
    "        df_current = df_current.rename({df_current.columns[1]: column_name})\n",
    "\n",
    "        # If this is the first file being added, simply set df_merged to df_current\n",
    "        if df_merged.shape == (0, 0):\n",
    "            df_merged = df_current\n",
    "\n",
    "        # Otherwise, merge df_current with df_merged on the \"eid\" column\n",
    "        else:\n",
    "            df_merged = df_merged.join(df_current, on=\"eid\", how=\"outer\")\n",
    "    print(datetime.now(), \"Done processing.\")\n",
    "    return df_merged\n",
    "    \n",
    "\n",
    "def func_print(i, suffix=\"\"):\n",
    "    if i < 10 or str(i)[1:].count('0') == len(str(i))-1:\n",
    "        now = datetime.now()\n",
    "        print(f\"{now.strftime('%Y-%m-%d %H:%M:%S')}: {i}\", suffix)\n",
    "\n",
    "\n",
    "# Define a function to convert the date string into a single integer\n",
    "def date_string_to_int(date_str):\n",
    "    if not date_str:\n",
    "        result = \"NA\"\n",
    "    else:\n",
    "        date_start = datetime.strptime(\"1970-10-10\", '%Y-%m-%d').date()\n",
    "        result = (date_str - date_start).days\n",
    "    return result\n",
    "\n",
    "        \n",
    "# Define the custom date conversion function\n",
    "def convert_date_format(date_str: str) -> str:\n",
    "    if date_str == \"NA\":\n",
    "        formatted_date = \"NA\"\n",
    "    else:\n",
    "        date_obj = datetime.strptime(date_str, \"%Y-%m-%dT%H:%M:%S\")\n",
    "        formatted_date = date_obj.strftime(\"%Y-%m-%d\")\n",
    "    return formatted_date\n",
    "\n",
    "\n",
    "# Convert anything to np.float32\n",
    "def pl_to_float(df):\n",
    "    result = df.to_numpy()\n",
    "    try:\n",
    "        result = result.astype(float)\n",
    "    except:\n",
    "        if \"-\" in result[0]: # Date-time format\n",
    "            # Convert the date strings to datetime objects\n",
    "            result = np.array([datetime.fromisoformat(date_str) for date_str in result])\n",
    "\n",
    "            # Extract the date component and convert to integer\n",
    "            result = np.array([int(date_obj.timestamp()) for date_obj in result])\n",
    "    return result\n",
    "\n",
    "\n",
    "# Check normality\n",
    "def test_normality(pheno_list_continuous, df):\n",
    "    pval_min = 1\n",
    "    for pheno in pheno_list_continuous:\n",
    "        print(pheno)\n",
    "        try:\n",
    "            np_df = pl_to_float(df[pheno])\n",
    "            pval = stats.kstest(np_df, \"norm\")[1]\n",
    "            print(\"P-value =\", pval)\n",
    "            if not np.isnan(pval):\n",
    "                pval_min = min(pval, pval_min)\n",
    "        except:\n",
    "            print(\"Skip because the data is not valid \")\n",
    "    if pval_min < 0.05 / len(pheno_list_continuous):\n",
    "        is_normal = False\n",
    "    else:\n",
    "        is_normal = True\n",
    "    print()\n",
    "    print(\"Minimum p-value = \", pval_min, \", therefore normality =\", is_normal)\n",
    "    \n",
    "    \n",
    "\n",
    "def zscore(x, axis = None):\n",
    "    xmean = x.mean(axis=axis, keepdims=True)\n",
    "    xstd  = np.std(x, axis=axis, keepdims=True)\n",
    "    # Replace zero values in xstd with np.nan to prevent division by zero\n",
    "    xstd = np.where(xstd==0, np.nan, xstd)\n",
    "    zscore = (x-xmean)/xstd\n",
    "    # Replace np.nan values with 1 in zscore\n",
    "    zscore = np.where(np.isnan(zscore), 1, zscore)\n",
    "    return zscore\n",
    "\n",
    "\n",
    "def func_linreg(df_onehot, pheno_objective, pheno_list_confounding, pheno_list_ignore):\n",
    "    result_list = [[\"Objective_phenotype\", \"Explanatory_phenotype_main\",\n",
    "                    \"Explanatory_phenotype_confounding\",\n",
    "                    \"N\", \"N_zero\",\n",
    "                    \"params_intercept\", \"params_X\", \n",
    "                    \"pval_intercept\", \"pval_X\", \n",
    "                    \"r^2\", \"Condition_number\"]]\n",
    "    \n",
    "    # Make a list of explanatory variables to test one by one    \n",
    "    pheno_list_explanatory = df_onehot.columns\n",
    "    for pheno in ([pheno_objective] + pheno_list_confounding + pheno_list_ignore):\n",
    "        try:\n",
    "            pheno_list_explanatory.remove(pheno)\n",
    "        except:\n",
    "            pass\n",
    "    \n",
    "    # Test explanatory variables one by one, adding confounding factors each time\n",
    "    for pheno in pheno_list_explanatory:\n",
    "        pheno_list_X_Y = [pheno] + pheno_list_confounding + [pheno_objective]\n",
    "        pheno_list_X = [pheno] + pheno_list_confounding\n",
    "        \n",
    "        # Dataset without empty fields for linear regression\n",
    "        df_temp = df_onehot[pheno_list_X_Y].drop_nulls() \n",
    "        N = df_temp.shape[0]\n",
    "        N0 = df_temp.filter(pl.col(pheno_objective) == 0).shape[0]\n",
    "        \n",
    "        \n",
    "        # Stop if too few instances\n",
    "        if df_temp.shape[0] < 10:\n",
    "            result_list.append([pheno_objective, pheno, \n",
    "                                \",\".join(pheno_list_confounding),\n",
    "                                N, N0,\n",
    "                                \"NA_instances_fewerThan_10\", \"NA_instances_fewerThan_10\",\n",
    "                                \"NA_instances_fewerThan_10\", \"NA_instances_fewerThan_10\",\n",
    "                                \"NA_instances_fewerThan_10\", \"NA_instances_fewerThan_10\"\n",
    "                               ])\n",
    "            continue\n",
    "\n",
    "        X = df_temp[pheno_list_X].to_numpy().astype(np.float64)\n",
    "        Y = df_temp[pheno_objective].to_numpy().astype(np.float64)\n",
    "\n",
    "        var_pheno_explanatory = np.max(X[:, 0]) - np.min(X[:, 0])\n",
    "        var_pheno_objective = np.max(Y) - np.min(Y)     \n",
    "        if (var_pheno_explanatory == 0):\n",
    "            result_list.append([pheno_objective, pheno, \n",
    "                                \",\".join(pheno_list_confounding),\n",
    "                                N, N0,\n",
    "                                \"NA_X_variance_is_zero\", \"NA_X_variance_is_zero\",\n",
    "                                \"NA_X_variance_is_zero\", \"NA_X_variance_is_zero\",\n",
    "                                \"NA_X_variance_is_zero\", \"NA_X_variance_is_zero\"\n",
    "                               ])\n",
    "        elif (var_pheno_objective == 0):\n",
    "            result_list.append([pheno_objective, pheno,\n",
    "                                \",\".join(pheno_list_confounding),\n",
    "                                N, N0,\n",
    "                                \"NA_Y_variance_is_zero\", \"NA_Y_variance_is_zero\",\n",
    "                                \"NA_Y_variance_is_zero\", \"NA_Y_variance_is_zero\",\n",
    "                                \"NA_Y_variance_is_zero\", \"NA_Y_variance_is_zero\",\n",
    "                               ])        \n",
    "        else:\n",
    "            # Normalize X & scale Y\n",
    "            X = zscore(X, axis=0)\n",
    "            scaler = MinMaxScaler(feature_range=(0, 1))\n",
    "            Y = scaler.fit_transform(Y.reshape(-1, 1)).flatten()\n",
    "\n",
    "\n",
    "\n",
    "            # Add a constant to the independent variable\n",
    "            X = sm.add_constant(X)\n",
    "\n",
    "            # Perform the linear regression analysis\n",
    "            model = sm.OLS(Y, X)\n",
    "            results = model.fit()\n",
    "\n",
    "            # Summary of the linear regression analysis\n",
    "            # print(results.summary())\n",
    "            result_list.append([pheno_objective, pheno,\n",
    "                                \",\".join(pheno_list_confounding),\n",
    "                                N, N0,\n",
    "                                results.params[0], results.params[1],\n",
    "                                results.pvalues[0], results.pvalues[1],\n",
    "                                results.rsquared, results.condition_number,\n",
    "                               ])\n",
    "    \n",
    "    return result_list"
   ]
  },
  {
   "cell_type": "markdown",
   "id": "f78c7435",
   "metadata": {},
   "source": [
    "## Variables"
   ]
  },
  {
   "cell_type": "code",
   "execution_count": 3,
   "id": "89ab84bd",
   "metadata": {},
   "outputs": [],
   "source": [
    "list_source_files = [\n",
    "\"ukb671006_22286_40005-0.0.txt\",\n",
    "\"ukb671006_22287_40005-1.0.txt\",\n",
    "\"ukb671006_22288_40005-2.0.txt\",\n",
    "\"ukb671006_22289_40005-3.0.txt\",\n",
    "\"ukb671006_22290_40005-4.0.txt\",\n",
    "\"ukb671006_22291_40005-5.0.txt\",\n",
    "\"ukb671006_22292_40005-6.0.txt\",\n",
    "\"ukb671006_22293_40005-7.0.txt\",\n",
    "\"ukb671006_22294_40005-8.0.txt\",\n",
    "\"ukb671006_22295_40005-9.0.txt\",\n",
    "\"ukb671006_22296_40005-10.0.txt\",\n",
    "\"ukb671006_22297_40005-11.0.txt\",\n",
    "\"ukb671006_22298_40005-12.0.txt\",\n",
    "\"ukb671006_22299_40005-13.0.txt\",\n",
    "\"ukb671006_22300_40005-14.0.txt\",\n",
    "\"ukb671006_22301_40005-15.0.txt\",\n",
    "\"ukb671006_22302_40005-16.0.txt\",\n",
    "\"ukb671006_22303_40005-17.0.txt\",\n",
    "\"ukb671006_22304_40005-18.0.txt\",\n",
    "\"ukb671006_22305_40005-19.0.txt\",\n",
    "\"ukb671006_22306_40005-20.0.txt\",\n",
    "\"ukb671006_22307_40005-21.0.txt\",\n",
    "\"ukb671006_24430_90010-0.0.txt\",\n",
    "\"ukb671006_28449_day_num.txt\",\n",
    "\"ukb671006_28450_ST_long_mean.txt\",\n",
    "\"ukb671006_28451_ST_long_sd.txt\",\n",
    "\"ukb671006_28452_WT_long_mean.txt\",\n",
    "\"ukb671006_28453_WT_long_sd.txt\",\n",
    "\"ukb671006_28454_ST_short_mean.txt\",\n",
    "\"ukb671006_28455_ST_short_sd.txt\",\n",
    "\"ukb671006_28456_WT_short_mean.txt\",\n",
    "\"ukb671006_28457_WT_short_sd.txt\",\n",
    "\"ukb671006_28458_long_window_len_mean.txt\",\n",
    "\"ukb671006_28459_long_window_len_sd.txt\",\n",
    "\"ukb671006_28460_long_window_num_mean.txt\",\n",
    "\"ukb671006_28461_long_window_num_sd.txt\",\n",
    "\"ukb671006_28462_short_window_len_mean.txt\",\n",
    "\"ukb671006_28463_short_window_len_sd.txt\",\n",
    "\"ukb671006_28464_short_window_num_mean.txt\",\n",
    "\"ukb671006_28465_short_window_num_sd.txt\",\n",
    "\"ukb671006_28466_phase_mean.txt\",\n",
    "\"ukb671006_28467_phase_sd.txt\",\n",
    "\"ukb671006_28468_max_period.txt\",\n",
    "\"ukb671006_28469_amplitude.txt\",\n",
    "\"ukb671006_28470_sleep_percentage.txt\",\n",
    "\"ukb671006_28471_continuous_day.txt\",\n",
    "\"ukb671006_28472_age.txt\",\n",
    "\"ukb671006_28473_sex.txt\",\n",
    "\"ukb671006_28475_group_eid_old.txt\",\n",
    "\"ukb671006_28476_abnormal_group_eid_old.txt\",\n",
    "\"ukb671006_28480_group_five.txt\",]\n",
    "\n",
    " \n",
    "cols_cancer_date = [\n",
    "\"ukb671006_22286_40005-0.0\", \n",
    "\"ukb671006_22287_40005-1.0\", \n",
    "\"ukb671006_22288_40005-2.0\", \n",
    "\"ukb671006_22289_40005-3.0\", \n",
    "\"ukb671006_22290_40005-4.0\", \n",
    "\"ukb671006_22291_40005-5.0\", \n",
    "\"ukb671006_22292_40005-6.0\", \n",
    "\"ukb671006_22293_40005-7.0\", \n",
    "\"ukb671006_22294_40005-8.0\", \n",
    "\"ukb671006_22295_40005-9.0\", \n",
    "\"ukb671006_22296_40005-10.0\", \n",
    "\"ukb671006_22297_40005-11.0\", \n",
    "\"ukb671006_22298_40005-12.0\", \n",
    "\"ukb671006_22299_40005-13.0\", \n",
    "\"ukb671006_22300_40005-14.0\", \n",
    "\"ukb671006_22301_40005-15.0\", \n",
    "\"ukb671006_22302_40005-16.0\", \n",
    "\"ukb671006_22303_40005-17.0\", \n",
    "\"ukb671006_22304_40005-18.0\", \n",
    "\"ukb671006_22305_40005-19.0\", \n",
    "\"ukb671006_22306_40005-20.0\", \n",
    "\"ukb671006_22307_40005-21.0\", \n",
    "]\n",
    "\n",
    "# Categorical variables\n",
    "pheno_list_categorical = [\n",
    "    \"ukb671006_28475_group_eid_old\",\n",
    "    \"ukb671006_28476_abnormal_group_eid_old\",\n",
    "    \"ukb671006_28480_group_five\",\n",
    "]\n",
    "\n",
    "# Continuous variables\n",
    "pheno_list_continuous = [\n",
    "    \"ukb671006_28450_ST_long_mean\",\n",
    "    \"ukb671006_28451_ST_long_sd\",\n",
    "    \"ukb671006_28452_WT_long_mean\",\n",
    "    \"ukb671006_28453_WT_long_sd\",\n",
    "    \"ukb671006_28454_ST_short_mean\",\n",
    "    \"ukb671006_28455_ST_short_sd\",\n",
    "    \"ukb671006_28456_WT_short_mean\",\n",
    "    \"ukb671006_28457_WT_short_sd\",\n",
    "    \"ukb671006_28458_long_window_len_mean\",\n",
    "    \"ukb671006_28459_long_window_len_sd\",\n",
    "    \"ukb671006_28460_long_window_num_mean\",\n",
    "    \"ukb671006_28461_long_window_num_sd\",\n",
    "    \"ukb671006_28462_short_window_len_mean\",\n",
    "    \"ukb671006_28463_short_window_len_sd\",\n",
    "    \"ukb671006_28464_short_window_num_mean\",\n",
    "    \"ukb671006_28465_short_window_num_sd\",\n",
    "    \"ukb671006_28466_phase_mean\",\n",
    "    \"ukb671006_28467_phase_sd\",\n",
    "    \"ukb671006_28468_max_period\",\n",
    "    \"ukb671006_28469_amplitude\",\n",
    "    \"ukb671006_28470_sleep_percentage\",\n",
    "]\n",
    "\n",
    "\n",
    "# Confounding factors\n",
    "pheno_list_confounding = [\n",
    "    'ukb671006_28472_age',\n",
    "    'ukb671006_28473_sex',\n",
    "]\n",
    "\n",
    "pheno_list_ignore = [\"eid\", \"ukb671006_24430_90010-0.0_days\", \"earliest_cancer_days\"]"
   ]
  },
  {
   "cell_type": "markdown",
   "id": "9fa836a6",
   "metadata": {},
   "source": [
    "# Preprocess"
   ]
  },
  {
   "cell_type": "markdown",
   "id": "d047ac0d",
   "metadata": {},
   "source": [
    "## Merge the relevant fields"
   ]
  },
  {
   "cell_type": "code",
   "execution_count": 56,
   "id": "2289ae39",
   "metadata": {},
   "outputs": [
    {
     "name": "stdout",
     "output_type": "stream",
     "text": [
      "2023-05-10 10:51:38.928003 Start processing 51 files\n",
      "2023-05-10 10:51:38: 1\n",
      "2023-05-10 10:51:39: 2\n",
      "2023-05-10 10:51:40: 3\n",
      "2023-05-10 10:51:40: 4\n",
      "2023-05-10 10:51:41: 5\n",
      "2023-05-10 10:51:42: 6\n",
      "2023-05-10 10:51:43: 7\n",
      "2023-05-10 10:51:43: 8\n",
      "2023-05-10 10:51:44: 9\n",
      "2023-05-10 10:51:45: 10\n",
      "2023-05-10 10:51:51: 20\n",
      "2023-05-10 10:51:59: 30\n",
      "2023-05-10 10:52:07: 40\n",
      "2023-05-10 10:52:16: 50\n",
      "2023-05-10 10:52:18.745747 Done processing.\n"
     ]
    }
   ],
   "source": [
    "df_source = merge_files(list_source_files, DIR_SOURCE)"
   ]
  },
  {
   "cell_type": "code",
   "execution_count": 58,
   "id": "228ba726",
   "metadata": {},
   "outputs": [
    {
     "data": {
      "text/html": [
       "<div><style>\n",
       ".dataframe > thead > tr > th,\n",
       ".dataframe > tbody > tr > td {\n",
       "  text-align: right;\n",
       "}\n",
       "</style>\n",
       "<small>shape: (502386, 52)</small><table border=\"1\" class=\"dataframe\"><thead><tr><th>eid</th><th>ukb671006_22286_40005-0.0</th><th>ukb671006_22287_40005-1.0</th><th>ukb671006_22288_40005-2.0</th><th>ukb671006_22289_40005-3.0</th><th>ukb671006_22290_40005-4.0</th><th>ukb671006_22291_40005-5.0</th><th>ukb671006_22292_40005-6.0</th><th>ukb671006_22293_40005-7.0</th><th>ukb671006_22294_40005-8.0</th><th>ukb671006_22295_40005-9.0</th><th>ukb671006_22296_40005-10.0</th><th>ukb671006_22297_40005-11.0</th><th>ukb671006_22298_40005-12.0</th><th>ukb671006_22299_40005-13.0</th><th>ukb671006_22300_40005-14.0</th><th>ukb671006_22301_40005-15.0</th><th>ukb671006_22302_40005-16.0</th><th>ukb671006_22303_40005-17.0</th><th>ukb671006_22304_40005-18.0</th><th>ukb671006_22305_40005-19.0</th><th>ukb671006_22306_40005-20.0</th><th>ukb671006_22307_40005-21.0</th><th>ukb671006_24430_90010-0.0</th><th>ukb671006_28449_day_num</th><th>ukb671006_28450_ST_long_mean</th><th>ukb671006_28451_ST_long_sd</th><th>ukb671006_28452_WT_long_mean</th><th>ukb671006_28453_WT_long_sd</th><th>ukb671006_28454_ST_short_mean</th><th>ukb671006_28455_ST_short_sd</th><th>ukb671006_28456_WT_short_mean</th><th>ukb671006_28457_WT_short_sd</th><th>ukb671006_28458_long_window_len_mean</th><th>ukb671006_28459_long_window_len_sd</th><th>ukb671006_28460_long_window_num_mean</th><th>ukb671006_28461_long_window_num_sd</th><th>ukb671006_28462_short_window_len_mean</th><th>ukb671006_28463_short_window_len_sd</th><th>ukb671006_28464_short_window_num_mean</th><th>ukb671006_28465_short_window_num_sd</th><th>ukb671006_28466_phase_mean</th><th>ukb671006_28467_phase_sd</th><th>ukb671006_28468_max_period</th><th>ukb671006_28469_amplitude</th><th>ukb671006_28470_sleep_percentage</th><th>ukb671006_28471_continuous_day</th><th>ukb671006_28472_age</th><th>ukb671006_28473_sex</th><th>ukb671006_28475_group_eid_old</th><th>ukb671006_28476_abnormal_group_eid_old</th><th>ukb671006_28480_group_five</th></tr><tr><td>i64</td><td>str</td><td>str</td><td>str</td><td>str</td><td>str</td><td>str</td><td>str</td><td>str</td><td>str</td><td>str</td><td>str</td><td>str</td><td>str</td><td>str</td><td>str</td><td>str</td><td>str</td><td>str</td><td>str</td><td>str</td><td>str</td><td>str</td><td>str</td><td>str</td><td>str</td><td>str</td><td>str</td><td>str</td><td>str</td><td>str</td><td>str</td><td>str</td><td>str</td><td>str</td><td>str</td><td>str</td><td>str</td><td>str</td><td>str</td><td>str</td><td>str</td><td>str</td><td>str</td><td>str</td><td>str</td><td>str</td><td>str</td><td>str</td><td>str</td><td>str</td><td>str</td></tr></thead><tbody><tr><td>1000010</td><td>&quot;NA&quot;</td><td>&quot;NA&quot;</td><td>&quot;NA&quot;</td><td>&quot;NA&quot;</td><td>&quot;NA&quot;</td><td>&quot;NA&quot;</td><td>&quot;NA&quot;</td><td>&quot;NA&quot;</td><td>&quot;NA&quot;</td><td>&quot;NA&quot;</td><td>&quot;NA&quot;</td><td>&quot;NA&quot;</td><td>&quot;NA&quot;</td><td>&quot;NA&quot;</td><td>&quot;NA&quot;</td><td>&quot;NA&quot;</td><td>&quot;NA&quot;</td><td>&quot;NA&quot;</td><td>&quot;NA&quot;</td><td>&quot;NA&quot;</td><td>&quot;NA&quot;</td><td>&quot;NA&quot;</td><td>&quot;NA&quot;</td><td>&quot;NA&quot;</td><td>&quot;NA&quot;</td><td>&quot;NA&quot;</td><td>&quot;NA&quot;</td><td>&quot;NA&quot;</td><td>&quot;NA&quot;</td><td>&quot;NA&quot;</td><td>&quot;NA&quot;</td><td>&quot;NA&quot;</td><td>&quot;NA&quot;</td><td>&quot;NA&quot;</td><td>&quot;NA&quot;</td><td>&quot;NA&quot;</td><td>&quot;NA&quot;</td><td>&quot;NA&quot;</td><td>&quot;NA&quot;</td><td>&quot;NA&quot;</td><td>&quot;NA&quot;</td><td>&quot;NA&quot;</td><td>&quot;NA&quot;</td><td>&quot;NA&quot;</td><td>&quot;NA&quot;</td><td>&quot;NA&quot;</td><td>&quot;NA&quot;</td><td>&quot;NA&quot;</td><td>&quot;NA&quot;</td><td>&quot;NA&quot;</td><td>&quot;NA&quot;</td></tr><tr><td>1000028</td><td>&quot;2008-05-13&quot;</td><td>&quot;2017-02-02&quot;</td><td>&quot;NA&quot;</td><td>&quot;NA&quot;</td><td>&quot;NA&quot;</td><td>&quot;NA&quot;</td><td>&quot;NA&quot;</td><td>&quot;NA&quot;</td><td>&quot;NA&quot;</td><td>&quot;NA&quot;</td><td>&quot;NA&quot;</td><td>&quot;NA&quot;</td><td>&quot;NA&quot;</td><td>&quot;NA&quot;</td><td>&quot;NA&quot;</td><td>&quot;NA&quot;</td><td>&quot;NA&quot;</td><td>&quot;NA&quot;</td><td>&quot;NA&quot;</td><td>&quot;NA&quot;</td><td>&quot;NA&quot;</td><td>&quot;NA&quot;</td><td>&quot;2014-10-31T10:…</td><td>&quot;NA&quot;</td><td>&quot;NA&quot;</td><td>&quot;NA&quot;</td><td>&quot;NA&quot;</td><td>&quot;NA&quot;</td><td>&quot;NA&quot;</td><td>&quot;NA&quot;</td><td>&quot;NA&quot;</td><td>&quot;NA&quot;</td><td>&quot;NA&quot;</td><td>&quot;NA&quot;</td><td>&quot;NA&quot;</td><td>&quot;NA&quot;</td><td>&quot;NA&quot;</td><td>&quot;NA&quot;</td><td>&quot;NA&quot;</td><td>&quot;NA&quot;</td><td>&quot;NA&quot;</td><td>&quot;NA&quot;</td><td>&quot;NA&quot;</td><td>&quot;NA&quot;</td><td>&quot;NA&quot;</td><td>&quot;NA&quot;</td><td>&quot;NA&quot;</td><td>&quot;NA&quot;</td><td>&quot;NA&quot;</td><td>&quot;NA&quot;</td><td>&quot;NA&quot;</td></tr><tr><td>1000034</td><td>&quot;NA&quot;</td><td>&quot;NA&quot;</td><td>&quot;NA&quot;</td><td>&quot;NA&quot;</td><td>&quot;NA&quot;</td><td>&quot;NA&quot;</td><td>&quot;NA&quot;</td><td>&quot;NA&quot;</td><td>&quot;NA&quot;</td><td>&quot;NA&quot;</td><td>&quot;NA&quot;</td><td>&quot;NA&quot;</td><td>&quot;NA&quot;</td><td>&quot;NA&quot;</td><td>&quot;NA&quot;</td><td>&quot;NA&quot;</td><td>&quot;NA&quot;</td><td>&quot;NA&quot;</td><td>&quot;NA&quot;</td><td>&quot;NA&quot;</td><td>&quot;NA&quot;</td><td>&quot;NA&quot;</td><td>&quot;NA&quot;</td><td>&quot;NA&quot;</td><td>&quot;NA&quot;</td><td>&quot;NA&quot;</td><td>&quot;NA&quot;</td><td>&quot;NA&quot;</td><td>&quot;NA&quot;</td><td>&quot;NA&quot;</td><td>&quot;NA&quot;</td><td>&quot;NA&quot;</td><td>&quot;NA&quot;</td><td>&quot;NA&quot;</td><td>&quot;NA&quot;</td><td>&quot;NA&quot;</td><td>&quot;NA&quot;</td><td>&quot;NA&quot;</td><td>&quot;NA&quot;</td><td>&quot;NA&quot;</td><td>&quot;NA&quot;</td><td>&quot;NA&quot;</td><td>&quot;NA&quot;</td><td>&quot;NA&quot;</td><td>&quot;NA&quot;</td><td>&quot;NA&quot;</td><td>&quot;NA&quot;</td><td>&quot;NA&quot;</td><td>&quot;NA&quot;</td><td>&quot;NA&quot;</td><td>&quot;NA&quot;</td></tr><tr><td>1000045</td><td>&quot;NA&quot;</td><td>&quot;NA&quot;</td><td>&quot;NA&quot;</td><td>&quot;NA&quot;</td><td>&quot;NA&quot;</td><td>&quot;NA&quot;</td><td>&quot;NA&quot;</td><td>&quot;NA&quot;</td><td>&quot;NA&quot;</td><td>&quot;NA&quot;</td><td>&quot;NA&quot;</td><td>&quot;NA&quot;</td><td>&quot;NA&quot;</td><td>&quot;NA&quot;</td><td>&quot;NA&quot;</td><td>&quot;NA&quot;</td><td>&quot;NA&quot;</td><td>&quot;NA&quot;</td><td>&quot;NA&quot;</td><td>&quot;NA&quot;</td><td>&quot;NA&quot;</td><td>&quot;NA&quot;</td><td>&quot;NA&quot;</td><td>&quot;NA&quot;</td><td>&quot;NA&quot;</td><td>&quot;NA&quot;</td><td>&quot;NA&quot;</td><td>&quot;NA&quot;</td><td>&quot;NA&quot;</td><td>&quot;NA&quot;</td><td>&quot;NA&quot;</td><td>&quot;NA&quot;</td><td>&quot;NA&quot;</td><td>&quot;NA&quot;</td><td>&quot;NA&quot;</td><td>&quot;NA&quot;</td><td>&quot;NA&quot;</td><td>&quot;NA&quot;</td><td>&quot;NA&quot;</td><td>&quot;NA&quot;</td><td>&quot;NA&quot;</td><td>&quot;NA&quot;</td><td>&quot;NA&quot;</td><td>&quot;NA&quot;</td><td>&quot;NA&quot;</td><td>&quot;NA&quot;</td><td>&quot;NA&quot;</td><td>&quot;NA&quot;</td><td>&quot;NA&quot;</td><td>&quot;NA&quot;</td><td>&quot;NA&quot;</td></tr><tr><td>1000052</td><td>&quot;NA&quot;</td><td>&quot;NA&quot;</td><td>&quot;NA&quot;</td><td>&quot;NA&quot;</td><td>&quot;NA&quot;</td><td>&quot;NA&quot;</td><td>&quot;NA&quot;</td><td>&quot;NA&quot;</td><td>&quot;NA&quot;</td><td>&quot;NA&quot;</td><td>&quot;NA&quot;</td><td>&quot;NA&quot;</td><td>&quot;NA&quot;</td><td>&quot;NA&quot;</td><td>&quot;NA&quot;</td><td>&quot;NA&quot;</td><td>&quot;NA&quot;</td><td>&quot;NA&quot;</td><td>&quot;NA&quot;</td><td>&quot;NA&quot;</td><td>&quot;NA&quot;</td><td>&quot;NA&quot;</td><td>&quot;NA&quot;</td><td>&quot;NA&quot;</td><td>&quot;NA&quot;</td><td>&quot;NA&quot;</td><td>&quot;NA&quot;</td><td>&quot;NA&quot;</td><td>&quot;NA&quot;</td><td>&quot;NA&quot;</td><td>&quot;NA&quot;</td><td>&quot;NA&quot;</td><td>&quot;NA&quot;</td><td>&quot;NA&quot;</td><td>&quot;NA&quot;</td><td>&quot;NA&quot;</td><td>&quot;NA&quot;</td><td>&quot;NA&quot;</td><td>&quot;NA&quot;</td><td>&quot;NA&quot;</td><td>&quot;NA&quot;</td><td>&quot;NA&quot;</td><td>&quot;NA&quot;</td><td>&quot;NA&quot;</td><td>&quot;NA&quot;</td><td>&quot;NA&quot;</td><td>&quot;NA&quot;</td><td>&quot;NA&quot;</td><td>&quot;NA&quot;</td><td>&quot;NA&quot;</td><td>&quot;NA&quot;</td></tr><tr><td>1000069</td><td>&quot;NA&quot;</td><td>&quot;NA&quot;</td><td>&quot;NA&quot;</td><td>&quot;NA&quot;</td><td>&quot;NA&quot;</td><td>&quot;NA&quot;</td><td>&quot;NA&quot;</td><td>&quot;NA&quot;</td><td>&quot;NA&quot;</td><td>&quot;NA&quot;</td><td>&quot;NA&quot;</td><td>&quot;NA&quot;</td><td>&quot;NA&quot;</td><td>&quot;NA&quot;</td><td>&quot;NA&quot;</td><td>&quot;NA&quot;</td><td>&quot;NA&quot;</td><td>&quot;NA&quot;</td><td>&quot;NA&quot;</td><td>&quot;NA&quot;</td><td>&quot;NA&quot;</td><td>&quot;NA&quot;</td><td>&quot;NA&quot;</td><td>&quot;NA&quot;</td><td>&quot;NA&quot;</td><td>&quot;NA&quot;</td><td>&quot;NA&quot;</td><td>&quot;NA&quot;</td><td>&quot;NA&quot;</td><td>&quot;NA&quot;</td><td>&quot;NA&quot;</td><td>&quot;NA&quot;</td><td>&quot;NA&quot;</td><td>&quot;NA&quot;</td><td>&quot;NA&quot;</td><td>&quot;NA&quot;</td><td>&quot;NA&quot;</td><td>&quot;NA&quot;</td><td>&quot;NA&quot;</td><td>&quot;NA&quot;</td><td>&quot;NA&quot;</td><td>&quot;NA&quot;</td><td>&quot;NA&quot;</td><td>&quot;NA&quot;</td><td>&quot;NA&quot;</td><td>&quot;NA&quot;</td><td>&quot;NA&quot;</td><td>&quot;NA&quot;</td><td>&quot;NA&quot;</td><td>&quot;NA&quot;</td><td>&quot;NA&quot;</td></tr><tr><td>1000076</td><td>&quot;NA&quot;</td><td>&quot;NA&quot;</td><td>"
      ],
      "text/plain": [
       "shape: (502_386, 52)\n",
       "┌─────────┬────────────────────────┬───────────────────────┬───────────────────────┬───┬─────────────────────┬───────────────────────┬───────────────────────┬───────────────────────┐\n",
       "│ eid     ┆ ukb671006_22286_40005- ┆ ukb671006_22287_40005 ┆ ukb671006_22288_40005 ┆ … ┆ ukb671006_28473_sex ┆ ukb671006_28475_group ┆ ukb671006_28476_abnor ┆ ukb671006_28480_group │\n",
       "│ ---     ┆ 0.0                    ┆ -1.0                  ┆ -2.0                  ┆   ┆ ---                 ┆ _eid_old              ┆ mal_group_e…          ┆ _five                 │\n",
       "│ i64     ┆ ---                    ┆ ---                   ┆ ---                   ┆   ┆ str                 ┆ ---                   ┆ ---                   ┆ ---                   │\n",
       "│         ┆ str                    ┆ str                   ┆ str                   ┆   ┆                     ┆ str                   ┆ str                   ┆ str                   │\n",
       "╞═════════╪════════════════════════╪═══════════════════════╪═══════════════════════╪═══╪═════════════════════╪═══════════════════════╪═══════════════════════╪═══════════════════════╡\n",
       "│ 1000010 ┆ NA                     ┆ NA                    ┆ NA                    ┆ … ┆ NA                  ┆ NA                    ┆ NA                    ┆ NA                    │\n",
       "│ 1000028 ┆ 2008-05-13             ┆ 2017-02-02            ┆ NA                    ┆ … ┆ NA                  ┆ NA                    ┆ NA                    ┆ NA                    │\n",
       "│ 1000034 ┆ NA                     ┆ NA                    ┆ NA                    ┆ … ┆ NA                  ┆ NA                    ┆ NA                    ┆ NA                    │\n",
       "│ 1000045 ┆ NA                     ┆ NA                    ┆ NA                    ┆ … ┆ NA                  ┆ NA                    ┆ NA                    ┆ NA                    │\n",
       "│ …       ┆ …                      ┆ …                     ┆ …                     ┆ … ┆ …                   ┆ …                     ┆ …                     ┆ …                     │\n",
       "│ 6024804 ┆ NA                     ┆ NA                    ┆ NA                    ┆ … ┆ NA                  ┆ NA                    ┆ NA                    ┆ NA                    │\n",
       "│ 6024818 ┆ NA                     ┆ NA                    ┆ NA                    ┆ … ┆ 0                   ┆ 1                     ┆ NA                    ┆ 1                     │\n",
       "│ 6024820 ┆ NA                     ┆ NA                    ┆ NA                    ┆ … ┆ NA                  ┆ NA                    ┆ NA                    ┆ NA                    │\n",
       "│ 6024833 ┆ NA                     ┆ NA                    ┆ NA                    ┆ … ┆ NA                  ┆ NA                    ┆ NA                    ┆ NA                    │\n",
       "└─────────┴────────────────────────┴───────────────────────┴───────────────────────┴───┴─────────────────────┴───────────────────────┴───────────────────────┴───────────────────────┘"
      ]
     },
     "execution_count": 58,
     "metadata": {},
     "output_type": "execute_result"
    },
    {
     "data": {
      "text/html": [
       "<b>limit_output extension: Maximum message size of 10000 exceeded with 32992 characters</b>"
      ]
     },
     "metadata": {},
     "output_type": "display_data"
    }
   ],
   "source": [
    "df_source"
   ]
  },
  {
   "cell_type": "markdown",
   "id": "f355eb6a",
   "metadata": {},
   "source": [
    "## Date of cancer diagnosis\n",
    "- Calculate the earliest date of cancer diagnosis\n",
    "- Flag whether the cancer diagnosis is before or after the accelerometry measurement"
   ]
  },
  {
   "cell_type": "code",
   "execution_count": 75,
   "id": "4b1461d6",
   "metadata": {},
   "outputs": [
    {
     "data": {
      "text/html": [
       "<div><style>\n",
       ".dataframe > thead > tr > th,\n",
       ".dataframe > tbody > tr > td {\n",
       "  text-align: right;\n",
       "}\n",
       "</style>\n",
       "<small>shape: (502386, 34)</small><table border=\"1\" class=\"dataframe\"><thead><tr><th>eid</th><th>ukb671006_24430_90010-0.0</th><th>ukb671006_28449_day_num</th><th>ukb671006_28450_ST_long_mean</th><th>ukb671006_28451_ST_long_sd</th><th>ukb671006_28452_WT_long_mean</th><th>ukb671006_28453_WT_long_sd</th><th>ukb671006_28454_ST_short_mean</th><th>ukb671006_28455_ST_short_sd</th><th>ukb671006_28456_WT_short_mean</th><th>ukb671006_28457_WT_short_sd</th><th>ukb671006_28458_long_window_len_mean</th><th>ukb671006_28459_long_window_len_sd</th><th>ukb671006_28460_long_window_num_mean</th><th>ukb671006_28461_long_window_num_sd</th><th>ukb671006_28462_short_window_len_mean</th><th>ukb671006_28463_short_window_len_sd</th><th>ukb671006_28464_short_window_num_mean</th><th>ukb671006_28465_short_window_num_sd</th><th>ukb671006_28466_phase_mean</th><th>ukb671006_28467_phase_sd</th><th>ukb671006_28468_max_period</th><th>ukb671006_28469_amplitude</th><th>ukb671006_28470_sleep_percentage</th><th>ukb671006_28471_continuous_day</th><th>ukb671006_28472_age</th><th>ukb671006_28473_sex</th><th>ukb671006_28475_group_eid_old</th><th>ukb671006_28476_abnormal_group_eid_old</th><th>ukb671006_28480_group_five</th><th>earliest_cancer</th><th>accel_after_cancer</th><th>ukb671006_24430_90010-0.0_days</th><th>earliest_cancer_days</th></tr><tr><td>i64</td><td>date</td><td>str</td><td>str</td><td>str</td><td>str</td><td>str</td><td>str</td><td>str</td><td>str</td><td>str</td><td>str</td><td>str</td><td>str</td><td>str</td><td>str</td><td>str</td><td>str</td><td>str</td><td>str</td><td>str</td><td>str</td><td>str</td><td>str</td><td>str</td><td>str</td><td>str</td><td>str</td><td>str</td><td>str</td><td>date</td><td>bool</td><td>i32</td><td>i32</td></tr></thead><tbody><tr><td>1000010</td><td>null</td><td>&quot;NA&quot;</td><td>&quot;NA&quot;</td><td>&quot;NA&quot;</td><td>&quot;NA&quot;</td><td>&quot;NA&quot;</td><td>&quot;NA&quot;</td><td>&quot;NA&quot;</td><td>&quot;NA&quot;</td><td>&quot;NA&quot;</td><td>&quot;NA&quot;</td><td>&quot;NA&quot;</td><td>&quot;NA&quot;</td><td>&quot;NA&quot;</td><td>&quot;NA&quot;</td><td>&quot;NA&quot;</td><td>&quot;NA&quot;</td><td>&quot;NA&quot;</td><td>&quot;NA&quot;</td><td>&quot;NA&quot;</td><td>&quot;NA&quot;</td><td>&quot;NA&quot;</td><td>&quot;NA&quot;</td><td>&quot;NA&quot;</td><td>&quot;NA&quot;</td><td>&quot;NA&quot;</td><td>&quot;NA&quot;</td><td>&quot;NA&quot;</td><td>&quot;NA&quot;</td><td>null</td><td>null</td><td>null</td><td>null</td></tr><tr><td>1000028</td><td>2014-10-31</td><td>&quot;NA&quot;</td><td>&quot;NA&quot;</td><td>&quot;NA&quot;</td><td>&quot;NA&quot;</td><td>&quot;NA&quot;</td><td>&quot;NA&quot;</td><td>&quot;NA&quot;</td><td>&quot;NA&quot;</td><td>&quot;NA&quot;</td><td>&quot;NA&quot;</td><td>&quot;NA&quot;</td><td>&quot;NA&quot;</td><td>&quot;NA&quot;</td><td>&quot;NA&quot;</td><td>&quot;NA&quot;</td><td>&quot;NA&quot;</td><td>&quot;NA&quot;</td><td>&quot;NA&quot;</td><td>&quot;NA&quot;</td><td>&quot;NA&quot;</td><td>&quot;NA&quot;</td><td>&quot;NA&quot;</td><td>&quot;NA&quot;</td><td>&quot;NA&quot;</td><td>&quot;NA&quot;</td><td>&quot;NA&quot;</td><td>&quot;NA&quot;</td><td>&quot;NA&quot;</td><td>2008-05-13</td><td>true</td><td>16092</td><td>13730</td></tr><tr><td>1000034</td><td>null</td><td>&quot;NA&quot;</td><td>&quot;NA&quot;</td><td>&quot;NA&quot;</td><td>&quot;NA&quot;</td><td>&quot;NA&quot;</td><td>&quot;NA&quot;</td><td>&quot;NA&quot;</td><td>&quot;NA&quot;</td><td>&quot;NA&quot;</td><td>&quot;NA&quot;</td><td>&quot;NA&quot;</td><td>&quot;NA&quot;</td><td>&quot;NA&quot;</td><td>&quot;NA&quot;</td><td>&quot;NA&quot;</td><td>&quot;NA&quot;</td><td>&quot;NA&quot;</td><td>&quot;NA&quot;</td><td>&quot;NA&quot;</td><td>&quot;NA&quot;</td><td>&quot;NA&quot;</td><td>&quot;NA&quot;</td><td>&quot;NA&quot;</td><td>&quot;NA&quot;</td><td>&quot;NA&quot;</td><td>&quot;NA&quot;</td><td>&quot;NA&quot;</td><td>&quot;NA&quot;</td><td>null</td><td>null</td><td>null</td><td>null</td></tr><tr><td>1000045</td><td>null</td><td>&quot;NA&quot;</td><td>&quot;NA&quot;</td><td>&quot;NA&quot;</td><td>&quot;NA&quot;</td><td>&quot;NA&quot;</td><td>&quot;NA&quot;</td><td>&quot;NA&quot;</td><td>&quot;NA&quot;</td><td>&quot;NA&quot;</td><td>&quot;NA&quot;</td><td>&quot;NA&quot;</td><td>&quot;NA&quot;</td><td>&quot;NA&quot;</td><td>&quot;NA&quot;</td><td>&quot;NA&quot;</td><td>&quot;NA&quot;</td><td>&quot;NA&quot;</td><td>&quot;NA&quot;</td><td>&quot;NA&quot;</td><td>&quot;NA&quot;</td><td>&quot;NA&quot;</td><td>&quot;NA&quot;</td><td>&quot;NA&quot;</td><td>&quot;NA&quot;</td><td>&quot;NA&quot;</td><td>&quot;NA&quot;</td><td>&quot;NA&quot;</td><td>&quot;NA&quot;</td><td>null</td><td>null</td><td>null</td><td>null</td></tr><tr><td>1000052</td><td>null</td><td>&quot;NA&quot;</td><td>&quot;NA&quot;</td><td>&quot;NA&quot;</td><td>&quot;NA&quot;</td><td>&quot;NA&quot;</td><td>&quot;NA&quot;</td><td>&quot;NA&quot;</td><td>&quot;NA&quot;</td><td>&quot;NA&quot;</td><td>&quot;NA&quot;</td><td>&quot;NA&quot;</td><td>&quot;NA&quot;</td><td>&quot;NA&quot;</td><td>&quot;NA&quot;</td><td>&quot;NA&quot;</td><td>&quot;NA&quot;</td><td>&quot;NA&quot;</td><td>&quot;NA&quot;</td><td>&quot;NA&quot;</td><td>&quot;NA&quot;</td><td>&quot;NA&quot;</td><td>&quot;NA&quot;</td><td>&quot;NA&quot;</td><td>&quot;NA&quot;</td><td>&quot;NA&quot;</td><td>&quot;NA&quot;</td><td>&quot;NA&quot;</td><td>&quot;NA&quot;</td><td>null</td><td>null</td><td>null</td><td>null</td></tr><tr><td>1000069</td><td>null</td><td>&quot;NA&quot;</td><td>&quot;NA&quot;</td><td>&quot;NA&quot;</td><td>&quot;NA&quot;</td><td>&quot;NA&quot;</td><td>&quot;NA&quot;</td><td>&quot;NA&quot;</td><td>&quot;NA&quot;</td><td>&quot;NA&quot;</td><td>&quot;NA&quot;</td><td>&quot;NA&quot;</td><td>&quot;NA&quot;</td><td>&quot;NA&quot;</td><td>&quot;NA&quot;</td><td>&quot;NA&quot;</td><td>&quot;NA&quot;</td><td>&quot;NA&quot;</td><td>&quot;NA&quot;</td><td>&quot;NA&quot;</td><td>&quot;NA&quot;</td><td>&quot;NA&quot;</td><td>&quot;NA&quot;</td><td>&quot;NA&quot;</td><td>&quot;NA&quot;</td><td>&quot;NA&quot;</td><td>&quot;NA&quot;</td><td>&quot;NA&quot;</td><td>&quot;NA&quot;</td><td>null</td><td>null</td><td>null</td><td>null</td></tr><tr><td>1000076</td><td>2014-03-17</td><td>&quot;6.0&quot;</td><td>&quot;408.0833333333…</td><td>&quot;83.08450350229…</td><td>&quot;53.91666666666…</td><td>&quot;22.49891972715…</td><td>&quot;34.66666666666…</td><td>&quot;55.54177606890…</td><td>&quot;2.833333333333…</td><td>&quot;4.624812308503…</td><td>&quot;462.0&quot;</td><td>&quot;93.65183749754…</td><td>&quot;1.0&quot;</td><td>&quot;0.0&quot;</td><td>&quot;56.25&quot;</td><td>&quot;49.82030208659…</td><td>&quot;0.666666666666…</td><td>&quot;0.745355992499…</td><td>&quot;960.75&quot;</td><td>&quot;35.79658968859…</td><td>&quot;1439.999999999…</td><td>&quot;0.641583920993…</td><td>&quot;0.307754629629…</td><td>&quot;6.0&quot;</td><td>&quot;69&quot;</td><td>&quot;0&quot;</td><td>&quot;4b&quot;</td><td>&quot;NA&quot;</td><td>&quot;4&quot;</td><td>null</td><td>null</td><td>15864</td><td>null</td></tr><tr><td>1000087</td><td>null</td><td>&quot;NA&quot;</td><td>&quot;NA&quot;</td><td>&quot;NA&quot;</td><td>&quot;NA&quot;</td><td>&quot;NA&quot;</td><td>&quot;NA&quot;</td><td>&quot;NA&quot;</td><td>&quot;NA&quot;</td><td>&quot;NA&quot;</td><td>&quot;NA&quot;</td><td>&quot;NA&quot;</td><td>&quot;NA&quot;</td><td>&quot;NA&quot;</td><td>&quot;NA&quot;</td><td>&quot;NA&quot;</td><td>&quot;NA&quot;</td><td>&quot;NA&quot;</td><td>&quot;NA&quot;</td><td>&quot;NA&quot;</td><td>&quot;NA&quot;</td><td>&quot;NA&quot;</td><td>&quot;NA&quot;</td><td>&quot;NA&quot;</td><td>&quot;NA&quot;</td><td>&quot;NA&quot;</td><td>&quot;NA&quot;</td><td>&quot;NA&quot;</td><td>&quot;NA&quot;</td><td>null</td><td>null</td><td>null</td><td>null</td></tr><tr><td>1000091</td><td>2015-06-27</td><td>&quot;6.0&quot;</td><td>&quot;215.3333333333…</td><td>&quot;98.56624957639…</td><td>&quot;23.0&quot;</td><td>&quot;14.30908802125…</td><td>&quot;73.33333333333…</td><td>&quot;83.99338598299…</td><td>&quot;22.91666666666…</td><td>&quot;27.38067546443…</td><td>&quot;286.0&quot;</td><td>&quot;29.75903224232…</td><td>&quot;0.833333333333…</td><td>&quot;0.372677996249…</td><td>&quot;36.09375&quot;</td><td>&quot;38.21003580131…</td><td>&quot;2.666666666666…</td><td>&quot;1.699673171197…</td><td>&quot;960.4166666666…</td><td>&quot;58.07855073566…</td><td>&quot;1421.999999999…</td><td>&quot;0.477603314889…</td><td>&quot;0.207349537037…</td><td>&quot;6.0&quot;</td><td>&quot;67&quot;</td><td>&quot;1&quot;</td><td>&quot;3b&quot;</td><td>&quot;NA&quot;</td><td>&quot;3&quot;</td><td>null</td><td>null</td><td>16331</td><td>null</td></tr><tr><td>1000104</td><td>null</td><td>&quot;NA&quot;</td><td>&quot;NA&quot;</td><td>&quot;NA&quot;</td><td>&quot;NA&quot;</td><td>&quot;NA&quot;</td><td>&quot;NA&quot;</td><td>&quot;NA&quot;</td><td>&quot;NA&quot;</td><td>&quot;NA&quot;</td><td>&quot;NA&quot;</td><td>&quot;NA&quot;</td><td>&quot;NA&quot;</td><td>&quot;NA&quot;</td><td>&quot;NA&quot;</td><td>&quot;NA&quot;</td><td>&quot;NA&quot;</td><td>&quot;NA&quot;</td><td>&quot;NA&quot;</td><td>&quot;NA&quot;</td><td>&quot;NA&quot;</td><td>&quot;NA&quot;</td><td>&quot;NA&quot;</td><td>&quot;NA&quot;</td><td>&quot;NA&quot;</td><td>&quot;NA&quot;</td><td>&quot;NA&quot;</td><td>&quot;NA&quot;</td><td>&quot;NA&quot;</td><td>2013-02-11</td><td>null</td><td>null</td><td>15465</td></tr><tr><td>1000118</td><td>null</td><td>&quot;NA&quot;</td><td>&quot;NA&quot;</td><td>&quot;NA&quot;</td><td>&quot;NA&quot;</td><td>&quot;NA&quot;</td><td>&quot;NA&quot;</td><td>&quot;NA&quot;</td><td>&quot;NA&quot;</td><td>&quot;NA&quot;</td><td>&quot;NA&quot;</td><td>&quot;NA&quot;</td><td>&quot;NA&quot;</td><td>&quot;NA&quot;</td><td>&quot;NA&quot;</td><td>&quot;NA&quot;</td><td>&quot;NA&quot;</td><td>&quot;NA&quot;</td><td>&quot;NA&quot;</td><td>&quot;NA&quot;</td><td>&quot;NA&quot;</td><td>&q"
      ],
      "text/plain": [
       "shape: (502_386, 34)\n",
       "┌─────────┬──────────────────────────┬─────────────────────────┬─────────────────────────┬───┬─────────────────┬────────────────────┬─────────────────────────┬──────────────────────┐\n",
       "│ eid     ┆ ukb671006_24430_90010-0. ┆ ukb671006_28449_day_num ┆ ukb671006_28450_ST_long ┆ … ┆ earliest_cancer ┆ accel_after_cancer ┆ ukb671006_24430_90010-0 ┆ earliest_cancer_days │\n",
       "│ ---     ┆ 0                        ┆ ---                     ┆ _mean                   ┆   ┆ ---             ┆ ---                ┆ .0_days                 ┆ ---                  │\n",
       "│ i64     ┆ ---                      ┆ str                     ┆ ---                     ┆   ┆ date            ┆ bool               ┆ ---                     ┆ i32                  │\n",
       "│         ┆ date                     ┆                         ┆ str                     ┆   ┆                 ┆                    ┆ i32                     ┆                      │\n",
       "╞═════════╪══════════════════════════╪═════════════════════════╪═════════════════════════╪═══╪═════════════════╪════════════════════╪═════════════════════════╪══════════════════════╡\n",
       "│ 1000010 ┆ null                     ┆ NA                      ┆ NA                      ┆ … ┆ null            ┆ null               ┆ null                    ┆ null                 │\n",
       "│ 1000028 ┆ 2014-10-31               ┆ NA                      ┆ NA                      ┆ … ┆ 2008-05-13      ┆ true               ┆ 16092                   ┆ 13730                │\n",
       "│ 1000034 ┆ null                     ┆ NA                      ┆ NA                      ┆ … ┆ null            ┆ null               ┆ null                    ┆ null                 │\n",
       "│ 1000045 ┆ null                     ┆ NA                      ┆ NA                      ┆ … ┆ null            ┆ null               ┆ null                    ┆ null                 │\n",
       "│ …       ┆ …                        ┆ …                       ┆ …                       ┆ … ┆ …               ┆ …                  ┆ …                       ┆ …                    │\n",
       "│ 6024804 ┆ null                     ┆ NA                      ┆ NA                      ┆ … ┆ null            ┆ null               ┆ null                    ┆ null                 │\n",
       "│ 6024818 ┆ 2014-11-15               ┆ 3.0                     ┆ 552.5                   ┆ … ┆ null            ┆ null               ┆ 16107                   ┆ null                 │\n",
       "│ 6024820 ┆ null                     ┆ NA                      ┆ NA                      ┆ … ┆ null            ┆ null               ┆ null                    ┆ null                 │\n",
       "│ 6024833 ┆ null                     ┆ NA                      ┆ NA                      ┆ … ┆ null            ┆ null               ┆ null                    ┆ null                 │\n",
       "└─────────┴──────────────────────────┴─────────────────────────┴─────────────────────────┴───┴─────────────────┴────────────────────┴─────────────────────────┴──────────────────────┘"
      ]
     },
     "execution_count": 75,
     "metadata": {},
     "output_type": "execute_result"
    },
    {
     "data": {
      "text/html": [
       "<b>limit_output extension: Maximum message size of 10000 exceeded with 20675 characters</b>"
      ]
     },
     "metadata": {},
     "output_type": "display_data"
    }
   ],
   "source": [
    "df = df_source.clone()\n",
    "\n",
    "# convert the columns to Date\n",
    "for i_col in cols_cancer_date:\n",
    "\n",
    "    df = df.with_columns(\n",
    "            pl.col(i_col)\n",
    "            .str.strptime(pl.Date, fmt=\"%Y-%m-%d\", strict=False)\n",
    "            .alias(i_col)\n",
    "        )\n",
    "    \n",
    "# calculate the earliest date for each row\n",
    "earliest_cancer = df[cols_cancer_date].min(axis=1)\n",
    "\n",
    "# Preserve only the earliest date\n",
    "df = df.with_columns(earliest_cancer.alias(\"earliest_cancer\")).drop(cols_cancer_date)\n",
    "\n",
    "# Apply the custom function to the \"ukb671006_24430_90010-0.0\" column\n",
    "df = df.with_columns(\n",
    "    pl.col(\"ukb671006_24430_90010-0.0\")\n",
    "    .apply(convert_date_format, return_dtype=pl.Utf8)\n",
    "    .str.strptime(pl.Date, fmt=\"%Y-%m-%d\", strict=False)\n",
    "    .alias(\"ukb671006_24430_90010-0.0\")\n",
    ")\n",
    "\n",
    "\n",
    "\n",
    "accel_after_cancer = (df['ukb671006_24430_90010-0.0'] > df['earliest_cancer']).cast(pl.Boolean)\n",
    "\n",
    "df = (df\n",
    "                .with_columns(accel_after_cancer.alias(\"accel_after_cancer\"))\n",
    "                .with_columns(pl.col('ukb671006_24430_90010-0.0')\n",
    "                              .apply(date_string_to_int)\n",
    "                              .alias(\"ukb671006_24430_90010-0.0_days\")\n",
    "                              .cast(pl.Int32, strict=False)\n",
    "                             )\n",
    "                .with_columns(pl.col('earliest_cancer')\n",
    "                              .apply(date_string_to_int)\n",
    "                              .alias(\"earliest_cancer_days\")\n",
    "                              .cast(pl.Int32, strict=False)\n",
    "                             )                              \n",
    "               )\n",
    "df"
   ]
  },
  {
   "cell_type": "code",
   "execution_count": 77,
   "id": "279d4d1d",
   "metadata": {},
   "outputs": [
    {
     "data": {
      "text/html": [
       "<div><style>\n",
       ".dataframe > thead > tr > th,\n",
       ".dataframe > tbody > tr > td {\n",
       "  text-align: right;\n",
       "}\n",
       "</style>\n",
       "<small>shape: (81472, 31)</small><table border=\"1\" class=\"dataframe\"><thead><tr><th>eid</th><th>ukb671006_28450_ST_long_mean</th><th>ukb671006_28451_ST_long_sd</th><th>ukb671006_28452_WT_long_mean</th><th>ukb671006_28453_WT_long_sd</th><th>ukb671006_28454_ST_short_mean</th><th>ukb671006_28455_ST_short_sd</th><th>ukb671006_28456_WT_short_mean</th><th>ukb671006_28457_WT_short_sd</th><th>ukb671006_28458_long_window_len_mean</th><th>ukb671006_28459_long_window_len_sd</th><th>ukb671006_28460_long_window_num_mean</th><th>ukb671006_28461_long_window_num_sd</th><th>ukb671006_28462_short_window_len_mean</th><th>ukb671006_28463_short_window_len_sd</th><th>ukb671006_28464_short_window_num_mean</th><th>ukb671006_28465_short_window_num_sd</th><th>ukb671006_28466_phase_mean</th><th>ukb671006_28467_phase_sd</th><th>ukb671006_28468_max_period</th><th>ukb671006_28469_amplitude</th><th>ukb671006_28470_sleep_percentage</th><th>ukb671006_28471_continuous_day</th><th>ukb671006_28472_age</th><th>ukb671006_28473_sex</th><th>ukb671006_28475_group_eid_old</th><th>ukb671006_28476_abnormal_group_eid_old</th><th>ukb671006_28480_group_five</th><th>accel_after_cancer</th><th>ukb671006_24430_90010-0.0_days</th><th>earliest_cancer_days</th></tr><tr><td>i64</td><td>str</td><td>str</td><td>str</td><td>str</td><td>str</td><td>str</td><td>str</td><td>str</td><td>str</td><td>str</td><td>str</td><td>str</td><td>str</td><td>str</td><td>str</td><td>str</td><td>str</td><td>str</td><td>str</td><td>str</td><td>str</td><td>str</td><td>str</td><td>str</td><td>str</td><td>str</td><td>str</td><td>bool</td><td>i32</td><td>i32</td></tr></thead><tbody><tr><td>1000076</td><td>&quot;408.0833333333…</td><td>&quot;83.08450350229…</td><td>&quot;53.91666666666…</td><td>&quot;22.49891972715…</td><td>&quot;34.66666666666…</td><td>&quot;55.54177606890…</td><td>&quot;2.833333333333…</td><td>&quot;4.624812308503…</td><td>&quot;462.0&quot;</td><td>&quot;93.65183749754…</td><td>&quot;1.0&quot;</td><td>&quot;0.0&quot;</td><td>&quot;56.25&quot;</td><td>&quot;49.82030208659…</td><td>&quot;0.666666666666…</td><td>&quot;0.745355992499…</td><td>&quot;960.75&quot;</td><td>&quot;35.79658968859…</td><td>&quot;1439.999999999…</td><td>&quot;0.641583920993…</td><td>&quot;0.307754629629…</td><td>&quot;6.0&quot;</td><td>&quot;69&quot;</td><td>&quot;0&quot;</td><td>&quot;4b&quot;</td><td>&quot;NA&quot;</td><td>&quot;4&quot;</td><td>null</td><td>15864</td><td>null</td></tr><tr><td>1000091</td><td>&quot;215.3333333333…</td><td>&quot;98.56624957639…</td><td>&quot;23.0&quot;</td><td>&quot;14.30908802125…</td><td>&quot;73.33333333333…</td><td>&quot;83.99338598299…</td><td>&quot;22.91666666666…</td><td>&quot;27.38067546443…</td><td>&quot;286.0&quot;</td><td>&quot;29.75903224232…</td><td>&quot;0.833333333333…</td><td>&quot;0.372677996249…</td><td>&quot;36.09375&quot;</td><td>&quot;38.21003580131…</td><td>&quot;2.666666666666…</td><td>&quot;1.699673171197…</td><td>&quot;960.4166666666…</td><td>&quot;58.07855073566…</td><td>&quot;1421.999999999…</td><td>&quot;0.477603314889…</td><td>&quot;0.207349537037…</td><td>&quot;6.0&quot;</td><td>&quot;67&quot;</td><td>&quot;1&quot;</td><td>&quot;3b&quot;</td><td>&quot;NA&quot;</td><td>&quot;3&quot;</td><td>null</td><td>16331</td><td>null</td></tr><tr><td>1000162</td><td>&quot;512.375&quot;</td><td>&quot;45.02273731127…</td><td>&quot;110.625&quot;</td><td>&quot;56.50594548363…</td><td>&quot;39.125&quot;</td><td>&quot;38.66421957055…</td><td>&quot;18.75&quot;</td><td>&quot;21.18519530238…</td><td>&quot;623.0&quot;</td><td>&quot;99.46041926314…</td><td>&quot;1.0&quot;</td><td>&quot;0.0&quot;</td><td>&quot;46.3&quot;</td><td>&quot;35.20596540360…</td><td>&quot;1.25&quot;</td><td>&quot;1.089724735885…</td><td>&quot;926.75&quot;</td><td>&quot;6.675514961409…</td><td>&quot;1439.999999999…</td><td>&quot;0.740724781467…</td><td>&quot;0.392534722222…</td><td>&quot;4.0&quot;</td><td>&quot;51&quot;</td><td>&quot;1&quot;</td><td>&quot;4b&quot;</td><td>&quot;NA&quot;</td><td>&quot;4&quot;</td><td>null</td><td>16181</td><td>null</td></tr><tr><td>1000171</td><td>&quot;461.3&quot;</td><td>&quot;56.67503859725…</td><td>&quot;64.6&quot;</td><td>&quot;33.89896753589…</td><td>&quot;4.0&quot;</td><td>&quot;8.0&quot;</td><td>&quot;0.8&quot;</td><td>&quot;1.600000000000…</td><td>&quot;525.9&quot;</td><td>&quot;49.81907265295…</td><td>&quot;1.0&quot;</td><td>&quot;0.0&quot;</td><td>&quot;24.0&quot;</td><td>&quot;0.0&quot;</td><td>&quot;0.2&quot;</td><td>&quot;0.400000000000…</td><td>&quot;895.3&quot;</td><td>&quot;10.42401074443…</td><td>&quot;1439.999999999…</td><td>&quot;0.670661740528…</td><td>&quot;0.325625&quot;</td><td>&quot;5.0&quot;</td><td>&quot;59&quot;</td><td>&quot;0&quot;</td><td>&quot;4b&quot;</td><td>&quot;NA&quot;</td><td>&quot;4&quot;</td><td>null</td><td>16057</td><td>null</td></tr><tr><td>1000196</td><td>&quot;425.75&quot;</td><td>&quot;47.03256850311…</td><td>&quot;27.91666666666…</td><td>&quot;7.683405639573…</td><td>&quot;24.5&quot;</td><td>&quot;32.60112472497…</td><td>&quot;10.66666666666…</td><td>&quot;12.17123202017…</td><td>&quot;453.6666666666…</td><td>&quot;46.80782223327…</td><td>&quot;1.0&quot;</td><td>&quot;0.0&quot;</td><td>&quot;52.75&quot;</td><td>&quot;43.49928160326…</td><td>&quot;0.666666666666…</td><td>&quot;0.471404520791…</td><td>&quot;992.75&quot;</td><td>&quot;42.70221500890…</td><td>&quot;1439.999999999…</td><td>&quot;0.655325496636…</td><td>&quot;0.318171296296…</td><td>&quot;6.0&quot;</td><td>&quot;54&quot;</td><td>&quot;0&quot;</td><td>&quot;4b&quot;</td><td>&quot;NA&quot;</td><td>&quot;4&quot;</td><td>null</td><td>16448</td><td>null</td></tr><tr><td>1000209</td><td>&quot;412.1&quot;</td><td>&quot;99.94718605343…</td><td>&quot;43.4&quot;</td><td>&quot;6.952697318307…</td><td>&quot;16.5&quot;</td><td>&quot;27.82804340948…</td><td>&quot;14.0&quot;</td><td>&quot;26.28497669772…</td><td>&quot;455.5&quot;</td><td>&quot;102.4758508137…</td><td>&quot;1.0&quot;</td><td>&quot;0.0&quot;</td><td>&quot;76.25&quot;</td><td>&quot;61.75&quot;</td><td>&quot;0.4&quot;</td><td>&quot;0.489897948556…</td><td>&quot;899.1&quot;</td><td>&quot;15.61857868053…</td><td>&quot;1439.999999999…</td><td>&quot;0.619383319809…</td><td>&quot;0.29875&quot;</td><td>&quot;5.0&quot;</td><td>&quot;53&quot;</td><td>&quot;0&quot;</td><td>&quot;4b&quot;</td><td>&quot;NA&quot;</td><td>&quot;4&quot;</td><td>null</td><td>16107</td><td>null</td></tr><tr><td>1000235</td><td>&quot;449.25&quot;</td><td>&quot;14.08234710550…</td><td>&quot;50.75&quot;</td><td>&quot;22.07138041295…</td><td>&quot;7.5&quot;</td><td>&quot;9.345230512584…</td><td>&quot;7.166666666666…</td><td>&quot;5.763872155263…</td><td>&quot;500.0&quot;</td><td>&quot;26.82194375258…</td><td>&quot;1.0&quot;</td><td>&quot;0.0&quot;</td><td>&quot;22.0&quot;</td><td>&quot;11.07925990308…</td><td>&quot;0.666666666666…</td><td>&quot;0.471404520791…</td><td>&quot;866.6666666666…</td><td>&quot;43.43641585377…</td><td>&quot;1439.999999999…</td><td>&quot;0.641835431175…</td><td>&quot;0.320370370370…</td><td>&quot;6.0&quot;</td><td>&quot;53&quot;</td><td>&quot;0&quot;</td><td>&quot;4b&quot;</td><td>&quot;NA&quot;</td><td>&quot;4&quot;</td><td>null</td><td>16142</td><td>null</td></tr><tr><td>1000254</td><td>&quot;239.9166666666…</td><td>&quot;125.8972519777…</td><td>&quot;68.5&quot;</td><td>&quot;41.24116066908…</td><td>&quot;80.5&quot;</td><td>&quot;97.91067357545…</td><td>&quot;21.83333333333…</td><td>&quot;19.76669477232…</td><td>&quot;370.1&quot;</td><td>&quot;87.37356579652…</td><td>&quot;0.833333333333…</td><td>&quot;0.372677996249…</td><td>&quot;76.75&quot;</td><td>&quot;77.55804278087…</td><td>&quot;1.333333333333…</td><td>&quot;0.745355992499…</td><td>&quot;962.25&quot;</td><td>&quot;13.09182314780…</td><td>&quot;1439.999999999…</td><td>&quot;0.499030072225…</td><td>&quot;0.224016203703…</td><td>&quot;6.0&quot;</td><td>&quot;58&quot;</td><td>&quot;1&quot;</td><td>&quot;3b&quot;</td><td>&quot;NA&quot;</td><td>&quot;3&quot;</td><td>null</td><td>15584</td><td>null</td></tr><tr><td>1000337</td><td>&quot;399.1666666666…</td><td>&quot;56.68896620056…</td><td>&quot;71.0&quot;</td><td>&quot;19.45935935910…</td><td>&quot;28.0&quot;</td><td>&quot;57.20212700008…</td><td>&quot;3.0&quot;</td><td>&quot;6.708203932499…</td><td>&quot;470.1666666666…</td><td>&quot;73.32670424583…</td><td>&quot;1.0&quot;</td><td>&quot;0.0&quot;</td><td>&quot;93.0&quot;</td><td>&quot;80.5&quot;</td><td>&quot;0.333333333333…</td><td>&quot;0.471404520791…</td><td>&quot;848.8333333333…</td><td>&quot;26.49790348100…</td><td>&quot;1439.999999999…</td><td>&quot;0.599609030346…</td><td>&quot;0.297569444444…</td><td>&quot;6.0&quot;</td><td>&quot;56&quot;</td><td>&quot;1&quot;</td><td>&quot;4b&quot;</td><td>&quot;NA&quot;</td><td>&quot;4&quot;</td><td>false</td><td>16107</td><td>16613</td></tr><tr><td>1000515</td><td>&quot;513.25&quot;</td><td>&quot;75.73074562773…</td><td>&quot;176.0&quot;</td><td>&quot;71.78904280366…</td><td>&quot;15.33333333333…</td><td>&quot;21.68652935708…</td><td>&quot;15.41666666666…</td><td>&quot;22.74938949119…</td><td>&quot;689.25&quot;</td><td>&quot;119.4720155517…</td><td>&quot;1.0&quot;</td><td>&quot;0.0&quot;</td><td>&quot;61.5&quot;</td><td>&quot;24.83277404291…</td><td>&quot;0.5&quot;</td><td>&quot;0.763762615825…</td><td>&quot;834.75&quot;</td><td>&quot;69.89262598204…</td><td>&quot;1439.999999999…</td><td>&quot;0.703996479969…</td><td>&quot;0.372164351851…</td><td>&quot;6.0&quot;</td><td>&quot;53&quot;</td><td>&quot;1&quot;</td><td>&quot;4b&quot;</td><td>&quot;4b-1&quot;</td><td>&quot;4&quot;</td><td>null</td><td>16067</td><td>null</td></tr><tr><td>1000523</td><td>&quot;344.0833333333…</td><td>&quot;171.5486851855…</td><td>&quot;35.91666666666…</td><td>&quot;19.36150964040…</td><td>&quot;65.5&quot;</td><td>&quot;62.34714641959…</td><td>&quot;23.41666666666…</td><td>&quot;36.88994518233…</td><td>&quot;456.0&quot;</td><td>&quo"
      ],
      "text/plain": [
       "shape: (81_472, 31)\n",
       "┌─────────┬────────────────────────┬────────────────────────┬────────────────────────┬───┬───────────────────────┬────────────────────┬───────────────────────┬──────────────────────┐\n",
       "│ eid     ┆ ukb671006_28450_ST_lon ┆ ukb671006_28451_ST_lon ┆ ukb671006_28452_WT_lon ┆ … ┆ ukb671006_28480_group ┆ accel_after_cancer ┆ ukb671006_24430_90010 ┆ earliest_cancer_days │\n",
       "│ ---     ┆ g_mean                 ┆ g_sd                   ┆ g_mean                 ┆   ┆ _five                 ┆ ---                ┆ -0.0_days             ┆ ---                  │\n",
       "│ i64     ┆ ---                    ┆ ---                    ┆ ---                    ┆   ┆ ---                   ┆ bool               ┆ ---                   ┆ i32                  │\n",
       "│         ┆ str                    ┆ str                    ┆ str                    ┆   ┆ str                   ┆                    ┆ i32                   ┆                      │\n",
       "╞═════════╪════════════════════════╪════════════════════════╪════════════════════════╪═══╪═══════════════════════╪════════════════════╪═══════════════════════╪══════════════════════╡\n",
       "│ 1000076 ┆ 408.08333333333326     ┆ 83.0845035022911       ┆ 53.91666666666666      ┆ … ┆ 4                     ┆ null               ┆ 15864                 ┆ null                 │\n",
       "│ 1000091 ┆ 215.3333333333333      ┆ 98.56624957639177      ┆ 23.0                   ┆ … ┆ 3                     ┆ null               ┆ 16331                 ┆ null                 │\n",
       "│ 1000162 ┆ 512.375                ┆ 45.02273731127418      ┆ 110.625                ┆ … ┆ 4                     ┆ null               ┆ 16181                 ┆ null                 │\n",
       "│ 1000171 ┆ 461.3                  ┆ 56.67503859725197      ┆ 64.6                   ┆ … ┆ 4                     ┆ null               ┆ 16057                 ┆ null                 │\n",
       "│ …       ┆ …                      ┆ …                      ┆ …                      ┆ … ┆ …                     ┆ …                  ┆ …                     ┆ …                    │\n",
       "│ 6024605 ┆ 317.0                  ┆ 64.84532879604102      ┆ 66.83333333333333      ┆ … ┆ 4                     ┆ null               ┆ 15637                 ┆ null                 │\n",
       "│ 6024698 ┆ 424.0                  ┆ 42.469989404284064     ┆ 45.4                   ┆ … ┆ 5                     ┆ null               ┆ 15626                 ┆ null                 │\n",
       "│ 6024737 ┆ 387.0                  ┆ 34.37295448459442      ┆ 80.91666666666667      ┆ … ┆ 4                     ┆ null               ┆ 15948                 ┆ null                 │\n",
       "│ 6024818 ┆ 552.5                  ┆ 163.41511557992425     ┆ 298.8333333333333      ┆ … ┆ 1                     ┆ null               ┆ 16107                 ┆ null                 │\n",
       "└─────────┴────────────────────────┴────────────────────────┴────────────────────────┴───┴───────────────────────┴────────────────────┴───────────────────────┴──────────────────────┘"
      ]
     },
     "execution_count": 77,
     "metadata": {},
     "output_type": "execute_result"
    },
    {
     "data": {
      "text/html": [
       "<b>limit_output extension: Maximum message size of 10000 exceeded with 21413 characters</b>"
      ]
     },
     "metadata": {},
     "output_type": "display_data"
    }
   ],
   "source": [
    "df_filtered = (df\n",
    "               .filter(pl.col(\"ukb671006_28475_group_eid_old\") != \"NA\")\n",
    "               .drop([\"ukb671006_24430_90010-0.0\", \n",
    "                      \"ukb671006_28449_day_num\",\n",
    "                      \"earliest_cancer\"])\n",
    "               )\n",
    "df_filtered"
   ]
  },
  {
   "cell_type": "code",
   "execution_count": 117,
   "id": "b166b261",
   "metadata": {
    "code_folding": []
   },
   "outputs": [
    {
     "name": "stdout",
     "output_type": "stream",
     "text": [
      "shape: (3, 2)\n",
      "┌────────────────────┬───────┐\n",
      "│ accel_after_cancer ┆ count │\n",
      "│ ---                ┆ ---   │\n",
      "│ i64                ┆ u32   │\n",
      "╞════════════════════╪═══════╡\n",
      "│ 0                  ┆ 63692 │\n",
      "│ null               ┆ 11682 │\n",
      "│ 1                  ┆ 6098  │\n",
      "└────────────────────┴───────┘\n"
     ]
    },
    {
     "data": {
      "text/html": [
       "<div><style>\n",
       ".dataframe > thead > tr > th,\n",
       ".dataframe > tbody > tr > td {\n",
       "  text-align: right;\n",
       "}\n",
       "</style>\n",
       "<small>shape: (81472, 50)</small><table border=\"1\" class=\"dataframe\"><thead><tr><th>eid</th><th>ukb671006_28450_ST_long_mean</th><th>ukb671006_28451_ST_long_sd</th><th>ukb671006_28452_WT_long_mean</th><th>ukb671006_28453_WT_long_sd</th><th>ukb671006_28454_ST_short_mean</th><th>ukb671006_28455_ST_short_sd</th><th>ukb671006_28456_WT_short_mean</th><th>ukb671006_28457_WT_short_sd</th><th>ukb671006_28458_long_window_len_mean</th><th>ukb671006_28459_long_window_len_sd</th><th>ukb671006_28460_long_window_num_mean</th><th>ukb671006_28461_long_window_num_sd</th><th>ukb671006_28462_short_window_len_mean</th><th>ukb671006_28463_short_window_len_sd</th><th>ukb671006_28464_short_window_num_mean</th><th>ukb671006_28465_short_window_num_sd</th><th>ukb671006_28466_phase_mean</th><th>ukb671006_28467_phase_sd</th><th>ukb671006_28468_max_period</th><th>ukb671006_28469_amplitude</th><th>ukb671006_28470_sleep_percentage</th><th>ukb671006_28471_continuous_day</th><th>ukb671006_28472_age</th><th>ukb671006_28473_sex</th><th>accel_after_cancer</th><th>ukb671006_24430_90010-0.0_days</th><th>earliest_cancer_days</th><th>ukb671006_28475_group_eid_old_1</th><th>ukb671006_28475_group_eid_old_2a</th><th>ukb671006_28475_group_eid_old_2b</th><th>ukb671006_28475_group_eid_old_3a</th><th>ukb671006_28475_group_eid_old_3b</th><th>ukb671006_28475_group_eid_old_4a</th><th>ukb671006_28475_group_eid_old_4b</th><th>ukb671006_28475_group_eid_old_5</th><th>ukb671006_28476_abnormal_group_eid_old_3b-1</th><th>ukb671006_28476_abnormal_group_eid_old_3b-2</th><th>ukb671006_28476_abnormal_group_eid_old_4b-1</th><th>ukb671006_28476_abnormal_group_eid_old_4b-2</th><th>ukb671006_28476_abnormal_group_eid_old_4b-3</th><th>ukb671006_28476_abnormal_group_eid_old_4b-4</th><th>ukb671006_28476_abnormal_group_eid_old_4b-5</th><th>ukb671006_28476_abnormal_group_eid_old_4b-6</th><th>ukb671006_28476_abnormal_group_eid_old_NA</th><th>ukb671006_28480_group_five_1</th><th>ukb671006_28480_group_five_2</th><th>ukb671006_28480_group_five_3</th><th>ukb671006_28480_group_five_4</th><th>ukb671006_28480_group_five_5</th></tr><tr><td>i64</td><td>str</td><td>str</td><td>str</td><td>str</td><td>str</td><td>str</td><td>str</td><td>str</td><td>str</td><td>str</td><td>str</td><td>str</td><td>str</td><td>str</td><td>str</td><td>str</td><td>str</td><td>str</td><td>str</td><td>str</td><td>str</td><td>str</td><td>str</td><td>str</td><td>i64</td><td>i32</td><td>i32</td><td>u8</td><td>u8</td><td>u8</td><td>u8</td><td>u8</td><td>u8</td><td>u8</td><td>u8</td><td>u8</td><td>u8</td><td>u8</td><td>u8</td><td>u8</td><td>u8</td><td>u8</td><td>u8</td><td>u8</td><td>u8</td><td>u8</td><td>u8</td><td>u8</td><td>u8</td></tr></thead><tbody><tr><td>1000076</td><td>&quot;408.0833333333…</td><td>&quot;83.08450350229…</td><td>&quot;53.91666666666…</td><td>&quot;22.49891972715…</td><td>&quot;34.66666666666…</td><td>&quot;55.54177606890…</td><td>&quot;2.833333333333…</td><td>&quot;4.624812308503…</td><td>&quot;462.0&quot;</td><td>&quot;93.65183749754…</td><td>&quot;1.0&quot;</td><td>&quot;0.0&quot;</td><td>&quot;56.25&quot;</td><td>&quot;49.82030208659…</td><td>&quot;0.666666666666…</td><td>&quot;0.745355992499…</td><td>&quot;960.75&quot;</td><td>&quot;35.79658968859…</td><td>&quot;1439.999999999…</td><td>&quot;0.641583920993…</td><td>&quot;0.307754629629…</td><td>&quot;6.0&quot;</td><td>&quot;69&quot;</td><td>&quot;0&quot;</td><td>0</td><td>15864</td><td>null</td><td>0</td><td>0</td><td>0</td><td>0</td><td>0</td><td>0</td><td>1</td><td>0</td><td>0</td><td>0</td><td>0</td><td>0</td><td>0</td><td>0</td><td>0</td><td>0</td><td>1</td><td>0</td><td>0</td><td>0</td><td>1</td><td>0</td></tr><tr><td>1000091</td><td>&quot;215.3333333333…</td><td>&quot;98.56624957639…</td><td>&quot;23.0&quot;</td><td>&quot;14.30908802125…</td><td>&quot;73.33333333333…</td><td>&quot;83.99338598299…</td><td>&quot;22.91666666666…</td><td>&quot;27.38067546443…</td><td>&quot;286.0&quot;</td><td>&quot;29.75903224232…</td><td>&quot;0.833333333333…</td><td>&quot;0.372677996249…</td><td>&quot;36.09375&quot;</td><td>&quot;38.21003580131…</td><td>&quot;2.666666666666…</td><td>&quot;1.699673171197…</td><td>&quot;960.4166666666…</td><td>&quot;58.07855073566…</td><td>&quot;1421.999999999…</td><td>&quot;0.477603314889…</td><td>&quot;0.207349537037…</td><td>&quot;6.0&quot;</td><td>&quot;67&quot;</td><td>&quot;1&quot;</td><td>0</td><td>16331</td><td>null</td><td>0</td><td>0</td><td>0</td><td>0</td><td>1</td><td>0</td><td>0</td><td>0</td><td>0</td><td>0</td><td>0</td><td>0</td><td>0</td><td>0</td><td>0</td><td>0</td><td>1</td><td>0</td><td>0</td><td>1</td><td>0</td><td>0</td></tr><tr><td>1000162</td><td>&quot;512.375&quot;</td><td>&quot;45.02273731127…</td><td>&quot;110.625&quot;</td><td>&quot;56.50594548363…</td><td>&quot;39.125&quot;</td><td>&quot;38.66421957055…</td><td>&quot;18.75&quot;</td><td>&quot;21.18519530238…</td><td>&quot;623.0&quot;</td><td>&quot;99.46041926314…</td><td>&quot;1.0&quot;</td><td>&quot;0.0&quot;</td><td>&quot;46.3&quot;</td><td>&quot;35.20596540360…</td><td>&quot;1.25&quot;</td><td>&quot;1.089724735885…</td><td>&quot;926.75&quot;</td><td>&quot;6.675514961409…</td><td>&quot;1439.999999999…</td><td>&quot;0.740724781467…</td><td>&quot;0.392534722222…</td><td>&quot;4.0&quot;</td><td>&quot;51&quot;</td><td>&quot;1&quot;</td><td>0</td><td>16181</td><td>null</td><td>0</td><td>0</td><td>0</td><td>0</td><td>0</td><td>0</td><td>1</td><td>0</td><td>0</td><td>0</td><td>0</td><td>0</td><td>0</td><td>0</td><td>0</td><td>0</td><td>1</td><td>0</td><td>0</td><td>0</td><td>1</td><td>0</td></tr><tr><td>1000171</td><td>&quot;461.3&quot;</td><td>&quot;56.67503859725…</td><td>&quot;64.6&quot;</td><td>&quot;33.89896753589…</td><td>&quot;4.0&quot;</td><td>&quot;8.0&quot;</td><td>&quot;0.8&quot;</td><td>&quot;1.600000000000…</td><td>&quot;525.9&quot;</td><td>&quot;49.81907265295…</td><td>&quot;1.0&quot;</td><td>&quot;0.0&quot;</td><td>&quot;24.0&quot;</td><td>&quot;0.0&quot;</td><td>&quot;0.2&quot;</td><td>&quot;0.400000000000…</td><td>&quot;895.3&quot;</td><td>&quot;10.42401074443…</td><td>&quot;1439.999999999…</td><td>&quot;0.670661740528…</td><td>&quot;0.325625&quot;</td><td>&quot;5.0&quot;</td><td>&quot;59&quot;</td><td>&quot;0&quot;</td><td>0</td><td>16057</td><td>null</td><td>0</td><td>0</td><td>0</td><td>0</td><td>0</td><td>0</td><td>1</td><td>0</td><td>0</td><td>0</td><td>0</td><td>0</td><td>0</td><td>0</td><td>0</td><td>0</td><td>1</td><td>0</td><td>0</td><td>0</td><td>1</td><td>0</td></tr><tr><td>1000196</td><td>&quot;425.75&quot;</td><td>&quot;47.03256850311…</td><td>&quot;27.91666666666…</td><td>&quot;7.683405639573…</td><td>&quot;24.5&quot;</td><td>&quot;32.60112472497…</td><td>&quot;10.66666666666…</td><td>&quot;12.17123202017…</td><td>&quot;453.6666666666…</td><td>&quot;46.80782223327…</td><td>&quot;1.0&quot;</td><td>&quot;0.0&quot;</td><td>&quot;52.75&quot;</td><td>&quot;43.49928160326…</td><td>&quot;0.666666666666…</td><td>&quot;0.471404520791…</td><td>&quot;992.75&quot;</td><td>&quot;42.70221500890…</td><td>&quot;1439.999999999…</td><td>&quot;0.655325496636…</td><td>&quot;0.318171296296…</td><td>&quot;6.0&quot;</td><td>&quot;54&quot;</td><td>&quot;0&quot;</td><td>0</td><td>16448</td><td>null</td><td>0</td><td>0</td><td>0</td><td>0</td><td>0</td><td>0</td><td>1</td><td>0</td><td>0</td><td>0</td><td>0</td><td>0</td><td>0</td><td>0</td><td>0</td><td>0</td><td>1</td><td>0</td><td>0</td><td>0</td><td>1</td><td>0</td></tr><tr><td>1000209</td><td>&quot;412.1&quot;</td><td>&quot;99.94718605343…</td><td>&quot;43.4&quot;</td><td>&quot;6.952697318307…</td><td>&quot;16.5&quot;</td><td>&quot;27.82804340948…</td><td>&quot;14.0&quot;</td><td>&quot;26.28497669772…</td><td>&quot;455.5&quot;</td><td>&quot;102.4758508137…</td><td>&quot;1.0&quot;</td><td>&quot;0.0&quot;</td><td>&quot;76.25&quot;</td><td>&quot;61.75&quot;</td><td>&quot;0.4&quot;</td><td>&quot;0.489897948556…</td><td>&quot;899.1&quot;</td><td>&quot;15.61857868053…</td><td>&quot;1439.999999999…</td><td>&quot;0.619383319809…</td><td>&quot;0.29875&quot;</td><td>&quot;5.0&quot;</td><td>&quot;53&quot;</td><td>&quot;0&quot;</td><td>0</td><td>16107</td><td>null</td><td>0</td><td>0</td><td>0</td><td>0</td><td>0</td><td>0</td><td>1</td><td>0</td><td>0</td><td>0</td><td>0</td><td>0</td><td>0</td><td>0</td><td>0</td><td>0</td><td>1</td><td>0</td><td>0</td><td>0</td><td>1</td><td>0</td></tr><tr><td>1000235</td><td>&quot;449.25&quot;</td><td>&quot;14.08234710550…</td><td>&quot;50.75&quot;</td><td>&quot;22.07138041295…</td><td>&quot;7.5&quot;</td><td>&quot;9.345230512584…</td><td>&quot;7.166666666666…</td><td>&quot;5.763872155263…</td><td>&quot;500.0&quot;</td><td>&quot;26.82194375258…</td><td>&quot;1.0&quot;</td><td>&quot;0.0&quot;</td><td>&quot;22.0&quot;</td><td>&quot;11.07925990308…</td><td>&quot;0.666666666666…</td><td>&quot;0.471404520791…</td><td>&quot;866.6666666666…</td><td>&quot;43.43641585377…</td><td>&quot;1439.999999999…</td><td>&quot;0.641835431175…</td><td>&quot;0.320370370370…</td><td>&quot;6.0&quot;</td><td>&quot;53&quot;</td><td>&quot;0&quot;</td><td>0</td><td>16142</td><td>null</td><td>0</td><td>0</td><td>0</td><td>0</td><td>0</td><td>0</td><td>1</td><td>0</td><td>0</td><td>0</td><td>0</td><td>0</td><td>0</td><td>0</td><td>0</td><td>0</td><td>1</td><td>0</td><td>0</td><td>0</td><td>1</td><td>0</td></tr><tr><td>1000254</td><td>&quot;239.9166666666…</td><td>&quot;125.8972519777…</td><td>&quot;68.5&quot;</td><td>&quot;41.24116066908…</td><td>&quot;80.5&quot;</td><td>&quot;97.91067357545…</td><td>&quot;21.83333333333…</td><td>&quot;19.76669477232…</td><td>&quot;370.1&quot;</td><td>&quot;87.3735657"
      ],
      "text/plain": [
       "shape: (81_472, 50)\n",
       "┌─────────┬───────────────────────┬───────────────────────┬───────────────────────┬───┬───────────────────────┬───────────────────────┬───────────────────────┬──────────────────────┐\n",
       "│ eid     ┆ ukb671006_28450_ST_lo ┆ ukb671006_28451_ST_lo ┆ ukb671006_28452_WT_lo ┆ … ┆ ukb671006_28480_group ┆ ukb671006_28480_group ┆ ukb671006_28480_group ┆ ukb671006_28480_grou │\n",
       "│ ---     ┆ ng_mean               ┆ ng_sd                 ┆ ng_mean               ┆   ┆ _five_2               ┆ _five_3               ┆ _five_4               ┆ p_five_5             │\n",
       "│ i64     ┆ ---                   ┆ ---                   ┆ ---                   ┆   ┆ ---                   ┆ ---                   ┆ ---                   ┆ ---                  │\n",
       "│         ┆ str                   ┆ str                   ┆ str                   ┆   ┆ u8                    ┆ u8                    ┆ u8                    ┆ u8                   │\n",
       "╞═════════╪═══════════════════════╪═══════════════════════╪═══════════════════════╪═══╪═══════════════════════╪═══════════════════════╪═══════════════════════╪══════════════════════╡\n",
       "│ 1000076 ┆ 408.08333333333326    ┆ 83.0845035022911      ┆ 53.91666666666666     ┆ … ┆ 0                     ┆ 0                     ┆ 1                     ┆ 0                    │\n",
       "│ 1000091 ┆ 215.3333333333333     ┆ 98.56624957639177     ┆ 23.0                  ┆ … ┆ 0                     ┆ 1                     ┆ 0                     ┆ 0                    │\n",
       "│ 1000162 ┆ 512.375               ┆ 45.02273731127418     ┆ 110.625               ┆ … ┆ 0                     ┆ 0                     ┆ 1                     ┆ 0                    │\n",
       "│ 1000171 ┆ 461.3                 ┆ 56.67503859725197     ┆ 64.6                  ┆ … ┆ 0                     ┆ 0                     ┆ 1                     ┆ 0                    │\n",
       "│ …       ┆ …                     ┆ …                     ┆ …                     ┆ … ┆ …                     ┆ …                     ┆ …                     ┆ …                    │\n",
       "│ 6024605 ┆ 317.0                 ┆ 64.84532879604102     ┆ 66.83333333333333     ┆ … ┆ 0                     ┆ 0                     ┆ 1                     ┆ 0                    │\n",
       "│ 6024698 ┆ 424.0                 ┆ 42.469989404284064    ┆ 45.4                  ┆ … ┆ 0                     ┆ 0                     ┆ 0                     ┆ 1                    │\n",
       "│ 6024737 ┆ 387.0                 ┆ 34.37295448459442     ┆ 80.91666666666667     ┆ … ┆ 0                     ┆ 0                     ┆ 1                     ┆ 0                    │\n",
       "│ 6024818 ┆ 552.5                 ┆ 163.41511557992425    ┆ 298.8333333333333     ┆ … ┆ 0                     ┆ 0                     ┆ 0                     ┆ 0                    │\n",
       "└─────────┴───────────────────────┴───────────────────────┴───────────────────────┴───┴───────────────────────┴───────────────────────┴───────────────────────┴──────────────────────┘"
      ]
     },
     "execution_count": 117,
     "metadata": {},
     "output_type": "execute_result"
    },
    {
     "data": {
      "text/html": [
       "<b>limit_output extension: Maximum message size of 10000 exceeded with 26669 characters</b>"
      ]
     },
     "metadata": {},
     "output_type": "display_data"
    }
   ],
   "source": [
    "# Make a one-hot table\n",
    "df_onehot = df_filtered.clone()\n",
    "\n",
    "# Convert categorical variables to one-hot\n",
    "for pheno in pheno_list_categorical:\n",
    "    onehot = df_onehot[pheno].to_dummies()\n",
    "    df_onehot = pl.concat([df_onehot, onehot], how=\"horizontal\").drop(pheno)\n",
    "\n",
    "# Convert boolean to int\n",
    "mapping = {0: 1, 1: None, 2: 0}\n",
    "df_onehot = df_onehot.with_columns(\n",
    "    df_onehot[\"accel_after_cancer\"]\n",
    "    .fill_null(value=2)\n",
    "    .apply(lambda x: mapping[x])\n",
    "    .alias(\"accel_after_cancer\")\n",
    ")    \n",
    "    \n",
    "# Value count\n",
    "print(df_onehot.groupby(\"accel_after_cancer\", maintain_order=True).agg(pl.count()))\n",
    "\n",
    "df_onehot"
   ]
  },
  {
   "cell_type": "code",
   "execution_count": 118,
   "id": "d7f99a5f",
   "metadata": {
    "scrolled": true
   },
   "outputs": [],
   "source": [
    "FILE_OUT = os.path.join(DIR_OUT, \"annotated.csv\")\n",
    "df.write_csv(FILE_OUT)\n",
    "\n",
    "FILE_OUT = os.path.join(DIR_OUT, \"filtered.csv\")\n",
    "df_filtered.write_csv(FILE_OUT)\n",
    "\n",
    "FILE_OUT = os.path.join(DIR_OUT, \"one_hot.csv\")\n",
    "df_onehot.write_csv(FILE_OUT)"
   ]
  },
  {
   "cell_type": "markdown",
   "id": "c398746c",
   "metadata": {},
   "source": [
    "# Linear regression and more"
   ]
  },
  {
   "cell_type": "markdown",
   "id": "e0c5a786",
   "metadata": {},
   "source": [
    "## Read the file\n",
    "- Reload `df_onehot` from file to re-infer each column type"
   ]
  },
  {
   "cell_type": "code",
   "execution_count": 4,
   "id": "93d416c0",
   "metadata": {},
   "outputs": [
    {
     "data": {
      "text/html": [
       "<div><style>\n",
       ".dataframe > thead > tr > th,\n",
       ".dataframe > tbody > tr > td {\n",
       "  text-align: right;\n",
       "}\n",
       "</style>\n",
       "<small>shape: (81472, 50)</small><table border=\"1\" class=\"dataframe\"><thead><tr><th>eid</th><th>ukb671006_28450_ST_long_mean</th><th>ukb671006_28451_ST_long_sd</th><th>ukb671006_28452_WT_long_mean</th><th>ukb671006_28453_WT_long_sd</th><th>ukb671006_28454_ST_short_mean</th><th>ukb671006_28455_ST_short_sd</th><th>ukb671006_28456_WT_short_mean</th><th>ukb671006_28457_WT_short_sd</th><th>ukb671006_28458_long_window_len_mean</th><th>ukb671006_28459_long_window_len_sd</th><th>ukb671006_28460_long_window_num_mean</th><th>ukb671006_28461_long_window_num_sd</th><th>ukb671006_28462_short_window_len_mean</th><th>ukb671006_28463_short_window_len_sd</th><th>ukb671006_28464_short_window_num_mean</th><th>ukb671006_28465_short_window_num_sd</th><th>ukb671006_28466_phase_mean</th><th>ukb671006_28467_phase_sd</th><th>ukb671006_28468_max_period</th><th>ukb671006_28469_amplitude</th><th>ukb671006_28470_sleep_percentage</th><th>ukb671006_28471_continuous_day</th><th>ukb671006_28472_age</th><th>ukb671006_28473_sex</th><th>accel_after_cancer</th><th>ukb671006_24430_90010-0.0_days</th><th>earliest_cancer_days</th><th>ukb671006_28475_group_eid_old_1</th><th>ukb671006_28475_group_eid_old_2a</th><th>ukb671006_28475_group_eid_old_2b</th><th>ukb671006_28475_group_eid_old_3a</th><th>ukb671006_28475_group_eid_old_3b</th><th>ukb671006_28475_group_eid_old_4a</th><th>ukb671006_28475_group_eid_old_4b</th><th>ukb671006_28475_group_eid_old_5</th><th>ukb671006_28476_abnormal_group_eid_old_3b-1</th><th>ukb671006_28476_abnormal_group_eid_old_3b-2</th><th>ukb671006_28476_abnormal_group_eid_old_4b-1</th><th>ukb671006_28476_abnormal_group_eid_old_4b-2</th><th>ukb671006_28476_abnormal_group_eid_old_4b-3</th><th>ukb671006_28476_abnormal_group_eid_old_4b-4</th><th>ukb671006_28476_abnormal_group_eid_old_4b-5</th><th>ukb671006_28476_abnormal_group_eid_old_4b-6</th><th>ukb671006_28476_abnormal_group_eid_old_NA</th><th>ukb671006_28480_group_five_1</th><th>ukb671006_28480_group_five_2</th><th>ukb671006_28480_group_five_3</th><th>ukb671006_28480_group_five_4</th><th>ukb671006_28480_group_five_5</th></tr><tr><td>i32</td><td>f64</td><td>f64</td><td>f64</td><td>f64</td><td>f64</td><td>f64</td><td>f64</td><td>f64</td><td>f64</td><td>f64</td><td>f64</td><td>f64</td><td>f64</td><td>f64</td><td>f64</td><td>f64</td><td>f64</td><td>f64</td><td>f64</td><td>f64</td><td>f64</td><td>f64</td><td>i64</td><td>i64</td><td>i64</td><td>i64</td><td>i64</td><td>i64</td><td>i64</td><td>i64</td><td>i64</td><td>i64</td><td>i64</td><td>i64</td><td>i64</td><td>i64</td><td>i64</td><td>i64</td><td>i64</td><td>i64</td><td>i64</td><td>i64</td><td>i64</td><td>i64</td><td>i64</td><td>i64</td><td>i64</td><td>i64</td><td>i64</td></tr></thead><tbody><tr><td>1000076</td><td>408.083333</td><td>83.084504</td><td>53.916667</td><td>22.49892</td><td>34.666667</td><td>55.541776</td><td>2.833333</td><td>4.624812</td><td>462.0</td><td>93.651837</td><td>1.0</td><td>0.0</td><td>56.25</td><td>49.820302</td><td>0.666667</td><td>0.745356</td><td>960.75</td><td>35.79659</td><td>1440.0</td><td>0.641584</td><td>0.307755</td><td>6.0</td><td>69</td><td>0</td><td>0</td><td>15864</td><td>null</td><td>0</td><td>0</td><td>0</td><td>0</td><td>0</td><td>0</td><td>1</td><td>0</td><td>0</td><td>0</td><td>0</td><td>0</td><td>0</td><td>0</td><td>0</td><td>0</td><td>1</td><td>0</td><td>0</td><td>0</td><td>1</td><td>0</td></tr><tr><td>1000091</td><td>215.333333</td><td>98.56625</td><td>23.0</td><td>14.309088</td><td>73.333333</td><td>83.993386</td><td>22.916667</td><td>27.380675</td><td>286.0</td><td>29.759032</td><td>0.833333</td><td>0.372678</td><td>36.09375</td><td>38.210036</td><td>2.666667</td><td>1.699673</td><td>960.416667</td><td>58.078551</td><td>1422.0</td><td>0.477603</td><td>0.20735</td><td>6.0</td><td>67</td><td>1</td><td>0</td><td>16331</td><td>null</td><td>0</td><td>0</td><td>0</td><td>0</td><td>1</td><td>0</td><td>0</td><td>0</td><td>0</td><td>0</td><td>0</td><td>0</td><td>0</td><td>0</td><td>0</td><td>0</td><td>1</td><td>0</td><td>0</td><td>1</td><td>0</td><td>0</td></tr><tr><td>1000162</td><td>512.375</td><td>45.022737</td><td>110.625</td><td>56.505945</td><td>39.125</td><td>38.66422</td><td>18.75</td><td>21.185195</td><td>623.0</td><td>99.460419</td><td>1.0</td><td>0.0</td><td>46.3</td><td>35.205965</td><td>1.25</td><td>1.089725</td><td>926.75</td><td>6.675515</td><td>1440.0</td><td>0.740725</td><td>0.392535</td><td>4.0</td><td>51</td><td>1</td><td>0</td><td>16181</td><td>null</td><td>0</td><td>0</td><td>0</td><td>0</td><td>0</td><td>0</td><td>1</td><td>0</td><td>0</td><td>0</td><td>0</td><td>0</td><td>0</td><td>0</td><td>0</td><td>0</td><td>1</td><td>0</td><td>0</td><td>0</td><td>1</td><td>0</td></tr><tr><td>1000171</td><td>461.3</td><td>56.675039</td><td>64.6</td><td>33.898968</td><td>4.0</td><td>8.0</td><td>0.8</td><td>1.6</td><td>525.9</td><td>49.819073</td><td>1.0</td><td>0.0</td><td>24.0</td><td>0.0</td><td>0.2</td><td>0.4</td><td>895.3</td><td>10.424011</td><td>1440.0</td><td>0.670662</td><td>0.325625</td><td>5.0</td><td>59</td><td>0</td><td>0</td><td>16057</td><td>null</td><td>0</td><td>0</td><td>0</td><td>0</td><td>0</td><td>0</td><td>1</td><td>0</td><td>0</td><td>0</td><td>0</td><td>0</td><td>0</td><td>0</td><td>0</td><td>0</td><td>1</td><td>0</td><td>0</td><td>0</td><td>1</td><td>0</td></tr><tr><td>1000196</td><td>425.75</td><td>47.032569</td><td>27.916667</td><td>7.683406</td><td>24.5</td><td>32.601125</td><td>10.666667</td><td>12.171232</td><td>453.666667</td><td>46.807822</td><td>1.0</td><td>0.0</td><td>52.75</td><td>43.499282</td><td>0.666667</td><td>0.471405</td><td>992.75</td><td>42.702215</td><td>1440.0</td><td>0.655325</td><td>0.318171</td><td>6.0</td><td>54</td><td>0</td><td>0</td><td>16448</td><td>null</td><td>0</td><td>0</td><td>0</td><td>0</td><td>0</td><td>0</td><td>1</td><td>0</td><td>0</td><td>0</td><td>0</td><td>0</td><td>0</td><td>0</td><td>0</td><td>0</td><td>1</td><td>0</td><td>0</td><td>0</td><td>1</td><td>0</td></tr><tr><td>1000209</td><td>412.1</td><td>99.947186</td><td>43.4</td><td>6.952697</td><td>16.5</td><td>27.828043</td><td>14.0</td><td>26.284977</td><td>455.5</td><td>102.475851</td><td>1.0</td><td>0.0</td><td>76.25</td><td>61.75</td><td>0.4</td><td>0.489898</td><td>899.1</td><td>15.618579</td><td>1440.0</td><td>0.619383</td><td>0.29875</td><td>5.0</td><td>53</td><td>0</td><td>0</td><td>16107</td><td>null</td><td>0</td><td>0</td><td>0</td><td>0</td><td>0</td><td>0</td><td>1</td><td>0</td><td>0</td><td>0</td><td>0</td><td>0</td><td>0</td><td>0</td><td>0</td><td>0</td><td>1</td><td>0</td><td>0</td><td>0</td><td>1</td><td>0</td></tr><tr><td>1000235</td><td>449.25</td><td>14.082347</td><td>50.75</td><td>22.07138</td><td>7.5</td><td>9.345231</td><td>7.166667</td><td>5.763872</td><td>500.0</td><td>26.821944</td><td>1.0</td><td>0.0</td><td>22.0</td><td>11.07926</td><td>0.666667</td><td>0.471405</td><td>866.666667</td><td>43.436416</td><td>1440.0</td><td>0.641835</td><td>0.32037</td><td>6.0</td><td>53</td><td>0</td><td>0</td><td>16142</td><td>null</td><td>0</td><td>0</td><td>0</td><td>0</td><td>0</td><td>0</td><td>1</td><td>0</td><td>0</td><td>0</td><td>0</td><td>0</td><td>0</td><td>0</td><td>0</td><td>0</td><td>1</td><td>0</td><td>0</td><td>0</td><td>1</td><td>0</td></tr><tr><td>1000254</td><td>239.916667</td><td>125.897252</td><td>68.5</td><td>41.241161</td><td>80.5</td><td>97.910674</td><td>21.833333</td><td>19.766695</td><td>370.1</td><td>87.373566</td><td>0.833333</td><td>0.372678</td><td>76.75</td><td>77.558043</td><td>1.333333</td><td>0.745356</td><td>962.25</td><td>13.091823</td><td>1440.0</td><td>0.49903</td><td>0.224016</td><td>6.0</td><td>58</td><td>1</td><td>0</td><td>15584</td><td>null</td><td>0</td><td>0</td><td>0</td><td>0</td><td>1</td><td>0</td><td>0</td><td>0</td><td>0</td><td>0</td><td>0</td><td>0</td><td>0</td><td>0</td><td>0</td><td>0</td><td>1</td><td>0</td><td>0</td><td>1</td><td>0</td><td>0</td></tr><tr><td>1000337</td><td>399.166667</td><td>56.688966</td><td>71.0</td><td>19.459359</td><td>28.0</td><td>57.202127</td><td>3.0</td><td>6.708204</td><td>470.166667</td><td>73.326704</td><td>1.0</td><td>0.0</td><td>93.0</td><td>80.5</td><td>0.333333</td><td>0.471405</td><td>848.833333</td><td>26.497903</td><td>1440.0</td><td>0.599609</td><td>0.297569</td><td>6.0</td><td>56</td><td>1</td><td>1</td><td>16107</td><td>16613</td><td>0</td><td>0</td><td>0</td><td>0</td><td>0</td><td>0</td><td>1</td><td>0</td><td>0</td><td>0</td><td>0</td><td>0</td><td>0</td><td>0</td><td>0</td><td>0</td><td>1</td><td>0</td><td>0</td><td>0</td><td>1</td><td>0</td></tr><tr><td>1000515</td><td>513.25</td><td>75.730746</td><td>176.0</td><td>71.789043</td><td>15.333333</td><td>21.686529</td><td>15.416667</td><td>22.749389</td><td>689.25</td><td>119.472016</td><td>1.0</td><td>0.0</td><td>61.5</td><td>24.832774</td><td>0.5</td><td>0.763763</td><td>834.75</td><td>69.892626</td><td>1440.0</td><td>0.703996</td><td>0.372164</td><td>6.0</td><td>53</td><td>1</td><td>0</td><td>16067</td><td>null</td><td>0</td><td>0</td><td>0</td><td>0</td><td>0</td><td>0</td><td>1</td><td>0</td><td>0</td><td>0</td><td>1</td><td>0</td><td>0</td><td>0</td><td>0</td><td>0</td><td>0</td><td>0</td><td>0</td><td>0</td><td>1</td><td>0</td></tr><tr><td>1000523</td><td>344.083333</td><td>171.548685</td><td>35.916667</td><td>19.36151</td><td>65.5</td><td>62.347146</td><td>23.416667</td><td>36.889945</td><td>456.0</td><td>87.388786</td><td>0.833333</td><td>0.372678</td><td>48.5</td><td>51.349515</td><td>1.833333</td><td>1.34371</td><td>839.416667</td><td>45.847043</td><td>1440.0</td><td>0.602582</td><td>0.288426</td><td>6.0</td><td>58</td><td>0</td><td>0</td><td>16427</td><td>null</td><td>0</td><td>0</td><td>0</td><td>0</td><td>1</td><td>0</td><td>0</td><td>0</td><td>0</td><td>0</td><td>0</td><td>0</td><td>0</td><td>0</td><td>0</td><td>0</td><td>1</td><td>0</td><td>0</td><td>1</td><td>0</td><td>0</td></tr><tr><td>1000"
      ],
      "text/plain": [
       "shape: (81_472, 50)\n",
       "┌─────────┬───────────────────────┬───────────────────────┬───────────────────────┬───┬───────────────────────┬───────────────────────┬───────────────────────┬──────────────────────┐\n",
       "│ eid     ┆ ukb671006_28450_ST_lo ┆ ukb671006_28451_ST_lo ┆ ukb671006_28452_WT_lo ┆ … ┆ ukb671006_28480_group ┆ ukb671006_28480_group ┆ ukb671006_28480_group ┆ ukb671006_28480_grou │\n",
       "│ ---     ┆ ng_mean               ┆ ng_sd                 ┆ ng_mean               ┆   ┆ _five_2               ┆ _five_3               ┆ _five_4               ┆ p_five_5             │\n",
       "│ i32     ┆ ---                   ┆ ---                   ┆ ---                   ┆   ┆ ---                   ┆ ---                   ┆ ---                   ┆ ---                  │\n",
       "│         ┆ f64                   ┆ f64                   ┆ f64                   ┆   ┆ i64                   ┆ i64                   ┆ i64                   ┆ i64                  │\n",
       "╞═════════╪═══════════════════════╪═══════════════════════╪═══════════════════════╪═══╪═══════════════════════╪═══════════════════════╪═══════════════════════╪══════════════════════╡\n",
       "│ 1000076 ┆ 408.083333            ┆ 83.084504             ┆ 53.916667             ┆ … ┆ 0                     ┆ 0                     ┆ 1                     ┆ 0                    │\n",
       "│ 1000091 ┆ 215.333333            ┆ 98.56625              ┆ 23.0                  ┆ … ┆ 0                     ┆ 1                     ┆ 0                     ┆ 0                    │\n",
       "│ 1000162 ┆ 512.375               ┆ 45.022737             ┆ 110.625               ┆ … ┆ 0                     ┆ 0                     ┆ 1                     ┆ 0                    │\n",
       "│ 1000171 ┆ 461.3                 ┆ 56.675039             ┆ 64.6                  ┆ … ┆ 0                     ┆ 0                     ┆ 1                     ┆ 0                    │\n",
       "│ …       ┆ …                     ┆ …                     ┆ …                     ┆ … ┆ …                     ┆ …                     ┆ …                     ┆ …                    │\n",
       "│ 6024605 ┆ 317.0                 ┆ 64.845329             ┆ 66.833333             ┆ … ┆ 0                     ┆ 0                     ┆ 1                     ┆ 0                    │\n",
       "│ 6024698 ┆ 424.0                 ┆ 42.469989             ┆ 45.4                  ┆ … ┆ 0                     ┆ 0                     ┆ 0                     ┆ 1                    │\n",
       "│ 6024737 ┆ 387.0                 ┆ 34.372954             ┆ 80.916667             ┆ … ┆ 0                     ┆ 0                     ┆ 1                     ┆ 0                    │\n",
       "│ 6024818 ┆ 552.5                 ┆ 163.415116            ┆ 298.833333            ┆ … ┆ 0                     ┆ 0                     ┆ 0                     ┆ 0                    │\n",
       "└─────────┴───────────────────────┴───────────────────────┴───────────────────────┴───┴───────────────────────┴───────────────────────┴───────────────────────┴──────────────────────┘"
      ]
     },
     "execution_count": 4,
     "metadata": {},
     "output_type": "execute_result"
    },
    {
     "data": {
      "text/html": [
       "<b>limit_output extension: Maximum message size of 10000 exceeded with 19309 characters</b>"
      ]
     },
     "metadata": {},
     "output_type": "display_data"
    }
   ],
   "source": [
    "file = os.path.join(DIR_OUT, \"one_hot.csv\")\n",
    "df_onehot = (pl.read_csv(file, infer_schema_length=None)\n",
    "            .with_columns(pl.col(\"eid\").cast(pl.Int32)))\n",
    "df_onehot"
   ]
  },
  {
   "cell_type": "markdown",
   "id": "ba5a7364",
   "metadata": {},
   "source": [
    "# Linear regression\n",
    "Multiple regression (single variable + confounding factors)"
   ]
  },
  {
   "cell_type": "markdown",
   "id": "f141929f",
   "metadata": {},
   "source": [
    "Including these confounding factors:"
   ]
  },
  {
   "cell_type": "code",
   "execution_count": 86,
   "id": "74b2d8bd",
   "metadata": {},
   "outputs": [
    {
     "data": {
      "text/plain": [
       "['ukb671006_28472_age', 'ukb671006_28473_sex']"
      ]
     },
     "execution_count": 86,
     "metadata": {},
     "output_type": "execute_result"
    }
   ],
   "source": [
    "pheno_list_confounding"
   ]
  },
  {
   "cell_type": "markdown",
   "id": "3b57ec1c",
   "metadata": {},
   "source": [
    "Excluding these variables from linear regression:"
   ]
  },
  {
   "cell_type": "code",
   "execution_count": 7,
   "id": "f08b6e86",
   "metadata": {},
   "outputs": [
    {
     "data": {
      "text/plain": [
       "['eid', 'ukb671006_24430_90010-0.0_days', 'earliest_cancer_days']"
      ]
     },
     "execution_count": 7,
     "metadata": {},
     "output_type": "execute_result"
    }
   ],
   "source": [
    "pheno_list_ignore"
   ]
  },
  {
   "cell_type": "markdown",
   "id": "9cb227d6",
   "metadata": {},
   "source": [
    "## Try on a single variable"
   ]
  },
  {
   "cell_type": "code",
   "execution_count": 151,
   "id": "1ffa7726",
   "metadata": {},
   "outputs": [
    {
     "name": "stdout",
     "output_type": "stream",
     "text": [
      "Extract statistically significant variables\n",
      "Bonferroni-corrected P-value threshold: 0.0011363636363636365\n"
     ]
    },
    {
     "data": {
      "text/plain": [
       "[['accel_after_cancer',\n",
       "  'ukb671006_28452_WT_long_mean',\n",
       "  ['ukb671006_28472_age', 'ukb671006_28473_sex'],\n",
       "  0.08737641495916307,\n",
       "  0.004817429727778119,\n",
       "  0.0,\n",
       "  8.558164371062797e-06,\n",
       "  0.019128334478504816,\n",
       "  1.2366587860999687],\n",
       " ['accel_after_cancer',\n",
       "  'ukb671006_28458_long_window_len_mean',\n",
       "  ['ukb671006_28472_age', 'ukb671006_28473_sex'],\n",
       "  0.08737641495916307,\n",
       "  0.004656726562831029,\n",
       "  0.0,\n",
       "  1.1027567160545331e-05,\n",
       "  0.019121527040244835,\n",
       "  1.0594035693924386],\n",
       " ['accel_after_cancer',\n",
       "  'ukb671006_28470_sleep_percentage',\n",
       "  ['ukb671006_28472_age', 'ukb671006_28473_sex'],\n",
       "  0.08737641495916307,\n",
       "  0.003722341658315207,\n",
       "  0.0,\n",
       "  0.00046294210528435566,\n",
       "  0.019022214833405937,\n",
       "  1.1033391177001357]]"
      ]
     },
     "execution_count": 151,
     "metadata": {},
     "output_type": "execute_result"
    }
   ],
   "source": [
    "# Test one\n",
    "result_list = func_linreg(df_onehot, \"accel_after_cancer\", \n",
    "                          pheno_list_confounding, pheno_list_ignore)\n",
    "\n",
    "print(\"Extract statistically significant variables\")\n",
    "\n",
    "pval_threshold = 0.05 / (len(result_list) - 1)\n",
    "print(\"Bonferroni-corrected P-value threshold:\", pval_threshold)\n",
    "\n",
    "[l for l in result_list[1:] if l[6] < pval_threshold]"
   ]
  },
  {
   "cell_type": "markdown",
   "id": "2444e20b",
   "metadata": {},
   "source": [
    "## Multiple variables\n",
    "Only for the categorical variables consisting of 0 and 1"
   ]
  },
  {
   "cell_type": "code",
   "execution_count": 6,
   "id": "e70418a6",
   "metadata": {},
   "outputs": [],
   "source": [
    "df_onehot_for_batch = df_onehot.drop([\"ukb671006_28471_continuous_day\",\n",
    "                                     \"accel_after_cancer\",\n",
    "                                     \"ukb671006_24430_90010-0.0_days\",\n",
    "                                     \"earliest_cancer_days\"])\n",
    "\n",
    "\n",
    "DIR_TABULAR = os.path.join(\"data\", \"accel_ukbb\", \"split\")\n",
    "\n",
    "files = [f for f in os.listdir(DIR_TABULAR) if f.endswith(\".txt\")]\n",
    "files = sorted(files)\n",
    "print(len(files, \"files are found\"))"
   ]
  },
  {
   "cell_type": "code",
   "execution_count": 190,
   "id": "833aa4cf",
   "metadata": {},
   "outputs": [
    {
     "name": "stdout",
     "output_type": "stream",
     "text": [
      "2023-05-12 14:07:29: 0 ukb671006_00001_3-0.0.txt\n",
      "2023-05-12 14:07:30: 1 ukb671006_00002_3-1.0.txt\n",
      "2023-05-12 14:07:30: 2 ukb671006_00003_3-2.0.txt\n",
      "2023-05-12 14:07:30: 3 ukb671006_00004_3-3.0.txt\n",
      "2023-05-12 14:07:30: 4 ukb671006_00005_4-0.0.txt\n",
      "2023-05-12 14:07:30: 5 ukb671006_00006_4-1.0.txt\n",
      "2023-05-12 14:07:30: 6 ukb671006_00007_4-2.0.txt\n",
      "2023-05-12 14:07:30: 7 ukb671006_00008_4-3.0.txt\n",
      "2023-05-12 14:07:30: 8 ukb671006_00009_5-0.0.txt\n",
      "2023-05-12 14:07:31: 9 ukb671006_00010_5-1.0.txt\n",
      "2023-05-12 14:07:31: 10 ukb671006_00011_5-2.0.txt\n",
      "2023-05-12 14:07:32: 20 ukb671006_00021_21-3.0.txt\n",
      "2023-05-12 14:07:37: 30 ukb671006_00031_35-3.0.txt\n",
      "2023-05-12 14:07:39: 40 ukb671006_00041_38-1.0.txt\n",
      "2023-05-12 14:07:41: 50 ukb671006_00051_40-3.0.txt\n",
      "2023-05-12 14:07:42: 60 ukb671006_00061_43-1.0.txt\n",
      "2023-05-12 14:07:44: 70 ukb671006_00071_45-3.0.txt\n",
      "2023-05-12 14:07:45: 80 ukb671006_00081_48-1.0.txt\n",
      "2023-05-12 14:07:46: 90 ukb671006_00091_50-3.0.txt\n",
      "2023-05-12 14:07:48: 100 ukb671006_00101_54-0.0.txt\n",
      "2023-05-12 14:07:52: 200 ukb671006_00201_87-1.21.txt\n",
      "2023-05-12 14:07:53: 300 ukb671006_00301_92-0.19.txt\n",
      "2023-05-12 14:07:53: 400 ukb671006_00401_92-3.23.txt\n",
      "2023-05-12 14:08:05: 500 ukb671006_00501_397-3.2.txt\n",
      "2023-05-12 14:08:06: 600 ukb671006_00601_402-1.3.txt\n",
      "2023-05-12 14:08:07: 700 ukb671006_00701_404-1.7.txt\n",
      "2023-05-12 14:08:15: 800 ukb671006_00801_894-0.0.txt\n",
      "2023-05-12 14:08:27: 900 ukb671006_00901_1180-0.0.txt\n",
      "2023-05-12 14:08:39: 1000 ukb671006_01001_1448-0.0.txt\n",
      "2023-05-12 14:14:08: 2000 ukb671006_02001_4145-3.0.txt\n",
      "2023-05-12 14:14:24: 3000 ukb671006_03001_4245-3.3.txt\n",
      "2023-05-12 14:14:35: 4000 ukb671006_04001_4283-3.0.txt\n",
      "2023-05-12 14:15:29: 5000 ukb671006_05001_5134-1.5.txt\n",
      "2023-05-12 14:17:09: 6000 ukb671006_06001_5984-1.111.txt\n",
      "2023-05-12 14:17:26: 7000 ukb671006_07001_6138-3.3.txt\n",
      "2023-05-12 14:17:43: 8000 ukb671006_08001_6770-3.22.txt\n",
      "2023-05-12 14:18:06: 9000 ukb671006_09001_20003-3.28.txt\n",
      "2023-05-12 14:18:12: 10000 ukb671006_10001_20014-3.19.txt\n",
      "2023-05-12 14:33:02: 20000 ukb671006_20001_27180-3.0.txt\n"
     ]
    }
   ],
   "source": [
    "#flag_skip = True\n",
    "result_list = []\n",
    "\n",
    "for i, file_name in enumerate(files):\n",
    "    func_print(i, suffix=file_name)\n",
    "#     if \"_2365-\" in file_name:\n",
    "#         flag_skip = False\n",
    "#     if flag_skip:\n",
    "#         continue\n",
    "    \n",
    "    pheno_id = re.sub(\".*ukb671006\", \"\", file_name)\n",
    "    pheno_id = pheno_id[7:]\n",
    "    pheno_id = re.sub(\".txt\", \"\", pheno_id)\n",
    "    array_num = re.sub(\".*-\", \"\", pheno_id)\n",
    "    if array_num != \"0.0\": # Treat only the first member of array\n",
    "        continue\n",
    "    \n",
    "    # Read each file\n",
    "    file_path = os.path.join(DIR_TABULAR, file_name)\n",
    "    df = pl.read_csv(file_path, separator=\"\\t\", infer_schema_length=0)\n",
    "    pheno_objective = df.columns[-1]\n",
    "    df = (df\n",
    "          .drop_nulls()\n",
    "          .with_columns(pl.col(\"eid\").cast(pl.Int32, strict=False))\n",
    "          .with_columns(pl.col(pheno_objective).cast(pl.Float64, strict=False))\n",
    "          .drop_nulls()\n",
    "         )\n",
    "    # Skip if too few\n",
    "    if df.shape[0] < 10:\n",
    "        continue\n",
    "    \n",
    "    # Skip variables with more than two-way subdivisions\n",
    "    max_value = df[pheno_objective].max()\n",
    "    if max_value > 1:\n",
    "        continue\n",
    "    # Check if one and zero are included\n",
    "    zero_included = (df[pheno_objective] == 0).any()\n",
    "    if not zero_included:\n",
    "        continue\n",
    "    one_included = (df[pheno_objective] == 1).any()\n",
    "    if not one_included:\n",
    "        continue\n",
    "                \n",
    "    # Preprocess\n",
    "    # Omit NA\n",
    "    try:\n",
    "        df = df.filter(pl.col(pheno_objective) != \"NA\")\n",
    "    except:\n",
    "        pass\n",
    "    # Omit anything else than zero and one\n",
    "    df = df.filter((df[pheno_objective] == 0) | (df[pheno_objective] == 1))\n",
    "    \n",
    "    # Join to ACCEL data\n",
    "    df = df_onehot_for_batch.join(df, on=\"eid\", how=\"inner\").drop(\"eid\")\n",
    "\n",
    "    # Stat test\n",
    "    result_list_single = func_linreg(df, pheno_objective, \n",
    "                              pheno_list_confounding, [])\n",
    "    if len(result_list) == 0:\n",
    "        result_list.extend(result_list_single)\n",
    "    else: # Omit header row\n",
    "        result_list.extend(result_list_single[1:])\n",
    "\n",
    "#     summary_table = (df\n",
    "#      .groupby(pheno_objective, maintain_order=True)\n",
    "#      .agg(pl.count())\n",
    "#      .sort(by=pheno_objective)\n",
    "#     )\n",
    "\n",
    "#     print(summary_table.head())"
   ]
  },
  {
   "cell_type": "code",
   "execution_count": 191,
   "id": "0b9b8b89",
   "metadata": {},
   "outputs": [
    {
     "data": {
      "text/html": [
       "<div><style>\n",
       ".dataframe > thead > tr > th,\n",
       ".dataframe > tbody > tr > td {\n",
       "  text-align: right;\n",
       "}\n",
       "</style>\n",
       "<small>shape: (16555, 11)</small><table border=\"1\" class=\"dataframe\"><thead><tr><th>Objective_phenotype</th><th>Explanatory_phenotype_main</th><th>Explanatory_phenotype_confounding</th><th>N</th><th>N_zero</th><th>params_intercept</th><th>params_X</th><th>pval_intercept</th><th>pval_X</th><th>r^2</th><th>Condition_number</th></tr><tr><td>str</td><td>str</td><td>str</td><td>str</td><td>str</td><td>str</td><td>str</td><td>str</td><td>str</td><td>str</td><td>str</td></tr></thead><tbody><tr><td>&quot;31-0.0&quot;</td><td>&quot;ukb671006_2845…</td><td>&quot;ukb671006_2847…</td><td>&quot;81472&quot;</td><td>&quot;46348&quot;</td><td>&quot;0.431117439120…</td><td>&quot;-2.01661604082…</td><td>&quot;0.0&quot;</td><td>&quot;0.225760554217…</td><td>&quot;1.0&quot;</td><td>&quot;1.161635817659…</td></tr><tr><td>&quot;31-0.0&quot;</td><td>&quot;ukb671006_2845…</td><td>&quot;ukb671006_2847…</td><td>&quot;81472&quot;</td><td>&quot;46348&quot;</td><td>&quot;0.431117439120…</td><td>&quot;-4.72712147203…</td><td>&quot;0.0&quot;</td><td>&quot;0.003931566948…</td><td>&quot;1.0&quot;</td><td>&quot;1.101512932280…</td></tr><tr><td>&quot;31-0.0&quot;</td><td>&quot;ukb671006_2845…</td><td>&quot;ukb671006_2847…</td><td>&quot;81472&quot;</td><td>&quot;46348&quot;</td><td>&quot;0.431117439120…</td><td>&quot;-6.78168458889…</td><td>&quot;0.0&quot;</td><td>&quot;5.143802189847…</td><td>&quot;1.0&quot;</td><td>&quot;1.240559381510…</td></tr><tr><td>&quot;31-0.0&quot;</td><td>&quot;ukb671006_2845…</td><td>&quot;ukb671006_2847…</td><td>&quot;81472&quot;</td><td>&quot;46348&quot;</td><td>&quot;0.431117439120…</td><td>&quot;6.076953176781…</td><td>&quot;0.0&quot;</td><td>&quot;0.000222514185…</td><td>&quot;1.0&quot;</td><td>&quot;1.142821296745…</td></tr><tr><td>&quot;31-0.0&quot;</td><td>&quot;ukb671006_2845…</td><td>&quot;ukb671006_2847…</td><td>&quot;81472&quot;</td><td>&quot;46348&quot;</td><td>&quot;0.431117439120…</td><td>&quot;9.085614205428…</td><td>&quot;0.0&quot;</td><td>&quot;4.940681647912…</td><td>&quot;1.0&quot;</td><td>&quot;1.196571839312…</td></tr><tr><td>&quot;31-0.0&quot;</td><td>&quot;ukb671006_2845…</td><td>&quot;ukb671006_2847…</td><td>&quot;81472&quot;</td><td>&quot;46348&quot;</td><td>&quot;0.431117439120…</td><td>&quot;-7.58941520739…</td><td>&quot;0.0&quot;</td><td>&quot;0.963328760638…</td><td>&quot;1.0&quot;</td><td>&quot;1.147350801612…</td></tr><tr><td>&quot;31-0.0&quot;</td><td>&quot;ukb671006_2845…</td><td>&quot;ukb671006_2847…</td><td>&quot;81472&quot;</td><td>&quot;46348&quot;</td><td>&quot;0.431117439120…</td><td>&quot;-5.46437894932…</td><td>&quot;0.0&quot;</td><td>&quot;0.001016321118…</td><td>&quot;1.0&quot;</td><td>&quot;1.195479000373…</td></tr><tr><td>&quot;31-0.0&quot;</td><td>&quot;ukb671006_2845…</td><td>&quot;ukb671006_2847…</td><td>&quot;81472&quot;</td><td>&quot;46348&quot;</td><td>&quot;0.431117439120…</td><td>&quot;-3.03576608295…</td><td>&quot;0.0&quot;</td><td>&quot;0.854954667013…</td><td>&quot;1.0&quot;</td><td>&quot;1.158820799874…</td></tr><tr><td>&quot;31-0.0&quot;</td><td>&quot;ukb671006_2845…</td><td>&quot;ukb671006_2847…</td><td>&quot;81472&quot;</td><td>&quot;46348&quot;</td><td>&quot;0.431117439120…</td><td>&quot;1.396452398161…</td><td>&quot;0.0&quot;</td><td>&quot;1.720041303208…</td><td>&quot;1.0&quot;</td><td>&quot;1.075798254728…</td></tr><tr><td>&quot;31-0.0&quot;</td><td>&quot;ukb671006_2845…</td><td>&quot;ukb671006_2847…</td><td>&quot;81472&quot;</td><td>&quot;46348&quot;</td><td>&quot;0.431117439120…</td><td>&quot;7.383416794626…</td><td>&quot;0.0&quot;</td><td>&quot;7.441902904196…</td><td>&quot;1.0&quot;</td><td>&quot;1.070013127645…</td></tr><tr><td>&quot;31-0.0&quot;</td><td>&quot;ukb671006_2846…</td><td>&quot;ukb671006_2847…</td><td>&quot;81472&quot;</td><td>&quot;46348&quot;</td><td>&quot;0.431117439120…</td><td>&quot;-3.07262895682…</td><td>&quot;0.0&quot;</td><td>&quot;1.182502961063…</td><td>&quot;1.0&quot;</td><td>&quot;1.084648375080…</td></tr><tr><td>&quot;31-0.0&quot;</td><td>&quot;ukb671006_2846…</td><td>&quot;ukb671006_2847…</td><td>&quot;81472&quot;</td><td>&quot;46348&quot;</td><td>&quot;0.431117439120…</td><td>&quot;2.287666583944…</td><td>&quot;0.0&quot;</td><td>&quot;0.163125216677…</td><td>&quot;1.0&quot;</td><td>&quot;1.105078632521…</td></tr><tr><td>&hellip;</td><td>&hellip;</td><td>&hellip;</td><td>&hellip;</td><td>&hellip;</td><td>&hellip;</td><td>&hellip;</td><td>&hellip;</td><td>&hellip;</td><td>&hellip;</td><td>&hellip;</td></tr><tr><td>&quot;120118-0.0&quot;</td><td>&quot;ukb671006_2847…</td><td>&quot;ukb671006_2847…</td><td>&quot;56361&quot;</td><td>&quot;37872&quot;</td><td>&quot;0.328045989247…</td><td>&quot;0.001977450456…</td><td>&quot;0.0&quot;</td><td>&quot;0.314016447613…</td><td>&quot;0.014138650345…</td><td>&quot;1.075790605854…</td></tr><tr><td>&quot;120118-0.0&quot;</td><td>&quot;ukb671006_2847…</td><td>&quot;ukb671006_2847…</td><td>&quot;56361&quot;</td><td>&quot;37872&quot;</td><td>&quot;0.328045989247…</td><td>&quot;0.002402593210…</td><td>&quot;0.0&quot;</td><td>&quot;0.221249181279…</td><td>&quot;0.014147091594…</td><td>&quot;1.076727253208…</td></tr><tr><td>&quot;120118-0.0&quot;</td><td>&quot;ukb671006_2847…</td><td>&quot;ukb671006_2847…</td><td>&quot;56361&quot;</td><td>&quot;37872&quot;</td><td>&quot;0.328045989247…</td><td>&quot;0.000459232201…</td><td>&quot;0.0&quot;</td><td>&quot;0.815308899004…</td><td>&quot;0.014121871573…</td><td>&quot;1.089308075382…</td></tr><tr><td>&quot;120118-0.0&quot;</td><td>&quot;ukb671006_2847…</td><td>&quot;ukb671006_2847…</td><td>&quot;56361&quot;</td><td>&quot;37872&quot;</td><td>&quot;0.328045989247…</td><td>&quot;0.004543245417…</td><td>&quot;0.0&quot;</td><td>&quot;0.021045732216…</td><td>&quot;0.014214031260…</td><td>&quot;1.101966585335…</td></tr><tr><td>&quot;120118-0.0&quot;</td><td>&quot;ukb671006_2847…</td><td>&quot;ukb671006_2847…</td><td>&quot;56361&quot;</td><td>&quot;37872&quot;</td><td>&quot;0.328045989247…</td><td>&quot;-0.00200764299…</td><td>&quot;0.0&quot;</td><td>&quot;0.306886398853…</td><td>&quot;0.014139180772…</td><td>&quot;1.080967823924…</td></tr><tr><td>&quot;120118-0.0&quot;</td><td>&quot;ukb671006_2847…</td><td>&quot;ukb671006_2847…</td><td>&quot;56361&quot;</td><td>&quot;37872&quot;</td><td>&quot;0.328045989247…</td><td>&quot;0.012907573671…</td><td>&quot;0.0&quot;</td><td>&quot;4.935071055106…</td><td>&quot;0.014876400285…</td><td>&quot;1.076468096616…</td></tr><tr><td>&quot;120118-0.0&quot;</td><td>&quot;ukb671006_2847…</td><td>&quot;ukb671006_2847…</td><td>&quot;56361&quot;</td><td>&quot;37872&quot;</td><td>&quot;0.328045989247…</td><td>&quot;-0.01650352928…</td><td>&quot;0.0&quot;</td><td>&quot;4.289267118852…</td><td>&quot;0.015355876754…</td><td>&quot;1.077027699885…</td></tr><tr><td>&quot;120118-0.0&quot;</td><td>&quot;ukb671006_2848…</td><td>&quot;ukb671006_2847…</td><td>&quot;56361&quot;</td><td>&quot;37872&quot;</td><td>&quot;0.328045989247…</td><td>&quot;0.009396454308…</td><td>&quot;0.0&quot;</td><td>&quot;1.717565874990…</td><td>&quot;0.014521222691…</td><td>&quot;1.077662406471…</td></tr><tr><td>&quot;120118-0.0&quot;</td><td>&quot;ukb671006_2848…</td><td>&quot;ukb671006_2847…</td><td>&quot;56361&quot;</td><td>&quot;37872&quot;</td><td>&quot;0.328045989247…</td><td>&quot;0.007188834342…</td><td>&quot;0.0&quot;</td><td>&quot;0.000254703561…</td><td>&quot;0.014354904720…</td><td>&quot;1.085558654602…</td></tr><tr><td>&quot;120118-0.0&quot;</td><td>&quot;ukb671006_2848…</td><td>&quot;ukb671006_2847…</td><td>&quot;56361&quot;</td><td>&quot;37872&quot;</td><td>&quot;0.328045989247…</td><td>&quot;0.017977834261…</td><td>&quot;0.0&quot;</td><td>&quot;7.052326762335…</td><td>&quot;0.015577047477…</td><td>&quot;1.113203272519…</td></tr><tr><td>&quot;120118-0.0&quot;</td><td>&quot;ukb671006_2848…</td><td>&quot;ukb671006_2847…</td><td>&quot;56361&quot;</td><td>&quot;37872&quot;</td><td>&quot;0.328045989247…</td><td>&quot;-0.01089447678…</td><td>&quot;0.0&quot;</td><td>&quot;2.952528627693…</td><td>&quot;0.014658497556…</td><td>&quot;1.083329349889…</td></tr><tr><td>&quot;120118-0.0&quot;</td><td>&quot;ukb671006_2848…</td><td>&quot;ukb671006_2847…</td><td>&quot;56361&quot;</td><td>&quot;37872&quot;</td><td>&quot;0.328045989247…</td><td>&quot;-0.01636150225…</td><td>&quot;0.0&quot;</td><td>&quot;9.853346914765…</td><td>&quot;0.015327213619…</td><td>&quot;1.110091964040…</td></tr></tbody></table></div>"
      ],
      "text/plain": [
       "shape: (16_555, 11)\n",
       "┌─────────────────────┬──────────────────────────────┬─────────────────────────────┬───────┬───┬────────────────┬────────────────────────┬──────────────────────┬────────────────────┐\n",
       "│ Objective_phenotype ┆ Explanatory_phenotype_main   ┆ Explanatory_phenotype_confo ┆ N     ┆ … ┆ pval_intercept ┆ pval_X                 ┆ r^2                  ┆ Condition_number   │\n",
       "│ ---                 ┆ ---                          ┆ undin…                      ┆ ---   ┆   ┆ ---            ┆ ---                    ┆ ---                  ┆ ---                │\n",
       "│ str                 ┆ str                          ┆ ---                         ┆ str   ┆   ┆ str            ┆ str                    ┆ str                  ┆ str                │\n",
       "│                     ┆                              ┆ str                         ┆       ┆   ┆                ┆                        ┆                      ┆                    │\n",
       "╞═════════════════════╪══════════════════════════════╪═════════════════════════════╪═══════╪═══╪════════════════╪════════════════════════╪══════════════════════╪════════════════════╡\n",
       "│ 31-0.0              ┆ ukb671006_28450_ST_long_mean ┆ ukb671006_28472_age,ukb6710 ┆ 81472 ┆ … ┆ 0.0            ┆ 0.22576055421740754    ┆ 1.0                  ┆ 1.1616358176592558 │\n",
       "│                     ┆                              ┆ 06_28…                      ┆       ┆   ┆                ┆                        ┆                      ┆                    │\n",
       "│ 31-0.0              ┆ ukb671006_28451_ST_long_sd   ┆ ukb671006_28472_age,ukb6710 ┆ 81472 ┆ … ┆ 0.0            ┆ 0.0039315669480258185  ┆ 1.0                  ┆ 1.1015129322801367 │\n",
       "│                     ┆                              ┆ 06_28…                      ┆       ┆   ┆                ┆                        ┆                      ┆                    │\n",
       "│ 31-0.0              ┆ ukb671006_28452_WT_long_mean ┆ ukb671006_28472_age,ukb6710 ┆ 81472 ┆ … ┆ 0.0            ┆ 5.143802189847317e-05  ┆ 1.0                  ┆ 1.2405593815109097 │\n",
       "│                     ┆                              ┆ 06_28…                      ┆       ┆   ┆                ┆                        ┆                      ┆                    │\n",
       "│ 31-0.0              ┆ ukb671006_28453_WT_long_sd   ┆ ukb671006_28472_age,ukb6710 ┆ 81472 ┆ … ┆ 0.0            ┆ 0.00022251418596407814 ┆ 1.0                  ┆ 1.142821296745719  │\n",
       "│                     ┆                              ┆ 06_28…                      ┆       ┆   ┆                ┆                        ┆                      ┆                    │\n",
       "│ …                   ┆ …                            ┆ …                           ┆ …     ┆ … ┆ …              ┆ …                      ┆ …                    ┆ …                  │\n",
       "│ 120118-0.0          ┆ ukb671006_28480_group_five_2 ┆ ukb671006_28472_age,ukb6710 ┆ 56361 ┆ … ┆ 0.0            ┆ 0.0002547035611541664  ┆ 0.014354904720258355 ┆ 1.085558654602348  │\n",
       "│                     ┆                              ┆ 06_28…                      ┆       ┆   ┆                ┆                        ┆                      ┆                    │\n",
       "│ 120118-0.0          ┆ ukb671006_28480_group_five_3 ┆ ukb671006_28472_age,ukb6710 ┆ 56361 ┆ … ┆ 0.0            ┆ 7.052326762335615e-20  ┆ 0.015577047477304151 ┆ 1.1132032725199683 │\n",
       "│                     ┆                              ┆ 06_28…                      ┆       ┆   ┆                ┆                        ┆                      ┆                    │\n",
       "│ 120118-0.0          ┆ ukb671006_28480_group_five_4 ┆ ukb671006_28472_age,ukb6710 ┆ 56361 ┆ … ┆ 0.0            ┆ 2.9525286276931532e-08 ┆ 0.014658497556267802 ┆ 1.0833293498893584 │\n",
       "│                     ┆                              ┆ 06_28…                      ┆       ┆   ┆                ┆                        ┆                      ┆                    │\n",
       "│ 120118-0.0          ┆ ukb671006_28480_group_five_5 ┆ ukb671006_28472_age,ukb6710 ┆ 56361 ┆ … ┆ 0.0            ┆ 9.853346914765395e-17  ┆ 0.015327213619239721 ┆ 1.1100919640408915 │\n",
       "│                     ┆                              ┆ 06_28…                      ┆       ┆   ┆                ┆                        ┆                      ┆                    │\n",
       "└─────────────────────┴──────────────────────────────┴─────────────────────────────┴───────┴───┴────────────────┴────────────────────────┴──────────────────────┴────────────────────┘"
      ]
     },
     "execution_count": 191,
     "metadata": {},
     "output_type": "execute_result"
    }
   ],
   "source": [
    "result_list_numpy = np.array(result_list)\n",
    "\n",
    "header = result_list_numpy[0]\n",
    "data = result_list_numpy[1:]\n",
    "\n",
    "# Create a dictionary with each key-value pair representing a column and its data\n",
    "data_dict = {header[i]: data[:, i] for i in range(data.shape[1])}\n",
    "\n",
    "# Convert the dictionary to a Polars DataFrame\n",
    "df = pl.DataFrame(data_dict)\n",
    "\n",
    "FILE_OUT = os.path.join(DIR_OUT, \"result_zero_one_categorical.csv\")\n",
    "df.write_csv(FILE_OUT)\n",
    "\n",
    "df"
   ]
  },
  {
   "cell_type": "code",
   "execution_count": 192,
   "id": "f06004e9",
   "metadata": {},
   "outputs": [
    {
     "name": "stdout",
     "output_type": "stream",
     "text": [
      "Bonferroni-corrected threshold of P-value = 3.0202355783751136e-06\n"
     ]
    }
   ],
   "source": [
    "pval_threshold = 0.05 / df.shape[0]\n",
    "print(\"Bonferroni-corrected threshold of P-value =\", pval_threshold)\n",
    "df_significant = (df\n",
    " .filter(~pl.col(\"pval_X\").str.contains(\"NA\"))\n",
    " .with_columns(pl.col(\"pval_X\").cast(pl.Float64))\n",
    " .filter(pl.col(\"pval_X\") < pval_threshold)\n",
    ")\n",
    "FILE_OUT = os.path.join(DIR_OUT, \"result_zero_one_categorical_significant.csv\")\n",
    "df_significant.write_csv(FILE_OUT)"
   ]
  },
  {
   "cell_type": "code",
   "execution_count": null,
   "id": "d80e436a",
   "metadata": {},
   "outputs": [],
   "source": []
  },
  {
   "cell_type": "code",
   "execution_count": null,
   "id": "e18746f3",
   "metadata": {},
   "outputs": [],
   "source": []
  },
  {
   "cell_type": "code",
   "execution_count": null,
   "id": "6589db9a",
   "metadata": {},
   "outputs": [],
   "source": []
  },
  {
   "cell_type": "code",
   "execution_count": null,
   "id": "a011be2f",
   "metadata": {},
   "outputs": [],
   "source": []
  },
  {
   "cell_type": "code",
   "execution_count": null,
   "id": "a1bfa509",
   "metadata": {},
   "outputs": [],
   "source": []
  },
  {
   "cell_type": "code",
   "execution_count": null,
   "id": "a4dd58e0",
   "metadata": {},
   "outputs": [],
   "source": []
  },
  {
   "cell_type": "markdown",
   "id": "16d2021e",
   "metadata": {},
   "source": [
    "# Plot"
   ]
  },
  {
   "cell_type": "code",
   "execution_count": 62,
   "id": "2d0ac1b4",
   "metadata": {},
   "outputs": [
    {
     "name": "stdout",
     "output_type": "stream",
     "text": [
      "2023-05-11 15:56:54: 0 data\\accel_ukbb\\split\\ukb671006_00001_3-0.0.txt\n"
     ]
    }
   ],
   "source": [
    "for i, file_name in enumerate(files):\n",
    "    # Read each file\n",
    "    file_path = os.path.join(DIR_TABULAR, file_name)\n",
    "    func_print(i, suffix=file_path)\n",
    "    df = pl.read_csv(file_path, separator=\"\\t\", infer_schema_length=0)\n",
    "    pheno_objective = df.columns[-1]\n",
    "    df = (df\n",
    "          .drop_nulls()\n",
    "          .with_columns(pl.col(\"eid\").cast(pl.Int32, strict=False))\n",
    "          .with_columns(pl.col(pheno_objective).cast(pl.Float64, strict=False))\n",
    "          .drop_nulls()\n",
    "         )\n",
    "    # Preprocess\n",
    "    try:\n",
    "        df = df.filter(pl.col(pheno_objective) != \"NA\")\n",
    "    except:\n",
    "        pass\n",
    "#    df = df.with_columns(pl.col(pheno_objective).cast(pl.Float64))\n",
    "    # Join to main dataset\n",
    "    df = df_onehot_for_batch.join(df, on=\"eid\", how=\"inner\").drop(\"eid\")\n",
    "    \n",
    "    break\n",
    "    \n",
    "    # print(df.groupby(pheno_objective, maintain_order=True).agg(pl.count()))"
   ]
  },
  {
   "cell_type": "code",
   "execution_count": 20,
   "id": "a5683605",
   "metadata": {},
   "outputs": [
    {
     "data": {
      "image/png": "[encoded data removed]",
      "text/plain": [
       "<Figure size 864x792 with 5 Axes>"
      ]
     },
     "metadata": {
      "needs_background": "light"
     },
     "output_type": "display_data"
    }
   ],
   "source": [
    "pheno_explanatory = \"ukb671006_28450_ST_long_mean\"\n",
    "x = df[pheno_objective]\n",
    "y = df[pheno_explanatory]\n",
    "\n",
    "fig, axes = plt.subplots(2, 2, tight_layout=True, figsize=[12, 11])\n",
    "# Plot the distribution of the pheno column for each dataframe\n",
    "sub_plot = axes[0, 0]\n",
    "#sub_plot.set_xlim(list_range[0], list_range[1]) \n",
    "#sub_plot.hist(np_after, alpha=0.5, label=\"-cancer\", density=True, bins=100, color='#66bd63')\n",
    "sub_plot.hist(x,\n",
    "              alpha=0.5, label=pheno_objective, density=True, bins=100, color='#66bd63')\n",
    "\n",
    "sub_plot = axes[0, 1]\n",
    "pheno_explanatory = \"ukb671006_28450_ST_long_mean\"\n",
    "sub_plot.hist(y,\n",
    "              alpha=0.5, label=pheno_explanatory, density=True, bins=100, color='#f46d43')\n",
    "\n",
    "sub_plot = axes[1, 0]\n",
    "sub_plot.scatter(x, y, s=1)\n",
    "\n",
    "sub_plot = axes[1, 1]\n",
    "xy = np.vstack([x,y])[:, ::10]\n",
    "z = stats.gaussian_kde(xy)(xy)\n",
    "idx = z.argsort() \n",
    "x2, y2, z2 = x[idx], y[idx], z[idx]\n",
    "im = sub_plot.scatter(x2, y2, c=z2, s=50, cmap=\"jet\")\n",
    "fig.colorbar(im)\n",
    "\n",
    "# sub_plot.legend(loc=\"upper right\", fontsize=12)\n",
    "# if with_title == True:\n",
    "#     sub_plot.set_title(suffix + \"\\n\" + \\\n",
    "#                        str(median_after) + \"(-) \" + sign + \" \" + str(median_before) + \"(+)\",\n",
    "#                       fontsize=24)\n",
    "# sub_plot.set_xlabel(\"Value\", fontsize=16)\n",
    "# sub_plot.set_ylabel(\"Frequency\", fontsize=16)\n",
    "plt.show()"
   ]
  }
 ],
 "metadata": {
  "kernelspec": {
   "display_name": "Python 3 (ipykernel)",
   "language": "python",
   "name": "python3"
  },
  "language_info": {
   "codemirror_mode": {
    "name": "ipython",
    "version": 3
   },
   "file_extension": ".py",
   "mimetype": "text/x-python",
   "name": "python",
   "nbconvert_exporter": "python",
   "pygments_lexer": "ipython3",
   "version": "3.9.16"
  },
  "toc": {
   "base_numbering": 1,
   "nav_menu": {},
   "number_sections": true,
   "sideBar": true,
   "skip_h1_title": false,
   "title_cell": "Table of Contents",
   "title_sidebar": "Contents",
   "toc_cell": false,
   "toc_position": {
    "height": "calc(100% - 180px)",
    "left": "10px",
    "top": "150px",
    "width": "210.133px"
   },
   "toc_section_display": true,
   "toc_window_display": true
  },
  "varInspector": {
   "cols": {
    "lenName": 16,
    "lenType": 16,
    "lenVar": 40
   },
   "kernels_config": {
    "python": {
     "delete_cmd_postfix": "",
     "delete_cmd_prefix": "del ",
     "library": "var_list.py",
     "varRefreshCmd": "print(var_dic_list())"
    },
    "r": {
     "delete_cmd_postfix": ") ",
     "delete_cmd_prefix": "rm(",
     "library": "var_list.r",
     "varRefreshCmd": "cat(var_dic_list()) "
    }
   },
   "types_to_exclude": [
    "module",
    "function",
    "builtin_function_or_method",
    "instance",
    "_Feature"
   ],
   "window_display": false
  }
 },
 "nbformat": 4,
 "nbformat_minor": 5
}
