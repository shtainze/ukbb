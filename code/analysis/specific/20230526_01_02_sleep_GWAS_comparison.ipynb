{
 "cells": [
  {
   "cell_type": "markdown",
   "id": "ab99449f",
   "metadata": {},
   "source": [
    "**Input**\n",
    "- MAGMA gene analysis results for various GWAS\n",
    "   - Chronotype (1180)\n",
    "   - ACCEL results\n",
    "       - 28450_ST_long_mean\n",
    "       - 28451_ST_long_sd\n",
    "       - 28452_WT_long_mean\n",
    "       - 28453_WT_long_sd\n",
    "       - 28454_ST_short_mean\n",
    "       - 28455_ST_short_sd\n",
    "       - 28456_WT_short_mean\n",
    "       - 28457_WT_short_sd\n",
    "       - 28458_long_window_len_mean\n",
    "       - 28459_long_window_len_sd\n",
    "       - 28460_long_window_num_mean\n",
    "       - 28461_long_window_num_sd\n",
    "       - 28462_short_window_len_mean\n",
    "       - 28463_short_window_len_sd\n",
    "       - 28464_short_window_num_mean\n",
    "       - 28465_short_window_num_sd\n",
    "       - 28466_phase_mean\n",
    "       - 28467_phase_sd\n",
    "       - 28468_max_period\n",
    "       - 28469_amplitude\n",
    "       - 28470_sleep_percentage\n",
    "\n",
    "**Process: calculate the following**\n",
    "- MAGMA\n",
    "  - Adding info\n",
    "    - Bonferroni-corrected P-values (also written P-Bonf)\n",
    "    - q-values (also known as FDR-adjusted p-values)\n",
    "    - Annotation of whether those values are under FDR threshold\n"
   ]
  },
  {
   "cell_type": "markdown",
   "id": "6d495afd",
   "metadata": {},
   "source": [
    "# Preparation (Execute all in this section!)"
   ]
  },
  {
   "cell_type": "markdown",
   "id": "73867402",
   "metadata": {},
   "source": [
    "## Import libraries & set environment variables"
   ]
  },
  {
   "cell_type": "code",
   "execution_count": 1,
   "id": "bde0e43d",
   "metadata": {},
   "outputs": [
    {
     "name": "stdout",
     "output_type": "stream",
     "text": [
      "Current directory (check that it's your home directory): J:\\sugai\\UKBiobank\n"
     ]
    }
   ],
   "source": [
    "import collections\n",
    "from datetime import datetime\n",
    "import os\n",
    "import numpy as np\n",
    "from pathlib import Path\n",
    "import polars as pl\n",
    "import re\n",
    "import textwrap\n",
    "\n",
    "import warnings\n",
    "# suppress DeprecationWarning messages\n",
    "warnings.filterwarnings(\"ignore\", category=DeprecationWarning)\n",
    "\n",
    "from matplotlib import pyplot as plt\n",
    "from matplotlib_venn import venn2\n",
    "from matplotlib_venn import venn3\n",
    "\n",
    "dir_home = Path(os.getcwd()).parent.parent.parent\n",
    "os.chdir(dir_home)\n",
    "print(\"Current directory (check that it's your home directory):\", os.getcwd())"
   ]
  },
  {
   "cell_type": "markdown",
   "id": "ae12e1b1",
   "metadata": {},
   "source": [
    "## File I/O"
   ]
  },
  {
   "cell_type": "code",
   "execution_count": 2,
   "id": "297f5743",
   "metadata": {},
   "outputs": [],
   "source": [
    "# Input\n",
    "DIR_SOURCE = os.path.join(\"analysis\", \"specific\", \"analysis_20230526_01_gwas\")\n",
    "\n",
    "# Gene alias list\n",
    "FILE_ALIAS=os.path.join(\"data\", \"refseq\", \"gene_full_name_tab.txt\")\n",
    "df_alias = pl.read_csv(FILE_ALIAS, separator=\"\\t\")\n",
    "\n",
    "# Output folder\n",
    "DIR_OUT = os.path.join(DIR_SOURCE, \"summary\")\n",
    "if not os.path.exists(DIR_OUT):\n",
    "    os.makedirs(DIR_OUT)\n",
    "\n",
    "# # Intermediate output: added info\n",
    "# #     (q-values and statistically significant genes)\n",
    "# FILE_ANNOTATED_PANUKBB = os.path.join(DIR_OUT, \"out.with_p_correction_PanUKBB.csv\")\n",
    "# FILE_ANNOTATED_MYGWAS_1 = os.path.join(DIR_OUT, \"out.with_p_correction_myGWAS_1.csv\")\n",
    "# FILE_ANNOTATED_MYGWAS_2 = os.path.join(DIR_OUT, \"out.with_p_correction_myGWAS_2.csv\")\n",
    "\n",
    "FDR_THRESHOLD = 0.05 # Q value threshold"
   ]
  },
  {
   "cell_type": "markdown",
   "id": "57a78ac5",
   "metadata": {},
   "source": [
    "## Functions"
   ]
  },
  {
   "cell_type": "code",
   "execution_count": 6,
   "id": "d50d7876",
   "metadata": {
    "scrolled": true
   },
   "outputs": [],
   "source": [
    "def flatten(l):\n",
    "    for el in l:\n",
    "        if isinstance(el, collections.abc.Iterable) and not isinstance(el, (str, bytes)):\n",
    "            yield from flatten(el)\n",
    "        else:\n",
    "            yield el\n",
    "\n",
    "\n",
    "def func_print(i):\n",
    "    if i < 10 or str(i)[1:].count('0') == len(str(i))-1:\n",
    "        now = datetime.now()\n",
    "        print(f\"{now.strftime('%Y-%m-%d %H:%M:%S')}: {i}\")\n",
    "        \n",
    "\n",
    "def func_process(FILE_SOURCE, FILE_OUTPUT):\n",
    "    print(\"Processing:\", FILE_SOURCE)\n",
    "    # Read as String to avoid any automatic conversion\n",
    "    df = (pl.read_csv(FILE_SOURCE, \n",
    "                      separator=\",\", \n",
    "                      infer_schema_length=0)\n",
    "          .drop_nulls()\n",
    "          .with_columns(pl.col(\"P\").cast(pl.Float32).alias(\"P_Bonf\"))\n",
    "          .with_columns(pl.col(\"P\").cast(pl.Float32).alias(\"P_log10\"))\n",
    "          .with_columns(pl.col(\"P\").cast(pl.Float32).alias(\"Q\"))\n",
    "          .with_columns(np.log10(pl.col(\"P_log10\")))\n",
    "          .sort(by='Q'))\n",
    "\n",
    "    n_count = df['Q'].is_not_null().sum()\n",
    "\n",
    "    df = (df\n",
    "          # Calculate Bonferroni-corrected P values\n",
    "          .with_columns(pl.col('P_Bonf') * n_count)\n",
    "           # create a new column which is true if \"P_Bonf\" is under threshold\n",
    "          .with_columns((pl.col(\"P_Bonf\") < FDR_THRESHOLD).alias(\"Positive_P_Bonf\"))\n",
    "          # Calculate Q values\n",
    "          # Multiply Q column by number of non-null values\n",
    "          .with_columns(pl.col('Q') * n_count)\n",
    "          # # Divide the Q columns by the rank of individual value among all the non-null values\n",
    "          .with_columns(pl.col('Q') / df['Q'].rank())\n",
    "          # create a new column which is true if \"q\" is under threshold\n",
    "          .with_columns((pl.col(\"Q\") < FDR_THRESHOLD).alias(\"Positive_Q\"))\n",
    "          # Add log10 values\n",
    "          .with_columns(pl.col(\"P_Bonf\").alias(\"P_Bonf_log10\"))\n",
    "          .with_columns(np.log10(pl.col(\"P_Bonf_log10\")))\n",
    "          .with_columns(pl.col(\"Q\").alias(\"Q_log10\"))\n",
    "          .with_columns(np.log10(pl.col(\"Q_log10\")))\n",
    "          # Sort\n",
    "          .sort(by='Positive_P_Bonf', descending=True)\n",
    "         )\n",
    "    df.write_csv(FILE_OUTPUT)\n",
    "    \n",
    "    \n",
    "def func_list_genes(FILE_SOURCE):\n",
    "    df_all = pl.read_csv(FILE_SOURCE, separator=\",\")\n",
    "    df_positive = df_all.filter(pl.col(\"Positive_P_Bonf\"))\n",
    "    set_genes_all = set(df_all[\"Gene\"])\n",
    "    set_genes_positive = set(df_positive[\"Gene\"])\n",
    "    print(\"All =\", len(set_genes_all), \"genes, positive =\", len(set_genes_positive), \"genes\")\n",
    "    return set_genes_all, set_genes_positive"
   ]
  },
  {
   "cell_type": "markdown",
   "id": "d4d786ec",
   "metadata": {},
   "source": [
    "# Process MAGMA result statistics"
   ]
  },
  {
   "cell_type": "markdown",
   "id": "c044ebb3",
   "metadata": {},
   "source": [
    "## Add Pbonf, q-values, posi/nega annotation"
   ]
  },
  {
   "cell_type": "code",
   "execution_count": 4,
   "id": "9e9b8767",
   "metadata": {},
   "outputs": [
    {
     "name": "stdout",
     "output_type": "stream",
     "text": [
      "22 Files are found\n"
     ]
    },
    {
     "data": {
      "text/plain": [
       "[['analysis\\\\specific\\\\analysis_20230526_01_gwas\\\\28461_long_window_num_sd\\\\magma\\\\gene_pheno_pval_list_annotated.csv',\n",
       "  'analysis\\\\specific\\\\analysis_20230526_01_gwas\\\\28461_long_window_num_sd\\\\magma\\\\with_p_correction.csv'],\n",
       " ['analysis\\\\specific\\\\analysis_20230526_01_gwas\\\\28469_amplitude\\\\magma\\\\gene_pheno_pval_list_annotated.csv',\n",
       "  'analysis\\\\specific\\\\analysis_20230526_01_gwas\\\\28469_amplitude\\\\magma\\\\with_p_correction.csv'],\n",
       " ['analysis\\\\specific\\\\analysis_20230526_01_gwas\\\\00901_1180-0.0\\\\magma\\\\gene_pheno_pval_list_annotated.csv',\n",
       "  'analysis\\\\specific\\\\analysis_20230526_01_gwas\\\\00901_1180-0.0\\\\magma\\\\with_p_correction.csv'],\n",
       " ['analysis\\\\specific\\\\analysis_20230526_01_gwas\\\\28466_phase_mean\\\\magma\\\\gene_pheno_pval_list_annotated.csv',\n",
       "  'analysis\\\\specific\\\\analysis_20230526_01_gwas\\\\28466_phase_mean\\\\magma\\\\with_p_correction.csv'],\n",
       " ['analysis\\\\specific\\\\analysis_20230526_01_gwas\\\\28468_max_period\\\\magma\\\\gene_pheno_pval_list_annotated.csv',\n",
       "  'analysis\\\\specific\\\\analysis_20230526_01_gwas\\\\28468_max_period\\\\magma\\\\with_p_correction.csv'],\n",
       " ['analysis\\\\specific\\\\analysis_20230526_01_gwas\\\\28453_WT_long_sd\\\\magma\\\\gene_pheno_pval_list_annotated.csv',\n",
       "  'analysis\\\\specific\\\\analysis_20230526_01_gwas\\\\28453_WT_long_sd\\\\magma\\\\with_p_correction.csv'],\n",
       " ['analysis\\\\specific\\\\analysis_20230526_01_gwas\\\\28454_ST_short_mean\\\\magma\\\\gene_pheno_pval_list_annotated.csv',\n",
       "  'analysis\\\\specific\\\\analysis_20230526_01_gwas\\\\28454_ST_short_mean\\\\magma\\\\with_p_correction.csv'],\n",
       " ['analysis\\\\specific\\\\analysis_20230526_01_gwas\\\\28463_short_window_len_sd\\\\magma\\\\gene_pheno_pval_list_annotated.csv',\n",
       "  'analysis\\\\specific\\\\analysis_20230526_01_gwas\\\\28463_short_window_len_sd\\\\magma\\\\with_p_correction.csv'],\n",
       " ['analysis\\\\specific\\\\analysis_20230526_01_gwas\\\\28452_WT_long_mean\\\\magma\\\\gene_pheno_pval_list_annotated.csv',\n",
       "  'analysis\\\\specific\\\\analysis_20230526_01_gwas\\\\28452_WT_long_mean\\\\magma\\\\with_p_correction.csv'],\n",
       " ['analysis\\\\specific\\\\analysis_20230526_01_gwas\\\\28456_WT_short_mean\\\\magma\\\\gene_pheno_pval_list_annotated.csv',\n",
       "  'analysis\\\\specific\\\\analysis_20230526_01_gwas\\\\28456_WT_short_mean\\\\magma\\\\with_p_correction.csv'],\n",
       " ['analysis\\\\specific\\\\analysis_20230526_01_gwas\\\\28467_phase_sd\\\\magma\\\\gene_pheno_pval_list_annotated.csv',\n",
       "  'analysis\\\\specific\\\\analysis_20230526_01_gwas\\\\28467_phase_sd\\\\magma\\\\with_p_correction.csv'],\n",
       " ['analysis\\\\specific\\\\analysis_20230526_01_gwas\\\\28470_sleep_percentage\\\\magma\\\\gene_pheno_pval_list_annotated.csv',\n",
       "  'analysis\\\\specific\\\\analysis_20230526_01_gwas\\\\28470_sleep_percentage\\\\magma\\\\with_p_correction.csv'],\n",
       " ['analysis\\\\specific\\\\analysis_20230526_01_gwas\\\\28459_long_window_len_sd\\\\magma\\\\gene_pheno_pval_list_annotated.csv',\n",
       "  'analysis\\\\specific\\\\analysis_20230526_01_gwas\\\\28459_long_window_len_sd\\\\magma\\\\with_p_correction.csv'],\n",
       " ['analysis\\\\specific\\\\analysis_20230526_01_gwas\\\\28465_short_window_num_sd\\\\magma\\\\gene_pheno_pval_list_annotated.csv',\n",
       "  'analysis\\\\specific\\\\analysis_20230526_01_gwas\\\\28465_short_window_num_sd\\\\magma\\\\with_p_correction.csv'],\n",
       " ['analysis\\\\specific\\\\analysis_20230526_01_gwas\\\\28451_ST_long_sd\\\\magma\\\\gene_pheno_pval_list_annotated.csv',\n",
       "  'analysis\\\\specific\\\\analysis_20230526_01_gwas\\\\28451_ST_long_sd\\\\magma\\\\with_p_correction.csv'],\n",
       " ['analysis\\\\specific\\\\analysis_20230526_01_gwas\\\\28462_short_window_len_mean\\\\magma\\\\gene_pheno_pval_list_annotated.csv',\n",
       "  'analysis\\\\specific\\\\analysis_20230526_01_gwas\\\\28462_short_window_len_mean\\\\magma\\\\with_p_correction.csv'],\n",
       " ['analysis\\\\specific\\\\analysis_20230526_01_gwas\\\\28464_short_window_num_mean\\\\magma\\\\gene_pheno_pval_list_annotated.csv',\n",
       "  'analysis\\\\specific\\\\analysis_20230526_01_gwas\\\\28464_short_window_num_mean\\\\magma\\\\with_p_correction.csv'],\n",
       " ['analysis\\\\specific\\\\analysis_20230526_01_gwas\\\\28458_long_window_len_mean\\\\magma\\\\gene_pheno_pval_list_annotated.csv',\n",
       "  'analysis\\\\specific\\\\analysis_20230526_01_gwas\\\\28458_long_window_len_mean\\\\magma\\\\with_p_correction.csv'],\n",
       " ['analysis\\\\specific\\\\analysis_20230526_01_gwas\\\\28455_ST_short_sd\\\\magma\\\\gene_pheno_pval_list_annotated.csv',\n",
       "  'analysis\\\\specific\\\\analysis_20230526_01_gwas\\\\28455_ST_short_sd\\\\magma\\\\with_p_correction.csv'],\n",
       " ['analysis\\\\specific\\\\analysis_20230526_01_gwas\\\\28457_WT_short_sd\\\\magma\\\\gene_pheno_pval_list_annotated.csv',\n",
       "  'analysis\\\\specific\\\\analysis_20230526_01_gwas\\\\28457_WT_short_sd\\\\magma\\\\with_p_correction.csv'],\n",
       " ['analysis\\\\specific\\\\analysis_20230526_01_gwas\\\\28460_long_window_num_mean\\\\magma\\\\gene_pheno_pval_list_annotated.csv',\n",
       "  'analysis\\\\specific\\\\analysis_20230526_01_gwas\\\\28460_long_window_num_mean\\\\magma\\\\with_p_correction.csv'],\n",
       " ['analysis\\\\specific\\\\analysis_20230526_01_gwas\\\\28450_ST_long_mean\\\\magma\\\\gene_pheno_pval_list_annotated.csv',\n",
       "  'analysis\\\\specific\\\\analysis_20230526_01_gwas\\\\28450_ST_long_mean\\\\magma\\\\with_p_correction.csv']]"
      ]
     },
     "execution_count": 4,
     "metadata": {},
     "output_type": "execute_result"
    }
   ],
   "source": [
    "list_files = []\n",
    "for root, dirs, files in os.walk(DIR_SOURCE):\n",
    "    # Check if the target file exists in the current folder\n",
    "    if \"gene_pheno_pval_list_annotated.csv\" in files:\n",
    "        # Get the full path of the file\n",
    "        file_source = os.path.join(root, \"gene_pheno_pval_list_annotated.csv\")\n",
    "        file_out = os.path.join(root, \"with_p_correction.csv\")\n",
    "        # Print the file path\n",
    "        list_files.append([file_source, file_out])\n",
    "\n",
    "print(len(list_files), \"Files are found\")\n",
    "list_files"
   ]
  },
  {
   "cell_type": "markdown",
   "id": "f363eb64",
   "metadata": {},
   "source": [
    "## Extract positive genes"
   ]
  },
  {
   "cell_type": "code",
   "execution_count": 7,
   "id": "da8b69db",
   "metadata": {},
   "outputs": [
    {
     "name": "stdout",
     "output_type": "stream",
     "text": [
      "\n",
      "Processing: analysis\\specific\\analysis_20230526_01_gwas\\28461_long_window_num_sd\\magma\\gene_pheno_pval_list_annotated.csv\n",
      "All = 17995 genes, positive = 0 genes\n",
      "\n",
      "Processing: analysis\\specific\\analysis_20230526_01_gwas\\28469_amplitude\\magma\\gene_pheno_pval_list_annotated.csv\n",
      "All = 17995 genes, positive = 15 genes\n",
      "\n",
      "Processing: analysis\\specific\\analysis_20230526_01_gwas\\00901_1180-0.0\\magma\\gene_pheno_pval_list_annotated.csv\n",
      "All = 17995 genes, positive = 36 genes\n",
      "\n",
      "Processing: analysis\\specific\\analysis_20230526_01_gwas\\28466_phase_mean\\magma\\gene_pheno_pval_list_annotated.csv\n",
      "All = 17995 genes, positive = 3 genes\n",
      "\n",
      "Processing: analysis\\specific\\analysis_20230526_01_gwas\\28468_max_period\\magma\\gene_pheno_pval_list_annotated.csv\n",
      "All = 17995 genes, positive = 1 genes\n",
      "\n",
      "Processing: analysis\\specific\\analysis_20230526_01_gwas\\28453_WT_long_sd\\magma\\gene_pheno_pval_list_annotated.csv\n",
      "All = 17995 genes, positive = 1 genes\n",
      "\n",
      "Processing: analysis\\specific\\analysis_20230526_01_gwas\\28454_ST_short_mean\\magma\\gene_pheno_pval_list_annotated.csv\n",
      "All = 17995 genes, positive = 1 genes\n",
      "\n",
      "Processing: analysis\\specific\\analysis_20230526_01_gwas\\28463_short_window_len_sd\\magma\\gene_pheno_pval_list_annotated.csv\n",
      "All = 17995 genes, positive = 0 genes\n",
      "\n",
      "Processing: analysis\\specific\\analysis_20230526_01_gwas\\28452_WT_long_mean\\magma\\gene_pheno_pval_list_annotated.csv\n",
      "All = 17995 genes, positive = 7 genes\n",
      "\n",
      "Processing: analysis\\specific\\analysis_20230526_01_gwas\\28456_WT_short_mean\\magma\\gene_pheno_pval_list_annotated.csv\n",
      "All = 17995 genes, positive = 0 genes\n",
      "\n",
      "Processing: analysis\\specific\\analysis_20230526_01_gwas\\28467_phase_sd\\magma\\gene_pheno_pval_list_annotated.csv\n",
      "All = 17995 genes, positive = 0 genes\n",
      "\n",
      "Processing: analysis\\specific\\analysis_20230526_01_gwas\\28470_sleep_percentage\\magma\\gene_pheno_pval_list_annotated.csv\n",
      "All = 17995 genes, positive = 13 genes\n",
      "\n",
      "Processing: analysis\\specific\\analysis_20230526_01_gwas\\28459_long_window_len_sd\\magma\\gene_pheno_pval_list_annotated.csv\n",
      "All = 17995 genes, positive = 0 genes\n",
      "\n",
      "Processing: analysis\\specific\\analysis_20230526_01_gwas\\28465_short_window_num_sd\\magma\\gene_pheno_pval_list_annotated.csv\n",
      "All = 17995 genes, positive = 0 genes\n",
      "\n",
      "Processing: analysis\\specific\\analysis_20230526_01_gwas\\28451_ST_long_sd\\magma\\gene_pheno_pval_list_annotated.csv\n",
      "All = 17995 genes, positive = 0 genes\n",
      "\n",
      "Processing: analysis\\specific\\analysis_20230526_01_gwas\\28462_short_window_len_mean\\magma\\gene_pheno_pval_list_annotated.csv\n",
      "All = 17995 genes, positive = 0 genes\n",
      "\n",
      "Processing: analysis\\specific\\analysis_20230526_01_gwas\\28464_short_window_num_mean\\magma\\gene_pheno_pval_list_annotated.csv\n",
      "All = 17995 genes, positive = 9 genes\n",
      "\n",
      "Processing: analysis\\specific\\analysis_20230526_01_gwas\\28458_long_window_len_mean\\magma\\gene_pheno_pval_list_annotated.csv\n",
      "All = 17995 genes, positive = 1 genes\n",
      "\n",
      "Processing: analysis\\specific\\analysis_20230526_01_gwas\\28455_ST_short_sd\\magma\\gene_pheno_pval_list_annotated.csv\n",
      "All = 17995 genes, positive = 0 genes\n",
      "\n",
      "Processing: analysis\\specific\\analysis_20230526_01_gwas\\28457_WT_short_sd\\magma\\gene_pheno_pval_list_annotated.csv\n",
      "All = 17995 genes, positive = 0 genes\n",
      "\n",
      "Processing: analysis\\specific\\analysis_20230526_01_gwas\\28460_long_window_num_mean\\magma\\gene_pheno_pval_list_annotated.csv\n",
      "All = 17995 genes, positive = 0 genes\n",
      "\n",
      "Processing: analysis\\specific\\analysis_20230526_01_gwas\\28450_ST_long_mean\\magma\\gene_pheno_pval_list_annotated.csv\n",
      "All = 17995 genes, positive = 6 genes\n"
     ]
    }
   ],
   "source": [
    "list_sets_genes = []\n",
    "\n",
    "for list_IO in list_files:\n",
    "    print()\n",
    "    func_process(list_IO[0], list_IO[1])\n",
    "    set_genes_all, set_genes_positive = func_list_genes(list_IO[1])\n",
    "    list_sets_genes.append([list_IO[1], set_genes_all, set_genes_positive])"
   ]
  },
  {
   "cell_type": "code",
   "execution_count": 8,
   "id": "54e8dc73",
   "metadata": {},
   "outputs": [
    {
     "name": "stdout",
     "output_type": "stream",
     "text": [
      "['28469_amplitude', {'CXXC5', 'ARL17B', 'GLO1', 'BTBD9', 'PCID2', 'PBX3', 'STH', 'KANSL1', 'CRHR1', 'MAPT', 'KAT6A', 'KCNK9', 'LRRC37A', 'MEIS1', 'HOXB3'}]\n",
      "['00901_1180-0.0', {'ASB1', 'C11orf80', 'CPNE8', 'FTO', 'RBM14', 'CTSF', 'NRXN1', 'PC', 'GPR61', 'RASSF1', 'RGL1', 'RGS16', 'HYAL1', 'RNASEL', 'CLN5', 'PTPN21', 'TTC8', 'FBXL3', 'LSMEM2', 'KHDRBS2', 'LRFN4', 'ROBO2', 'CAMKMT', 'SPATA7', 'VAMP3', 'ALG10B', 'IFRD2', 'KIF21A', 'SOX5', 'ZMYND10', 'RASD1', 'PER3', 'ACTN3', 'SPTBN2', 'RBFOX1', 'FOXP2'}]\n",
      "['28466_phase_mean', {'RGS16', 'AUTS2', 'ALG10B'}]\n",
      "['28468_max_period', {'SOX18'}]\n",
      "['28453_WT_long_sd', {'MEIS1'}]\n",
      "['28454_ST_short_mean', {'SGCZ'}]\n",
      "['28452_WT_long_mean', {'PKP4', 'ACP1', 'SH3YL1', 'CCDC148', 'FAM150B', 'SKOR1', 'MEIS1'}]\n",
      "['28470_sleep_percentage', {'CXXC5', 'ARL17B', 'PROZ', 'ATRNL1', 'BTBD9', 'PCID2', 'PBX3', 'STH', 'CRHR1', 'MAPT', 'LRRC37A', 'MEIS1', 'KANSL1'}]\n",
      "['28464_short_window_num_mean', {'SMIM4', 'NEK4', 'STAB1', 'PBRM1', 'GNL3', 'SPCS1', 'NT5DC2', 'SALL4', 'GLT8D1'}]\n",
      "['28458_long_window_len_mean', {'FTO'}]\n",
      "['28450_ST_long_mean', {'CXXC5', 'PROZ', 'BTBD9', 'PCID2', 'SGCZ', 'MEIS1'}]\n",
      "\n",
      "<bound method DataFrame.head of shape: (70, 14)\n",
      "┌─────────┬───────────────────────┬─────────────────┬────────────────┬───┬───────────────────────┬───────────────────────┬────────────────────┬────────────────┐\n",
      "│ Gene    ┆ Alias                 ┆ 28469_amplitude ┆ 00901_1180-0.0 ┆ … ┆ 28464_short_window_nu ┆ 28458_long_window_len ┆ 28450_ST_long_mean ┆ positive_count │\n",
      "│ ---     ┆ ---                   ┆ ---             ┆ ---            ┆   ┆ m_mean                ┆ _mean                 ┆ ---                ┆ ---            │\n",
      "│ str     ┆ str                   ┆ i64             ┆ i64            ┆   ┆ ---                   ┆ ---                   ┆ i64                ┆ i64            │\n",
      "│         ┆                       ┆                 ┆                ┆   ┆ i64                   ┆ i64                   ┆                    ┆                │\n",
      "╞═════════╪═══════════════════════╪═════════════════╪════════════════╪═══╪═══════════════════════╪═══════════════════════╪════════════════════╪════════════════╡\n",
      "│ ACP1    ┆ acid_phosphatase_1    ┆ 0               ┆ 0              ┆ … ┆ 0                     ┆ 0                     ┆ 0                  ┆ 1              │\n",
      "│ ACTN3   ┆ actinin_alpha_3       ┆ 0               ┆ 1              ┆ … ┆ 0                     ┆ 0                     ┆ 0                  ┆ 1              │\n",
      "│ ALG10B  ┆ ALG10_alpha-1_2-gluco ┆ 0               ┆ 1              ┆ … ┆ 0                     ┆ 0                     ┆ 0                  ┆ 2              │\n",
      "│         ┆ syltransfer…          ┆                 ┆                ┆   ┆                       ┆                       ┆                    ┆                │\n",
      "│ ARL17B  ┆ ADP_ribosylation_fact ┆ 1               ┆ 0              ┆ … ┆ 0                     ┆ 0                     ┆ 0                  ┆ 2              │\n",
      "│         ┆ or_like_GTP…          ┆                 ┆                ┆   ┆                       ┆                       ┆                    ┆                │\n",
      "│ …       ┆ …                     ┆ …               ┆ …              ┆ … ┆ …                     ┆ …                     ┆ …                  ┆ …              │\n",
      "│ STH     ┆ saitohin              ┆ 1               ┆ 0              ┆ … ┆ 0                     ┆ 0                     ┆ 0                  ┆ 2              │\n",
      "│ TTC8    ┆ tetratricopeptide_rep ┆ 0               ┆ 1              ┆ … ┆ 0                     ┆ 0                     ┆ 0                  ┆ 1              │\n",
      "│         ┆ eat_domain_…          ┆                 ┆                ┆   ┆                       ┆                       ┆                    ┆                │\n",
      "│ VAMP3   ┆ vesicle_associated_me ┆ 0               ┆ 1              ┆ … ┆ 0                     ┆ 0                     ┆ 0                  ┆ 1              │\n",
      "│         ┆ mbrane_prot…          ┆                 ┆                ┆   ┆                       ┆                       ┆                    ┆                │\n",
      "│ ZMYND10 ┆ zinc_finger_MYND-type ┆ 0               ┆ 1              ┆ … ┆ 0                     ┆ 0                     ┆ 0                  ┆ 1              │\n",
      "│         ┆ _containing…          ┆                 ┆                ┆   ┆                       ┆                       ┆                    ┆                │\n",
      "└─────────┴───────────────────────┴─────────────────┴────────────────┴───┴───────────────────────┴───────────────────────┴────────────────────┴────────────────┘>\n",
      "Positive in more than one GWAS:\n",
      "<bound method DataFrame.head of shape: (16, 14)\n",
      "┌────────┬────────────────────────┬─────────────────┬────────────────┬───┬───────────────────────┬───────────────────────┬────────────────────┬────────────────┐\n",
      "│ Gene   ┆ Alias                  ┆ 28469_amplitude ┆ 00901_1180-0.0 ┆ … ┆ 28464_short_window_nu ┆ 28458_long_window_len ┆ 28450_ST_long_mean ┆ positive_count │\n",
      "│ ---    ┆ ---                    ┆ ---             ┆ ---            ┆   ┆ m_mean                ┆ _mean                 ┆ ---                ┆ ---            │\n",
      "│ str    ┆ str                    ┆ i64             ┆ i64            ┆   ┆ ---                   ┆ ---                   ┆ i64                ┆ i64            │\n",
      "│        ┆                        ┆                 ┆                ┆   ┆ i64                   ┆ i64                   ┆                    ┆                │\n",
      "╞════════╪════════════════════════╪═════════════════╪════════════════╪═══╪═══════════════════════╪═══════════════════════╪════════════════════╪════════════════╡\n",
      "│ ALG10B ┆ ALG10_alpha-1_2-glucos ┆ 0               ┆ 1              ┆ … ┆ 0                     ┆ 0                     ┆ 0                  ┆ 2              │\n",
      "│        ┆ yltransfer…            ┆                 ┆                ┆   ┆                       ┆                       ┆                    ┆                │\n",
      "│ ARL17B ┆ ADP_ribosylation_facto ┆ 1               ┆ 0              ┆ … ┆ 0                     ┆ 0                     ┆ 0                  ┆ 2              │\n",
      "│        ┆ r_like_GTP…            ┆                 ┆                ┆   ┆                       ┆                       ┆                    ┆                │\n",
      "│ BTBD9  ┆ BTB_domain_containing_ ┆ 1               ┆ 0              ┆ … ┆ 0                     ┆ 0                     ┆ 1                  ┆ 3              │\n",
      "│        ┆ 9                      ┆                 ┆                ┆   ┆                       ┆                       ┆                    ┆                │\n",
      "│ CRHR1  ┆ corticotropin_releasin ┆ 1               ┆ 0              ┆ … ┆ 0                     ┆ 0                     ┆ 0                  ┆ 2              │\n",
      "│        ┆ g_hormone_…            ┆                 ┆                ┆   ┆                       ┆                       ┆                    ┆                │\n",
      "│ …      ┆ …                      ┆ …               ┆ …              ┆ … ┆ …                     ┆ …                     ┆ …                  ┆ …              │\n",
      "│ PROZ   ┆ protein_Z_vitamin_K_de ┆ 0               ┆ 0              ┆ … ┆ 0                     ┆ 0                     ┆ 1                  ┆ 2              │\n",
      "│        ┆ pendent_pl…            ┆                 ┆                ┆   ┆                       ┆                       ┆                    ┆                │\n",
      "│ RGS16  ┆ regulator_of_G_protein ┆ 0               ┆ 1              ┆ … ┆ 0                     ┆ 0                     ┆ 0                  ┆ 2              │\n",
      "│        ┆ _signaling…            ┆                 ┆                ┆   ┆                       ┆                       ┆                    ┆                │\n",
      "│ SGCZ   ┆ sarcoglycan_zeta       ┆ 0               ┆ 0              ┆ … ┆ 0                     ┆ 0                     ┆ 1                  ┆ 2              │\n",
      "│ STH    ┆ saitohin               ┆ 1               ┆ 0              ┆ … ┆ 0                     ┆ 0                     ┆ 0                  ┆ 2              │\n",
      "└────────┴────────────────────────┴─────────────────┴────────────────┴───┴───────────────────────┴───────────────────────┴────────────────────┴────────────────┘>\n"
     ]
    }
   ],
   "source": [
    "# Extract non-empty sets\n",
    "list_sets_positive_genes = [[l[0], l[2]] for l in list_sets_genes if l[2] != set()]\n",
    "list_sets_positive_genes = [[l[0].replace(\"\\magma\\with_p_correction.csv\", \"\"), l[1]] \n",
    "                            for l in list_sets_positive_genes]\n",
    "list_sets_positive_genes = [[re.sub(\".*\\\\\\\\\", \"\", l[0]), l[1]] for l in list_sets_positive_genes]\n",
    "\n",
    "# Concatenate all to one table\n",
    "for i, l in enumerate(list_sets_positive_genes):\n",
    "    print(l)\n",
    "    df = pl.DataFrame({\n",
    "        \"Gene\": list(l[1]),\n",
    "        l[0]: pl.Series([1] * len(l[1]))\n",
    "    })\n",
    "    if i == 0:\n",
    "        df_positive_genes = df.clone()\n",
    "    else:\n",
    "        df_positive_genes = df_positive_genes.join(df, on=\"Gene\", how=\"outer\")\n",
    "\n",
    "        \n",
    "print()\n",
    "\n",
    "\n",
    "df_positive_genes = (df_positive_genes\n",
    "                     .fill_null(0)\n",
    "                     .sort(by=\"Gene\")\n",
    "                     .with_columns(\n",
    "                         pl.fold(0, lambda acc, s: acc + s, pl.all().exclude(\"Gene\"))\n",
    "                         .alias(\"positive_count\")\n",
    "                     )\n",
    "                    )\n",
    "\n",
    "# Join to alias list\n",
    "df_positive_genes = df_alias.join(df_positive_genes, on=\"Gene\", how=\"inner\")\n",
    "print(df_positive_genes.head)\n",
    "FILE_OUT = os.path.join(DIR_OUT, \"positive_genes.csv\")\n",
    "df_positive_genes.write_csv(FILE_OUT)\n",
    "\n",
    "print(\"Positive in more than one GWAS:\")\n",
    "df_positive_double = df_positive_genes.filter(pl.col(\"positive_count\") > 1)\n",
    "print(df_positive_double.head)\n",
    "FILE_OUT = os.path.join(DIR_OUT, \"positive_double.csv\")\n",
    "df_positive_double.write_csv(FILE_OUT)"
   ]
  },
  {
   "cell_type": "code",
   "execution_count": null,
   "id": "1a74328a",
   "metadata": {},
   "outputs": [],
   "source": []
  }
 ],
 "metadata": {
  "kernelspec": {
   "display_name": "Python 3 (ipykernel)",
   "language": "python",
   "name": "python3"
  },
  "language_info": {
   "codemirror_mode": {
    "name": "ipython",
    "version": 3
   },
   "file_extension": ".py",
   "mimetype": "text/x-python",
   "name": "python",
   "nbconvert_exporter": "python",
   "pygments_lexer": "ipython3",
   "version": "3.9.16"
  },
  "toc": {
   "base_numbering": 1,
   "nav_menu": {},
   "number_sections": true,
   "sideBar": true,
   "skip_h1_title": false,
   "title_cell": "Table of Contents",
   "title_sidebar": "Contents",
   "toc_cell": false,
   "toc_position": {
    "height": "calc(100% - 180px)",
    "left": "10px",
    "top": "150px",
    "width": "210.125px"
   },
   "toc_section_display": true,
   "toc_window_display": true
  },
  "varInspector": {
   "cols": {
    "lenName": 16,
    "lenType": 16,
    "lenVar": 40
   },
   "kernels_config": {
    "python": {
     "delete_cmd_postfix": "",
     "delete_cmd_prefix": "del ",
     "library": "var_list.py",
     "varRefreshCmd": "print(var_dic_list())"
    },
    "r": {
     "delete_cmd_postfix": ") ",
     "delete_cmd_prefix": "rm(",
     "library": "var_list.r",
     "varRefreshCmd": "cat(var_dic_list()) "
    }
   },
   "types_to_exclude": [
    "module",
    "function",
    "builtin_function_or_method",
    "instance",
    "_Feature"
   ],
   "window_display": false
  }
 },
 "nbformat": 4,
 "nbformat_minor": 5
}
