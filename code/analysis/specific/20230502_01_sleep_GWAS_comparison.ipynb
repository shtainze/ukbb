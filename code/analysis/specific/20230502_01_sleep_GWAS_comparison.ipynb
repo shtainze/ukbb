{
 "cells": [
  {
   "cell_type": "markdown",
   "id": "ab99449f",
   "metadata": {},
   "source": [
    "**Input**\n",
    "- PLINK2 GWAS summary statistics\n",
    "- MAGMA gene analysis results\n",
    "\n",
    "**Source**\n",
    "- From Pan-UKBB summary statistics\n",
    "- From my own GWAS\n",
    "Both are based on the same data, and therefore must yield the same result\n",
    "\n",
    "**Phenotype**  \n",
    "1180 Morning/evening person (chronotype)\n",
    "\n",
    "**Population**\n",
    "- Pan-UKBB: EUR (European)\n",
    "- My own GWAS: White-British\n",
    "\n",
    "**Process: calculate the following**\n",
    "- PLINK2\n",
    "  - Scatter plot of SNP-wise comparison (between Pan-UKBB and my own GWAS)\n",
    "    - All SNPs\n",
    "    - Statistically significant SNPs\n",
    "- MAGMA\n",
    "  - Adding info\n",
    "    - Bonferroni-corrected P-values (also written P-Bonf)\n",
    "    - q-values (also known as FDR-adjusted p-values)\n",
    "    - Annotation of whether those values are under FDR threshold\n",
    "  - Scatter plot of SNP-wise comparison (between Pan-UKBB and my own GWAS)\n",
    "    - All SNPs\n",
    "    - Statistically significant SNPs"
   ]
  },
  {
   "cell_type": "markdown",
   "id": "6d495afd",
   "metadata": {},
   "source": [
    "# Preparation (Execute all in this section!)"
   ]
  },
  {
   "cell_type": "markdown",
   "id": "73867402",
   "metadata": {},
   "source": [
    "## Import libraries & set environment variables"
   ]
  },
  {
   "cell_type": "code",
   "execution_count": 1,
   "id": "bde0e43d",
   "metadata": {},
   "outputs": [
    {
     "name": "stdout",
     "output_type": "stream",
     "text": [
      "Current directory (check that it's your home directory): J:\\sugai\\UKBiobank\n"
     ]
    }
   ],
   "source": [
    "import collections\n",
    "from datetime import datetime\n",
    "import os\n",
    "import numpy as np\n",
    "from pathlib import Path\n",
    "import polars as pl\n",
    "import re\n",
    "import textwrap\n",
    "\n",
    "import warnings\n",
    "# suppress DeprecationWarning messages\n",
    "warnings.filterwarnings(\"ignore\", category=DeprecationWarning)\n",
    "\n",
    "from matplotlib import pyplot as plt\n",
    "from matplotlib_venn import venn2\n",
    "from matplotlib_venn import venn3\n",
    "\n",
    "dir_home = Path(os.getcwd()).parent.parent.parent\n",
    "os.chdir(dir_home)\n",
    "print(\"Current directory (check that it's your home directory):\", os.getcwd())"
   ]
  },
  {
   "cell_type": "markdown",
   "id": "ae12e1b1",
   "metadata": {},
   "source": [
    "## File I/O"
   ]
  },
  {
   "cell_type": "code",
   "execution_count": 24,
   "id": "297f5743",
   "metadata": {},
   "outputs": [],
   "source": [
    "# Input: MAGMA result from Pan-UKBB\n",
    "FILE_SOURCE_PANUKBB = os.path.join(\"analysis\", \n",
    "                                   \"panukbb_magma\",\n",
    "                                   \"continuous-1180-both_sexes\",\n",
    "                                   \"out.with_gene_name.txt\")\n",
    "\n",
    "# Input: MAGMA result from my own GWAS\n",
    "# 1: based on raw P-values in GWAS\n",
    "FILE_SOURCE_MYGWAS_1 = os.path.join(\"analysis\", \n",
    "                                  \"specific\",\n",
    "                                  \"analysis_20230428_01_gwas_chronotype\",\n",
    "                                  \"magma\",\n",
    "                                  \"out.with_gene_name.txt\")\n",
    "# 2: based on Bonferroni-corrected P-values in GWAS\n",
    "FILE_SOURCE_MYGWAS_2 = os.path.join(\"analysis\", \n",
    "                                  \"specific\",\n",
    "                                  \"analysis_20230501_01_gwas_chronotype\",\n",
    "                                  \"magma\",\n",
    "                                  \"out.with_gene_name.txt\")\n",
    "\n",
    "# Input: PLINK result from my own GWAS\n",
    "FILE_SUMSTAT_MYGWAS_1 = os.path.join(\"analysis\", \n",
    "                                  \"specific\",\n",
    "                                  \"analysis_20230428_01_gwas_chronotype\",\n",
    "                                  \"pval_for_magma.txt\")\n",
    "\n",
    "# Input: Pan-UKBB summary statistics\n",
    "FILE_SUMSTAT_PANUKBB = os.path.join(\"data\", \n",
    "                                    \"panukbb\",\n",
    "                                    \"for_magma\",\n",
    "                                    \"per_phenotype\",\n",
    "                                    \"continuous-1180-both_sexes.tsv\"\n",
    "                                   )\n",
    "\n",
    "\n",
    "# Output folder\n",
    "DIR_OUT = os.path.join(\"analysis\", \"specific\", \"analysis_20230502_01_sleep_GWAS_comparison\")\n",
    "if not os.path.exists(DIR_OUT):\n",
    "    os.makedirs(DIR_OUT)\n",
    "\n",
    "# Intermediate output: added info\n",
    "#     (q-values and statistically significant genes)\n",
    "FILE_ANNOTATED_PANUKBB = os.path.join(DIR_OUT, \"out.with_p_correction_PanUKBB.csv\")\n",
    "FILE_ANNOTATED_MYGWAS_1 = os.path.join(DIR_OUT, \"out.with_p_correction_myGWAS_1.csv\")\n",
    "FILE_ANNOTATED_MYGWAS_2 = os.path.join(DIR_OUT, \"out.with_p_correction_myGWAS_2.csv\")\n",
    "\n",
    "FDR_THRESHOLD = 0.05 # Q value threshold"
   ]
  },
  {
   "cell_type": "markdown",
   "id": "57a78ac5",
   "metadata": {},
   "source": [
    "## Functions"
   ]
  },
  {
   "cell_type": "code",
   "execution_count": 3,
   "id": "d50d7876",
   "metadata": {
    "scrolled": true
   },
   "outputs": [],
   "source": [
    "def flatten(l):\n",
    "    for el in l:\n",
    "        if isinstance(el, collections.abc.Iterable) and not isinstance(el, (str, bytes)):\n",
    "            yield from flatten(el)\n",
    "        else:\n",
    "            yield el\n",
    "\n",
    "\n",
    "def func_print(i):\n",
    "    if i < 10 or str(i)[1:].count('0') == len(str(i))-1:\n",
    "        now = datetime.now()\n",
    "        print(f\"{now.strftime('%Y-%m-%d %H:%M:%S')}: {i}\")\n",
    "        \n",
    "\n",
    "def func_process(FILE_SOURCE, FILE_OUTPUT):\n",
    "    # Read as String to avoid any automatic conversion\n",
    "    df = (pl.read_csv(FILE_SOURCE, \n",
    "                      separator=\" \", \n",
    "                      infer_schema_length=0)\n",
    "          .with_columns(pl.col(\"P\").cast(pl.Float32).alias(\"P_Bonf\"))\n",
    "          .with_columns(pl.col(\"P\").cast(pl.Float32).alias(\"P_log10\"))\n",
    "          .with_columns(pl.col(\"P\").cast(pl.Float32).alias(\"Q\"))\n",
    "          .with_columns(np.log10(pl.col(\"P_log10\")))\n",
    "          .sort(by='Q'))\n",
    "\n",
    "    n_count = df['Q'].is_not_null().sum()\n",
    "\n",
    "    df = (df\n",
    "          # Calculate Bonferroni-corrected P values\n",
    "          .with_columns(pl.col('P_Bonf') * n_count)\n",
    "           # create a new column which is true if \"P_Bonf\" is under threshold\n",
    "          .with_columns((pl.col(\"P_Bonf\") < FDR_THRESHOLD).alias(\"Positive_P_Bonf\"))\n",
    "          # Calculate Q values\n",
    "          # Multiply Q column by number of non-null values\n",
    "          .with_columns(pl.col('Q') * n_count)\n",
    "          # # Divide the Q columns by the rank of individual value among all the non-null values\n",
    "          .with_columns(pl.col('Q') / df['Q'].rank())\n",
    "          # create a new column which is true if \"q\" is under threshold\n",
    "          .with_columns((pl.col(\"Q\") < FDR_THRESHOLD).alias(\"Positive_Q\"))\n",
    "          # Add log10 values\n",
    "          .with_columns(pl.col(\"P_Bonf\").alias(\"P_Bonf_log10\"))\n",
    "          .with_columns(np.log10(pl.col(\"P_Bonf_log10\")))\n",
    "          .with_columns(pl.col(\"Q\").alias(\"Q_log10\"))\n",
    "          .with_columns(np.log10(pl.col(\"Q_log10\")))\n",
    "          # Sort\n",
    "          .sort(by='Positive_P_Bonf', descending=True)\n",
    "         )\n",
    "\n",
    "    df.write_csv(FILE_OUTPUT)\n",
    "    \n",
    "def func_list_genes(file_source):\n",
    "    df_all = pl.read_csv(file_source, separator=\",\")\n",
    "    df_positive = df_all.filter(pl.col(\"Positive_P_Bonf\"))\n",
    "    set_genes_all = set(df_all[\"NAME\"])\n",
    "    set_genes_positive = set(df_positive[\"NAME\"])\n",
    "    print(\"All =\", len(set_genes_all), \"genes, positive =\", len(set_genes_positive), \"genes\")\n",
    "    return set_genes_all, set_genes_positive"
   ]
  },
  {
   "cell_type": "markdown",
   "id": "d4d786ec",
   "metadata": {},
   "source": [
    "# Process summary statistics"
   ]
  },
  {
   "cell_type": "code",
   "execution_count": 29,
   "id": "c127a30e",
   "metadata": {},
   "outputs": [],
   "source": [
    "df_sumstat_mygwas = (pl.read_csv(FILE_SUMSTAT_MYGWAS_1, \n",
    "                                 separator=\" \", \n",
    "                                 infer_schema_length=0)\n",
    "                     .with_columns(pl.col(\"P\").cast(pl.Float64))\n",
    "                     .rename({\"P\": \"P_MyGWAS\"})\n",
    "     )\n",
    "\n",
    "df_sumstat_panukbb = (pl.read_csv(FILE_SUMSTAT_PANUKBB, \n",
    "                                  separator=\" \", \n",
    "                                  infer_schema_length=0)\n",
    "                      .with_columns(pl.col(\"P\").cast(pl.Float64))\n",
    "                      .rename({\"P\": \"P_PanUKBB\"})\n",
    "     )\n",
    "\n",
    "df_sumstat_comparison = df_sumstat_mygwas.join(df_sumstat_panukbb, \n",
    "                                               on=\"SNP\", how=\"inner\")"
   ]
  },
  {
   "cell_type": "code",
   "execution_count": 91,
   "id": "599a8081",
   "metadata": {},
   "outputs": [
    {
     "name": "stdout",
     "output_type": "stream",
     "text": [
      "9437885\n",
      "shape: (5, 2)\n",
      "┌──────────────────────┬────────────┐\n",
      "│ SNP                  ┆ P_MyGWAS   │\n",
      "│ ---                  ┆ ---        │\n",
      "│ str                  ┆ f64        │\n",
      "╞══════════════════════╪════════════╡\n",
      "│ 1:182573227[b37]T,C  ┆ 3.4122e-17 │\n",
      "│ 1:182569626[b37]T,C  ┆ 4.0844e-17 │\n",
      "│ 1:182553693[b37]C,T  ┆ 5.3722e-17 │\n",
      "│ 1:182558139[b37]G,T  ┆ 5.5576e-17 │\n",
      "│ 1:182548483[b37]GC,G ┆ 5.6884e-17 │\n",
      "└──────────────────────┴────────────┘\n",
      "\n",
      "28987534\n",
      "shape: (5, 2)\n",
      "┌─────────────────┬───────────┐\n",
      "│ SNP             ┆ P_PanUKBB │\n",
      "│ ---             ┆ ---       │\n",
      "│ str             ┆ f64       │\n",
      "╞═════════════════╪═══════════╡\n",
      "│ 1:11063[b37]T,G ┆ 0.459304  │\n",
      "│ 1:13259[b37]G,A ┆ 0.0261216 │\n",
      "│ 1:17641[b37]G,A ┆ 0.950036  │\n",
      "│ 1:30741[b37]C,A ┆ 1.0       │\n",
      "│ 1:51427[b37]T,G ┆ 1.0       │\n",
      "└─────────────────┴───────────┘\n",
      "\n",
      "9275437\n",
      "shape: (5, 3)\n",
      "┌──────────────────┬──────────┬───────────┐\n",
      "│ SNP              ┆ P_MyGWAS ┆ P_PanUKBB │\n",
      "│ ---              ┆ ---      ┆ ---       │\n",
      "│ str              ┆ f64      ┆ f64       │\n",
      "╞══════════════════╪══════════╪═══════════╡\n",
      "│ 1:693731[b37]A,G ┆ 0.703656 ┆ 0.710232  │\n",
      "│ 1:714596[b37]T,C ┆ 0.551498 ┆ 0.654485  │\n",
      "│ 1:715265[b37]C,T ┆ 0.683672 ┆ 0.585868  │\n",
      "│ 1:715367[b37]A,G ┆ 0.662996 ┆ 0.632995  │\n",
      "│ 1:717485[b37]C,A ┆ 0.645716 ┆ 0.569246  │\n",
      "└──────────────────┴──────────┴───────────┘\n"
     ]
    }
   ],
   "source": [
    "print(df_sumstat_mygwas.shape[0])\n",
    "print(df_sumstat_mygwas.head())\n",
    "print()\n",
    "\n",
    "print(df_sumstat_panukbb.shape[0])\n",
    "print(df_sumstat_panukbb.head())\n",
    "print()\n",
    "\n",
    "print(df_sumstat_comparison.shape[0])\n",
    "print(df_sumstat_comparison.head())"
   ]
  },
  {
   "cell_type": "markdown",
   "id": "a6380d97",
   "metadata": {},
   "source": [
    "## Compare P-values"
   ]
  },
  {
   "cell_type": "code",
   "execution_count": 101,
   "id": "3d50eaaf",
   "metadata": {
    "code_folding": []
   },
   "outputs": [
    {
     "name": "stdout",
     "output_type": "stream",
     "text": [
      "Corr = 0.5567517273136411\n"
     ]
    },
    {
     "data": {
      "image/png": "[encoded data removed]",
      "text/plain": [
       "<Figure size 360x360 with 1 Axes>"
      ]
     },
     "metadata": {
      "needs_background": "light"
     },
     "output_type": "display_data"
    },
    {
     "data": {
      "image/png": "[encoded data removed]",
      "text/plain": [
       "<Figure size 360x360 with 1 Axes>"
      ]
     },
     "metadata": {
      "needs_background": "light"
     },
     "output_type": "display_data"
    }
   ],
   "source": [
    "# Scatter plot\n",
    "fig, ax = plt.subplots(figsize=[5, 5])\n",
    "x = df_sumstat_comparison[\"P_MyGWAS\"].to_numpy()\n",
    "y = df_sumstat_comparison[\"P_PanUKBB\"].to_numpy()\n",
    "x = np.log10(x)\n",
    "y = np.log10(y)\n",
    "\n",
    "print(\"Corr =\", np.corrcoef(x, y)[0, 1])\n",
    "\n",
    "ax.scatter(x, y, s=2)\n",
    "line1, = ax.plot(np.linspace(-30, 0, 10), np.linspace(-30, 0, 10),\n",
    "                linestyle=\"dashed\", color = \"crimson\", alpha = 0.5,)\n",
    "\n",
    "ax.set_xlim(-30, 0)\n",
    "ax.set_ylim(-30, 0)\n",
    "ax.set_xticks([-30, -20, -10, 0]) \n",
    "ax.set_yticks([-30, -20, -10, 0]) \n",
    "\n",
    "ax.set_xlabel(\"PanUKBB\", fontsize=20)\n",
    "ax.set_ylabel(\"my GWAS\", fontsize=20)\n",
    "ax.set_title(\"Log10(SNP-based P-value)\", fontsize=24)\n",
    "plt.show()\n",
    "\n",
    "fig, ax = plt.subplots(figsize=[5, 5])\n",
    "ax.set_xlabel(\"Log10(SNP-based P-value)\", fontsize=22)\n",
    "ax.set_ylabel(\"Count\", fontsize=24)\n",
    "ax.set_yscale('log')\n",
    "ax.hist(y,\n",
    "        alpha=0.5, label=\"PanUKBB\", density=False, bins=100, color=\"green\")\n",
    "ax.hist(x,\n",
    "        alpha=1, label=\"My GWAS\", density=False, bins=100, color='#f48d63')\n",
    "ax.legend(fontsize=20)\n",
    "\n",
    "plt.show()"
   ]
  },
  {
   "cell_type": "markdown",
   "id": "0897e8f2",
   "metadata": {},
   "source": [
    "# Process MAGMA results"
   ]
  },
  {
   "cell_type": "markdown",
   "id": "c044ebb3",
   "metadata": {},
   "source": [
    "## Add Pbonf, q-values, posi/nega annotation"
   ]
  },
  {
   "cell_type": "code",
   "execution_count": 42,
   "id": "6fa3a836",
   "metadata": {
    "scrolled": true
   },
   "outputs": [
    {
     "name": "stderr",
     "output_type": "stream",
     "text": [
      "G:\\linux\\conda\\envs\\py3-202304\\lib\\site-packages\\polars\\series\\series.py:981: RuntimeWarning: divide by zero encountered in log10\n",
      "  series = f(lambda out: ufunc(*args, out=out, dtype=dtype_char, **kwargs))\n"
     ]
    }
   ],
   "source": [
    "func_process(FILE_SOURCE_MYGWAS_1, FILE_ANNOTATED_MYGWAS_1)\n",
    "func_process(FILE_SOURCE_MYGWAS_2, FILE_ANNOTATED_MYGWAS_2)\n",
    "func_process(FILE_SOURCE_PANUKBB, FILE_ANNOTATED_PANUKBB)"
   ]
  },
  {
   "cell_type": "markdown",
   "id": "672bb84b",
   "metadata": {},
   "source": [
    "## List up the genes"
   ]
  },
  {
   "cell_type": "code",
   "execution_count": 43,
   "id": "b2bbf82d",
   "metadata": {
    "scrolled": true
   },
   "outputs": [
    {
     "name": "stdout",
     "output_type": "stream",
     "text": [
      "My GWAS - raw P-values\n",
      "All = 19427 genes, positive = 37 genes\n",
      "\n",
      "My GWAS - Bonferroni-corrected P-values\n",
      "All = 19427 genes, positive = 2 genes\n",
      "\n",
      "Pan-UKBB\n",
      "All = 19427 genes, positive = 270 genes\n"
     ]
    }
   ],
   "source": [
    "print(\"My GWAS - raw P-values\")\n",
    "set_genes_all_mygwas_1, set_genes_positive_mygwas_1 = \\\n",
    "func_list_genes(FILE_ANNOTATED_MYGWAS_1)\n",
    "print()\n",
    "\n",
    "print(\"My GWAS - Bonferroni-corrected P-values\")\n",
    "set_genes_all_mygwas_2, set_genes_positive_mygwas_2 = \\\n",
    "func_list_genes(FILE_ANNOTATED_MYGWAS_2)\n",
    "print()\n",
    "\n",
    "print(\"Pan-UKBB\")\n",
    "set_genes_all_panukbb, set_genes_positive_panukbb = \\\n",
    "func_list_genes(FILE_ANNOTATED_PANUKBB)"
   ]
  },
  {
   "cell_type": "markdown",
   "id": "f49a654a",
   "metadata": {},
   "source": [
    "## Draw Venn diagrams"
   ]
  },
  {
   "cell_type": "code",
   "execution_count": 54,
   "id": "fb150f42",
   "metadata": {},
   "outputs": [
    {
     "data": {
      "image/png": "[encoded data removed]",
      "text/plain": [
       "<Figure size 252x252 with 1 Axes>"
      ]
     },
     "metadata": {},
     "output_type": "display_data"
    }
   ],
   "source": [
    "# Draw Venn diagrams - 2 sets\n",
    "def func_venn2(set_genes_1, set_genes_2, list_names):\n",
    "    plt.rcParams[\"figure.figsize\"] = [3.5, 3.5]\n",
    "    plt.rcParams[\"figure.autolayout\"] = True\n",
    "\n",
    "    out = venn2(\n",
    "        [set_genes_1, set_genes_2], \n",
    "          list_names\n",
    "               )\n",
    "    \n",
    "    for text in out.set_labels:\n",
    "        text.set_fontsize(14)\n",
    "    try: # Sometimes it fails because no intersect exists\n",
    "        for text in out.subset_labels:\n",
    "            text.set_fontsize(12)\n",
    "    except:\n",
    "        pass\n",
    "    plt.show()\n",
    "\n",
    "func_venn2(set_genes_positive_mygwas_1, set_genes_positive_panukbb, [\"My GWAS\", \"Pan-UKBB\"])"
   ]
  },
  {
   "cell_type": "markdown",
   "id": "eaa1c76b",
   "metadata": {},
   "source": [
    "## Compare P-values"
   ]
  },
  {
   "cell_type": "code",
   "execution_count": 45,
   "id": "d0d00954",
   "metadata": {},
   "outputs": [],
   "source": [
    "df_genebased_mygwas = pl.read_csv(FILE_ANNOTATED_MYGWAS_1, separator=\",\")\n",
    "df_genebased_panukbb = pl.read_csv(FILE_ANNOTATED_PANUKBB, separator=\",\")\n",
    "\n",
    "# Extract columns \"NAME\" and \"P\" from df_mygwas\n",
    "df_genebased_mygwas = df_genebased_mygwas.select([\"NAME\", \"P_log10\"]).rename({\"P_log10\": \"Log10P_mygwas\"})\n",
    "\n",
    "# Extract columns \"NAME\" and \"P\" from df_panukbb\n",
    "df_genebased_panukbb = df_genebased_panukbb.select([\"NAME\", \"P_log10\"]).rename({\"P_log10\": \"Log10P_panukbb\"})\n",
    "\n",
    "# Merge the two DataFrames based on \"NAME\" column\n",
    "df_merged = df_genebased_mygwas.join(df_genebased_panukbb, on=\"NAME\", how=\"inner\").drop_nulls()"
   ]
  },
  {
   "cell_type": "code",
   "execution_count": 100,
   "id": "ce6339fa",
   "metadata": {
    "code_folding": []
   },
   "outputs": [
    {
     "name": "stdout",
     "output_type": "stream",
     "text": [
      "Corr = 0.5970679302923951\n"
     ]
    },
    {
     "data": {
      "image/png": "[encoded data removed]",
      "text/plain": [
       "<Figure size 360x360 with 1 Axes>"
      ]
     },
     "metadata": {
      "needs_background": "light"
     },
     "output_type": "display_data"
    },
    {
     "data": {
      "image/png": "[encoded data removed]",
      "text/plain": [
       "<Figure size 360x360 with 1 Axes>"
      ]
     },
     "metadata": {
      "needs_background": "light"
     },
     "output_type": "display_data"
    }
   ],
   "source": [
    "x = df_merged[\"Log10P_panukbb\"].to_numpy()\n",
    "y = df_merged[\"Log10P_mygwas\"].to_numpy()\n",
    "\n",
    "print(\"Corr =\", np.corrcoef(x, y)[0, 1])\n",
    "\n",
    "# Create scatter plot\n",
    "fig, ax = plt.subplots(figsize=[5, 5])\n",
    "ax.scatter(x, y, s=2)\n",
    "line1, = ax.plot(np.linspace(-15, 0, 10), np.linspace(-15, 0, 10),\n",
    "                linestyle=\"dashed\", color = \"crimson\", alpha = 0.5,)\n",
    "\n",
    "ax.set_xlim(-15, 0)\n",
    "ax.set_ylim(-15, 0)\n",
    "ax.set_xticks([-15, -10, -5, 0]) \n",
    "ax.set_yticks([-15, -10, -5, 0]) \n",
    "\n",
    "ax.set_xlabel(\"PanUKBB\", fontsize=20)\n",
    "ax.set_ylabel(\"my GWAS\", fontsize=20)\n",
    "ax.set_title(\"Log10(gene-based P-value)\", fontsize=24)\n",
    "plt.show()\n",
    "\n",
    "fig, ax = plt.subplots(figsize=[5, 5])\n",
    "ax.set_xlabel(\"Log10(gene-based P-value)\", fontsize=21)\n",
    "ax.set_ylabel(\"Count\", fontsize=24)\n",
    "ax.set_yscale('log')\n",
    "ax.hist(x,\n",
    "        alpha=1, label=\"My GWAS\", density=False, bins=100, color='#f48d63')\n",
    "ax.hist(y,\n",
    "        alpha=1, label=\"PanUKBB\", density=False, bins=100, color=\"lightgreen\")\n",
    "ax.legend(fontsize=20)\n",
    "\n",
    "plt.show()"
   ]
  },
  {
   "cell_type": "code",
   "execution_count": 99,
   "id": "39c0644f",
   "metadata": {},
   "outputs": [
    {
     "data": {
      "text/plain": [
       "0.5970679302923951"
      ]
     },
     "execution_count": 99,
     "metadata": {},
     "output_type": "execute_result"
    }
   ],
   "source": [
    "x = df_merged[\"Log10P_panukbb\"].to_numpy()\n",
    "y = df_merged[\"Log10P_mygwas\"].to_numpy()\n",
    "np.corrcoef(x, y)[0, 1]"
   ]
  },
  {
   "cell_type": "code",
   "execution_count": null,
   "id": "54e8dc73",
   "metadata": {},
   "outputs": [],
   "source": []
  }
 ],
 "metadata": {
  "kernelspec": {
   "display_name": "Python 3 (ipykernel)",
   "language": "python",
   "name": "python3"
  },
  "language_info": {
   "codemirror_mode": {
    "name": "ipython",
    "version": 3
   },
   "file_extension": ".py",
   "mimetype": "text/x-python",
   "name": "python",
   "nbconvert_exporter": "python",
   "pygments_lexer": "ipython3",
   "version": "3.9.16"
  },
  "toc": {
   "base_numbering": 1,
   "nav_menu": {},
   "number_sections": true,
   "sideBar": true,
   "skip_h1_title": false,
   "title_cell": "Table of Contents",
   "title_sidebar": "Contents",
   "toc_cell": false,
   "toc_position": {
    "height": "calc(100% - 180px)",
    "left": "10px",
    "top": "150px",
    "width": "210.125px"
   },
   "toc_section_display": true,
   "toc_window_display": true
  },
  "varInspector": {
   "cols": {
    "lenName": 16,
    "lenType": 16,
    "lenVar": 40
   },
   "kernels_config": {
    "python": {
     "delete_cmd_postfix": "",
     "delete_cmd_prefix": "del ",
     "library": "var_list.py",
     "varRefreshCmd": "print(var_dic_list())"
    },
    "r": {
     "delete_cmd_postfix": ") ",
     "delete_cmd_prefix": "rm(",
     "library": "var_list.r",
     "varRefreshCmd": "cat(var_dic_list()) "
    }
   },
   "types_to_exclude": [
    "module",
    "function",
    "builtin_function_or_method",
    "instance",
    "_Feature"
   ],
   "window_display": false
  }
 },
 "nbformat": 4,
 "nbformat_minor": 5
}
