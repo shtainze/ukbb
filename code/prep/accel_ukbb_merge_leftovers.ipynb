{
 "cells": [
  {
   "cell_type": "markdown",
   "id": "ab99449f",
   "metadata": {},
   "source": [
    "**Input:** \n",
    "- ACCEL-UKBB IDs\n",
    "\n",
    "**Process:**\n",
    " - Attempt merging the leftover entries\n",
    "\n",
    "**Output:**\n",
    " - Newly paired IDs"
   ]
  },
  {
   "cell_type": "markdown",
   "id": "6d495afd",
   "metadata": {},
   "source": [
    "# Preparation (Execute all in this section!)"
   ]
  },
  {
   "cell_type": "markdown",
   "id": "73867402",
   "metadata": {},
   "source": [
    "## Import libraries & set environment variables"
   ]
  },
  {
   "cell_type": "code",
   "execution_count": 1,
   "id": "bde0e43d",
   "metadata": {},
   "outputs": [
    {
     "name": "stdout",
     "output_type": "stream",
     "text": [
      "Current directory (check that it's your home directory): J:\\sugai\\UKBiobank\n"
     ]
    }
   ],
   "source": [
    "import collections\n",
    "import csv\n",
    "from datetime import datetime\n",
    "import os\n",
    "import numpy as np\n",
    "from pathlib import Path\n",
    "import polars as pl\n",
    "import re\n",
    "\n",
    "# Draw flowcharts using Mermaid\n",
    "import base64\n",
    "from IPython.display import Image, display\n",
    "\n",
    "def mm(graph):\n",
    "  graphbytes = graph.encode(\"ascii\")\n",
    "  base64_bytes = base64.b64encode(graphbytes)\n",
    "  base64_string = base64_bytes.decode(\"ascii\")\n",
    "  display(Image(url=\"https://mermaid.ink/img/\" + base64_string))\n",
    "\n",
    "dir_home = Path(os.getcwd()).parent.parent\n",
    "os.chdir(dir_home)\n",
    "print(\"Current directory (check that it's your home directory):\", os.getcwd())"
   ]
  },
  {
   "cell_type": "code",
   "execution_count": 4,
   "id": "7873ba04",
   "metadata": {},
   "outputs": [
    {
     "data": {
      "text/html": [
       "<img src=\"https://mermaid.ink/img/CmdyYXBoIExSOwogICAgY2xhc3NEZWYgc291cmNlZGF0YSBmaWxsOiNGRkZGRkYKICAgIGNsYXNzRGVmIGZpbmFsIGZpbGw6I0JCQkJCQgogICAgCiAgICBOZXdbTmV3IGRhdGFzZXQ6IDY3MTAwNl0gLS0+IFBhaXJbSUQgcGFpcnNdOwogICAgT2xkW09sZCBkYXRhc2V0OiAzNDEzNF0gLS0+IFBhaXIKICAgIE5ldyAtLT4gTGVmdDFbTGVmdG92ZXIgSURzXQogICAgT2xkIC0tPiBMZWZ0MltMZWZ0b3ZlciBJRHNdCiAgICBMZWZ0MSAtLT4gTWVyZ2VbQXR0ZW1wdCBtZXJnZV0KICAgIExlZnQyIC0tPiBNZXJnZQo=\"/>"
      ],
      "text/plain": [
       "<IPython.core.display.Image object>"
      ]
     },
     "metadata": {},
     "output_type": "display_data"
    }
   ],
   "source": [
    "mm(\"\"\"\n",
    "graph LR;\n",
    "    classDef sourcedata fill:#FFFFFF\n",
    "    classDef final fill:#BBBBBB\n",
    "    \n",
    "    New[New dataset: 671006] --> Pair[ID pairs];\n",
    "    Old[Old dataset: 34134] --> Pair\n",
    "    New --> Left1[Leftover IDs]\n",
    "    Old --> Left2[Leftover IDs]\n",
    "    Left1 --> Merge[Attempt merge]\n",
    "    Left2 --> Merge\n",
    "\"\"\")\n"
   ]
  },
  {
   "cell_type": "code",
   "execution_count": 2,
   "id": "297f5743",
   "metadata": {},
   "outputs": [],
   "source": [
    "# Input\n",
    "DIR_SOURCE = os.path.join(\"data\", \"accel_ukbb\", \"merging\")\n",
    "FILE_OLD = os.path.join(DIR_SOURCE, \"nonpaired_data_old.csv\")\n",
    "FILE_NEW = os.path.join(DIR_SOURCE, \"nonpaired_data_new.csv\")\n",
    "FILE_IDS_ALREADY_PAIRED = os.path.join(DIR_SOURCE, \"pair_ids.csv\")\n",
    "DIR_OUT = DIR_SOURCE\n",
    "\n",
    "if not os.path.exists(DIR_OUT):\n",
    "    os.makedirs(DIR_OUT)"
   ]
  },
  {
   "cell_type": "code",
   "execution_count": 3,
   "id": "e162dcb0",
   "metadata": {},
   "outputs": [],
   "source": [
    "def func_join_subset(df_old, df_new, cols_subset, cols_groupby):\n",
    "    print(df_old.shape[0], \"entries are found in the old dataset\")\n",
    "    print(df_new.shape[0], \"entries are found in the new dataset\")\n",
    "    \n",
    "    cols_subset_old = [\"eid_old\"] + cols_subset\n",
    "    cols_subset_new = [\"eid\"] + cols_subset\n",
    "    \n",
    "    print(len(cols_subset), \"Columns used for join:\", cols_subset)\n",
    "    # Extract the part used for join\n",
    "    # Omit duplicates to prevent wrong join\n",
    "    df_old_for_join = (df_old[cols_subset_old]\n",
    "                        .unique(subset=cols_subset, keep=\"none\"))\n",
    "    df_new_for_join = (df_new[cols_subset_new]\n",
    "                        .unique(subset=cols_subset, keep=\"none\"))\n",
    "\n",
    "    print(df_old_for_join.shape[0], \"entries in the old dataset after omitting duplicates\")\n",
    "    print(df_new_for_join.shape[0], \"entries in the new dataset after omitting duplicates\")\n",
    "    print()\n",
    "\n",
    "    # Join and extract successful matches\n",
    "    df_ids_joined = (df_new_for_join\n",
    "                 .join(df_old_for_join, on=cols_subset, \n",
    "                         how=\"inner\")\n",
    "                 .drop_nulls()[[\"eid\", \"eid_old\"]]\n",
    "                  )\n",
    "    print(df_ids_joined.shape[0], \"entry pairs are successfully joined\")\n",
    "    # Extract leftover IDs from the join\n",
    "    ids_leftover_old = sorted(list(\n",
    "        set(df_old[\"eid_old\"]) - set(df_ids_joined[\"eid_old\"])\n",
    "    ))\n",
    "    ids_leftover_new = sorted(list(\n",
    "        set(df_new[\"eid\"]) - set(df_ids_joined[\"eid\"])\n",
    "    ))\n",
    "    # Extract leftover entries\n",
    "    df_leftover_old = df_old.filter(pl.col(\"eid_old\").is_in(ids_leftover_old))\n",
    "    df_leftover_new = df_new.filter(pl.col(\"eid\").is_in(ids_leftover_new))\n",
    "    print(df_leftover_old.shape[0], \"entries in the old dataset remain unpaired\")\n",
    "    print(df_leftover_new.shape[0], \"entries in the new dataset remain unpaired\")\n",
    "    \n",
    "    # Extract only the entries existing in both datasets\n",
    "    # Concatenate the specified columns into the \"grouped\" colunn\n",
    "    print(\"Omit singletons\")\n",
    "    df_leftover_old_grouped = (df_leftover_old\n",
    "                       .with_columns(\n",
    "                           pl.concat_str(*cols_groupby).alias(\"grouped\")\n",
    "                       )\n",
    "                      )\n",
    "\n",
    "    df_leftover_new_grouped = (df_leftover_new\n",
    "                       .with_columns(\n",
    "                           pl.concat_str(*cols_groupby).alias(\"grouped\")\n",
    "                       )\n",
    "                      )\n",
    "    # Count\n",
    "    df_leftover_old_count = df_leftover_old_grouped.groupby(\"grouped\").agg(pl.count(\"grouped\").alias(\"count\"))\n",
    "    df_leftover_new_count = df_leftover_new_grouped.groupby(\"grouped\").agg(pl.count(\"grouped\").alias(\"count\"))\n",
    "    # Extract the part common to the two datasets\n",
    "    entry_exist_both = df_leftover_old_count.join(df_leftover_new_count, on=\"grouped\", how=\"inner\")[\"grouped\"]\n",
    "    entry_exist_both = list(entry_exist_both)\n",
    "    df_leftover_old = (df_leftover_old_grouped\n",
    "                        .filter(pl.col(\"grouped\").is_in(entry_exist_both))\n",
    "                        .drop(\"grouped\")\n",
    "                       )\n",
    "    df_leftover_new = (df_leftover_new_grouped\n",
    "                        .filter(pl.col(\"grouped\").is_in(entry_exist_both))\n",
    "                        .drop(\"grouped\")\n",
    "                       )\n",
    "    print(df_leftover_old.shape[0], \"entries in the old dataset remain unpaired\")\n",
    "    print(df_leftover_new.shape[0], \"entries in the new dataset remain unpaired\")\n",
    "    df_leftover_all = (pl.concat([df_leftover_old, df_leftover_new]))\n",
    "    return df_ids_joined, df_leftover_old, df_leftover_new, df_leftover_all"
   ]
  },
  {
   "cell_type": "markdown",
   "id": "57a78ac5",
   "metadata": {},
   "source": [
    "# Process"
   ]
  },
  {
   "cell_type": "markdown",
   "id": "35d4bb49",
   "metadata": {},
   "source": [
    "## Read the files and preprocess"
   ]
  },
  {
   "cell_type": "code",
   "execution_count": null,
   "id": "86e9da86",
   "metadata": {},
   "outputs": [],
   "source": [
    "df_old = (pl.read_csv(FILE_OLD, separator=\",\"))\n",
    "df_new = (pl.read_csv(FILE_NEW, separator=\"\\t\",\n",
    "                     infer_schema_length=0))\n",
    "\n",
    "# Extract common columns\n",
    "cols_old = df_old.columns\n",
    "cols_new = df_new.columns\n",
    "print(len(cols_old), \"columns were found in the old dataset\")\n",
    "print(len(cols_new), \"columns were found in the new dataset\")\n",
    "cols_common = sorted(list(\n",
    "    set(cols_old) & set(cols_new)\n",
    "))\n",
    "print(len(cols_common), \"columns were found in both datasets\")\n",
    "df_old = df_old[cols_common]\n",
    "df_new = df_new[cols_common]"
   ]
  },
  {
   "cell_type": "code",
   "execution_count": 37,
   "id": "12f845fe",
   "metadata": {},
   "outputs": [],
   "source": [
    "# Cast to string\n",
    "for col_name in df_old.columns:\n",
    "    df_old = df_old.with_columns(pl.col(col_name).cast(pl.Utf8))\n",
    "\n",
    "# NA -> \"\"\n",
    "for col_name in df_new.columns:\n",
    "    df_new = df_new.with_columns(\n",
    "        pl.col(col_name).str.replace(\"NA\", \"\")\n",
    "    )\n",
    "    \n",
    "# Change and add row\n",
    "df_old = df_old.rename({\"eid\": \"eid_old\"})\n",
    "df_old = df_old.with_columns(pl.lit(None).alias(\"eid\").cast(pl.Utf8))\n",
    "df_new = df_new.with_columns(pl.lit(None).alias(\"eid_old\").cast(pl.Utf8))\n",
    "# Make the orders of columns the same\n",
    "df_new = df_new.select(df_old.columns)\n",
    "\n",
    "# Omit complete duplicates\n",
    "cols_except_id = [x for x in cols_common if not \"eid\" in x]\n",
    "df_old = df_old.unique(subset=cols_except_id, keep=\"none\")\n",
    "df_new = df_new.unique(subset=cols_except_id, keep=\"none\")"
   ]
  },
  {
   "cell_type": "code",
   "execution_count": 172,
   "id": "84098e4e",
   "metadata": {},
   "outputs": [
    {
     "data": {
      "text/html": [
       "<div><style>\n",
       ".dataframe > thead > tr > th,\n",
       ".dataframe > tbody > tr > td {\n",
       "  text-align: right;\n",
       "}\n",
       "</style>\n",
       "<small>shape: (4703, 28)</small><table border=\"1\" class=\"dataframe\"><thead><tr><th>110005-0.0</th><th>110006-0.0</th><th>191-0.0</th><th>21000-0.0</th><th>21000-1.0</th><th>21000-2.0</th><th>21003-0.0</th><th>21003-1.0</th><th>21003-2.0</th><th>31-0.0</th><th>34-0.0</th><th>40000-0.0</th><th>40000-1.0</th><th>52-0.0</th><th>53-0.0</th><th>53-1.0</th><th>53-2.0</th><th>54-0.0</th><th>54-1.0</th><th>54-2.0</th><th>90001-0.0</th><th>90001-1.0</th><th>90001-2.0</th><th>90001-3.0</th><th>90001-4.0</th><th>90004-0.0</th><th>eid_old</th><th>eid</th></tr><tr><td>str</td><td>str</td><td>str</td><td>str</td><td>str</td><td>str</td><td>str</td><td>str</td><td>str</td><td>str</td><td>str</td><td>str</td><td>str</td><td>str</td><td>str</td><td>str</td><td>str</td><td>str</td><td>str</td><td>str</td><td>str</td><td>str</td><td>str</td><td>str</td><td>str</td><td>str</td><td>str</td><td>null</td></tr></thead><tbody><tr><td>&quot;&quot;</td><td>&quot;&quot;</td><td>&quot;&quot;</td><td>&quot;1001&quot;</td><td>&quot;&quot;</td><td>&quot;&quot;</td><td>&quot;69&quot;</td><td>&quot;&quot;</td><td>&quot;&quot;</td><td>&quot;1&quot;</td><td>&quot;1941&quot;</td><td>&quot;&quot;</td><td>&quot;&quot;</td><td>&quot;2&quot;</td><td>&quot;2010-06-08&quot;</td><td>&quot;&quot;</td><td>&quot;&quot;</td><td>&quot;11014&quot;</td><td>&quot;&quot;</td><td>&quot;&quot;</td><td>&quot;&quot;</td><td>&quot;&quot;</td><td>&quot;&quot;</td><td>&quot;&quot;</td><td>&quot;&quot;</td><td>&quot;&quot;</td><td>&quot;1000548&quot;</td><td>null</td></tr><tr><td>&quot;&quot;</td><td>&quot;&quot;</td><td>&quot;&quot;</td><td>&quot;1001&quot;</td><td>&quot;&quot;</td><td>&quot;&quot;</td><td>&quot;60&quot;</td><td>&quot;&quot;</td><td>&quot;&quot;</td><td>&quot;1&quot;</td><td>&quot;1947&quot;</td><td>&quot;2013-09-18&quot;</td><td>&quot;&quot;</td><td>&quot;6&quot;</td><td>&quot;2008-01-10&quot;</td><td>&quot;&quot;</td><td>&quot;&quot;</td><td>&quot;11006&quot;</td><td>&quot;&quot;</td><td>&quot;&quot;</td><td>&quot;&quot;</td><td>&quot;&quot;</td><td>&quot;&quot;</td><td>&quot;&quot;</td><td>&quot;&quot;</td><td>&quot;&quot;</td><td>&quot;1000967&quot;</td><td>null</td></tr><tr><td>&quot;&quot;</td><td>&quot;&quot;</td><td>&quot;&quot;</td><td>&quot;1001&quot;</td><td>&quot;&quot;</td><td>&quot;&quot;</td><td>&quot;43&quot;</td><td>&quot;&quot;</td><td>&quot;53&quot;</td><td>&quot;1&quot;</td><td>&quot;1965&quot;</td><td>&quot;&quot;</td><td>&quot;&quot;</td><td>&quot;2&quot;</td><td>&quot;2008-11-06&quot;</td><td>&quot;&quot;</td><td>&quot;2019-01-26&quot;</td><td>&quot;11010&quot;</td><td>&quot;&quot;</td><td>&quot;11025&quot;</td><td>&quot;&quot;</td><td>&quot;&quot;</td><td>&quot;&quot;</td><td>&quot;&quot;</td><td>&quot;&quot;</td><td>&quot;&quot;</td><td>&quot;1001325&quot;</td><td>null</td></tr><tr><td>&quot;&quot;</td><td>&quot;&quot;</td><td>&quot;&quot;</td><td>&quot;1001&quot;</td><td>&quot;&quot;</td><td>&quot;&quot;</td><td>&quot;59&quot;</td><td>&quot;&quot;</td><td>&quot;&quot;</td><td>&quot;0&quot;</td><td>&quot;1950&quot;</td><td>&quot;&quot;</td><td>&quot;&quot;</td><td>&quot;1&quot;</td><td>&quot;2009-10-23&quot;</td><td>&quot;&quot;</td><td>&quot;&quot;</td><td>&quot;11016&quot;</td><td>&quot;&quot;</td><td>&quot;&quot;</td><td>&quot;&quot;</td><td>&quot;&quot;</td><td>&quot;&quot;</td><td>&quot;&quot;</td><td>&quot;&quot;</td><td>&quot;&quot;</td><td>&quot;1002609&quot;</td><td>null</td></tr><tr><td>&quot;2&quot;</td><td>&quot;&quot;</td><td>&quot;&quot;</td><td>&quot;1001&quot;</td><td>&quot;&quot;</td><td>&quot;1001&quot;</td><td>&quot;48&quot;</td><td>&quot;&quot;</td><td>&quot;56&quot;</td><td>&quot;0&quot;</td><td>&quot;1960&quot;</td><td>&quot;&quot;</td><td>&quot;&quot;</td><td>&quot;4&quot;</td><td>&quot;2008-07-23&quot;</td><td>&quot;&quot;</td><td>&quot;2016-10-22&quot;</td><td>&quot;11010&quot;</td><td>&quot;&quot;</td><td>&quot;11025&quot;</td><td>&quot;90001_0_0&quot;</td><td>&quot;&quot;</td><td>&quot;&quot;</td><td>&quot;&quot;</td><td>&quot;&quot;</td><td>&quot;90004_0_0&quot;</td><td>&quot;1003095&quot;</td><td>null</td></tr><tr><td>&quot;&quot;</td><td>&quot;&quot;</td><td>&quot;&quot;</td><td>&quot;1001&quot;</td><td>&quot;1001&quot;</td><td>&quot;&quot;</td><td>&quot;63&quot;</td><td>&quot;67&quot;</td><td>&quot;&quot;</td><td>&quot;0&quot;</td><td>&quot;1945&quot;</td><td>&quot;&quot;</td><td>&quot;&quot;</td><td>&quot;6&quot;</td><td>&quot;2008-10-14&quot;</td><td>&quot;2013-01-05&quot;</td><td>&quot;&quot;</td><td>&quot;11008&quot;</td><td>&quot;11024&quot;</td><td>&quot;&quot;</td><td>&quot;&quot;</td><td>&quot;&quot;</td><td>&quot;&quot;</td><td>&quot;&quot;</td><td>&quot;&quot;</td><td>&quot;&quot;</td><td>&quot;1004539&quot;</td><td>null</td></tr><tr><td>&quot;&quot;</td><td>&quot;&quot;</td><td>&quot;&quot;</td><td>&quot;1001&quot;</td><td>&quot;&quot;</td><td>&quot;&quot;</td><td>&quot;43&quot;</td><td>&quot;&quot;</td><td>&quot;&quot;</td><td>&quot;1&quot;</td><td>&quot;1965&quot;</td><td>&quot;&quot;</td><td>&quot;&quot;</td><td>&quot;1&quot;</td><td>&quot;2008-05-01&quot;</td><td>&quot;&quot;</td><td>&quot;&quot;</td><td>&quot;11010&quot;</td><td>&quot;&quot;</td><td>&quot;&quot;</td><td>&quot;&quot;</td><td>&quot;&quot;</td><td>&quot;&quot;</td><td>&quot;&quot;</td><td>&quot;&quot;</td><td>&quot;&quot;</td><td>&quot;1005207&quot;</td><td>null</td></tr><tr><td>&quot;&quot;</td><td>&quot;&quot;</td><td>&quot;&quot;</td><td>&quot;1001&quot;</td><td>&quot;&quot;</td><td>&quot;&quot;</td><td>&quot;63&quot;</td><td>&quot;&quot;</td><td>&quot;&quot;</td><td>&quot;0&quot;</td><td>&quot;1944&quot;</td><td>&quot;&quot;</td><td>&quot;&quot;</td><td>&quot;9&quot;</td><td>&quot;2008-03-28&quot;</td><td>&quot;&quot;</td><td>&quot;&quot;</td><td>&quot;11004&quot;</td><td>&quot;&quot;</td><td>&quot;&quot;</td><td>&quot;&quot;</td><td>&quot;&quot;</td><td>&quot;&quot;</td><td>&quot;&quot;</td><td>&quot;&quot;</td><td>&quot;&quot;</td><td>&quot;1005642&quot;</td><td>null</td></tr><tr><td>&quot;&quot;</td><td>&quot;&quot;</td><td>&quot;&quot;</td><td>&quot;1001&quot;</td><td>&quot;&quot;</td><td>&quot;&quot;</td><td>&quot;58&quot;</td><td>&quot;&quot;</td><td>&quot;69&quot;</td><td>&quot;1&quot;</td><td>&quot;1950&quot;</td><td>&quot;&quot;</td><td>&quot;&quot;</td><td>&quot;2&quot;</td><td>&quot;2008-05-13&quot;</td><td>&quot;&quot;</td><td>&quot;2019-03-08&quot;</td><td>&quot;11009&quot;</td><td>&quot;&quot;</td><td>&quot;11027&quot;</td><td>&quot;&quot;</td><td>&quot;&quot;</td><td>&quot;&quot;</td><td>&quot;&quot;</td><td>&quot;&quot;</td><td>&quot;&quot;</td><td>&quot;1006186&quot;</td><td>null</td></tr><tr><td>&quot;&quot;</td><td>&quot;&quot;</td><td>&quot;&quot;</td><td>&quot;1001&quot;</td><td>&quot;&quot;</td><td>&quot;&quot;</td><td>&quot;50&quot;</td><td>&quot;&quot;</td><td>&quot;&quot;</td><td>&quot;0&quot;</td><td>&quot;1957&quot;</td><td>&quot;&quot;</td><td>&quot;&quot;</td><td>&quot;9&quot;</td><td>&quot;2008-01-30&quot;</td><td>&quot;&quot;</td><td>&quot;&quot;</td><td>&quot;11005&quot;</td><td>&quot;&quot;</td><td>&quot;&quot;</td><td>&quot;&quot;</td><td>&quot;&quot;</td><td>&quot;&quot;</td><td>&quot;&quot;</td><td>&quot;&quot;</td><td>&quot;&quot;</td><td>&quot;1006985&quot;</td><td>null</td></tr><tr><td>&quot;&quot;</td><td>&quot;&quot;</td><td>&quot;&quot;</td><td>&quot;1001&quot;</td><td>&quot;&quot;</td><td>&quot;&quot;</td><td>&quot;68&quot;</td><td>&quot;&quot;</td><td>&quot;&quot;</td><td>&quot;1&quot;</td><td>&quot;1939&quot;</td><td>&quot;2012-03-26&quot;</td><td>&quot;&quot;</td><td>&quot;8&quot;</td><td>&quot;2007-10-12&quot;</td><td>&quot;&quot;</td><td>&quot;&quot;</td><td>&quot;11002&quot;</td><td>&quot;&quot;</td><td>&quot;&quot;</td><td>&quot;&quot;</td><td>&quot;&quot;</td><td>&quot;&quot;</td><td>&quot;&quot;</td><td>&quot;&quot;</td><td>&quot;&quot;</td><td>&quot;1007444&quot;</td><td>null</td></tr><tr><td>&quot;&quot;</td><td>&quot;&quot;</td><td>&quot;&quot;</td><td>&quot;1001&quot;</td><td>&quot;&quot;</td><td>&quot;&quot;</td><td>&quot;67&quot;</td><td>&quot;&quot;</td><td>&quot;&quot;</td><td>&quot;1&quot;</td><td>&quot;1940&quot;</td><td>&quot;2015-04-04&quot;</td><td>&quot;&quot;</td><td>&quot;11&quot;</td><td>&quot;2008-01-16&quot;</td><td>&quot;&quot;</td><td>&quot;&quot;</td><td>&quot;11005&quot;</td><td>&quot;&quot;</td><td>&quot;&quot;</td><td>&quot;&quot;</td><td>&quot;&quot;</td><td>&quot;&quot;</td><td>&quot;&quot;</td><td>&quot;&quot;</td><td>&quot;&quot;</td><td>&quot;1008209&quot;</td><td>null</td></tr><tr><td>&hellip;</td><td>&hellip;</td><td>&hellip;</td><td>&hellip;</td><td>&hellip;</td><td>&hellip;</td><td>&hellip;</td><td>&hellip;</td><td>&hellip;</td><td>&hellip;</td><td>&hellip;</td><td>&hellip;</td><td>&hellip;</td><td>&hellip;</td><td>&hellip;</td><td>&hellip;</td><td>&hellip;</td><td>&hellip;</td><td>&hellip;</td><td>&hellip;</td><td>&hellip;</td><td>&hellip;</td><td>&hellip;</td><td>&hellip;</td><td>&hellip;</td><td>&hellip;</td><td>&hellip;</td><td>&hellip;</td></tr><tr><td>&quot;&quot;</td><td>&quot;&quot;</td><td>&quot;&quot;</td><td>&quot;1001&quot;</td><td>&quot;&quot;</td><td>&quot;&quot;</td><td>&quot;62&quot;</td><td>&quot;&quot;</td><td>&quot;&quot;</td><td>&quot;1&quot;</td><td>&quot;1947&quot;</td><td>&quot;&quot;</td><td>&quot;&quot;</td><td>&quot;11&quot;</td><td>&quot;2010-06-01&quot;</td><td>&quot;&quot;</td><td>&quot;&quot;</td><td>&quot;11018&quot;</td><td>&quot;&quot;</td><td>&quot;&quot;</td><td>&quot;&quot;</td><td>&quot;&quot;</td><td>&quot;&quot;</td><td>&quot;&quot;</td><td>&quot;&quot;</td><td>&quot;&quot;</td><td>&quot;6013112&quot;</td><td>null</td></tr><tr><td>&quot;&quot;</td><td>&quot;&quot;</td><td>&quot;&quot;</td><td>&quot;1001&quot;</td><td>&quot;&quot;</td><td>&quot;&quot;</td><td>&quot;68&quot;</td><td>&quot;&quot;</td><td>&quot;&quot;</td><td>&quot;0&quot;</td><td>&quot;1942&quot;</td><td>&quot;2015-12-15&qu"
      ],
      "text/plain": [
       "shape: (4_703, 28)\n",
       "┌────────────┬────────────┬─────────┬───────────┬───┬───────────┬───────────┬─────────┬──────┐\n",
       "│ 110005-0.0 ┆ 110006-0.0 ┆ 191-0.0 ┆ 21000-0.0 ┆ … ┆ 90001-4.0 ┆ 90004-0.0 ┆ eid_old ┆ eid  │\n",
       "│ ---        ┆ ---        ┆ ---     ┆ ---       ┆   ┆ ---       ┆ ---       ┆ ---     ┆ ---  │\n",
       "│ str        ┆ str        ┆ str     ┆ str       ┆   ┆ str       ┆ str       ┆ str     ┆ null │\n",
       "╞════════════╪════════════╪═════════╪═══════════╪═══╪═══════════╪═══════════╪═════════╪══════╡\n",
       "│            ┆            ┆         ┆ 1001      ┆ … ┆           ┆           ┆ 1000548 ┆ null │\n",
       "│            ┆            ┆         ┆ 1001      ┆ … ┆           ┆           ┆ 1000967 ┆ null │\n",
       "│            ┆            ┆         ┆ 1001      ┆ … ┆           ┆           ┆ 1001325 ┆ null │\n",
       "│            ┆            ┆         ┆ 1001      ┆ … ┆           ┆           ┆ 1002609 ┆ null │\n",
       "│ …          ┆ …          ┆ …       ┆ …         ┆ … ┆ …         ┆ …         ┆ …       ┆ …    │\n",
       "│            ┆            ┆         ┆ 1001      ┆ … ┆           ┆           ┆ 6021818 ┆ null │\n",
       "│            ┆            ┆         ┆ 1001      ┆ … ┆           ┆           ┆ 6022108 ┆ null │\n",
       "│            ┆            ┆         ┆ 1001      ┆ … ┆           ┆           ┆ 6024246 ┆ null │\n",
       "│            ┆            ┆         ┆ 1001      ┆ … ┆           ┆           ┆ 6025173 ┆ null │\n",
       "└────────────┴────────────┴─────────┴───────────┴───┴───────────┴───────────┴─────────┴──────┘"
      ]
     },
     "execution_count": 172,
     "metadata": {},
     "output_type": "execute_result"
    },
    {
     "data": {
      "text/html": [
       "<b>limit_output extension: Maximum message size of 10000 exceeded with 16684 characters</b>"
      ]
     },
     "metadata": {},
     "output_type": "display_data"
    }
   ],
   "source": [
    "df_old"
   ]
  },
  {
   "cell_type": "code",
   "execution_count": 204,
   "id": "224692b5",
   "metadata": {},
   "outputs": [
    {
     "data": {
      "text/html": [
       "<div><style>\n",
       ".dataframe > thead > tr > th,\n",
       ".dataframe > tbody > tr > td {\n",
       "  text-align: right;\n",
       "}\n",
       "</style>\n",
       "<small>shape: (6916, 28)</small><table border=\"1\" class=\"dataframe\"><thead><tr><th>110005-0.0</th><th>110006-0.0</th><th>191-0.0</th><th>21000-0.0</th><th>21000-1.0</th><th>21000-2.0</th><th>21003-0.0</th><th>21003-1.0</th><th>21003-2.0</th><th>31-0.0</th><th>34-0.0</th><th>40000-0.0</th><th>40000-1.0</th><th>52-0.0</th><th>53-0.0</th><th>53-1.0</th><th>53-2.0</th><th>54-0.0</th><th>54-1.0</th><th>54-2.0</th><th>90001-0.0</th><th>90001-1.0</th><th>90001-2.0</th><th>90001-3.0</th><th>90001-4.0</th><th>90004-0.0</th><th>eid_old</th><th>eid</th></tr><tr><td>str</td><td>str</td><td>str</td><td>str</td><td>str</td><td>str</td><td>str</td><td>str</td><td>str</td><td>str</td><td>str</td><td>str</td><td>str</td><td>str</td><td>str</td><td>str</td><td>str</td><td>str</td><td>str</td><td>str</td><td>str</td><td>str</td><td>str</td><td>str</td><td>str</td><td>str</td><td>str</td><td>str</td></tr></thead><tbody><tr><td>&quot;&quot;</td><td>&quot;&quot;</td><td>&quot;&quot;</td><td>&quot;1001&quot;</td><td>&quot;&quot;</td><td>&quot;&quot;</td><td>&quot;59&quot;</td><td>&quot;&quot;</td><td>&quot;&quot;</td><td>&quot;0&quot;</td><td>&quot;1949&quot;</td><td>&quot;2010-07-07&quot;</td><td>&quot;&quot;</td><td>&quot;8&quot;</td><td>&quot;2008-10-27&quot;</td><td>&quot;&quot;</td><td>&quot;&quot;</td><td>&quot;11013&quot;</td><td>&quot;&quot;</td><td>&quot;&quot;</td><td>&quot;&quot;</td><td>&quot;&quot;</td><td>&quot;&quot;</td><td>&quot;&quot;</td><td>&quot;&quot;</td><td>&quot;&quot;</td><td>null</td><td>&quot;1002493&quot;</td></tr><tr><td>&quot;&quot;</td><td>&quot;&quot;</td><td>&quot;&quot;</td><td>&quot;1001&quot;</td><td>&quot;&quot;</td><td>&quot;&quot;</td><td>&quot;70&quot;</td><td>&quot;&quot;</td><td>&quot;&quot;</td><td>&quot;0&quot;</td><td>&quot;1938&quot;</td><td>&quot;&quot;</td><td>&quot;&quot;</td><td>&quot;6&quot;</td><td>&quot;2008-08-13&quot;</td><td>&quot;&quot;</td><td>&quot;&quot;</td><td>&quot;11010&quot;</td><td>&quot;&quot;</td><td>&quot;&quot;</td><td>&quot;&quot;</td><td>&quot;&quot;</td><td>&quot;&quot;</td><td>&quot;&quot;</td><td>&quot;&quot;</td><td>&quot;&quot;</td><td>null</td><td>&quot;1002974&quot;</td></tr><tr><td>&quot;&quot;</td><td>&quot;&quot;</td><td>&quot;&quot;</td><td>&quot;1001&quot;</td><td>&quot;&quot;</td><td>&quot;&quot;</td><td>&quot;68&quot;</td><td>&quot;&quot;</td><td>&quot;&quot;</td><td>&quot;1&quot;</td><td>&quot;1939&quot;</td><td>&quot;2011-01-11&quot;</td><td>&quot;&quot;</td><td>&quot;4&quot;</td><td>&quot;2007-12-15&quot;</td><td>&quot;&quot;</td><td>&quot;&quot;</td><td>&quot;11004&quot;</td><td>&quot;&quot;</td><td>&quot;&quot;</td><td>&quot;&quot;</td><td>&quot;&quot;</td><td>&quot;&quot;</td><td>&quot;&quot;</td><td>&quot;&quot;</td><td>&quot;&quot;</td><td>null</td><td>&quot;1003797&quot;</td></tr><tr><td>&quot;&quot;</td><td>&quot;&quot;</td><td>&quot;&quot;</td><td>&quot;1001&quot;</td><td>&quot;&quot;</td><td>&quot;&quot;</td><td>&quot;51&quot;</td><td>&quot;&quot;</td><td>&quot;&quot;</td><td>&quot;1&quot;</td><td>&quot;1956&quot;</td><td>&quot;&quot;</td><td>&quot;&quot;</td><td>&quot;1&quot;</td><td>&quot;2007-12-14&quot;</td><td>&quot;&quot;</td><td>&quot;&quot;</td><td>&quot;11004&quot;</td><td>&quot;&quot;</td><td>&quot;&quot;</td><td>&quot;&quot;</td><td>&quot;&quot;</td><td>&quot;&quot;</td><td>&quot;&quot;</td><td>&quot;&quot;</td><td>&quot;&quot;</td><td>null</td><td>&quot;1004555&quot;</td></tr><tr><td>&quot;&quot;</td><td>&quot;&quot;</td><td>&quot;&quot;</td><td>&quot;1001&quot;</td><td>&quot;&quot;</td><td>&quot;&quot;</td><td>&quot;64&quot;</td><td>&quot;&quot;</td><td>&quot;&quot;</td><td>&quot;1&quot;</td><td>&quot;1943&quot;</td><td>&quot;2019-04-10&quot;</td><td>&quot;&quot;</td><td>&quot;8&quot;</td><td>&quot;2008-03-27&quot;</td><td>&quot;&quot;</td><td>&quot;&quot;</td><td>&quot;11005&quot;</td><td>&quot;&quot;</td><td>&quot;&quot;</td><td>&quot;&quot;</td><td>&quot;&quot;</td><td>&quot;&quot;</td><td>&quot;&quot;</td><td>&quot;&quot;</td><td>&quot;&quot;</td><td>null</td><td>&quot;1004631&quot;</td></tr><tr><td>&quot;&quot;</td><td>&quot;&quot;</td><td>&quot;&quot;</td><td>&quot;1001&quot;</td><td>&quot;&quot;</td><td>&quot;&quot;</td><td>&quot;51&quot;</td><td>&quot;&quot;</td><td>&quot;&quot;</td><td>&quot;0&quot;</td><td>&quot;1957&quot;</td><td>&quot;2012-09-14&quot;</td><td>&quot;&quot;</td><td>&quot;7&quot;</td><td>&quot;2009-06-13&quot;</td><td>&quot;&quot;</td><td>&quot;&quot;</td><td>&quot;11016&quot;</td><td>&quot;&quot;</td><td>&quot;&quot;</td><td>&quot;&quot;</td><td>&quot;&quot;</td><td>&quot;&quot;</td><td>&quot;&quot;</td><td>&quot;&quot;</td><td>&quot;&quot;</td><td>null</td><td>&quot;1006189&quot;</td></tr><tr><td>&quot;&quot;</td><td>&quot;&quot;</td><td>&quot;&quot;</td><td>&quot;4001&quot;</td><td>&quot;&quot;</td><td>&quot;&quot;</td><td>&quot;68&quot;</td><td>&quot;&quot;</td><td>&quot;&quot;</td><td>&quot;0&quot;</td><td>&quot;1939&quot;</td><td>&quot;2010-11-24&quot;</td><td>&quot;&quot;</td><td>&quot;4&quot;</td><td>&quot;2007-05-03&quot;</td><td>&quot;&quot;</td><td>&quot;&quot;</td><td>&quot;11001&quot;</td><td>&quot;&quot;</td><td>&quot;&quot;</td><td>&quot;&quot;</td><td>&quot;&quot;</td><td>&quot;&quot;</td><td>&quot;&quot;</td><td>&quot;&quot;</td><td>&quot;&quot;</td><td>null</td><td>&quot;1007687&quot;</td></tr><tr><td>&quot;&quot;</td><td>&quot;&quot;</td><td>&quot;&quot;</td><td>&quot;1001&quot;</td><td>&quot;&quot;</td><td>&quot;&quot;</td><td>&quot;46&quot;</td><td>&quot;&quot;</td><td>&quot;55&quot;</td><td>&quot;1&quot;</td><td>&quot;1963&quot;</td><td>&quot;&quot;</td><td>&quot;&quot;</td><td>&quot;5&quot;</td><td>&quot;2009-08-15&quot;</td><td>&quot;&quot;</td><td>&quot;2019-01-05&quot;</td><td>&quot;11017&quot;</td><td>&quot;&quot;</td><td>&quot;11027&quot;</td><td>&quot;&quot;</td><td>&quot;&quot;</td><td>&quot;&quot;</td><td>&quot;&quot;</td><td>&quot;&quot;</td><td>&quot;&quot;</td><td>null</td><td>&quot;1008040&quot;</td></tr><tr><td>&quot;&quot;</td><td>&quot;&quot;</td><td>&quot;&quot;</td><td>&quot;1001&quot;</td><td>&quot;&quot;</td><td>&quot;&quot;</td><td>&quot;48&quot;</td><td>&quot;&quot;</td><td>&quot;&quot;</td><td>&quot;1&quot;</td><td>&quot;1959&quot;</td><td>&quot;&quot;</td><td>&quot;&quot;</td><td>&quot;9&quot;</td><td>&quot;2008-06-14&quot;</td><td>&quot;&quot;</td><td>&quot;&quot;</td><td>&quot;11009&quot;</td><td>&quot;&quot;</td><td>&quot;&quot;</td><td>&quot;&quot;</td><td>&quot;&quot;</td><td>&quot;&quot;</td><td>&quot;&quot;</td><td>&quot;&quot;</td><td>&quot;&quot;</td><td>null</td><td>&quot;1009097&quot;</td></tr><tr><td>&quot;&quot;</td><td>&quot;&quot;</td><td>&quot;&quot;</td><td>&quot;1001&quot;</td><td>&quot;&quot;</td><td>&quot;&quot;</td><td>&quot;61&quot;</td><td>&quot;&quot;</td><td>&quot;&quot;</td><td>&quot;0&quot;</td><td>&quot;1947&quot;</td><td>&quot;&quot;</td><td>&quot;&quot;</td><td>&quot;3&quot;</td><td>&quot;2008-07-21&quot;</td><td>&quot;&quot;</td><td>&quot;&quot;</td><td>&quot;11010&quot;</td><td>&quot;&quot;</td><td>&quot;&quot;</td><td>&quot;&quot;</td><td>&quot;&quot;</td><td>&quot;&quot;</td><td>&quot;&quot;</td><td>&quot;&quot;</td><td>&quot;&quot;</td><td>null</td><td>&quot;1010038&quot;</td></tr><tr><td>&quot;&quot;</td><td>&quot;&quot;</td><td>&quot;&quot;</td><td>&quot;1001&quot;</td><td>&quot;&quot;</td><td>&quot;&quot;</td><td>&quot;64&quot;</td><td>&quot;&quot;</td><td>&quot;&quot;</td><td>&quot;1&quot;</td><td>&quot;1944&quot;</td><td>&quot;&quot;</td><td>&quot;&quot;</td><td>&quot;9&quot;</td><td>&quot;2009-03-10&quot;</td><td>&quot;&quot;</td><td>&quot;&quot;</td><td>&quot;11009&quot;</td><td>&quot;&quot;</td><td>&quot;&quot;</td><td>&quot;&quot;</td><td>&quot;&quot;</td><td>&quot;&quot;</td><td>&quot;&quot;</td><td>&quot;&quot;</td><td>&quot;&quot;</td><td>null</td><td>&quot;1011398&quot;</td></tr><tr><td>&quot;&quot;</td><td>&quot;&quot;</td><td>&quot;&quot;</td><td>&quot;1001&quot;</td><td>&quot;&quot;</td><td>&quot;&quot;</td><td>&quot;55&quot;</td><td>&quot;&quot;</td><td>&quot;64&quot;</td><td>&quot;1&quot;</td><td>&quot;1953&quot;</td><td>&quot;&quot;</td><td>&quot;&quot;</td><td>&quot;4&quot;</td><td>&quot;2008-12-05&quot;</td><td>&quot;&quot;</td><td>&quot;2018-01-03&quot;</td><td>&quot;11009&quot;</td><td>&quot;&quot;</td><td>&quot;11027&quot;</td><td>&quot;&quot;</td><td>&quot;&quot;</td><td>&quot;&quot;</td><td>&quot;&quot;</td><td>&quot;&quot;</td><td>&quot;&quot;</td><td>null</td><td>&quot;1011957&quot;</td></tr><tr><td>&hellip;</td><td>&hellip;</td><td>&hellip;</td><td>&hellip;</td><td>&hellip;</td><td>&hellip;</td><td>&hellip;</td><td>&hellip;</td><td>&hellip;</td><td>&hellip;</td><td>&hellip;</td><td>&hellip;</td><td>&hellip;</td><td>&hellip;</td><td>&hellip;</td><td>&hellip;</td><td>&hellip;</td><td>&hellip;</td><td>&hellip;</td><td>&hellip;</td><td>&hellip;</td><td>&hellip;</td><td>&hellip;</td><td>&hellip;</td><td>&hellip;</td><td>&hellip;</td><td>&hellip;</td><td>&hellip;</td></tr><tr><td>&quot;&quot;</td><td>&quot;&quot;</td><td>&quot;&quot;</td><td>&quot;1001&quot;</td><td>&quot;&quot;</td><td>&quot;&quot;</td><td>&quot;61&quot;</td><td>&quot;&quot;</td><td>&quot;&quot;</td><td>&quot;0&quot;</td><td>&quot;1949&quot;</td><td>&quot;2015-04-04&quot;</td><td>&quot;&quot;</td><td>&quot;5&quot;</td><td>&quot;2010-09-03&quot;</td><td>&quot;&quot;</td><td>&quot;&quot;</td><td>&quot;11023&quot;</td><td>&quot;&quot;</td><td>&quot;&quot;</td><td>&quot;&quot;</td><td>&quot;&quot;</td><td>&quot;&quot;</td><td>&quot;&quot;</td><td>&quot;&quot;</td><td>&quot;&quot;</td><td>null</td><td>&quot;6017888&quot;</td></tr><tr><td>&quot;&quot;</td><td>&quot;&quot;</td><td>&quot;&quot;</td><td>&quot;1001&quot;</td><td>&quot;&quot;</td><td>&quot;&quot;</td><td>&quot;69&quot;</td><td>&quot;&quot;</td><td>&quot;&quot;</td><td>&quot;0&quot;</td><td>&quot;1939&quot;</td><td>&quot;2013-05-09&quot;</td><td>&quot;&quot;</td><td>&"
      ],
      "text/plain": [
       "shape: (6_916, 28)\n",
       "┌────────────┬────────────┬─────────┬───────────┬───┬───────────┬───────────┬─────────┬─────────┐\n",
       "│ 110005-0.0 ┆ 110006-0.0 ┆ 191-0.0 ┆ 21000-0.0 ┆ … ┆ 90001-4.0 ┆ 90004-0.0 ┆ eid_old ┆ eid     │\n",
       "│ ---        ┆ ---        ┆ ---     ┆ ---       ┆   ┆ ---       ┆ ---       ┆ ---     ┆ ---     │\n",
       "│ str        ┆ str        ┆ str     ┆ str       ┆   ┆ str       ┆ str       ┆ str     ┆ str     │\n",
       "╞════════════╪════════════╪═════════╪═══════════╪═══╪═══════════╪═══════════╪═════════╪═════════╡\n",
       "│            ┆            ┆         ┆ 1001      ┆ … ┆           ┆           ┆ null    ┆ 1002493 │\n",
       "│            ┆            ┆         ┆ 1001      ┆ … ┆           ┆           ┆ null    ┆ 1002974 │\n",
       "│            ┆            ┆         ┆ 1001      ┆ … ┆           ┆           ┆ null    ┆ 1003797 │\n",
       "│            ┆            ┆         ┆ 1001      ┆ … ┆           ┆           ┆ null    ┆ 1004555 │\n",
       "│ …          ┆ …          ┆ …       ┆ …         ┆ … ┆ …         ┆ …         ┆ …       ┆ …       │\n",
       "│            ┆            ┆         ┆ 1001      ┆ … ┆           ┆           ┆ null    ┆ 6022816 │\n",
       "│            ┆            ┆         ┆ 1001      ┆ … ┆           ┆           ┆ null    ┆ 6024677 │\n",
       "│            ┆            ┆         ┆           ┆ … ┆           ┆           ┆ null    ┆ 6024820 │\n",
       "│            ┆            ┆         ┆ 1001      ┆ … ┆           ┆           ┆ null    ┆ 6024833 │\n",
       "└────────────┴────────────┴─────────┴───────────┴───┴───────────┴───────────┴─────────┴─────────┘"
      ]
     },
     "execution_count": 204,
     "metadata": {},
     "output_type": "execute_result"
    },
    {
     "data": {
      "text/html": [
       "<b>limit_output extension: Maximum message size of 10000 exceeded with 16628 characters</b>"
      ]
     },
     "metadata": {},
     "output_type": "display_data"
    }
   ],
   "source": [
    "df_new"
   ]
  },
  {
   "cell_type": "code",
   "execution_count": 234,
   "id": "d9d67f39",
   "metadata": {},
   "outputs": [],
   "source": [
    "FILE_OUT = os.path.join(DIR_SOURCE, \"nonpaired_leftover_data_old_0.csv\")\n",
    "df_old.write_csv(FILE_OUT)\n",
    "\n",
    "FILE_OUT = os.path.join(DIR_SOURCE, \"nonpaired_leftover_data_new_0.csv\")\n",
    "df_new.write_csv(FILE_OUT)"
   ]
  },
  {
   "cell_type": "markdown",
   "id": "9caf2d0b",
   "metadata": {},
   "source": [
    "## Join, extract ID pairs and leftover entries"
   ]
  },
  {
   "cell_type": "code",
   "execution_count": 210,
   "id": "8dc0c6b4",
   "metadata": {},
   "outputs": [
    {
     "name": "stdout",
     "output_type": "stream",
     "text": [
      "4703 entries are found in the old dataset\n",
      "6916 entries are found in the new dataset\n",
      "26 Columns used for join: ['110005-0.0', '110006-0.0', '191-0.0', '21000-0.0', '21000-1.0', '21000-2.0', '21003-0.0', '21003-1.0', '21003-2.0', '31-0.0', '34-0.0', '40000-0.0', '40000-1.0', '52-0.0', '53-0.0', '53-1.0', '53-2.0', '54-0.0', '54-1.0', '54-2.0', '90001-0.0', '90001-1.0', '90001-2.0', '90001-3.0', '90001-4.0', '90004-0.0']\n",
      "4703 entries in the old dataset after omitting duplicates\n",
      "6916 entries in the new dataset after omitting duplicates\n",
      "\n",
      "4247 entry pairs are successfully joined\n",
      "456 entries in the old dataset remain unpaired\n",
      "2669 entries in the new dataset remain unpaired\n",
      "Omit singletons\n",
      "306 entries in the old dataset remain unpaired\n",
      "308 entries in the new dataset remain unpaired\n"
     ]
    }
   ],
   "source": [
    "cols_subset = cols_except_id\n",
    "\n",
    "cols_groupby = [\"21000-0.0\", # Ethnic background\n",
    "                \"31-0.0\", # Sex\n",
    "                \"34-0.0\", # Birth year\n",
    "                \"53-0.0\", # Date of attending assessment centre, 1st\n",
    "                \"54-0.0\", # Assessment centre\n",
    "               ]\n",
    "\n",
    "df_ids_joined_1, df_leftover_old_1, df_leftover_new_1, df_leftover_all_1 = func_join_subset(\n",
    "    df_old, df_new, cols_subset, cols_groupby)"
   ]
  },
  {
   "cell_type": "code",
   "execution_count": 233,
   "id": "60e991e0",
   "metadata": {},
   "outputs": [],
   "source": [
    "FILE_OUT = os.path.join(DIR_SOURCE, \"nonpaired_leftover_data_old_1.csv\")\n",
    "df_leftover_old_1.write_csv(FILE_OUT)\n",
    "\n",
    "FILE_OUT = os.path.join(DIR_SOURCE, \"nonpaired_leftover_data_new_1.csv\")\n",
    "df_leftover_new_1.write_csv(FILE_OUT)"
   ]
  },
  {
   "cell_type": "code",
   "execution_count": 212,
   "id": "a7c4683b",
   "metadata": {},
   "outputs": [
    {
     "name": "stdout",
     "output_type": "stream",
     "text": [
      "306 entries are found in the old dataset\n",
      "308 entries are found in the new dataset\n",
      "5 Columns used for join: ['21000-0.0', '31-0.0', '34-0.0', '53-0.0', '54-0.0']\n",
      "294 entries in the old dataset after omitting duplicates\n",
      "293 entries in the new dataset after omitting duplicates\n",
      "\n",
      "293 entry pairs are successfully joined\n",
      "13 entries in the old dataset remain unpaired\n",
      "15 entries in the new dataset remain unpaired\n",
      "Omit singletons\n",
      "13 entries in the old dataset remain unpaired\n",
      "15 entries in the new dataset remain unpaired\n"
     ]
    }
   ],
   "source": [
    "cols_subset = [\"21000-0.0\", # Ethnic background\n",
    "                \"31-0.0\", # Sex\n",
    "                \"34-0.0\", # Birth year\n",
    "                \"53-0.0\", # Date of attending assessment centre, 1st\n",
    "                \"54-0.0\", # Assessment centre\n",
    "               ]\n",
    "\n",
    "cols_groupby = [\"21000-0.0\", # Ethnic background\n",
    "                \"31-0.0\", # Sex\n",
    "                \"34-0.0\", # Birth year\n",
    "                \"53-0.0\", # Date of attending assessment centre, 1st\n",
    "                \"54-0.0\", # Assessment centre\n",
    "               ]\n",
    "\n",
    "df_ids_joined_2, df_leftover_old_2, df_leftover_new_2, df_leftover_all_2 = func_join_subset(\n",
    "    df_leftover_old_1, df_leftover_new_1, cols_subset, cols_groupby)"
   ]
  },
  {
   "cell_type": "code",
   "execution_count": 215,
   "id": "d6a64734",
   "metadata": {},
   "outputs": [
    {
     "name": "stdout",
     "output_type": "stream",
     "text": [
      "13 entries are found in the old dataset\n",
      "15 entries are found in the new dataset\n",
      "4 Columns used for join: ['53-0.0', '53-1.0', '53-2.0', '54-0.0']\n",
      "13 entries in the old dataset after omitting duplicates\n",
      "13 entries in the new dataset after omitting duplicates\n",
      "\n",
      "8 entry pairs are successfully joined\n",
      "5 entries in the old dataset remain unpaired\n",
      "7 entries in the new dataset remain unpaired\n",
      "Omit singletons\n",
      "5 entries in the old dataset remain unpaired\n",
      "7 entries in the new dataset remain unpaired\n"
     ]
    }
   ],
   "source": [
    "cols_subset = [\"53-0.0\", # Date of attending assessment centre, 1st\n",
    "               \"53-1.0\", # Date of attending assessment centre, 2nd\n",
    "               \"53-2.0\", # Date of attending assessment centre, 3nd\n",
    "                \"54-0.0\", # Assessment centre\n",
    "               ]\n",
    "\n",
    "cols_groupby = [\"21000-0.0\", # Ethnic background\n",
    "                \"31-0.0\", # Sex\n",
    "                \"34-0.0\", # Birth year\n",
    "                \"53-0.0\", # Date of attending assessment centre, 1st\n",
    "                \"54-0.0\", # Assessment centre\n",
    "               ]\n",
    "\n",
    "df_ids_joined_3, df_leftover_old_3, df_leftover_new_3, df_leftover_all_3 = func_join_subset(\n",
    "    df_leftover_old_2, df_leftover_new_2, cols_subset, cols_groupby)"
   ]
  },
  {
   "cell_type": "code",
   "execution_count": 217,
   "id": "511d595a",
   "metadata": {},
   "outputs": [
    {
     "name": "stdout",
     "output_type": "stream",
     "text": [
      "5 entries are found in the old dataset\n",
      "7 entries are found in the new dataset\n",
      "2 Columns used for join: ['53-0.0', '53-1.0']\n",
      "5 entries in the old dataset after omitting duplicates\n",
      "5 entries in the new dataset after omitting duplicates\n",
      "\n",
      "5 entry pairs are successfully joined\n",
      "0 entries in the old dataset remain unpaired\n",
      "2 entries in the new dataset remain unpaired\n",
      "Omit singletons\n",
      "0 entries in the old dataset remain unpaired\n",
      "0 entries in the new dataset remain unpaired\n"
     ]
    }
   ],
   "source": [
    "cols_subset = [\"53-0.0\", # Date of attending assessment centre, 1st\n",
    "               \"53-1.0\", # Date of attending assessment centre, 2nd\n",
    "               ]\n",
    "\n",
    "cols_groupby = [\"21000-0.0\", # Ethnic background\n",
    "                \"31-0.0\", # Sex\n",
    "                \"34-0.0\", # Birth year\n",
    "                \"53-0.0\", # Date of attending assessment centre, 1st\n",
    "                \"54-0.0\", # Assessment centre\n",
    "               ]\n",
    "\n",
    "df_ids_joined_4, df_leftover_old_4, df_leftover_new_4, df_leftover_all_4 = func_join_subset(\n",
    "    df_leftover_old_3, df_leftover_new_3, cols_subset, cols_groupby)"
   ]
  },
  {
   "cell_type": "markdown",
   "id": "9f69c9bd",
   "metadata": {},
   "source": [
    "# Merge ID pair lists and export"
   ]
  },
  {
   "cell_type": "code",
   "execution_count": 223,
   "id": "9caeeccc",
   "metadata": {},
   "outputs": [
    {
     "data": {
      "text/html": [
       "<div><style>\n",
       ".dataframe > thead > tr > th,\n",
       ".dataframe > tbody > tr > td {\n",
       "  text-align: right;\n",
       "}\n",
       "</style>\n",
       "<small>shape: (483607, 2)</small><table border=\"1\" class=\"dataframe\"><thead><tr><th>eid_old</th><th>eid</th></tr><tr><td>i64</td><td>i64</td></tr></thead><tbody><tr><td>1327806</td><td>1000010</td></tr><tr><td>2071371</td><td>1000028</td></tr><tr><td>3017169</td><td>1000034</td></tr><tr><td>2373493</td><td>1000045</td></tr><tr><td>3647458</td><td>1000052</td></tr><tr><td>1477405</td><td>1000069</td></tr><tr><td>3705388</td><td>1000076</td></tr><tr><td>3102569</td><td>1000087</td></tr><tr><td>3867761</td><td>1000091</td></tr><tr><td>2122462</td><td>1000118</td></tr><tr><td>4706318</td><td>1000120</td></tr><tr><td>1147672</td><td>1000133</td></tr><tr><td>&hellip;</td><td>&hellip;</td></tr><tr><td>2178970</td><td>6024702</td></tr><tr><td>4160652</td><td>6024716</td></tr><tr><td>5019738</td><td>6024729</td></tr><tr><td>4741522</td><td>6024737</td></tr><tr><td>3927394</td><td>6024741</td></tr><tr><td>5889789</td><td>6024753</td></tr><tr><td>1019284</td><td>6024768</td></tr><tr><td>5610083</td><td>6024770</td></tr><tr><td>2350278</td><td>6024784</td></tr><tr><td>5200659</td><td>6024795</td></tr><tr><td>5061586</td><td>6024804</td></tr><tr><td>6016103</td><td>6024818</td></tr></tbody></table></div>"
      ],
      "text/plain": [
       "shape: (483_607, 2)\n",
       "┌─────────┬─────────┐\n",
       "│ eid_old ┆ eid     │\n",
       "│ ---     ┆ ---     │\n",
       "│ i64     ┆ i64     │\n",
       "╞═════════╪═════════╡\n",
       "│ 1327806 ┆ 1000010 │\n",
       "│ 2071371 ┆ 1000028 │\n",
       "│ 3017169 ┆ 1000034 │\n",
       "│ 2373493 ┆ 1000045 │\n",
       "│ …       ┆ …       │\n",
       "│ 2350278 ┆ 6024784 │\n",
       "│ 5200659 ┆ 6024795 │\n",
       "│ 5061586 ┆ 6024804 │\n",
       "│ 6016103 ┆ 6024818 │\n",
       "└─────────┴─────────┘"
      ]
     },
     "execution_count": 223,
     "metadata": {},
     "output_type": "execute_result"
    }
   ],
   "source": [
    "df_ids_0 = pl.read_csv(FILE_IDS_ALREADY_PAIRED)\n",
    "df_ids_0"
   ]
  },
  {
   "cell_type": "code",
   "execution_count": 231,
   "id": "9dc46455",
   "metadata": {},
   "outputs": [
    {
     "data": {
      "text/html": [
       "<div><style>\n",
       ".dataframe > thead > tr > th,\n",
       ".dataframe > tbody > tr > td {\n",
       "  text-align: right;\n",
       "}\n",
       "</style>\n",
       "<small>shape: (488160, 2)</small><table border=\"1\" class=\"dataframe\"><thead><tr><th>eid_old</th><th>eid</th></tr><tr><td>i64</td><td>i64</td></tr></thead><tbody><tr><td>1327806</td><td>1000010</td></tr><tr><td>2071371</td><td>1000028</td></tr><tr><td>3017169</td><td>1000034</td></tr><tr><td>2373493</td><td>1000045</td></tr><tr><td>3647458</td><td>1000052</td></tr><tr><td>1477405</td><td>1000069</td></tr><tr><td>3705388</td><td>1000076</td></tr><tr><td>3102569</td><td>1000087</td></tr><tr><td>3867761</td><td>1000091</td></tr><tr><td>2122462</td><td>1000118</td></tr><tr><td>4706318</td><td>1000120</td></tr><tr><td>1147672</td><td>1000133</td></tr><tr><td>&hellip;</td><td>&hellip;</td></tr><tr><td>2178970</td><td>6024702</td></tr><tr><td>4160652</td><td>6024716</td></tr><tr><td>5019738</td><td>6024729</td></tr><tr><td>4741522</td><td>6024737</td></tr><tr><td>3927394</td><td>6024741</td></tr><tr><td>5889789</td><td>6024753</td></tr><tr><td>1019284</td><td>6024768</td></tr><tr><td>5610083</td><td>6024770</td></tr><tr><td>2350278</td><td>6024784</td></tr><tr><td>5200659</td><td>6024795</td></tr><tr><td>5061586</td><td>6024804</td></tr><tr><td>6016103</td><td>6024818</td></tr></tbody></table></div>"
      ],
      "text/plain": [
       "shape: (488_160, 2)\n",
       "┌─────────┬─────────┐\n",
       "│ eid_old ┆ eid     │\n",
       "│ ---     ┆ ---     │\n",
       "│ i64     ┆ i64     │\n",
       "╞═════════╪═════════╡\n",
       "│ 1327806 ┆ 1000010 │\n",
       "│ 2071371 ┆ 1000028 │\n",
       "│ 3017169 ┆ 1000034 │\n",
       "│ 2373493 ┆ 1000045 │\n",
       "│ …       ┆ …       │\n",
       "│ 2350278 ┆ 6024784 │\n",
       "│ 5200659 ┆ 6024795 │\n",
       "│ 5061586 ┆ 6024804 │\n",
       "│ 6016103 ┆ 6024818 │\n",
       "└─────────┴─────────┘"
      ]
     },
     "execution_count": 231,
     "metadata": {},
     "output_type": "execute_result"
    }
   ],
   "source": [
    "cols_order = df_ids_0.columns\n",
    "\n",
    "df_ids_all = (pl.concat([\n",
    "    df_ids_0,\n",
    "    df_ids_joined_1.with_columns(pl.col(cols_order).cast(pl.Int64))[cols_order],\n",
    "    df_ids_joined_2.with_columns(pl.col(cols_order).cast(pl.Int64))[cols_order],\n",
    "    df_ids_joined_3.with_columns(pl.col(cols_order).cast(pl.Int64))[cols_order],\n",
    "    df_ids_joined_4.with_columns(pl.col(cols_order).cast(pl.Int64))[cols_order],\n",
    "])\n",
    "              .sort(by=\"eid\")\n",
    "             )\n",
    "\n",
    "\n",
    "FILE_OUT = os.path.join(DIR_SOURCE, \"pair_ids_20230518.csv\")\n",
    "df_ids_all.write_csv(FILE_OUT)\n",
    "\n",
    "df_ids_all"
   ]
  },
  {
   "cell_type": "markdown",
   "id": "b7d7bf98",
   "metadata": {},
   "source": [
    "# Final leftover IDs"
   ]
  },
  {
   "cell_type": "code",
   "execution_count": 3,
   "id": "5be74216",
   "metadata": {},
   "outputs": [
    {
     "data": {
      "text/html": [
       "<div><style>\n",
       ".dataframe > thead > tr > th,\n",
       ".dataframe > tbody > tr > td {\n",
       "  text-align: right;\n",
       "}\n",
       "</style>\n",
       "<small>shape: (488160, 2)</small><table border=\"1\" class=\"dataframe\"><thead><tr><th>eid_old</th><th>eid</th></tr><tr><td>i64</td><td>i64</td></tr></thead><tbody><tr><td>1327806</td><td>1000010</td></tr><tr><td>2071371</td><td>1000028</td></tr><tr><td>3017169</td><td>1000034</td></tr><tr><td>2373493</td><td>1000045</td></tr><tr><td>3647458</td><td>1000052</td></tr><tr><td>1477405</td><td>1000069</td></tr><tr><td>3705388</td><td>1000076</td></tr><tr><td>3102569</td><td>1000087</td></tr><tr><td>3867761</td><td>1000091</td></tr><tr><td>2122462</td><td>1000118</td></tr><tr><td>4706318</td><td>1000120</td></tr><tr><td>1147672</td><td>1000133</td></tr><tr><td>&hellip;</td><td>&hellip;</td></tr><tr><td>2178970</td><td>6024702</td></tr><tr><td>4160652</td><td>6024716</td></tr><tr><td>5019738</td><td>6024729</td></tr><tr><td>4741522</td><td>6024737</td></tr><tr><td>3927394</td><td>6024741</td></tr><tr><td>5889789</td><td>6024753</td></tr><tr><td>1019284</td><td>6024768</td></tr><tr><td>5610083</td><td>6024770</td></tr><tr><td>2350278</td><td>6024784</td></tr><tr><td>5200659</td><td>6024795</td></tr><tr><td>5061586</td><td>6024804</td></tr><tr><td>6016103</td><td>6024818</td></tr></tbody></table></div>"
      ],
      "text/plain": [
       "shape: (488_160, 2)\n",
       "┌─────────┬─────────┐\n",
       "│ eid_old ┆ eid     │\n",
       "│ ---     ┆ ---     │\n",
       "│ i64     ┆ i64     │\n",
       "╞═════════╪═════════╡\n",
       "│ 1327806 ┆ 1000010 │\n",
       "│ 2071371 ┆ 1000028 │\n",
       "│ 3017169 ┆ 1000034 │\n",
       "│ 2373493 ┆ 1000045 │\n",
       "│ …       ┆ …       │\n",
       "│ 2350278 ┆ 6024784 │\n",
       "│ 5200659 ┆ 6024795 │\n",
       "│ 5061586 ┆ 6024804 │\n",
       "│ 6016103 ┆ 6024818 │\n",
       "└─────────┴─────────┘"
      ]
     },
     "execution_count": 3,
     "metadata": {},
     "output_type": "execute_result"
    }
   ],
   "source": [
    "df_ids_all = pl.read_csv(os.path.join(DIR_SOURCE, \"pair_ids_20230518.csv\"))\n",
    "df_ids_all"
   ]
  },
  {
   "cell_type": "code",
   "execution_count": null,
   "id": "9eefc702",
   "metadata": {},
   "outputs": [],
   "source": []
  }
 ],
 "metadata": {
  "kernelspec": {
   "display_name": "Python 3 (ipykernel)",
   "language": "python",
   "name": "python3"
  },
  "language_info": {
   "codemirror_mode": {
    "name": "ipython",
    "version": 3
   },
   "file_extension": ".py",
   "mimetype": "text/x-python",
   "name": "python",
   "nbconvert_exporter": "python",
   "pygments_lexer": "ipython3",
   "version": "3.9.16"
  },
  "toc": {
   "base_numbering": 1,
   "nav_menu": {},
   "number_sections": true,
   "sideBar": true,
   "skip_h1_title": false,
   "title_cell": "Table of Contents",
   "title_sidebar": "Contents",
   "toc_cell": false,
   "toc_position": {
    "height": "calc(100% - 180px)",
    "left": "10px",
    "top": "150px",
    "width": "210.125px"
   },
   "toc_section_display": true,
   "toc_window_display": true
  },
  "varInspector": {
   "cols": {
    "lenName": 16,
    "lenType": 16,
    "lenVar": 40
   },
   "kernels_config": {
    "python": {
     "delete_cmd_postfix": "",
     "delete_cmd_prefix": "del ",
     "library": "var_list.py",
     "varRefreshCmd": "print(var_dic_list())"
    },
    "r": {
     "delete_cmd_postfix": ") ",
     "delete_cmd_prefix": "rm(",
     "library": "var_list.r",
     "varRefreshCmd": "cat(var_dic_list()) "
    }
   },
   "types_to_exclude": [
    "module",
    "function",
    "builtin_function_or_method",
    "instance",
    "_Feature"
   ],
   "window_display": false
  }
 },
 "nbformat": 4,
 "nbformat_minor": 5
}
