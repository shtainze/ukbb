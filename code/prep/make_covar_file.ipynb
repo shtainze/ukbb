{
 "cells": [
  {
   "cell_type": "markdown",
   "id": "ab99449f",
   "metadata": {},
   "source": [
    "**Input:** \n",
    "- ACCEL-UKBB merged data\n",
    "\n",
    "**Process:**\n",
    " - Merge relevant fields\n",
    "\n",
    "**Output:**\n",
    " - Covariate files as PLINK2 inputs"
   ]
  },
  {
   "cell_type": "markdown",
   "id": "6d495afd",
   "metadata": {},
   "source": [
    "# Preparation (Execute all in this section!)"
   ]
  },
  {
   "cell_type": "markdown",
   "id": "73867402",
   "metadata": {},
   "source": [
    "## Import libraries & set environment variables"
   ]
  },
  {
   "cell_type": "code",
   "execution_count": 1,
   "id": "bde0e43d",
   "metadata": {},
   "outputs": [
    {
     "name": "stdout",
     "output_type": "stream",
     "text": [
      "Current directory (check that it's your home directory): J:\\sugai\\UKBiobank\n"
     ]
    }
   ],
   "source": [
    "import collections\n",
    "import csv\n",
    "from datetime import datetime\n",
    "import os\n",
    "import numpy as np\n",
    "from pathlib import Path\n",
    "import polars as pl\n",
    "import re\n",
    "from matplotlib import pyplot as plt\n",
    "\n",
    "from scipy import stats\n",
    "\n",
    "import statsmodels.api as sm\n",
    "\n",
    "from contextlib import redirect_stdout\n",
    "from io import StringIO\n",
    "\n",
    "import warnings\n",
    "# suppress DeprecationWarning messages\n",
    "warnings.filterwarnings(\"ignore\", category=DeprecationWarning)\n",
    "\n",
    "\n",
    "# Draw flowcharts using Mermaid\n",
    "import base64\n",
    "from IPython.display import Image, display\n",
    "\n",
    "def mm(graph):\n",
    "  graphbytes = graph.encode(\"ascii\")\n",
    "  base64_bytes = base64.b64encode(graphbytes)\n",
    "  base64_string = base64_bytes.decode(\"ascii\")\n",
    "  display(Image(url=\"https://mermaid.ink/img/\" + base64_string))\n",
    "\n",
    "\n",
    "dir_home = Path(os.getcwd()).parent.parent\n",
    "os.chdir(dir_home)\n",
    "print(\"Current directory (check that it's your home directory):\", os.getcwd())"
   ]
  },
  {
   "cell_type": "code",
   "execution_count": 32,
   "id": "7873ba04",
   "metadata": {},
   "outputs": [
    {
     "data": {
      "text/html": [
       "<img src=\"https://mermaid.ink/img/CmdyYXBoIExSOwogICAgY2xhc3NEZWYgc291cmNlZGF0YSBmaWxsOiNGRkZGRkYKICAgIGNsYXNzRGVmIGZpbmFsIGZpbGw6I0JCQkJCQgogICAgCiAgICBVS0JCKFVLQkItQUNDRUwgZGF0YXNldCk6Ojpzb3VyY2VkYXRhIC0tPiBBZ2U7CiAgICBVS0JCIC0tPiBTZXhbU2V4XTo6OnNvdXJjZWRhdGE7CgogICAgU2V4IC0uLT4gU2V4MltGZW1hbGU9LTFcbk1hbGU9MV0KICAgIAogICAgQWdlIC0uLi0+IENvbWIxW0FnZSB4IFNleF07CiAgICBTZXgyIC0uLT4gQ29tYjFbQWdlIHggU2V4XTsKCiAgICBBZ2UgLS4tPiBDb21iMltBZ2VeMl07CiAgICAKICAgIEFnZSAtLi4tPiBDb21iM1tBZ2VeMiB4IFNleF07CiAgICBTZXgyIC0uLT4gQ29tYjNbQWdlXjIgeCBTZXhdOwoKICAgIFBMSU5LMihQTElOSzIpOjo6c291cmNlZGF0YSAtLS0tLT4gUENbUENzXTsKICAgIAogICAgQWdlIC0tLS0tPiBDb3ZhcltDb3ZhcmlhdGVcbkZpbGVzXTo6OmZpbmFsOwogICAgU2V4MiAtLS0tPiBDb3ZhcjsKICAgIENvbWIxIC0tPiBDb3ZhcjsKICAgIENvbWIyIC0tPiBDb3ZhcjsKICAgIENvbWIzIC0tPiBDb3ZhcjsKICAgIFBDIC0tPiBDb3ZhcjsKCg==\"/>"
      ],
      "text/plain": [
       "<IPython.core.display.Image object>"
      ]
     },
     "metadata": {},
     "output_type": "display_data"
    }
   ],
   "source": [
    "mm(\"\"\"\n",
    "graph LR;\n",
    "    classDef sourcedata fill:#FFFFFF\n",
    "    classDef final fill:#BBBBBB\n",
    "    \n",
    "    UKBB(UKBB-ACCEL dataset):::sourcedata --> Age;\n",
    "    UKBB --> Sex[Sex]:::sourcedata;\n",
    "\n",
    "    Sex -.-> Sex2[Female=-1\\\\nMale=1]\n",
    "    \n",
    "    Age -..-> Comb1[Age x Sex];\n",
    "    Sex2 -.-> Comb1[Age x Sex];\n",
    "\n",
    "    Age -.-> Comb2[Age^2];\n",
    "    \n",
    "    Age -..-> Comb3[Age^2 x Sex];\n",
    "    Sex2 -.-> Comb3[Age^2 x Sex];\n",
    "\n",
    "    PLINK2(PLINK2):::sourcedata -----> PC[PCs];\n",
    "    \n",
    "    Age -----> Covar[Covariate\\\\nFiles]:::final;\n",
    "    Sex2 ----> Covar;\n",
    "    Comb1 --> Covar;\n",
    "    Comb2 --> Covar;\n",
    "    Comb3 --> Covar;\n",
    "    PC --> Covar;\n",
    "\n",
    "\"\"\")\n"
   ]
  },
  {
   "cell_type": "markdown",
   "id": "57a78ac5",
   "metadata": {},
   "source": [
    "## Functions"
   ]
  },
  {
   "cell_type": "code",
   "execution_count": 4,
   "id": "d50d7876",
   "metadata": {
    "scrolled": true
   },
   "outputs": [],
   "source": [
    "def merge_files(list_files, dir):\n",
    "    list_files = [os.path.join(dir, file) for file in list_files]\n",
    "\n",
    "    # Initialize an empty DataFrame\n",
    "    df_merged = pl.DataFrame()\n",
    "    \n",
    "    print(datetime.now(), \"Start processing\", len(list_files), \"files\")\n",
    "\n",
    "    # Loop over each file in the list and add it to the merged DataFrame\n",
    "    for i, file in enumerate(list_files):\n",
    "        func_print(i + 1)\n",
    "        # Read in the current file as a DataFrame\n",
    "        df_current = pl.read_csv(file, separator=\"\\t\")\n",
    "\n",
    "        # Get the column name for the current file's specific column\n",
    "        column_name = os.path.splitext(os.path.basename(file))[0]\n",
    "\n",
    "        # Rename the specific column to the name of the current file\n",
    "        #df_current = df_current.rename(columns={df_current.columns[1]: column_name})\n",
    "        df_current = df_current.rename({df_current.columns[1]: column_name})\n",
    "\n",
    "        # If this is the first file being added, simply set df_merged to df_current\n",
    "        if df_merged.shape == (0, 0):\n",
    "            df_merged = df_current\n",
    "\n",
    "        # Otherwise, merge df_current with df_merged on the \"eid\" column\n",
    "        else:\n",
    "            df_merged = df_merged.join(df_current, on=\"eid\", how=\"outer\")\n",
    "\n",
    "    return df_merged\n",
    "    \n",
    "    \n",
    "\n",
    "def func_print(i):\n",
    "    if i < 10 or str(i)[1:].count('0') == len(str(i))-1:\n",
    "        now = datetime.now()\n",
    "        print(f\"{now.strftime('%Y-%m-%d %H:%M:%S')}: {i}\")\n"
   ]
  },
  {
   "cell_type": "markdown",
   "id": "9fa836a6",
   "metadata": {},
   "source": [
    "# Process 1\n",
    "- PC values are based on QC-filtered variants"
   ]
  },
  {
   "cell_type": "markdown",
   "id": "c0d70e98",
   "metadata": {},
   "source": [
    "## Load"
   ]
  },
  {
   "cell_type": "code",
   "execution_count": 11,
   "id": "297f5743",
   "metadata": {},
   "outputs": [],
   "source": [
    "DIR_SOURCE_TABULAR = os.path.join(\"data\", \"accel_ukbb\", \"split\")\n",
    "FILE_SOURCE_PC = os.path.join(\"data\", \"ukbb\", \"4020457_671006_all\", \"genotype\",\n",
    "                             \"processed\", \"22828_imp_gen_pgen\", \"white_british.pca.eigenvec\")\n",
    "DIR_OUT = os.path.join(\"data\", \"accel_ukbb\", \"plink_covar\")\n",
    "\n",
    "if not os.path.exists(DIR_OUT):\n",
    "    os.makedirs(DIR_OUT)"
   ]
  },
  {
   "cell_type": "markdown",
   "id": "5d21637e",
   "metadata": {},
   "source": [
    "### Load UKBB-ACCEL"
   ]
  },
  {
   "cell_type": "code",
   "execution_count": 41,
   "id": "2289ae39",
   "metadata": {},
   "outputs": [
    {
     "name": "stdout",
     "output_type": "stream",
     "text": [
      "2023-04-26 16:00:40.141888 Start processing 2 files\n",
      "2023-04-26 16:00:40: 1\n",
      "2023-04-26 16:00:40: 2\n"
     ]
    },
    {
     "data": {
      "text/html": [
       "<div><style>\n",
       ".dataframe > thead > tr > th,\n",
       ".dataframe > tbody > tr > td {\n",
       "  text-align: right;\n",
       "}\n",
       "</style>\n",
       "<small>shape: (502386, 3)</small><table border=\"1\" class=\"dataframe\"><thead><tr><th>#FID</th><th>Age</th><th>Sex</th></tr><tr><td>i64</td><td>i64</td><td>i64</td></tr></thead><tbody><tr><td>1000010</td><td>63</td><td>0</td></tr><tr><td>1000028</td><td>47</td><td>0</td></tr><tr><td>1000034</td><td>58</td><td>0</td></tr><tr><td>1000045</td><td>67</td><td>0</td></tr><tr><td>1000052</td><td>64</td><td>0</td></tr><tr><td>1000069</td><td>42</td><td>1</td></tr><tr><td>1000076</td><td>69</td><td>0</td></tr><tr><td>1000087</td><td>63</td><td>0</td></tr><tr><td>1000091</td><td>67</td><td>1</td></tr><tr><td>1000104</td><td>65</td><td>1</td></tr><tr><td>1000118</td><td>62</td><td>1</td></tr><tr><td>1000120</td><td>67</td><td>1</td></tr><tr><td>&hellip;</td><td>&hellip;</td><td>&hellip;</td></tr><tr><td>6024729</td><td>54</td><td>0</td></tr><tr><td>6024737</td><td>42</td><td>0</td></tr><tr><td>6024741</td><td>50</td><td>1</td></tr><tr><td>6024753</td><td>68</td><td>1</td></tr><tr><td>6024768</td><td>59</td><td>0</td></tr><tr><td>6024770</td><td>61</td><td>1</td></tr><tr><td>6024784</td><td>57</td><td>0</td></tr><tr><td>6024795</td><td>41</td><td>1</td></tr><tr><td>6024804</td><td>68</td><td>0</td></tr><tr><td>6024818</td><td>50</td><td>0</td></tr><tr><td>6024820</td><td>43</td><td>0</td></tr><tr><td>6024833</td><td>40</td><td>1</td></tr></tbody></table></div>"
      ],
      "text/plain": [
       "shape: (502_386, 3)\n",
       "┌─────────┬─────┬─────┐\n",
       "│ #FID    ┆ Age ┆ Sex │\n",
       "│ ---     ┆ --- ┆ --- │\n",
       "│ i64     ┆ i64 ┆ i64 │\n",
       "╞═════════╪═════╪═════╡\n",
       "│ 1000010 ┆ 63  ┆ 0   │\n",
       "│ 1000028 ┆ 47  ┆ 0   │\n",
       "│ 1000034 ┆ 58  ┆ 0   │\n",
       "│ 1000045 ┆ 67  ┆ 0   │\n",
       "│ …       ┆ …   ┆ …   │\n",
       "│ 6024804 ┆ 68  ┆ 0   │\n",
       "│ 6024818 ┆ 50  ┆ 0   │\n",
       "│ 6024820 ┆ 43  ┆ 0   │\n",
       "│ 6024833 ┆ 40  ┆ 1   │\n",
       "└─────────┴─────┴─────┘"
      ]
     },
     "execution_count": 41,
     "metadata": {},
     "output_type": "execute_result"
    }
   ],
   "source": [
    "list_files = [\n",
    "\"ukb671006_12163_21003-0.0.txt\", # Age\n",
    "\"ukb671006_00026_31-0.0.txt\", # Sex\n",
    "]\n",
    "df_tabular = merge_files(list_files, DIR_SOURCE_TABULAR)\n",
    "df_tabular = df_tabular.rename({\"eid\": \"#FID\",\n",
    "                               \"ukb671006_12163_21003-0.0\": \"Age\",\n",
    "                               \"ukb671006_00026_31-0.0\": \"Sex\",})\n",
    "df_tabular"
   ]
  },
  {
   "cell_type": "markdown",
   "id": "85093e68",
   "metadata": {},
   "source": [
    "### Load PLINK2-PCs"
   ]
  },
  {
   "cell_type": "code",
   "execution_count": 45,
   "id": "fb2842a3",
   "metadata": {},
   "outputs": [
    {
     "data": {
      "text/html": [
       "<div><style>\n",
       ".dataframe > thead > tr > th,\n",
       ".dataframe > tbody > tr > td {\n",
       "  text-align: right;\n",
       "}\n",
       "</style>\n",
       "<small>shape: (384235, 32)</small><table border=\"1\" class=\"dataframe\"><thead><tr><th>#FID</th><th>IID</th><th>PC1</th><th>PC2</th><th>PC3</th><th>PC4</th><th>PC5</th><th>PC6</th><th>PC7</th><th>PC8</th><th>PC9</th><th>PC10</th><th>PC11</th><th>PC12</th><th>PC13</th><th>PC14</th><th>PC15</th><th>PC16</th><th>PC17</th><th>PC18</th><th>PC19</th><th>PC20</th><th>PC21</th><th>PC22</th><th>PC23</th><th>PC24</th><th>PC25</th><th>PC26</th><th>PC27</th><th>PC28</th><th>PC29</th><th>PC30</th></tr><tr><td>i64</td><td>i64</td><td>f64</td><td>f64</td><td>f64</td><td>f64</td><td>f64</td><td>f64</td><td>f64</td><td>f64</td><td>f64</td><td>f64</td><td>f64</td><td>f64</td><td>f64</td><td>f64</td><td>f64</td><td>f64</td><td>f64</td><td>f64</td><td>f64</td><td>f64</td><td>f64</td><td>f64</td><td>f64</td><td>f64</td><td>f64</td><td>f64</td><td>f64</td><td>f64</td><td>f64</td><td>f64</td></tr></thead><tbody><tr><td>1000010</td><td>1000010</td><td>-0.000892</td><td>0.002689</td><td>0.004079</td><td>-0.002191</td><td>-0.000797</td><td>0.001218</td><td>-0.001312</td><td>0.00066</td><td>-0.000703</td><td>0.000095</td><td>0.000706</td><td>0.00054</td><td>-0.00119</td><td>0.000471</td><td>-0.00098</td><td>-0.001153</td><td>-0.001408</td><td>0.000021</td><td>0.003236</td><td>-0.000909</td><td>0.00095</td><td>0.000093</td><td>0.003274</td><td>-0.000323</td><td>0.002166</td><td>0.000784</td><td>2.5917e-7</td><td>0.00018</td><td>0.001995</td><td>0.001329</td></tr><tr><td>1000028</td><td>1000028</td><td>-0.000471</td><td>-0.002047</td><td>-0.000748</td><td>0.000461</td><td>-0.000755</td><td>0.001297</td><td>-0.000282</td><td>0.000438</td><td>-0.000922</td><td>-0.000048</td><td>0.000907</td><td>-0.000802</td><td>-0.000513</td><td>-0.002508</td><td>-0.000634</td><td>0.001605</td><td>-0.001255</td><td>0.000877</td><td>-0.000742</td><td>0.0024112</td><td>-0.001834</td><td>-0.002736</td><td>-0.000683</td><td>0.000039</td><td>0.001607</td><td>-0.001381</td><td>0.001527</td><td>0.001939</td><td>-0.001501</td><td>-0.000491</td></tr><tr><td>1000034</td><td>1000034</td><td>0.0017603</td><td>0.000476</td><td>-0.001139</td><td>0.000192</td><td>-0.002018</td><td>0.00054</td><td>-0.001851</td><td>0.000626</td><td>-0.000226</td><td>-0.000451</td><td>0.000788</td><td>0.000938</td><td>-0.000036</td><td>0.001619</td><td>0.000266</td><td>-0.003187</td><td>-0.000586</td><td>-0.000459</td><td>0.000406</td><td>-0.001457</td><td>-0.001566</td><td>0.0007</td><td>-0.000044</td><td>-0.002162</td><td>0.000384</td><td>0.000239</td><td>-0.000186</td><td>0.0012559</td><td>0.000909</td><td>0.001271</td></tr><tr><td>1000045</td><td>1000045</td><td>0.000617</td><td>-0.002361</td><td>0.003893</td><td>0.002225</td><td>-0.001103</td><td>-0.000891</td><td>0.000084</td><td>-0.000536</td><td>0.000053</td><td>0.000022</td><td>-0.000753</td><td>0.001031</td><td>-0.003581</td><td>0.000342</td><td>0.001265</td><td>0.000315</td><td>0.000702</td><td>0.00045</td><td>-0.00089</td><td>-0.001404</td><td>0.000011</td><td>0.001237</td><td>0.00028</td><td>-0.000753</td><td>0.001129</td><td>0.001527</td><td>0.000172</td><td>0.000721</td><td>0.000452</td><td>0.000796</td></tr><tr><td>1000052</td><td>1000052</td><td>0.004033</td><td>-0.00088</td><td>-0.002209</td><td>-0.001374</td><td>-0.001971</td><td>-0.001118</td><td>-0.000997</td><td>0.00139</td><td>-0.001738</td><td>0.000704</td><td>0.000232</td><td>-0.000465</td><td>0.0012899</td><td>-0.00042</td><td>-0.000452</td><td>-0.00127</td><td>-0.000698</td><td>0.002015</td><td>-0.000757</td><td>0.000644</td><td>-0.001778</td><td>0.001365</td><td>0.001648</td><td>0.000344</td><td>-0.001475</td><td>0.00038</td><td>-0.000036</td><td>-0.000861</td><td>0.000304</td><td>-0.000256</td></tr><tr><td>1000076</td><td>1000076</td><td>-0.000789</td><td>0.000114</td><td>-0.000083</td><td>0.000623</td><td>-0.003142</td><td>0.000668</td><td>-0.00216</td><td>0.000372</td><td>-0.00023</td><td>0.000418</td><td>0.001531</td><td>-0.003507</td><td>-0.001884</td><td>0.001466</td><td>-0.000353</td><td>-0.000732</td><td>0.000536</td><td>-0.00172</td><td>-0.000313</td><td>-0.00041</td><td>-0.001283</td><td>-0.000732</td><td>-0.000024</td><td>0.001427</td><td>0.000081</td><td>-0.000619</td><td>-0.000538</td><td>-0.002038</td><td>-0.000164</td><td>0.001419</td></tr><tr><td>1000087</td><td>1000087</td><td>-0.001075</td><td>-0.001881</td><td>0.002837</td><td>-0.000307</td><td>-0.000096</td><td>0.001592</td><td>0.0015619</td><td>-0.002839</td><td>0.001233</td><td>-0.001343</td><td>-0.000163</td><td>0.001426</td><td>0.000223</td><td>-0.002026</td><td>0.000878</td><td>0.003561</td><td>-0.00061</td><td>0.001066</td><td>0.000048</td><td>-0.002325</td><td>-0.000491</td><td>-0.002953</td><td>-0.000025</td><td>-0.000293</td><td>-0.000798</td><td>-0.001131</td><td>0.000434</td><td>0.000332</td><td>-0.003127</td><td>0.001305</td></tr><tr><td>1000091</td><td>1000091</td><td>-0.001084</td><td>-0.002091</td><td>-0.000996</td><td>-0.000215</td><td>-0.002503</td><td>-0.001989</td><td>-0.002098</td><td>-0.000628</td><td>0.001017</td><td>0.000015</td><td>-0.00037</td><td>0.001749</td><td>0.000113</td><td>0.000438</td><td>-0.002894</td><td>-0.000704</td><td>-0.001561</td><td>0.001479</td><td>0.002289</td><td>-0.001179</td><td>0.0018</td><td>0.001725</td><td>0.000867</td><td>-0.002852</td><td>0.003718</td><td>0.0014467</td><td>-0.003404</td><td>-0.000912</td><td>0.001834</td><td>-0.002691</td></tr><tr><td>1000104</td><td>1000104</td><td>-0.001129</td><td>-0.002598</td><td>-0.000212</td><td>0.001835</td><td>-0.000825</td><td>0.002155</td><td>0.001301</td><td>-0.003622</td><td>0.001843</td><td>-0.00198</td><td>0.000375</td><td>0.0013351</td><td>0.002333</td><td>0.000826</td><td>0.00067</td><td>-0.001056</td><td>-0.000616</td><td>0.000934</td><td>0.00157</td><td>0.000495</td><td>0.000511</td><td>-0.001447</td><td>-0.001087</td><td>-0.004348</td><td>0.001088</td><td>-0.000894</td><td>-0.001209</td><td>0.001293</td><td>0.0012656</td><td>-0.002716</td></tr><tr><td>1000118</td><td>1000118</td><td>0.000631</td><td>0.000298</td><td>0.001954</td><td>0.006409</td><td>0.000856</td><td>0.000346</td><td>0.000626</td><td>0.001469</td><td>-0.001753</td><td>0.002845</td><td>-0.001838</td><td>0.001675</td><td>-0.000219</td><td>0.001595</td><td>-0.000769</td><td>-0.002683</td><td>0.001783</td><td>-0.002957</td><td>0.001839</td><td>-0.002299</td><td>-0.000798</td><td>-0.000908</td><td>0.000789</td><td>0.000411</td><td>-0.001799</td><td>0.000928</td><td>0.001702</td><td>-0.001282</td><td>-0.002072</td><td>0.000247</td></tr><tr><td>1000133</td><td>1000133</td><td>-0.001932</td><td>-0.000012</td><td>-0.000783</td><td>0.000625</td><td>0.001924</td><td>-0.000526</td><td>-0.000534</td><td>0.002135</td><td>0.00111</td><td>-0.002179</td><td>0.000808</td><td>0.000565</td><td>0.001032</td><td>0.000436</td><td>0.001369</td><td>-0.003422</td><td>0.003666</td><td>0.002465</td><td>0.003653</td><td>0.003534</td><td>0.001803</td><td>-0.000067</td><td>-0.000208</td><td>-0.001008</td><td>0.002478</td><td>0.002162</td><td>0.001623</td><td>-0.00175</td><td>0.000892</td><td>-0.000745</td></tr><tr><td>1000159</td><td>1000159</td><td>-0.000828</td><td>0.000606</td><td>0.000541</td><td>0.000286</td><td>-0.001176</td><td>0.001137</td><td>-0.002701</td><td>-0.000642</td><td>-0.000823</td><td>0.000058</td><td>0.001346</td><td>-0.001716</td><td>-0.00108</td><td>-0.00024</td><td>0.000218</td><td>0.000709</td><td>-0.000554</td><td>-0.000257</td><td>0.002423</td><td>-0.002382</td><td>0.003506</td><td>-0.001829</td><td>0.000972</td><td>-0.001576</td><td>-0.000185</td><td>-0.001755</td><td>0.000908</td><td>-0.001862</td><td>-0.000027</td><td>-0.002567</td></tr><tr><td>&hellip;</td><td>&hellip;</td><td>&hellip;</td><td>&hellip;</td><td>&hellip;</td><td>&hellip;</td><td>&hellip;</td><td>&hellip;</td><td>&hellip;</td><td>&hellip;</td><td>&hellip;</td><td>&hellip;</td><td>&hellip;</td><td>&hellip;</td><td>&hellip;</td><td>&hellip;</td><td>&hellip;</td><td>&hellip;</td><td>&hellip;</td><td>&hellip;</td><td>&hellip;</td><td>&hellip;</td><td>&hellip;</td><td>&hellip;</td><td>&hellip;</td><td>&hellip;</td><td>&hellip;</td><td>&hellip;</td><td>&hellip;</td><td>&hellip;</td><td>&hellip;</td><td>&hellip;</td></tr><tr><td>6024643</td><td>6024643</td><td>-0.001683</td><td>-0.002041</td><td>-0.000698</td><td>0.000196</td><td>-0.001505</td><td>-0.000696</td><td>0.001764</td><td>-0.001488</td><td>0.000385</td><td>-0.000999</td><td>0.0017403</td><td>-0.000755</td><td>0.000025</td><td>-0.001321</td><td>-0.002741</td><td>0.000643</td><td>0.000994</td><td>-0.000706</td><td>0.001171</td><td>-0.00132</td><td>0.000146</td><td>-0.001432</td><td>-0.000562</td><td>0.001394</td><td>0.000519</td><td>0.001245</td><td>0.000039</td><td>-0.001424</td><td>0.000543</td><td>-0.002337</td></tr><tr><td>6024650</td><td>6024650</td><td>-0.001875</td><td>-0.002584</td><td>-0.000545</td><td>-0.000495</td><td>-0.001016</td><td>-0.001918</td><td>0.000728</td><td>0.000068</td><td>-0.001316</td><td>0.002005</td><td>0.0016119</td><td>-0.000125</td><td>-0.00367</td><td>-0.000305</td><td>0.000025</td><td>-0.002163</td><td>-0.000946</td><td>-0.000136</td><td>0.001646</td><td>0.000115</td><td>-0.000026</td><td>-0.002855</td><td>0.00049</td><td>-0.000942</td><td>0.001683</td><td>0.002938</td><td>0.001456</td><td>-0.000844</td><td>0.001013</td><td>0.003211</td></tr><tr><td>6024664</td><td>6024664</td><td>-0.000535</td><td>-0.000239</td><td>0.001407</td><td>-0.001301</td><td>0.00002</td><td>0.000148</td><td>0.002105</td><td>0.000523</td><td>-0.001658</td><td>0.001653</td><td>-0.002222</td><td>0.000622</td><td>0.000627</td><td>0.0012385</td><td>0.00355</td><td>0.00046</td><td>0.000299</td><td>-0.000764</td><td>-0.002365</td><td>0.000192</td><td>-0.000541</td><td>0.000626</td><td>-0.000565</td><td>-0.000686</td><td>0.001228</td><td>0.0010366</td><td>-0.002581</td><td>-0.002678</td><td>-0.000341</"
      ],
      "text/plain": [
       "shape: (384_235, 32)\n",
       "┌─────────┬─────────┬───────────┬───────────┬───┬───────────┬───────────┬───────────┬───────────┐\n",
       "│ #FID    ┆ IID     ┆ PC1       ┆ PC2       ┆ … ┆ PC27      ┆ PC28      ┆ PC29      ┆ PC30      │\n",
       "│ ---     ┆ ---     ┆ ---       ┆ ---       ┆   ┆ ---       ┆ ---       ┆ ---       ┆ ---       │\n",
       "│ i64     ┆ i64     ┆ f64       ┆ f64       ┆   ┆ f64       ┆ f64       ┆ f64       ┆ f64       │\n",
       "╞═════════╪═════════╪═══════════╪═══════════╪═══╪═══════════╪═══════════╪═══════════╪═══════════╡\n",
       "│ 1000010 ┆ 1000010 ┆ -0.000892 ┆ 0.002689  ┆ … ┆ 2.5917e-7 ┆ 0.00018   ┆ 0.001995  ┆ 0.001329  │\n",
       "│ 1000028 ┆ 1000028 ┆ -0.000471 ┆ -0.002047 ┆ … ┆ 0.001527  ┆ 0.001939  ┆ -0.001501 ┆ -0.000491 │\n",
       "│ 1000034 ┆ 1000034 ┆ 0.0017603 ┆ 0.000476  ┆ … ┆ -0.000186 ┆ 0.0012559 ┆ 0.000909  ┆ 0.001271  │\n",
       "│ 1000045 ┆ 1000045 ┆ 0.000617  ┆ -0.002361 ┆ … ┆ 0.000172  ┆ 0.000721  ┆ 0.000452  ┆ 0.000796  │\n",
       "│ …       ┆ …       ┆ …         ┆ …         ┆ … ┆ …         ┆ …         ┆ …         ┆ …         │\n",
       "│ 6024753 ┆ 6024753 ┆ -0.001623 ┆ -0.00189  ┆ … ┆ -0.001734 ┆ -0.002259 ┆ -0.001193 ┆ 0.001222  │\n",
       "│ 6024770 ┆ 6024770 ┆ -0.001042 ┆ 0.002398  ┆ … ┆ 0.000983  ┆ 0.00336   ┆ 0.002025  ┆ -0.000625 │\n",
       "│ 6024784 ┆ 6024784 ┆ -0.002    ┆ 0.000217  ┆ … ┆ -0.000914 ┆ 0.000367  ┆ -0.000876 ┆ -0.000765 │\n",
       "│ 6024818 ┆ 6024818 ┆ -0.000588 ┆ -0.000297 ┆ … ┆ 0.00109   ┆ -0.00034  ┆ -0.000121 ┆ 0.001018  │\n",
       "└─────────┴─────────┴───────────┴───────────┴───┴───────────┴───────────┴───────────┴───────────┘"
      ]
     },
     "execution_count": 45,
     "metadata": {},
     "output_type": "execute_result"
    },
    {
     "data": {
      "text/html": [
       "<b>limit_output extension: Maximum message size of 10000 exceeded with 15126 characters</b>"
      ]
     },
     "metadata": {},
     "output_type": "display_data"
    }
   ],
   "source": [
    "### Only for practice (small file)\n",
    "# FILE_SOURCE_PC_PRACTICE = os.path.join(\"data\", \"ukbb\", \"4020457_671006_all\", \"genotype\",\n",
    "#                              \"processed\", \"22828_imp_gen_pgen\", \"head.txt\")\n",
    "# df_pc = pl.read_csv(FILE_SOURCE_PC_PRACTICE, separator=\"\\t\")\n",
    "\n",
    "df_pc = pl.read_csv(FILE_SOURCE_PC, separator=\"\\t\")\n",
    "df_pc"
   ]
  },
  {
   "cell_type": "markdown",
   "id": "d915d763",
   "metadata": {},
   "source": [
    "## Preprocess the UKBB-ACCEL data\n",
    "- Sex: \"Female=0, Male=1\" -> \"Female=-1, Male=1\"\n",
    "- Calculate combinations (Age^2, AgexSex, Age^2xSex)"
   ]
  },
  {
   "cell_type": "code",
   "execution_count": 42,
   "id": "8562d6d6",
   "metadata": {},
   "outputs": [
    {
     "data": {
      "text/html": [
       "<div><style>\n",
       ".dataframe > thead > tr > th,\n",
       ".dataframe > tbody > tr > td {\n",
       "  text-align: right;\n",
       "}\n",
       "</style>\n",
       "<small>shape: (502386, 6)</small><table border=\"1\" class=\"dataframe\"><thead><tr><th>#FID</th><th>Age</th><th>Sex</th><th>Age^2</th><th>Age_Sex</th><th>Age^2_Sex</th></tr><tr><td>i64</td><td>i64</td><td>i64</td><td>f64</td><td>i64</td><td>f64</td></tr></thead><tbody><tr><td>1000010</td><td>63</td><td>-1</td><td>3969.0</td><td>-63</td><td>-3969.0</td></tr><tr><td>1000028</td><td>47</td><td>-1</td><td>2209.0</td><td>-47</td><td>-2209.0</td></tr><tr><td>1000034</td><td>58</td><td>-1</td><td>3364.0</td><td>-58</td><td>-3364.0</td></tr><tr><td>1000045</td><td>67</td><td>-1</td><td>4489.0</td><td>-67</td><td>-4489.0</td></tr><tr><td>1000052</td><td>64</td><td>-1</td><td>4096.0</td><td>-64</td><td>-4096.0</td></tr><tr><td>1000069</td><td>42</td><td>1</td><td>1764.0</td><td>42</td><td>1764.0</td></tr><tr><td>1000076</td><td>69</td><td>-1</td><td>4761.0</td><td>-69</td><td>-4761.0</td></tr><tr><td>1000087</td><td>63</td><td>-1</td><td>3969.0</td><td>-63</td><td>-3969.0</td></tr><tr><td>1000091</td><td>67</td><td>1</td><td>4489.0</td><td>67</td><td>4489.0</td></tr><tr><td>1000104</td><td>65</td><td>1</td><td>4225.0</td><td>65</td><td>4225.0</td></tr><tr><td>1000118</td><td>62</td><td>1</td><td>3844.0</td><td>62</td><td>3844.0</td></tr><tr><td>1000120</td><td>67</td><td>1</td><td>4489.0</td><td>67</td><td>4489.0</td></tr><tr><td>&hellip;</td><td>&hellip;</td><td>&hellip;</td><td>&hellip;</td><td>&hellip;</td><td>&hellip;</td></tr><tr><td>6024729</td><td>54</td><td>-1</td><td>2916.0</td><td>-54</td><td>-2916.0</td></tr><tr><td>6024737</td><td>42</td><td>-1</td><td>1764.0</td><td>-42</td><td>-1764.0</td></tr><tr><td>6024741</td><td>50</td><td>1</td><td>2500.0</td><td>50</td><td>2500.0</td></tr><tr><td>6024753</td><td>68</td><td>1</td><td>4624.0</td><td>68</td><td>4624.0</td></tr><tr><td>6024768</td><td>59</td><td>-1</td><td>3481.0</td><td>-59</td><td>-3481.0</td></tr><tr><td>6024770</td><td>61</td><td>1</td><td>3721.0</td><td>61</td><td>3721.0</td></tr><tr><td>6024784</td><td>57</td><td>-1</td><td>3249.0</td><td>-57</td><td>-3249.0</td></tr><tr><td>6024795</td><td>41</td><td>1</td><td>1681.0</td><td>41</td><td>1681.0</td></tr><tr><td>6024804</td><td>68</td><td>-1</td><td>4624.0</td><td>-68</td><td>-4624.0</td></tr><tr><td>6024818</td><td>50</td><td>-1</td><td>2500.0</td><td>-50</td><td>-2500.0</td></tr><tr><td>6024820</td><td>43</td><td>-1</td><td>1849.0</td><td>-43</td><td>-1849.0</td></tr><tr><td>6024833</td><td>40</td><td>1</td><td>1600.0</td><td>40</td><td>1600.0</td></tr></tbody></table></div>"
      ],
      "text/plain": [
       "shape: (502_386, 6)\n",
       "┌─────────┬─────┬─────┬────────┬─────────┬───────────┐\n",
       "│ #FID    ┆ Age ┆ Sex ┆ Age^2  ┆ Age_Sex ┆ Age^2_Sex │\n",
       "│ ---     ┆ --- ┆ --- ┆ ---    ┆ ---     ┆ ---       │\n",
       "│ i64     ┆ i64 ┆ i64 ┆ f64    ┆ i64     ┆ f64       │\n",
       "╞═════════╪═════╪═════╪════════╪═════════╪═══════════╡\n",
       "│ 1000010 ┆ 63  ┆ -1  ┆ 3969.0 ┆ -63     ┆ -3969.0   │\n",
       "│ 1000028 ┆ 47  ┆ -1  ┆ 2209.0 ┆ -47     ┆ -2209.0   │\n",
       "│ 1000034 ┆ 58  ┆ -1  ┆ 3364.0 ┆ -58     ┆ -3364.0   │\n",
       "│ 1000045 ┆ 67  ┆ -1  ┆ 4489.0 ┆ -67     ┆ -4489.0   │\n",
       "│ …       ┆ …   ┆ …   ┆ …      ┆ …       ┆ …         │\n",
       "│ 6024804 ┆ 68  ┆ -1  ┆ 4624.0 ┆ -68     ┆ -4624.0   │\n",
       "│ 6024818 ┆ 50  ┆ -1  ┆ 2500.0 ┆ -50     ┆ -2500.0   │\n",
       "│ 6024820 ┆ 43  ┆ -1  ┆ 1849.0 ┆ -43     ┆ -1849.0   │\n",
       "│ 6024833 ┆ 40  ┆ 1   ┆ 1600.0 ┆ 40      ┆ 1600.0    │\n",
       "└─────────┴─────┴─────┴────────┴─────────┴───────────┘"
      ]
     },
     "execution_count": 42,
     "metadata": {},
     "output_type": "execute_result"
    }
   ],
   "source": [
    "df_tabular = (df_tabular\n",
    " .with_columns([\n",
    "     (df_tabular['Sex'] * 2 -1).alias('Sex'),\n",
    " ])\n",
    ")\n",
    "\n",
    "df_tabular = (df_tabular\n",
    " .with_columns([\n",
    "     (df_tabular['Age'] ** 2).alias('Age^2'),\n",
    "     (df_tabular['Age'] * df_tabular['Sex']).alias('Age_Sex'),\n",
    "     (df_tabular['Age'] ** 2 * df_tabular['Sex']).alias('Age^2_Sex'),\n",
    " ])\n",
    ")\n",
    "\n",
    "df_tabular"
   ]
  },
  {
   "cell_type": "markdown",
   "id": "cfa912c6",
   "metadata": {},
   "source": [
    "## Join"
   ]
  },
  {
   "cell_type": "code",
   "execution_count": 46,
   "id": "78444322",
   "metadata": {},
   "outputs": [
    {
     "data": {
      "text/html": [
       "<div><style>\n",
       ".dataframe > thead > tr > th,\n",
       ".dataframe > tbody > tr > td {\n",
       "  text-align: right;\n",
       "}\n",
       "</style>\n",
       "<small>shape: (384235, 37)</small><table border=\"1\" class=\"dataframe\"><thead><tr><th>#FID</th><th>IID</th><th>PC1</th><th>PC2</th><th>PC3</th><th>PC4</th><th>PC5</th><th>PC6</th><th>PC7</th><th>PC8</th><th>PC9</th><th>PC10</th><th>PC11</th><th>PC12</th><th>PC13</th><th>PC14</th><th>PC15</th><th>PC16</th><th>PC17</th><th>PC18</th><th>PC19</th><th>PC20</th><th>PC21</th><th>PC22</th><th>PC23</th><th>PC24</th><th>PC25</th><th>PC26</th><th>PC27</th><th>PC28</th><th>PC29</th><th>PC30</th><th>Age</th><th>Sex</th><th>Age^2</th><th>Age_Sex</th><th>Age^2_Sex</th></tr><tr><td>i64</td><td>i64</td><td>f64</td><td>f64</td><td>f64</td><td>f64</td><td>f64</td><td>f64</td><td>f64</td><td>f64</td><td>f64</td><td>f64</td><td>f64</td><td>f64</td><td>f64</td><td>f64</td><td>f64</td><td>f64</td><td>f64</td><td>f64</td><td>f64</td><td>f64</td><td>f64</td><td>f64</td><td>f64</td><td>f64</td><td>f64</td><td>f64</td><td>f64</td><td>f64</td><td>f64</td><td>f64</td><td>i64</td><td>i64</td><td>f64</td><td>i64</td><td>f64</td></tr></thead><tbody><tr><td>1000010</td><td>1000010</td><td>-0.000892</td><td>0.002689</td><td>0.004079</td><td>-0.002191</td><td>-0.000797</td><td>0.001218</td><td>-0.001312</td><td>0.00066</td><td>-0.000703</td><td>0.000095</td><td>0.000706</td><td>0.00054</td><td>-0.00119</td><td>0.000471</td><td>-0.00098</td><td>-0.001153</td><td>-0.001408</td><td>0.000021</td><td>0.003236</td><td>-0.000909</td><td>0.00095</td><td>0.000093</td><td>0.003274</td><td>-0.000323</td><td>0.002166</td><td>0.000784</td><td>2.5917e-7</td><td>0.00018</td><td>0.001995</td><td>0.001329</td><td>63</td><td>-1</td><td>3969.0</td><td>-63</td><td>-3969.0</td></tr><tr><td>1000028</td><td>1000028</td><td>-0.000471</td><td>-0.002047</td><td>-0.000748</td><td>0.000461</td><td>-0.000755</td><td>0.001297</td><td>-0.000282</td><td>0.000438</td><td>-0.000922</td><td>-0.000048</td><td>0.000907</td><td>-0.000802</td><td>-0.000513</td><td>-0.002508</td><td>-0.000634</td><td>0.001605</td><td>-0.001255</td><td>0.000877</td><td>-0.000742</td><td>0.0024112</td><td>-0.001834</td><td>-0.002736</td><td>-0.000683</td><td>0.000039</td><td>0.001607</td><td>-0.001381</td><td>0.001527</td><td>0.001939</td><td>-0.001501</td><td>-0.000491</td><td>47</td><td>-1</td><td>2209.0</td><td>-47</td><td>-2209.0</td></tr><tr><td>1000034</td><td>1000034</td><td>0.0017603</td><td>0.000476</td><td>-0.001139</td><td>0.000192</td><td>-0.002018</td><td>0.00054</td><td>-0.001851</td><td>0.000626</td><td>-0.000226</td><td>-0.000451</td><td>0.000788</td><td>0.000938</td><td>-0.000036</td><td>0.001619</td><td>0.000266</td><td>-0.003187</td><td>-0.000586</td><td>-0.000459</td><td>0.000406</td><td>-0.001457</td><td>-0.001566</td><td>0.0007</td><td>-0.000044</td><td>-0.002162</td><td>0.000384</td><td>0.000239</td><td>-0.000186</td><td>0.0012559</td><td>0.000909</td><td>0.001271</td><td>58</td><td>-1</td><td>3364.0</td><td>-58</td><td>-3364.0</td></tr><tr><td>1000045</td><td>1000045</td><td>0.000617</td><td>-0.002361</td><td>0.003893</td><td>0.002225</td><td>-0.001103</td><td>-0.000891</td><td>0.000084</td><td>-0.000536</td><td>0.000053</td><td>0.000022</td><td>-0.000753</td><td>0.001031</td><td>-0.003581</td><td>0.000342</td><td>0.001265</td><td>0.000315</td><td>0.000702</td><td>0.00045</td><td>-0.00089</td><td>-0.001404</td><td>0.000011</td><td>0.001237</td><td>0.00028</td><td>-0.000753</td><td>0.001129</td><td>0.001527</td><td>0.000172</td><td>0.000721</td><td>0.000452</td><td>0.000796</td><td>67</td><td>-1</td><td>4489.0</td><td>-67</td><td>-4489.0</td></tr><tr><td>1000052</td><td>1000052</td><td>0.004033</td><td>-0.00088</td><td>-0.002209</td><td>-0.001374</td><td>-0.001971</td><td>-0.001118</td><td>-0.000997</td><td>0.00139</td><td>-0.001738</td><td>0.000704</td><td>0.000232</td><td>-0.000465</td><td>0.0012899</td><td>-0.00042</td><td>-0.000452</td><td>-0.00127</td><td>-0.000698</td><td>0.002015</td><td>-0.000757</td><td>0.000644</td><td>-0.001778</td><td>0.001365</td><td>0.001648</td><td>0.000344</td><td>-0.001475</td><td>0.00038</td><td>-0.000036</td><td>-0.000861</td><td>0.000304</td><td>-0.000256</td><td>64</td><td>-1</td><td>4096.0</td><td>-64</td><td>-4096.0</td></tr><tr><td>1000076</td><td>1000076</td><td>-0.000789</td><td>0.000114</td><td>-0.000083</td><td>0.000623</td><td>-0.003142</td><td>0.000668</td><td>-0.00216</td><td>0.000372</td><td>-0.00023</td><td>0.000418</td><td>0.001531</td><td>-0.003507</td><td>-0.001884</td><td>0.001466</td><td>-0.000353</td><td>-0.000732</td><td>0.000536</td><td>-0.00172</td><td>-0.000313</td><td>-0.00041</td><td>-0.001283</td><td>-0.000732</td><td>-0.000024</td><td>0.001427</td><td>0.000081</td><td>-0.000619</td><td>-0.000538</td><td>-0.002038</td><td>-0.000164</td><td>0.001419</td><td>69</td><td>-1</td><td>4761.0</td><td>-69</td><td>-4761.0</td></tr><tr><td>1000087</td><td>1000087</td><td>-0.001075</td><td>-0.001881</td><td>0.002837</td><td>-0.000307</td><td>-0.000096</td><td>0.001592</td><td>0.0015619</td><td>-0.002839</td><td>0.001233</td><td>-0.001343</td><td>-0.000163</td><td>0.001426</td><td>0.000223</td><td>-0.002026</td><td>0.000878</td><td>0.003561</td><td>-0.00061</td><td>0.001066</td><td>0.000048</td><td>-0.002325</td><td>-0.000491</td><td>-0.002953</td><td>-0.000025</td><td>-0.000293</td><td>-0.000798</td><td>-0.001131</td><td>0.000434</td><td>0.000332</td><td>-0.003127</td><td>0.001305</td><td>63</td><td>-1</td><td>3969.0</td><td>-63</td><td>-3969.0</td></tr><tr><td>1000091</td><td>1000091</td><td>-0.001084</td><td>-0.002091</td><td>-0.000996</td><td>-0.000215</td><td>-0.002503</td><td>-0.001989</td><td>-0.002098</td><td>-0.000628</td><td>0.001017</td><td>0.000015</td><td>-0.00037</td><td>0.001749</td><td>0.000113</td><td>0.000438</td><td>-0.002894</td><td>-0.000704</td><td>-0.001561</td><td>0.001479</td><td>0.002289</td><td>-0.001179</td><td>0.0018</td><td>0.001725</td><td>0.000867</td><td>-0.002852</td><td>0.003718</td><td>0.0014467</td><td>-0.003404</td><td>-0.000912</td><td>0.001834</td><td>-0.002691</td><td>67</td><td>1</td><td>4489.0</td><td>67</td><td>4489.0</td></tr><tr><td>1000104</td><td>1000104</td><td>-0.001129</td><td>-0.002598</td><td>-0.000212</td><td>0.001835</td><td>-0.000825</td><td>0.002155</td><td>0.001301</td><td>-0.003622</td><td>0.001843</td><td>-0.00198</td><td>0.000375</td><td>0.0013351</td><td>0.002333</td><td>0.000826</td><td>0.00067</td><td>-0.001056</td><td>-0.000616</td><td>0.000934</td><td>0.00157</td><td>0.000495</td><td>0.000511</td><td>-0.001447</td><td>-0.001087</td><td>-0.004348</td><td>0.001088</td><td>-0.000894</td><td>-0.001209</td><td>0.001293</td><td>0.0012656</td><td>-0.002716</td><td>65</td><td>1</td><td>4225.0</td><td>65</td><td>4225.0</td></tr><tr><td>1000118</td><td>1000118</td><td>0.000631</td><td>0.000298</td><td>0.001954</td><td>0.006409</td><td>0.000856</td><td>0.000346</td><td>0.000626</td><td>0.001469</td><td>-0.001753</td><td>0.002845</td><td>-0.001838</td><td>0.001675</td><td>-0.000219</td><td>0.001595</td><td>-0.000769</td><td>-0.002683</td><td>0.001783</td><td>-0.002957</td><td>0.001839</td><td>-0.002299</td><td>-0.000798</td><td>-0.000908</td><td>0.000789</td><td>0.000411</td><td>-0.001799</td><td>0.000928</td><td>0.001702</td><td>-0.001282</td><td>-0.002072</td><td>0.000247</td><td>62</td><td>1</td><td>3844.0</td><td>62</td><td>3844.0</td></tr><tr><td>1000133</td><td>1000133</td><td>-0.001932</td><td>-0.000012</td><td>-0.000783</td><td>0.000625</td><td>0.001924</td><td>-0.000526</td><td>-0.000534</td><td>0.002135</td><td>0.00111</td><td>-0.002179</td><td>0.000808</td><td>0.000565</td><td>0.001032</td><td>0.000436</td><td>0.001369</td><td>-0.003422</td><td>0.003666</td><td>0.002465</td><td>0.003653</td><td>0.003534</td><td>0.001803</td><td>-0.000067</td><td>-0.000208</td><td>-0.001008</td><td>0.002478</td><td>0.002162</td><td>0.001623</td><td>-0.00175</td><td>0.000892</td><td>-0.000745</td><td>65</td><td>-1</td><td>4225.0</td><td>-65</td><td>-4225.0</td></tr><tr><td>1000159</td><td>1000159</td><td>-0.000828</td><td>0.000606</td><td>0.000541</td><td>0.000286</td><td>-0.001176</td><td>0.001137</td><td>-0.002701</td><td>-0.000642</td><td>-0.000823</td><td>0.000058</td><td>0.001346</td><td>-0.001716</td><td>-0.00108</td><td>-0.00024</td><td>0.000218</td><td>0.000709</td><td>-0.000554</td><td>-0.000257</td><td>0.002423</td><td>-0.002382</td><td>0.003506</td><td>-0.001829</td><td>0.000972</td><td>-0.001576</td><td>-0.000185</td><td>-0.001755</td><td>0.000908</td><td>-0.001862</td><td>-0.000027</td><td>-0.002567</td><td>44</td><td>1</td><td>1936.0</td><td>44</td><td>1936.0</td></tr><tr><td>&hellip;</td><td>&hellip;</td><td>&hellip;</td><td>&hellip;</td><td>&hellip;</td><td>&hellip;</td><td>&hellip;</td><td>&hellip;</td><td>&hellip;</td><td>&hellip;</td><td>&hellip;</td><td>&hellip;</td><td>&hellip;</td><td>&hellip;</td><td>&hellip;</td><td>&hellip;</td><td>&hellip;</td><td>&hellip;</td><td>&hellip;</td><td>&hellip;</td><td>&hellip;</td><td>&hellip;</td><td>&hellip;</td><td>&hellip;</td><td>&hellip;</td><td>&hellip;</td><td>&hellip;</td><td>&hellip;</td><td>&hellip;</td><td>&hellip;</td><td>&hellip;</td><td>&hellip;</td><td>&hellip;</td><td>&hellip;</td><td>&hellip;</td><td>&hellip;</td><td>&hellip;</td></tr><tr><td>6024643</td><td>6024643</td><td>-0.001683</td><td>-0.002041</td><td>-0.000698</td><td>0.000196</td><td>-0.001505</td><td>-0.000696</td><td>0.001764</td><td>-0.001488</td><td>0.000385</td><td>-0.000999</td><td>0.0017403</td><td>-0.000755</td><td>0.000025</td><td>-0.001321</td><td>-0.002741</td><td>0.000643</td><td>0.000994</td><td>-0.000706</td><td>0.001171</td><td>-0.00132</td><td>0.000146</td><td>-0.001432</td><td>-0.000562</td><td>0.001394</td><td>0.000519</td><td>0.001245</td><td>0.000039</td><td>-0.001424</td><td>0.000543</td><td>-0.002337</td><td>58</td><td>-1</td><td>3364.0</td><td>-58</td><td>-3364.0</td></tr><tr><td>6024650</td><td>6024650</td><td>-0.001875</td><"
      ],
      "text/plain": [
       "shape: (384_235, 37)\n",
       "┌─────────┬─────────┬───────────┬───────────┬───┬─────┬────────┬─────────┬───────────┐\n",
       "│ #FID    ┆ IID     ┆ PC1       ┆ PC2       ┆ … ┆ Sex ┆ Age^2  ┆ Age_Sex ┆ Age^2_Sex │\n",
       "│ ---     ┆ ---     ┆ ---       ┆ ---       ┆   ┆ --- ┆ ---    ┆ ---     ┆ ---       │\n",
       "│ i64     ┆ i64     ┆ f64       ┆ f64       ┆   ┆ i64 ┆ f64    ┆ i64     ┆ f64       │\n",
       "╞═════════╪═════════╪═══════════╪═══════════╪═══╪═════╪════════╪═════════╪═══════════╡\n",
       "│ 1000010 ┆ 1000010 ┆ -0.000892 ┆ 0.002689  ┆ … ┆ -1  ┆ 3969.0 ┆ -63     ┆ -3969.0   │\n",
       "│ 1000028 ┆ 1000028 ┆ -0.000471 ┆ -0.002047 ┆ … ┆ -1  ┆ 2209.0 ┆ -47     ┆ -2209.0   │\n",
       "│ 1000034 ┆ 1000034 ┆ 0.0017603 ┆ 0.000476  ┆ … ┆ -1  ┆ 3364.0 ┆ -58     ┆ -3364.0   │\n",
       "│ 1000045 ┆ 1000045 ┆ 0.000617  ┆ -0.002361 ┆ … ┆ -1  ┆ 4489.0 ┆ -67     ┆ -4489.0   │\n",
       "│ …       ┆ …       ┆ …         ┆ …         ┆ … ┆ …   ┆ …      ┆ …       ┆ …         │\n",
       "│ 6024753 ┆ 6024753 ┆ -0.001623 ┆ -0.00189  ┆ … ┆ 1   ┆ 4624.0 ┆ 68      ┆ 4624.0    │\n",
       "│ 6024770 ┆ 6024770 ┆ -0.001042 ┆ 0.002398  ┆ … ┆ 1   ┆ 3721.0 ┆ 61      ┆ 3721.0    │\n",
       "│ 6024784 ┆ 6024784 ┆ -0.002    ┆ 0.000217  ┆ … ┆ -1  ┆ 3249.0 ┆ -57     ┆ -3249.0   │\n",
       "│ 6024818 ┆ 6024818 ┆ -0.000588 ┆ -0.000297 ┆ … ┆ -1  ┆ 2500.0 ┆ -50     ┆ -2500.0   │\n",
       "└─────────┴─────────┴───────────┴───────────┴───┴─────┴────────┴─────────┴───────────┘"
      ]
     },
     "execution_count": 46,
     "metadata": {},
     "output_type": "execute_result"
    },
    {
     "data": {
      "text/html": [
       "<b>limit_output extension: Maximum message size of 10000 exceeded with 16879 characters</b>"
      ]
     },
     "metadata": {},
     "output_type": "display_data"
    }
   ],
   "source": [
    "df_joined = df_pc.join(df_tabular, on=\"#FID\", how=\"inner\")\n",
    "df_joined"
   ]
  },
  {
   "cell_type": "code",
   "execution_count": 47,
   "id": "e6f1bebd",
   "metadata": {},
   "outputs": [],
   "source": [
    "# Full set\n",
    "file_out = os.path.join(DIR_OUT, \"covar_age_sex_combination_pc30.txt\")\n",
    "df_joined.write_csv(file_out, separator=\"\\t\")"
   ]
  },
  {
   "cell_type": "code",
   "execution_count": 48,
   "id": "c1e8c77b",
   "metadata": {
    "scrolled": true
   },
   "outputs": [
    {
     "data": {
      "text/html": [
       "<div><style>\n",
       ".dataframe > thead > tr > th,\n",
       ".dataframe > tbody > tr > td {\n",
       "  text-align: right;\n",
       "}\n",
       "</style>\n",
       "<small>shape: (384235, 17)</small><table border=\"1\" class=\"dataframe\"><thead><tr><th>#FID</th><th>IID</th><th>PC1</th><th>PC2</th><th>PC3</th><th>PC4</th><th>PC5</th><th>PC6</th><th>PC7</th><th>PC8</th><th>PC9</th><th>PC10</th><th>Age</th><th>Sex</th><th>Age^2</th><th>Age_Sex</th><th>Age^2_Sex</th></tr><tr><td>i64</td><td>i64</td><td>f64</td><td>f64</td><td>f64</td><td>f64</td><td>f64</td><td>f64</td><td>f64</td><td>f64</td><td>f64</td><td>f64</td><td>i64</td><td>i64</td><td>f64</td><td>i64</td><td>f64</td></tr></thead><tbody><tr><td>1000010</td><td>1000010</td><td>-0.000892</td><td>0.002689</td><td>0.004079</td><td>-0.002191</td><td>-0.000797</td><td>0.001218</td><td>-0.001312</td><td>0.00066</td><td>-0.000703</td><td>0.000095</td><td>63</td><td>-1</td><td>3969.0</td><td>-63</td><td>-3969.0</td></tr><tr><td>1000028</td><td>1000028</td><td>-0.000471</td><td>-0.002047</td><td>-0.000748</td><td>0.000461</td><td>-0.000755</td><td>0.001297</td><td>-0.000282</td><td>0.000438</td><td>-0.000922</td><td>-0.000048</td><td>47</td><td>-1</td><td>2209.0</td><td>-47</td><td>-2209.0</td></tr><tr><td>1000034</td><td>1000034</td><td>0.0017603</td><td>0.000476</td><td>-0.001139</td><td>0.000192</td><td>-0.002018</td><td>0.00054</td><td>-0.001851</td><td>0.000626</td><td>-0.000226</td><td>-0.000451</td><td>58</td><td>-1</td><td>3364.0</td><td>-58</td><td>-3364.0</td></tr><tr><td>1000045</td><td>1000045</td><td>0.000617</td><td>-0.002361</td><td>0.003893</td><td>0.002225</td><td>-0.001103</td><td>-0.000891</td><td>0.000084</td><td>-0.000536</td><td>0.000053</td><td>0.000022</td><td>67</td><td>-1</td><td>4489.0</td><td>-67</td><td>-4489.0</td></tr><tr><td>1000052</td><td>1000052</td><td>0.004033</td><td>-0.00088</td><td>-0.002209</td><td>-0.001374</td><td>-0.001971</td><td>-0.001118</td><td>-0.000997</td><td>0.00139</td><td>-0.001738</td><td>0.000704</td><td>64</td><td>-1</td><td>4096.0</td><td>-64</td><td>-4096.0</td></tr><tr><td>1000076</td><td>1000076</td><td>-0.000789</td><td>0.000114</td><td>-0.000083</td><td>0.000623</td><td>-0.003142</td><td>0.000668</td><td>-0.00216</td><td>0.000372</td><td>-0.00023</td><td>0.000418</td><td>69</td><td>-1</td><td>4761.0</td><td>-69</td><td>-4761.0</td></tr><tr><td>1000087</td><td>1000087</td><td>-0.001075</td><td>-0.001881</td><td>0.002837</td><td>-0.000307</td><td>-0.000096</td><td>0.001592</td><td>0.0015619</td><td>-0.002839</td><td>0.001233</td><td>-0.001343</td><td>63</td><td>-1</td><td>3969.0</td><td>-63</td><td>-3969.0</td></tr><tr><td>1000091</td><td>1000091</td><td>-0.001084</td><td>-0.002091</td><td>-0.000996</td><td>-0.000215</td><td>-0.002503</td><td>-0.001989</td><td>-0.002098</td><td>-0.000628</td><td>0.001017</td><td>0.000015</td><td>67</td><td>1</td><td>4489.0</td><td>67</td><td>4489.0</td></tr><tr><td>1000104</td><td>1000104</td><td>-0.001129</td><td>-0.002598</td><td>-0.000212</td><td>0.001835</td><td>-0.000825</td><td>0.002155</td><td>0.001301</td><td>-0.003622</td><td>0.001843</td><td>-0.00198</td><td>65</td><td>1</td><td>4225.0</td><td>65</td><td>4225.0</td></tr><tr><td>1000118</td><td>1000118</td><td>0.000631</td><td>0.000298</td><td>0.001954</td><td>0.006409</td><td>0.000856</td><td>0.000346</td><td>0.000626</td><td>0.001469</td><td>-0.001753</td><td>0.002845</td><td>62</td><td>1</td><td>3844.0</td><td>62</td><td>3844.0</td></tr><tr><td>1000133</td><td>1000133</td><td>-0.001932</td><td>-0.000012</td><td>-0.000783</td><td>0.000625</td><td>0.001924</td><td>-0.000526</td><td>-0.000534</td><td>0.002135</td><td>0.00111</td><td>-0.002179</td><td>65</td><td>-1</td><td>4225.0</td><td>-65</td><td>-4225.0</td></tr><tr><td>1000159</td><td>1000159</td><td>-0.000828</td><td>0.000606</td><td>0.000541</td><td>0.000286</td><td>-0.001176</td><td>0.001137</td><td>-0.002701</td><td>-0.000642</td><td>-0.000823</td><td>0.000058</td><td>44</td><td>1</td><td>1936.0</td><td>44</td><td>1936.0</td></tr><tr><td>&hellip;</td><td>&hellip;</td><td>&hellip;</td><td>&hellip;</td><td>&hellip;</td><td>&hellip;</td><td>&hellip;</td><td>&hellip;</td><td>&hellip;</td><td>&hellip;</td><td>&hellip;</td><td>&hellip;</td><td>&hellip;</td><td>&hellip;</td><td>&hellip;</td><td>&hellip;</td><td>&hellip;</td></tr><tr><td>6024643</td><td>6024643</td><td>-0.001683</td><td>-0.002041</td><td>-0.000698</td><td>0.000196</td><td>-0.001505</td><td>-0.000696</td><td>0.001764</td><td>-0.001488</td><td>0.000385</td><td>-0.000999</td><td>58</td><td>-1</td><td>3364.0</td><td>-58</td><td>-3364.0</td></tr><tr><td>6024650</td><td>6024650</td><td>-0.001875</td><td>-0.002584</td><td>-0.000545</td><td>-0.000495</td><td>-0.001016</td><td>-0.001918</td><td>0.000728</td><td>0.000068</td><td>-0.001316</td><td>0.002005</td><td>58</td><td>1</td><td>3364.0</td><td>58</td><td>3364.0</td></tr><tr><td>6024664</td><td>6024664</td><td>-0.000535</td><td>-0.000239</td><td>0.001407</td><td>-0.001301</td><td>0.00002</td><td>0.000148</td><td>0.002105</td><td>0.000523</td><td>-0.001658</td><td>0.001653</td><td>62</td><td>-1</td><td>3844.0</td><td>-62</td><td>-3844.0</td></tr><tr><td>6024677</td><td>6024677</td><td>0.000031</td><td>0.002524</td><td>-0.001406</td><td>-0.000384</td><td>0.001351</td><td>0.001098</td><td>0.000574</td><td>0.002281</td><td>0.000209</td><td>-0.002362</td><td>65</td><td>-1</td><td>4225.0</td><td>-65</td><td>-4225.0</td></tr><tr><td>6024686</td><td>6024686</td><td>-0.000036</td><td>-0.002159</td><td>-0.001771</td><td>-0.000929</td><td>0.000118</td><td>-0.002588</td><td>0.001404</td><td>0.000793</td><td>-0.000573</td><td>-0.000766</td><td>61</td><td>-1</td><td>3721.0</td><td>-61</td><td>-3721.0</td></tr><tr><td>6024698</td><td>6024698</td><td>-0.000708</td><td>-0.000007</td><td>-0.000765</td><td>-0.000385</td><td>-0.001466</td><td>0.000795</td><td>0.000075</td><td>-0.001217</td><td>-0.000435</td><td>-0.000359</td><td>57</td><td>-1</td><td>3249.0</td><td>-57</td><td>-3249.0</td></tr><tr><td>6024729</td><td>6024729</td><td>0.000875</td><td>0.000109</td><td>0.000814</td><td>-0.00223</td><td>0.0014847</td><td>-0.000574</td><td>0.002276</td><td>-0.000107</td><td>-0.000112</td><td>-0.004279</td><td>54</td><td>-1</td><td>2916.0</td><td>-54</td><td>-2916.0</td></tr><tr><td>6024741</td><td>6024741</td><td>-0.000461</td><td>0.002249</td><td>0.003537</td><td>0.001475</td><td>0.000181</td><td>-0.002251</td><td>0.001485</td><td>-0.000263</td><td>-0.000057</td><td>0.000612</td><td>50</td><td>1</td><td>2500.0</td><td>50</td><td>2500.0</td></tr><tr><td>6024753</td><td>6024753</td><td>-0.001623</td><td>-0.00189</td><td>0.000112</td><td>-0.001107</td><td>-0.000714</td><td>0.001197</td><td>0.000223</td><td>0.000264</td><td>-0.001616</td><td>0.000722</td><td>68</td><td>1</td><td>4624.0</td><td>68</td><td>4624.0</td></tr><tr><td>6024770</td><td>6024770</td><td>-0.001042</td><td>0.002398</td><td>0.000429</td><td>0.0017574</td><td>0.001413</td><td>0.0018141</td><td>-0.001225</td><td>-0.006465</td><td>0.000247</td><td>0.000212</td><td>61</td><td>1</td><td>3721.0</td><td>61</td><td>3721.0</td></tr><tr><td>6024784</td><td>6024784</td><td>-0.002</td><td>0.000217</td><td>-0.000876</td><td>0.000636</td><td>0.001509</td><td>0.001909</td><td>-0.000252</td><td>0.001911</td><td>0.004694</td><td>0.001574</td><td>57</td><td>-1</td><td>3249.0</td><td>-57</td><td>-3249.0</td></tr><tr><td>6024818</td><td>6024818</td><td>-0.000588</td><td>-0.000297</td><td>0.000104</td><td>0.00086</td><td>-0.001915</td><td>0.001814</td><td>-0.002679</td><td>0.000329</td><td>-0.000269</td><td>-0.001251</td><td>50</td><td>-1</td><td>2500.0</td><td>-50</td><td>-2500.0</td></tr></tbody></table></div>"
      ],
      "text/plain": [
       "shape: (384_235, 17)\n",
       "┌─────────┬─────────┬───────────┬───────────┬───┬─────┬────────┬─────────┬───────────┐\n",
       "│ #FID    ┆ IID     ┆ PC1       ┆ PC2       ┆ … ┆ Sex ┆ Age^2  ┆ Age_Sex ┆ Age^2_Sex │\n",
       "│ ---     ┆ ---     ┆ ---       ┆ ---       ┆   ┆ --- ┆ ---    ┆ ---     ┆ ---       │\n",
       "│ i64     ┆ i64     ┆ f64       ┆ f64       ┆   ┆ i64 ┆ f64    ┆ i64     ┆ f64       │\n",
       "╞═════════╪═════════╪═══════════╪═══════════╪═══╪═════╪════════╪═════════╪═══════════╡\n",
       "│ 1000010 ┆ 1000010 ┆ -0.000892 ┆ 0.002689  ┆ … ┆ -1  ┆ 3969.0 ┆ -63     ┆ -3969.0   │\n",
       "│ 1000028 ┆ 1000028 ┆ -0.000471 ┆ -0.002047 ┆ … ┆ -1  ┆ 2209.0 ┆ -47     ┆ -2209.0   │\n",
       "│ 1000034 ┆ 1000034 ┆ 0.0017603 ┆ 0.000476  ┆ … ┆ -1  ┆ 3364.0 ┆ -58     ┆ -3364.0   │\n",
       "│ 1000045 ┆ 1000045 ┆ 0.000617  ┆ -0.002361 ┆ … ┆ -1  ┆ 4489.0 ┆ -67     ┆ -4489.0   │\n",
       "│ …       ┆ …       ┆ …         ┆ …         ┆ … ┆ …   ┆ …      ┆ …       ┆ …         │\n",
       "│ 6024753 ┆ 6024753 ┆ -0.001623 ┆ -0.00189  ┆ … ┆ 1   ┆ 4624.0 ┆ 68      ┆ 4624.0    │\n",
       "│ 6024770 ┆ 6024770 ┆ -0.001042 ┆ 0.002398  ┆ … ┆ 1   ┆ 3721.0 ┆ 61      ┆ 3721.0    │\n",
       "│ 6024784 ┆ 6024784 ┆ -0.002    ┆ 0.000217  ┆ … ┆ -1  ┆ 3249.0 ┆ -57     ┆ -3249.0   │\n",
       "│ 6024818 ┆ 6024818 ┆ -0.000588 ┆ -0.000297 ┆ … ┆ -1  ┆ 2500.0 ┆ -50     ┆ -2500.0   │\n",
       "└─────────┴─────────┴───────────┴───────────┴───┴─────┴────────┴─────────┴───────────┘"
      ]
     },
     "execution_count": 48,
     "metadata": {},
     "output_type": "execute_result"
    }
   ],
   "source": [
    "# Same as PanUKBB\n",
    "df_joined_10 = df_joined.drop([\n",
    "\"PC11\",\n",
    "\"PC12\",\n",
    "\"PC13\",\n",
    "\"PC14\",\n",
    "\"PC15\",\n",
    "\"PC16\",\n",
    "\"PC17\",\n",
    "\"PC18\",\n",
    "\"PC19\",\n",
    "\"PC20\",\n",
    "\"PC21\",\n",
    "\"PC22\",\n",
    "\"PC23\",\n",
    "\"PC24\",\n",
    "\"PC25\",\n",
    "\"PC26\",\n",
    "\"PC27\",\n",
    "\"PC28\",\n",
    "\"PC29\",\n",
    "\"PC30\",\n",
    "])\n",
    "\n",
    "file_out = os.path.join(DIR_OUT, \"covar_age_sex_combination_pc10.txt\")\n",
    "df_joined_10.write_csv(file_out, separator=\"\\t\")\n",
    "df_joined_10"
   ]
  },
  {
   "cell_type": "markdown",
   "id": "41ec5e03",
   "metadata": {},
   "source": [
    "# Process 2\n",
    "- PC values are based on QC-filtered variants of **Pan-UKBB-like variant list**"
   ]
  },
  {
   "cell_type": "markdown",
   "id": "5d05f854",
   "metadata": {},
   "source": [
    "## Load"
   ]
  },
  {
   "cell_type": "code",
   "execution_count": 2,
   "id": "9b25e366",
   "metadata": {},
   "outputs": [],
   "source": [
    "DIR_SOURCE_TABULAR = os.path.join(\"data\", \"accel_ukbb\", \"split\")\n",
    "FILE_SOURCE_PC = os.path.join(\"data\", \"ukbb\", \"4020457_671006_all\", \"genotype\",\n",
    "                             \"processed\", \"22828_imp_gen_panukbb_like\", \"white_british\",\n",
    "                              \"white_british.pca.eigenvec\")\n",
    "DIR_OUT = os.path.join(\"data\", \"accel_ukbb\", \"plink_covar_panukbb_like\")\n",
    "\n",
    "if not os.path.exists(DIR_OUT):\n",
    "    os.makedirs(DIR_OUT)"
   ]
  },
  {
   "cell_type": "markdown",
   "id": "04bc6534",
   "metadata": {},
   "source": [
    "### Load UKBB-ACCEL"
   ]
  },
  {
   "cell_type": "code",
   "execution_count": 5,
   "id": "c97e4343",
   "metadata": {},
   "outputs": [
    {
     "name": "stdout",
     "output_type": "stream",
     "text": [
      "2023-05-29 16:07:08.990241 Start processing 2 files\n",
      "2023-05-29 16:07:08: 1\n",
      "2023-05-29 16:07:09: 2\n"
     ]
    },
    {
     "data": {
      "text/html": [
       "<div><style>\n",
       ".dataframe > thead > tr > th,\n",
       ".dataframe > tbody > tr > td {\n",
       "  text-align: right;\n",
       "}\n",
       "</style>\n",
       "<small>shape: (502386, 3)</small><table border=\"1\" class=\"dataframe\"><thead><tr><th>#FID</th><th>Age</th><th>Sex</th></tr><tr><td>i64</td><td>i64</td><td>i64</td></tr></thead><tbody><tr><td>1000010</td><td>63</td><td>0</td></tr><tr><td>1000028</td><td>47</td><td>0</td></tr><tr><td>1000034</td><td>58</td><td>0</td></tr><tr><td>1000045</td><td>67</td><td>0</td></tr><tr><td>1000052</td><td>64</td><td>0</td></tr><tr><td>1000069</td><td>42</td><td>1</td></tr><tr><td>1000076</td><td>69</td><td>0</td></tr><tr><td>1000087</td><td>63</td><td>0</td></tr><tr><td>1000091</td><td>67</td><td>1</td></tr><tr><td>1000104</td><td>65</td><td>1</td></tr><tr><td>1000118</td><td>62</td><td>1</td></tr><tr><td>1000120</td><td>67</td><td>1</td></tr><tr><td>&hellip;</td><td>&hellip;</td><td>&hellip;</td></tr><tr><td>6024729</td><td>54</td><td>0</td></tr><tr><td>6024737</td><td>42</td><td>0</td></tr><tr><td>6024741</td><td>50</td><td>1</td></tr><tr><td>6024753</td><td>68</td><td>1</td></tr><tr><td>6024768</td><td>59</td><td>0</td></tr><tr><td>6024770</td><td>61</td><td>1</td></tr><tr><td>6024784</td><td>57</td><td>0</td></tr><tr><td>6024795</td><td>41</td><td>1</td></tr><tr><td>6024804</td><td>68</td><td>0</td></tr><tr><td>6024818</td><td>50</td><td>0</td></tr><tr><td>6024820</td><td>43</td><td>0</td></tr><tr><td>6024833</td><td>40</td><td>1</td></tr></tbody></table></div>"
      ],
      "text/plain": [
       "shape: (502_386, 3)\n",
       "┌─────────┬─────┬─────┐\n",
       "│ #FID    ┆ Age ┆ Sex │\n",
       "│ ---     ┆ --- ┆ --- │\n",
       "│ i64     ┆ i64 ┆ i64 │\n",
       "╞═════════╪═════╪═════╡\n",
       "│ 1000010 ┆ 63  ┆ 0   │\n",
       "│ 1000028 ┆ 47  ┆ 0   │\n",
       "│ 1000034 ┆ 58  ┆ 0   │\n",
       "│ 1000045 ┆ 67  ┆ 0   │\n",
       "│ …       ┆ …   ┆ …   │\n",
       "│ 6024804 ┆ 68  ┆ 0   │\n",
       "│ 6024818 ┆ 50  ┆ 0   │\n",
       "│ 6024820 ┆ 43  ┆ 0   │\n",
       "│ 6024833 ┆ 40  ┆ 1   │\n",
       "└─────────┴─────┴─────┘"
      ]
     },
     "execution_count": 5,
     "metadata": {},
     "output_type": "execute_result"
    }
   ],
   "source": [
    "list_files = [\n",
    "\"ukb671006_12163_21003-0.0.txt\", # Age\n",
    "\"ukb671006_00026_31-0.0.txt\", # Sex\n",
    "]\n",
    "df_tabular = merge_files(list_files, DIR_SOURCE_TABULAR)\n",
    "df_tabular = df_tabular.rename({\"eid\": \"#FID\",\n",
    "                               \"ukb671006_12163_21003-0.0\": \"Age\",\n",
    "                               \"ukb671006_00026_31-0.0\": \"Sex\",})\n",
    "df_tabular"
   ]
  },
  {
   "cell_type": "markdown",
   "id": "181a7ca7",
   "metadata": {},
   "source": [
    "### Load PLINK2-PCs"
   ]
  },
  {
   "cell_type": "code",
   "execution_count": 6,
   "id": "3a31ebe5",
   "metadata": {},
   "outputs": [
    {
     "data": {
      "text/html": [
       "<div><style>\n",
       ".dataframe > thead > tr > th,\n",
       ".dataframe > tbody > tr > td {\n",
       "  text-align: right;\n",
       "}\n",
       "</style>\n",
       "<small>shape: (384235, 32)</small><table border=\"1\" class=\"dataframe\"><thead><tr><th>#FID</th><th>IID</th><th>PC1</th><th>PC2</th><th>PC3</th><th>PC4</th><th>PC5</th><th>PC6</th><th>PC7</th><th>PC8</th><th>PC9</th><th>PC10</th><th>PC11</th><th>PC12</th><th>PC13</th><th>PC14</th><th>PC15</th><th>PC16</th><th>PC17</th><th>PC18</th><th>PC19</th><th>PC20</th><th>PC21</th><th>PC22</th><th>PC23</th><th>PC24</th><th>PC25</th><th>PC26</th><th>PC27</th><th>PC28</th><th>PC29</th><th>PC30</th></tr><tr><td>i64</td><td>i64</td><td>f64</td><td>f64</td><td>f64</td><td>f64</td><td>f64</td><td>f64</td><td>f64</td><td>f64</td><td>f64</td><td>f64</td><td>f64</td><td>f64</td><td>f64</td><td>f64</td><td>f64</td><td>f64</td><td>f64</td><td>f64</td><td>f64</td><td>f64</td><td>f64</td><td>f64</td><td>f64</td><td>f64</td><td>f64</td><td>f64</td><td>f64</td><td>f64</td><td>f64</td><td>f64</td></tr></thead><tbody><tr><td>1000010</td><td>1000010</td><td>0.000857</td><td>0.002668</td><td>-0.004393</td><td>0.00094</td><td>0.001059</td><td>-0.001144</td><td>0.001214</td><td>0.000726</td><td>-0.000586</td><td>0.000163</td><td>-0.000745</td><td>0.000053</td><td>0.001375</td><td>-0.000752</td><td>0.000788</td><td>-0.001142</td><td>0.000744</td><td>0.001006</td><td>0.001802</td><td>-0.003598</td><td>-0.001485</td><td>-0.000658</td><td>-0.000134</td><td>0.000798</td><td>-0.001645</td><td>0.0014264</td><td>-0.001551</td><td>-0.00118</td><td>0.001663</td><td>0.000551</td></tr><tr><td>1000028</td><td>1000028</td><td>0.000463</td><td>-0.002029</td><td>0.000847</td><td>-0.000245</td><td>0.000761</td><td>-0.001291</td><td>0.000212</td><td>0.000475</td><td>-0.00083</td><td>0.000239</td><td>-0.000672</td><td>-0.000993</td><td>0.000747</td><td>-0.000705</td><td>-0.002664</td><td>0.001726</td><td>0.001099</td><td>-0.001474</td><td>0.001284</td><td>0.002492</td><td>0.000198</td><td>0.002486</td><td>0.0012639</td><td>0.000769</td><td>-0.000636</td><td>0.001643</td><td>0.0019472</td><td>-0.001368</td><td>-0.000448</td><td>0.001566</td></tr><tr><td>1000034</td><td>1000034</td><td>-0.001741</td><td>0.00054</td><td>0.001176</td><td>0.000102</td><td>0.002268</td><td>-0.000642</td><td>0.001749</td><td>0.000493</td><td>-0.000265</td><td>-0.00039</td><td>-0.000679</td><td>0.000774</td><td>0.00019</td><td>0.000328</td><td>0.001635</td><td>-0.002988</td><td>-0.000301</td><td>-0.001541</td><td>-0.000515</td><td>-0.001075</td><td>0.000596</td><td>0.000686</td><td>-0.000004</td><td>-0.000435</td><td>-0.001162</td><td>0.000487</td><td>-0.001704</td><td>-0.000108</td><td>-0.000436</td><td>0.002014</td></tr><tr><td>1000045</td><td>1000045</td><td>-0.000671</td><td>-0.002329</td><td>-0.00311</td><td>-0.003107</td><td>0.00125</td><td>0.000962</td><td>-0.000246</td><td>-0.000602</td><td>0.000104</td><td>0.000117</td><td>0.000486</td><td>0.000676</td><td>0.003362</td><td>0.001873</td><td>0.000407</td><td>0.000365</td><td>0.00012</td><td>-0.000341</td><td>-0.000841</td><td>-0.000596</td><td>0.000207</td><td>-0.000906</td><td>-0.001868</td><td>0.001472</td><td>-0.001625</td><td>-0.00203</td><td>-0.000816</td><td>0.001537</td><td>0.000221</td><td>0.00143</td></tr><tr><td>1000052</td><td>1000052</td><td>-0.003935</td><td>-0.000874</td><td>0.001721</td><td>0.002003</td><td>0.002165</td><td>0.001034</td><td>0.000891</td><td>0.001223</td><td>-0.001491</td><td>0.001009</td><td>-0.000307</td><td>0.00049</td><td>-0.001313</td><td>-0.00086</td><td>-0.000504</td><td>-0.001158</td><td>0.001816</td><td>-0.001992</td><td>-0.000601</td><td>-0.000757</td><td>-0.001796</td><td>-0.000699</td><td>0.000929</td><td>0.000488</td><td>0.000962</td><td>-0.001181</td><td>-0.000449</td><td>0.001547</td><td>-0.000638</td><td>-0.000789</td></tr><tr><td>1000076</td><td>1000076</td><td>0.000783</td><td>0.000105</td><td>0.000331</td><td>-0.000561</td><td>0.003292</td><td>-0.000655</td><td>0.001724</td><td>0.00019</td><td>-0.000281</td><td>0.000625</td><td>-0.001336</td><td>-0.004096</td><td>0.000993</td><td>0.000228</td><td>0.001322</td><td>-0.000806</td><td>-0.001487</td><td>-0.001475</td><td>0.001014</td><td>0.000421</td><td>0.000475</td><td>-0.001605</td><td>0.000778</td><td>-0.000599</td><td>-0.000809</td><td>-0.000544</td><td>-0.000727</td><td>0.00063</td><td>0.00036</td><td>-0.002355</td></tr><tr><td>1000087</td><td>1000087</td><td>0.001108</td><td>-0.001842</td><td>-0.002741</td><td>-0.000494</td><td>-0.000031</td><td>-0.001658</td><td>-0.001742</td><td>-0.00288</td><td>0.001056</td><td>-0.001246</td><td>-0.000048</td><td>0.00155</td><td>-0.000095</td><td>0.0007</td><td>-0.002186</td><td>0.003396</td><td>0.00127</td><td>-0.000402</td><td>0.0031528</td><td>0.00025</td><td>0.001493</td><td>0.00024</td><td>-0.001532</td><td>-0.001649</td><td>-0.000742</td><td>0.001362</td><td>-0.000423</td><td>-0.000663</td><td>-0.002097</td><td>0.000527</td></tr><tr><td>1000091</td><td>1000091</td><td>0.000968</td><td>-0.002065</td><td>0.000998</td><td>0.00045</td><td>0.002703</td><td>0.001942</td><td>0.001862</td><td>-0.000943</td><td>0.00112</td><td>0.000022</td><td>0.00019</td><td>0.0016118</td><td>0.000982</td><td>-0.002852</td><td>0.000914</td><td>-0.000778</td><td>0.001948</td><td>0.002199</td><td>-0.000971</td><td>-0.002653</td><td>0.000867</td><td>-0.002374</td><td>0.000499</td><td>-0.00105</td><td>0.00231</td><td>0.000305</td><td>-0.001187</td><td>-0.000609</td><td>0.0031818</td><td>0.0031426</td></tr><tr><td>1000104</td><td>1000104</td><td>0.001174</td><td>-0.002596</td><td>0.000712</td><td>-0.001766</td><td>0.000561</td><td>-0.002174</td><td>-0.00161</td><td>-0.003824</td><td>0.001474</td><td>-0.001983</td><td>-0.000268</td><td>0.001551</td><td>-0.002141</td><td>0.000269</td><td>0.001043</td><td>-0.001052</td><td>0.001191</td><td>0.001288</td><td>0.000428</td><td>0.000443</td><td>0.002082</td><td>0.001108</td><td>0.000156</td><td>-0.001638</td><td>0.002569</td><td>0.000106</td><td>-0.000034</td><td>-0.001048</td><td>0.000578</td><td>0.003578</td></tr><tr><td>1000118</td><td>1000118</td><td>-0.000604</td><td>0.000299</td><td>-0.000171</td><td>-0.006811</td><td>-0.00098</td><td>-0.000271</td><td>-0.000466</td><td>0.001718</td><td>-0.001329</td><td>0.002667</td><td>0.001405</td><td>0.001338</td><td>0.000457</td><td>-0.000672</td><td>0.001808</td><td>-0.002509</td><td>-0.003358</td><td>-0.000697</td><td>0.002042</td><td>-0.001915</td><td>0.001018</td><td>-0.001174</td><td>-0.001219</td><td>0.000687</td><td>0.000801</td><td>0.001578</td><td>-0.001791</td><td>-0.000688</td><td>-0.003123</td><td>-0.000462</td></tr><tr><td>1000133</td><td>1000133</td><td>0.001976</td><td>0.000005</td><td>0.000836</td><td>-0.000327</td><td>-0.001538</td><td>0.000448</td><td>0.001054</td><td>0.001506</td><td>0.001156</td><td>-0.001854</td><td>-0.001151</td><td>0.001299</td><td>-0.00087</td><td>0.001133</td><td>0.00039</td><td>-0.003366</td><td>-0.001213</td><td>0.003008</td><td>-0.00013</td><td>-0.001529</td><td>0.00099</td><td>-0.000775</td><td>0.004144</td><td>0.0035486</td><td>0.000355</td><td>0.002169</td><td>0.001952</td><td>-0.000446</td><td>0.000507</td><td>0.000597</td></tr><tr><td>1000159</td><td>1000159</td><td>0.000853</td><td>0.000607</td><td>-0.000361</td><td>-0.000451</td><td>0.001437</td><td>-0.001163</td><td>0.002616</td><td>-0.000857</td><td>-0.000926</td><td>0.000384</td><td>-0.00125</td><td>-0.002127</td><td>0.000799</td><td>0.000395</td><td>-0.000411</td><td>0.001094</td><td>0.000417</td><td>0.0037</td><td>0.00214</td><td>-0.001158</td><td>0.0011588</td><td>-0.001447</td><td>-0.000156</td><td>0.000359</td><td>0.002373</td><td>-0.001434</td><td>0.00085</td><td>0.001246</td><td>-0.001411</td><td>0.001256</td></tr><tr><td>&hellip;</td><td>&hellip;</td><td>&hellip;</td><td>&hellip;</td><td>&hellip;</td><td>&hellip;</td><td>&hellip;</td><td>&hellip;</td><td>&hellip;</td><td>&hellip;</td><td>&hellip;</td><td>&hellip;</td><td>&hellip;</td><td>&hellip;</td><td>&hellip;</td><td>&hellip;</td><td>&hellip;</td><td>&hellip;</td><td>&hellip;</td><td>&hellip;</td><td>&hellip;</td><td>&hellip;</td><td>&hellip;</td><td>&hellip;</td><td>&hellip;</td><td>&hellip;</td><td>&hellip;</td><td>&hellip;</td><td>&hellip;</td><td>&hellip;</td><td>&hellip;</td><td>&hellip;</td></tr><tr><td>6024643</td><td>6024643</td><td>0.001726</td><td>-0.002103</td><td>0.000739</td><td>-0.00011</td><td>0.001239</td><td>0.000594</td><td>-0.002006</td><td>-0.00147</td><td>0.000217</td><td>-0.000941</td><td>-0.001822</td><td>-0.000696</td><td>0.000499</td><td>-0.002681</td><td>-0.001087</td><td>0.000846</td><td>-0.001377</td><td>0.000466</td><td>0.001436</td><td>-0.000261</td><td>0.00141</td><td>-0.001241</td><td>-0.000428</td><td>0.00052</td><td>0.002332</td><td>0.001218</td><td>0.000171</td><td>-0.000404</td><td>0.001289</td><td>-0.000707</td></tr><tr><td>6024650</td><td>6024650</td><td>0.00184</td><td>-0.002591</td><td>0.00048</td><td>0.000549</td><td>0.00077</td><td>0.001946</td><td>-0.000939</td><td>0.000499</td><td>-0.00128</td><td>0.002101</td><td>-0.001581</td><td>-0.000895</td><td>0.003514</td><td>0.000807</td><td>-0.00006</td><td>-0.00214</td><td>0.000494</td><td>0.000056</td><td>0.002607</td><td>-0.000079</td><td>0.0008</td><td>-0.000813</td><td>0.000932</td><td>0.001328</td><td>-0.002752</td><td>0.0035</td><td>-0.002081</td><td>0.000558</td><td>0.000674</td><td>0.001041</td></tr><tr><td>6024664</td><td>6024664</td><td>0.000495</td><td>-0.000219</td><td>-0.00178</td><td>0.000894</td><td>-0.00022</td><td>-0.000037</td><td>-0.002041</td><td>0.000878</td><td>-0.001358</td><td>0.001527</td><td>0.002205</td><td>0.001205</td><td>-0.001294</td><td>0.0035231</td><td>0.00082</td><td>0.000446</td><td>-0.000536</td><td>-0.000725</td><td>-0.000847</td><td>0.001639</td><td>0.000324</td><td>-0.002913</td><td>0.000156</td><td>-0.002256</td><td>0.001122</td><td>0.001485</td><td>-0.00133</td><td>-0.001539</td><td>0.000873</td><td>0.000109</td></tr><tr><td>6024677"
      ],
      "text/plain": [
       "shape: (384_235, 32)\n",
       "┌─────────┬─────────┬───────────┬───────────┬───┬───────────┬───────────┬───────────┬───────────┐\n",
       "│ #FID    ┆ IID     ┆ PC1       ┆ PC2       ┆ … ┆ PC27      ┆ PC28      ┆ PC29      ┆ PC30      │\n",
       "│ ---     ┆ ---     ┆ ---       ┆ ---       ┆   ┆ ---       ┆ ---       ┆ ---       ┆ ---       │\n",
       "│ i64     ┆ i64     ┆ f64       ┆ f64       ┆   ┆ f64       ┆ f64       ┆ f64       ┆ f64       │\n",
       "╞═════════╪═════════╪═══════════╪═══════════╪═══╪═══════════╪═══════════╪═══════════╪═══════════╡\n",
       "│ 1000010 ┆ 1000010 ┆ 0.000857  ┆ 0.002668  ┆ … ┆ -0.001551 ┆ -0.00118  ┆ 0.001663  ┆ 0.000551  │\n",
       "│ 1000028 ┆ 1000028 ┆ 0.000463  ┆ -0.002029 ┆ … ┆ 0.0019472 ┆ -0.001368 ┆ -0.000448 ┆ 0.001566  │\n",
       "│ 1000034 ┆ 1000034 ┆ -0.001741 ┆ 0.00054   ┆ … ┆ -0.001704 ┆ -0.000108 ┆ -0.000436 ┆ 0.002014  │\n",
       "│ 1000045 ┆ 1000045 ┆ -0.000671 ┆ -0.002329 ┆ … ┆ -0.000816 ┆ 0.001537  ┆ 0.000221  ┆ 0.00143   │\n",
       "│ …       ┆ …       ┆ …         ┆ …         ┆ … ┆ …         ┆ …         ┆ …         ┆ …         │\n",
       "│ 6024753 ┆ 6024753 ┆ 0.001658  ┆ -0.001864 ┆ … ┆ -0.001883 ┆ -0.000671 ┆ 0.001089  ┆ -0.001997 │\n",
       "│ 6024770 ┆ 6024770 ┆ 0.001095  ┆ 0.0023963 ┆ … ┆ -0.00155  ┆ 0.003494  ┆ -0.002659 ┆ 0.0004045 │\n",
       "│ 6024784 ┆ 6024784 ┆ 0.002007  ┆ 0.000205  ┆ … ┆ -0.001641 ┆ 0.001436  ┆ 0.000908  ┆ 0.000362  │\n",
       "│ 6024818 ┆ 6024818 ┆ 0.000576  ┆ -0.000256 ┆ … ┆ -0.001147 ┆ 0.000416  ┆ -0.003967 ┆ -0.00102  │\n",
       "└─────────┴─────────┴───────────┴───────────┴───┴───────────┴───────────┴───────────┴───────────┘"
      ]
     },
     "execution_count": 6,
     "metadata": {},
     "output_type": "execute_result"
    },
    {
     "data": {
      "text/html": [
       "<b>limit_output extension: Maximum message size of 10000 exceeded with 15081 characters</b>"
      ]
     },
     "metadata": {},
     "output_type": "display_data"
    }
   ],
   "source": [
    "### Only for practice (small file)\n",
    "# FILE_SOURCE_PC_PRACTICE = os.path.join(\"data\", \"ukbb\", \"4020457_671006_all\", \"genotype\",\n",
    "#                              \"processed\", \"22828_imp_gen_pgen\", \"head.txt\")\n",
    "# df_pc = pl.read_csv(FILE_SOURCE_PC_PRACTICE, separator=\"\\t\")\n",
    "\n",
    "df_pc = pl.read_csv(FILE_SOURCE_PC, separator=\"\\t\")\n",
    "df_pc"
   ]
  },
  {
   "cell_type": "markdown",
   "id": "e66bb7d0",
   "metadata": {},
   "source": [
    "## Preprocess the UKBB-ACCEL data\n",
    "- Sex: \"Female=0, Male=1\" -> \"Female=-1, Male=1\"\n",
    "- Calculate combinations (Age^2, AgexSex, Age^2xSex)"
   ]
  },
  {
   "cell_type": "code",
   "execution_count": 7,
   "id": "12789d20",
   "metadata": {},
   "outputs": [
    {
     "data": {
      "text/html": [
       "<div><style>\n",
       ".dataframe > thead > tr > th,\n",
       ".dataframe > tbody > tr > td {\n",
       "  text-align: right;\n",
       "}\n",
       "</style>\n",
       "<small>shape: (502386, 6)</small><table border=\"1\" class=\"dataframe\"><thead><tr><th>#FID</th><th>Age</th><th>Sex</th><th>Age^2</th><th>Age_Sex</th><th>Age^2_Sex</th></tr><tr><td>i64</td><td>i64</td><td>i64</td><td>f64</td><td>i64</td><td>f64</td></tr></thead><tbody><tr><td>1000010</td><td>63</td><td>-1</td><td>3969.0</td><td>-63</td><td>-3969.0</td></tr><tr><td>1000028</td><td>47</td><td>-1</td><td>2209.0</td><td>-47</td><td>-2209.0</td></tr><tr><td>1000034</td><td>58</td><td>-1</td><td>3364.0</td><td>-58</td><td>-3364.0</td></tr><tr><td>1000045</td><td>67</td><td>-1</td><td>4489.0</td><td>-67</td><td>-4489.0</td></tr><tr><td>1000052</td><td>64</td><td>-1</td><td>4096.0</td><td>-64</td><td>-4096.0</td></tr><tr><td>1000069</td><td>42</td><td>1</td><td>1764.0</td><td>42</td><td>1764.0</td></tr><tr><td>1000076</td><td>69</td><td>-1</td><td>4761.0</td><td>-69</td><td>-4761.0</td></tr><tr><td>1000087</td><td>63</td><td>-1</td><td>3969.0</td><td>-63</td><td>-3969.0</td></tr><tr><td>1000091</td><td>67</td><td>1</td><td>4489.0</td><td>67</td><td>4489.0</td></tr><tr><td>1000104</td><td>65</td><td>1</td><td>4225.0</td><td>65</td><td>4225.0</td></tr><tr><td>1000118</td><td>62</td><td>1</td><td>3844.0</td><td>62</td><td>3844.0</td></tr><tr><td>1000120</td><td>67</td><td>1</td><td>4489.0</td><td>67</td><td>4489.0</td></tr><tr><td>&hellip;</td><td>&hellip;</td><td>&hellip;</td><td>&hellip;</td><td>&hellip;</td><td>&hellip;</td></tr><tr><td>6024729</td><td>54</td><td>-1</td><td>2916.0</td><td>-54</td><td>-2916.0</td></tr><tr><td>6024737</td><td>42</td><td>-1</td><td>1764.0</td><td>-42</td><td>-1764.0</td></tr><tr><td>6024741</td><td>50</td><td>1</td><td>2500.0</td><td>50</td><td>2500.0</td></tr><tr><td>6024753</td><td>68</td><td>1</td><td>4624.0</td><td>68</td><td>4624.0</td></tr><tr><td>6024768</td><td>59</td><td>-1</td><td>3481.0</td><td>-59</td><td>-3481.0</td></tr><tr><td>6024770</td><td>61</td><td>1</td><td>3721.0</td><td>61</td><td>3721.0</td></tr><tr><td>6024784</td><td>57</td><td>-1</td><td>3249.0</td><td>-57</td><td>-3249.0</td></tr><tr><td>6024795</td><td>41</td><td>1</td><td>1681.0</td><td>41</td><td>1681.0</td></tr><tr><td>6024804</td><td>68</td><td>-1</td><td>4624.0</td><td>-68</td><td>-4624.0</td></tr><tr><td>6024818</td><td>50</td><td>-1</td><td>2500.0</td><td>-50</td><td>-2500.0</td></tr><tr><td>6024820</td><td>43</td><td>-1</td><td>1849.0</td><td>-43</td><td>-1849.0</td></tr><tr><td>6024833</td><td>40</td><td>1</td><td>1600.0</td><td>40</td><td>1600.0</td></tr></tbody></table></div>"
      ],
      "text/plain": [
       "shape: (502_386, 6)\n",
       "┌─────────┬─────┬─────┬────────┬─────────┬───────────┐\n",
       "│ #FID    ┆ Age ┆ Sex ┆ Age^2  ┆ Age_Sex ┆ Age^2_Sex │\n",
       "│ ---     ┆ --- ┆ --- ┆ ---    ┆ ---     ┆ ---       │\n",
       "│ i64     ┆ i64 ┆ i64 ┆ f64    ┆ i64     ┆ f64       │\n",
       "╞═════════╪═════╪═════╪════════╪═════════╪═══════════╡\n",
       "│ 1000010 ┆ 63  ┆ -1  ┆ 3969.0 ┆ -63     ┆ -3969.0   │\n",
       "│ 1000028 ┆ 47  ┆ -1  ┆ 2209.0 ┆ -47     ┆ -2209.0   │\n",
       "│ 1000034 ┆ 58  ┆ -1  ┆ 3364.0 ┆ -58     ┆ -3364.0   │\n",
       "│ 1000045 ┆ 67  ┆ -1  ┆ 4489.0 ┆ -67     ┆ -4489.0   │\n",
       "│ …       ┆ …   ┆ …   ┆ …      ┆ …       ┆ …         │\n",
       "│ 6024804 ┆ 68  ┆ -1  ┆ 4624.0 ┆ -68     ┆ -4624.0   │\n",
       "│ 6024818 ┆ 50  ┆ -1  ┆ 2500.0 ┆ -50     ┆ -2500.0   │\n",
       "│ 6024820 ┆ 43  ┆ -1  ┆ 1849.0 ┆ -43     ┆ -1849.0   │\n",
       "│ 6024833 ┆ 40  ┆ 1   ┆ 1600.0 ┆ 40      ┆ 1600.0    │\n",
       "└─────────┴─────┴─────┴────────┴─────────┴───────────┘"
      ]
     },
     "execution_count": 7,
     "metadata": {},
     "output_type": "execute_result"
    }
   ],
   "source": [
    "df_tabular = (df_tabular\n",
    " .with_columns([\n",
    "     (df_tabular['Sex'] * 2 -1).alias('Sex'),\n",
    " ])\n",
    ")\n",
    "\n",
    "df_tabular = (df_tabular\n",
    " .with_columns([\n",
    "     (df_tabular['Age'] ** 2).alias('Age^2'),\n",
    "     (df_tabular['Age'] * df_tabular['Sex']).alias('Age_Sex'),\n",
    "     (df_tabular['Age'] ** 2 * df_tabular['Sex']).alias('Age^2_Sex'),\n",
    " ])\n",
    ")\n",
    "\n",
    "df_tabular"
   ]
  },
  {
   "cell_type": "markdown",
   "id": "20be0897",
   "metadata": {},
   "source": [
    "## Join"
   ]
  },
  {
   "cell_type": "code",
   "execution_count": 8,
   "id": "7ab93318",
   "metadata": {},
   "outputs": [
    {
     "data": {
      "text/html": [
       "<div><style>\n",
       ".dataframe > thead > tr > th,\n",
       ".dataframe > tbody > tr > td {\n",
       "  text-align: right;\n",
       "}\n",
       "</style>\n",
       "<small>shape: (384235, 37)</small><table border=\"1\" class=\"dataframe\"><thead><tr><th>#FID</th><th>IID</th><th>PC1</th><th>PC2</th><th>PC3</th><th>PC4</th><th>PC5</th><th>PC6</th><th>PC7</th><th>PC8</th><th>PC9</th><th>PC10</th><th>PC11</th><th>PC12</th><th>PC13</th><th>PC14</th><th>PC15</th><th>PC16</th><th>PC17</th><th>PC18</th><th>PC19</th><th>PC20</th><th>PC21</th><th>PC22</th><th>PC23</th><th>PC24</th><th>PC25</th><th>PC26</th><th>PC27</th><th>PC28</th><th>PC29</th><th>PC30</th><th>Age</th><th>Sex</th><th>Age^2</th><th>Age_Sex</th><th>Age^2_Sex</th></tr><tr><td>i64</td><td>i64</td><td>f64</td><td>f64</td><td>f64</td><td>f64</td><td>f64</td><td>f64</td><td>f64</td><td>f64</td><td>f64</td><td>f64</td><td>f64</td><td>f64</td><td>f64</td><td>f64</td><td>f64</td><td>f64</td><td>f64</td><td>f64</td><td>f64</td><td>f64</td><td>f64</td><td>f64</td><td>f64</td><td>f64</td><td>f64</td><td>f64</td><td>f64</td><td>f64</td><td>f64</td><td>f64</td><td>i64</td><td>i64</td><td>f64</td><td>i64</td><td>f64</td></tr></thead><tbody><tr><td>1000010</td><td>1000010</td><td>0.000857</td><td>0.002668</td><td>-0.004393</td><td>0.00094</td><td>0.001059</td><td>-0.001144</td><td>0.001214</td><td>0.000726</td><td>-0.000586</td><td>0.000163</td><td>-0.000745</td><td>0.000053</td><td>0.001375</td><td>-0.000752</td><td>0.000788</td><td>-0.001142</td><td>0.000744</td><td>0.001006</td><td>0.001802</td><td>-0.003598</td><td>-0.001485</td><td>-0.000658</td><td>-0.000134</td><td>0.000798</td><td>-0.001645</td><td>0.0014264</td><td>-0.001551</td><td>-0.00118</td><td>0.001663</td><td>0.000551</td><td>63</td><td>-1</td><td>3969.0</td><td>-63</td><td>-3969.0</td></tr><tr><td>1000028</td><td>1000028</td><td>0.000463</td><td>-0.002029</td><td>0.000847</td><td>-0.000245</td><td>0.000761</td><td>-0.001291</td><td>0.000212</td><td>0.000475</td><td>-0.00083</td><td>0.000239</td><td>-0.000672</td><td>-0.000993</td><td>0.000747</td><td>-0.000705</td><td>-0.002664</td><td>0.001726</td><td>0.001099</td><td>-0.001474</td><td>0.001284</td><td>0.002492</td><td>0.000198</td><td>0.002486</td><td>0.0012639</td><td>0.000769</td><td>-0.000636</td><td>0.001643</td><td>0.0019472</td><td>-0.001368</td><td>-0.000448</td><td>0.001566</td><td>47</td><td>-1</td><td>2209.0</td><td>-47</td><td>-2209.0</td></tr><tr><td>1000034</td><td>1000034</td><td>-0.001741</td><td>0.00054</td><td>0.001176</td><td>0.000102</td><td>0.002268</td><td>-0.000642</td><td>0.001749</td><td>0.000493</td><td>-0.000265</td><td>-0.00039</td><td>-0.000679</td><td>0.000774</td><td>0.00019</td><td>0.000328</td><td>0.001635</td><td>-0.002988</td><td>-0.000301</td><td>-0.001541</td><td>-0.000515</td><td>-0.001075</td><td>0.000596</td><td>0.000686</td><td>-0.000004</td><td>-0.000435</td><td>-0.001162</td><td>0.000487</td><td>-0.001704</td><td>-0.000108</td><td>-0.000436</td><td>0.002014</td><td>58</td><td>-1</td><td>3364.0</td><td>-58</td><td>-3364.0</td></tr><tr><td>1000045</td><td>1000045</td><td>-0.000671</td><td>-0.002329</td><td>-0.00311</td><td>-0.003107</td><td>0.00125</td><td>0.000962</td><td>-0.000246</td><td>-0.000602</td><td>0.000104</td><td>0.000117</td><td>0.000486</td><td>0.000676</td><td>0.003362</td><td>0.001873</td><td>0.000407</td><td>0.000365</td><td>0.00012</td><td>-0.000341</td><td>-0.000841</td><td>-0.000596</td><td>0.000207</td><td>-0.000906</td><td>-0.001868</td><td>0.001472</td><td>-0.001625</td><td>-0.00203</td><td>-0.000816</td><td>0.001537</td><td>0.000221</td><td>0.00143</td><td>67</td><td>-1</td><td>4489.0</td><td>-67</td><td>-4489.0</td></tr><tr><td>1000052</td><td>1000052</td><td>-0.003935</td><td>-0.000874</td><td>0.001721</td><td>0.002003</td><td>0.002165</td><td>0.001034</td><td>0.000891</td><td>0.001223</td><td>-0.001491</td><td>0.001009</td><td>-0.000307</td><td>0.00049</td><td>-0.001313</td><td>-0.00086</td><td>-0.000504</td><td>-0.001158</td><td>0.001816</td><td>-0.001992</td><td>-0.000601</td><td>-0.000757</td><td>-0.001796</td><td>-0.000699</td><td>0.000929</td><td>0.000488</td><td>0.000962</td><td>-0.001181</td><td>-0.000449</td><td>0.001547</td><td>-0.000638</td><td>-0.000789</td><td>64</td><td>-1</td><td>4096.0</td><td>-64</td><td>-4096.0</td></tr><tr><td>1000076</td><td>1000076</td><td>0.000783</td><td>0.000105</td><td>0.000331</td><td>-0.000561</td><td>0.003292</td><td>-0.000655</td><td>0.001724</td><td>0.00019</td><td>-0.000281</td><td>0.000625</td><td>-0.001336</td><td>-0.004096</td><td>0.000993</td><td>0.000228</td><td>0.001322</td><td>-0.000806</td><td>-0.001487</td><td>-0.001475</td><td>0.001014</td><td>0.000421</td><td>0.000475</td><td>-0.001605</td><td>0.000778</td><td>-0.000599</td><td>-0.000809</td><td>-0.000544</td><td>-0.000727</td><td>0.00063</td><td>0.00036</td><td>-0.002355</td><td>69</td><td>-1</td><td>4761.0</td><td>-69</td><td>-4761.0</td></tr><tr><td>1000087</td><td>1000087</td><td>0.001108</td><td>-0.001842</td><td>-0.002741</td><td>-0.000494</td><td>-0.000031</td><td>-0.001658</td><td>-0.001742</td><td>-0.00288</td><td>0.001056</td><td>-0.001246</td><td>-0.000048</td><td>0.00155</td><td>-0.000095</td><td>0.0007</td><td>-0.002186</td><td>0.003396</td><td>0.00127</td><td>-0.000402</td><td>0.0031528</td><td>0.00025</td><td>0.001493</td><td>0.00024</td><td>-0.001532</td><td>-0.001649</td><td>-0.000742</td><td>0.001362</td><td>-0.000423</td><td>-0.000663</td><td>-0.002097</td><td>0.000527</td><td>63</td><td>-1</td><td>3969.0</td><td>-63</td><td>-3969.0</td></tr><tr><td>1000091</td><td>1000091</td><td>0.000968</td><td>-0.002065</td><td>0.000998</td><td>0.00045</td><td>0.002703</td><td>0.001942</td><td>0.001862</td><td>-0.000943</td><td>0.00112</td><td>0.000022</td><td>0.00019</td><td>0.0016118</td><td>0.000982</td><td>-0.002852</td><td>0.000914</td><td>-0.000778</td><td>0.001948</td><td>0.002199</td><td>-0.000971</td><td>-0.002653</td><td>0.000867</td><td>-0.002374</td><td>0.000499</td><td>-0.00105</td><td>0.00231</td><td>0.000305</td><td>-0.001187</td><td>-0.000609</td><td>0.0031818</td><td>0.0031426</td><td>67</td><td>1</td><td>4489.0</td><td>67</td><td>4489.0</td></tr><tr><td>1000104</td><td>1000104</td><td>0.001174</td><td>-0.002596</td><td>0.000712</td><td>-0.001766</td><td>0.000561</td><td>-0.002174</td><td>-0.00161</td><td>-0.003824</td><td>0.001474</td><td>-0.001983</td><td>-0.000268</td><td>0.001551</td><td>-0.002141</td><td>0.000269</td><td>0.001043</td><td>-0.001052</td><td>0.001191</td><td>0.001288</td><td>0.000428</td><td>0.000443</td><td>0.002082</td><td>0.001108</td><td>0.000156</td><td>-0.001638</td><td>0.002569</td><td>0.000106</td><td>-0.000034</td><td>-0.001048</td><td>0.000578</td><td>0.003578</td><td>65</td><td>1</td><td>4225.0</td><td>65</td><td>4225.0</td></tr><tr><td>1000118</td><td>1000118</td><td>-0.000604</td><td>0.000299</td><td>-0.000171</td><td>-0.006811</td><td>-0.00098</td><td>-0.000271</td><td>-0.000466</td><td>0.001718</td><td>-0.001329</td><td>0.002667</td><td>0.001405</td><td>0.001338</td><td>0.000457</td><td>-0.000672</td><td>0.001808</td><td>-0.002509</td><td>-0.003358</td><td>-0.000697</td><td>0.002042</td><td>-0.001915</td><td>0.001018</td><td>-0.001174</td><td>-0.001219</td><td>0.000687</td><td>0.000801</td><td>0.001578</td><td>-0.001791</td><td>-0.000688</td><td>-0.003123</td><td>-0.000462</td><td>62</td><td>1</td><td>3844.0</td><td>62</td><td>3844.0</td></tr><tr><td>1000133</td><td>1000133</td><td>0.001976</td><td>0.000005</td><td>0.000836</td><td>-0.000327</td><td>-0.001538</td><td>0.000448</td><td>0.001054</td><td>0.001506</td><td>0.001156</td><td>-0.001854</td><td>-0.001151</td><td>0.001299</td><td>-0.00087</td><td>0.001133</td><td>0.00039</td><td>-0.003366</td><td>-0.001213</td><td>0.003008</td><td>-0.00013</td><td>-0.001529</td><td>0.00099</td><td>-0.000775</td><td>0.004144</td><td>0.0035486</td><td>0.000355</td><td>0.002169</td><td>0.001952</td><td>-0.000446</td><td>0.000507</td><td>0.000597</td><td>65</td><td>-1</td><td>4225.0</td><td>-65</td><td>-4225.0</td></tr><tr><td>1000159</td><td>1000159</td><td>0.000853</td><td>0.000607</td><td>-0.000361</td><td>-0.000451</td><td>0.001437</td><td>-0.001163</td><td>0.002616</td><td>-0.000857</td><td>-0.000926</td><td>0.000384</td><td>-0.00125</td><td>-0.002127</td><td>0.000799</td><td>0.000395</td><td>-0.000411</td><td>0.001094</td><td>0.000417</td><td>0.0037</td><td>0.00214</td><td>-0.001158</td><td>0.0011588</td><td>-0.001447</td><td>-0.000156</td><td>0.000359</td><td>0.002373</td><td>-0.001434</td><td>0.00085</td><td>0.001246</td><td>-0.001411</td><td>0.001256</td><td>44</td><td>1</td><td>1936.0</td><td>44</td><td>1936.0</td></tr><tr><td>&hellip;</td><td>&hellip;</td><td>&hellip;</td><td>&hellip;</td><td>&hellip;</td><td>&hellip;</td><td>&hellip;</td><td>&hellip;</td><td>&hellip;</td><td>&hellip;</td><td>&hellip;</td><td>&hellip;</td><td>&hellip;</td><td>&hellip;</td><td>&hellip;</td><td>&hellip;</td><td>&hellip;</td><td>&hellip;</td><td>&hellip;</td><td>&hellip;</td><td>&hellip;</td><td>&hellip;</td><td>&hellip;</td><td>&hellip;</td><td>&hellip;</td><td>&hellip;</td><td>&hellip;</td><td>&hellip;</td><td>&hellip;</td><td>&hellip;</td><td>&hellip;</td><td>&hellip;</td><td>&hellip;</td><td>&hellip;</td><td>&hellip;</td><td>&hellip;</td><td>&hellip;</td></tr><tr><td>6024643</td><td>6024643</td><td>0.001726</td><td>-0.002103</td><td>0.000739</td><td>-0.00011</td><td>0.001239</td><td>0.000594</td><td>-0.002006</td><td>-0.00147</td><td>0.000217</td><td>-0.000941</td><td>-0.001822</td><td>-0.000696</td><td>0.000499</td><td>-0.002681</td><td>-0.001087</td><td>0.000846</td><td>-0.001377</td><td>0.000466</td><td>0.001436</td><td>-0.000261</td><td>0.00141</td><td>-0.001241</td><td>-0.000428</td><td>0.00052</td><td>0.002332</td><td>0.001218</td><td>0.000171</td><td>-0.000404</td><td>0.001289</td><td>-0.000707</td><td>58</td><td>-1</td><td>3364.0</td><td>-58</td><td>-3364.0</td></tr><tr><td>6024650</td><td>6024650</td><td>0.00184</td><td>-0.002591</td><td>0.000"
      ],
      "text/plain": [
       "shape: (384_235, 37)\n",
       "┌─────────┬─────────┬───────────┬───────────┬───┬─────┬────────┬─────────┬───────────┐\n",
       "│ #FID    ┆ IID     ┆ PC1       ┆ PC2       ┆ … ┆ Sex ┆ Age^2  ┆ Age_Sex ┆ Age^2_Sex │\n",
       "│ ---     ┆ ---     ┆ ---       ┆ ---       ┆   ┆ --- ┆ ---    ┆ ---     ┆ ---       │\n",
       "│ i64     ┆ i64     ┆ f64       ┆ f64       ┆   ┆ i64 ┆ f64    ┆ i64     ┆ f64       │\n",
       "╞═════════╪═════════╪═══════════╪═══════════╪═══╪═════╪════════╪═════════╪═══════════╡\n",
       "│ 1000010 ┆ 1000010 ┆ 0.000857  ┆ 0.002668  ┆ … ┆ -1  ┆ 3969.0 ┆ -63     ┆ -3969.0   │\n",
       "│ 1000028 ┆ 1000028 ┆ 0.000463  ┆ -0.002029 ┆ … ┆ -1  ┆ 2209.0 ┆ -47     ┆ -2209.0   │\n",
       "│ 1000034 ┆ 1000034 ┆ -0.001741 ┆ 0.00054   ┆ … ┆ -1  ┆ 3364.0 ┆ -58     ┆ -3364.0   │\n",
       "│ 1000045 ┆ 1000045 ┆ -0.000671 ┆ -0.002329 ┆ … ┆ -1  ┆ 4489.0 ┆ -67     ┆ -4489.0   │\n",
       "│ …       ┆ …       ┆ …         ┆ …         ┆ … ┆ …   ┆ …      ┆ …       ┆ …         │\n",
       "│ 6024753 ┆ 6024753 ┆ 0.001658  ┆ -0.001864 ┆ … ┆ 1   ┆ 4624.0 ┆ 68      ┆ 4624.0    │\n",
       "│ 6024770 ┆ 6024770 ┆ 0.001095  ┆ 0.0023963 ┆ … ┆ 1   ┆ 3721.0 ┆ 61      ┆ 3721.0    │\n",
       "│ 6024784 ┆ 6024784 ┆ 0.002007  ┆ 0.000205  ┆ … ┆ -1  ┆ 3249.0 ┆ -57     ┆ -3249.0   │\n",
       "│ 6024818 ┆ 6024818 ┆ 0.000576  ┆ -0.000256 ┆ … ┆ -1  ┆ 2500.0 ┆ -50     ┆ -2500.0   │\n",
       "└─────────┴─────────┴───────────┴───────────┴───┴─────┴────────┴─────────┴───────────┘"
      ]
     },
     "execution_count": 8,
     "metadata": {},
     "output_type": "execute_result"
    },
    {
     "data": {
      "text/html": [
       "<b>limit_output extension: Maximum message size of 10000 exceeded with 16834 characters</b>"
      ]
     },
     "metadata": {},
     "output_type": "display_data"
    }
   ],
   "source": [
    "df_joined = df_pc.join(df_tabular, on=\"#FID\", how=\"inner\")\n",
    "df_joined"
   ]
  },
  {
   "cell_type": "code",
   "execution_count": 9,
   "id": "9a3167b5",
   "metadata": {},
   "outputs": [],
   "source": [
    "# Full set\n",
    "file_out = os.path.join(DIR_OUT, \"covar_age_sex_combination_pc30.txt\")\n",
    "df_joined.write_csv(file_out, separator=\"\\t\")"
   ]
  },
  {
   "cell_type": "code",
   "execution_count": 10,
   "id": "90d6223d",
   "metadata": {
    "scrolled": true
   },
   "outputs": [
    {
     "data": {
      "text/html": [
       "<div><style>\n",
       ".dataframe > thead > tr > th,\n",
       ".dataframe > tbody > tr > td {\n",
       "  text-align: right;\n",
       "}\n",
       "</style>\n",
       "<small>shape: (384235, 17)</small><table border=\"1\" class=\"dataframe\"><thead><tr><th>#FID</th><th>IID</th><th>PC1</th><th>PC2</th><th>PC3</th><th>PC4</th><th>PC5</th><th>PC6</th><th>PC7</th><th>PC8</th><th>PC9</th><th>PC10</th><th>Age</th><th>Sex</th><th>Age^2</th><th>Age_Sex</th><th>Age^2_Sex</th></tr><tr><td>i64</td><td>i64</td><td>f64</td><td>f64</td><td>f64</td><td>f64</td><td>f64</td><td>f64</td><td>f64</td><td>f64</td><td>f64</td><td>f64</td><td>i64</td><td>i64</td><td>f64</td><td>i64</td><td>f64</td></tr></thead><tbody><tr><td>1000010</td><td>1000010</td><td>0.000857</td><td>0.002668</td><td>-0.004393</td><td>0.00094</td><td>0.001059</td><td>-0.001144</td><td>0.001214</td><td>0.000726</td><td>-0.000586</td><td>0.000163</td><td>63</td><td>-1</td><td>3969.0</td><td>-63</td><td>-3969.0</td></tr><tr><td>1000028</td><td>1000028</td><td>0.000463</td><td>-0.002029</td><td>0.000847</td><td>-0.000245</td><td>0.000761</td><td>-0.001291</td><td>0.000212</td><td>0.000475</td><td>-0.00083</td><td>0.000239</td><td>47</td><td>-1</td><td>2209.0</td><td>-47</td><td>-2209.0</td></tr><tr><td>1000034</td><td>1000034</td><td>-0.001741</td><td>0.00054</td><td>0.001176</td><td>0.000102</td><td>0.002268</td><td>-0.000642</td><td>0.001749</td><td>0.000493</td><td>-0.000265</td><td>-0.00039</td><td>58</td><td>-1</td><td>3364.0</td><td>-58</td><td>-3364.0</td></tr><tr><td>1000045</td><td>1000045</td><td>-0.000671</td><td>-0.002329</td><td>-0.00311</td><td>-0.003107</td><td>0.00125</td><td>0.000962</td><td>-0.000246</td><td>-0.000602</td><td>0.000104</td><td>0.000117</td><td>67</td><td>-1</td><td>4489.0</td><td>-67</td><td>-4489.0</td></tr><tr><td>1000052</td><td>1000052</td><td>-0.003935</td><td>-0.000874</td><td>0.001721</td><td>0.002003</td><td>0.002165</td><td>0.001034</td><td>0.000891</td><td>0.001223</td><td>-0.001491</td><td>0.001009</td><td>64</td><td>-1</td><td>4096.0</td><td>-64</td><td>-4096.0</td></tr><tr><td>1000076</td><td>1000076</td><td>0.000783</td><td>0.000105</td><td>0.000331</td><td>-0.000561</td><td>0.003292</td><td>-0.000655</td><td>0.001724</td><td>0.00019</td><td>-0.000281</td><td>0.000625</td><td>69</td><td>-1</td><td>4761.0</td><td>-69</td><td>-4761.0</td></tr><tr><td>1000087</td><td>1000087</td><td>0.001108</td><td>-0.001842</td><td>-0.002741</td><td>-0.000494</td><td>-0.000031</td><td>-0.001658</td><td>-0.001742</td><td>-0.00288</td><td>0.001056</td><td>-0.001246</td><td>63</td><td>-1</td><td>3969.0</td><td>-63</td><td>-3969.0</td></tr><tr><td>1000091</td><td>1000091</td><td>0.000968</td><td>-0.002065</td><td>0.000998</td><td>0.00045</td><td>0.002703</td><td>0.001942</td><td>0.001862</td><td>-0.000943</td><td>0.00112</td><td>0.000022</td><td>67</td><td>1</td><td>4489.0</td><td>67</td><td>4489.0</td></tr><tr><td>1000104</td><td>1000104</td><td>0.001174</td><td>-0.002596</td><td>0.000712</td><td>-0.001766</td><td>0.000561</td><td>-0.002174</td><td>-0.00161</td><td>-0.003824</td><td>0.001474</td><td>-0.001983</td><td>65</td><td>1</td><td>4225.0</td><td>65</td><td>4225.0</td></tr><tr><td>1000118</td><td>1000118</td><td>-0.000604</td><td>0.000299</td><td>-0.000171</td><td>-0.006811</td><td>-0.00098</td><td>-0.000271</td><td>-0.000466</td><td>0.001718</td><td>-0.001329</td><td>0.002667</td><td>62</td><td>1</td><td>3844.0</td><td>62</td><td>3844.0</td></tr><tr><td>1000133</td><td>1000133</td><td>0.001976</td><td>0.000005</td><td>0.000836</td><td>-0.000327</td><td>-0.001538</td><td>0.000448</td><td>0.001054</td><td>0.001506</td><td>0.001156</td><td>-0.001854</td><td>65</td><td>-1</td><td>4225.0</td><td>-65</td><td>-4225.0</td></tr><tr><td>1000159</td><td>1000159</td><td>0.000853</td><td>0.000607</td><td>-0.000361</td><td>-0.000451</td><td>0.001437</td><td>-0.001163</td><td>0.002616</td><td>-0.000857</td><td>-0.000926</td><td>0.000384</td><td>44</td><td>1</td><td>1936.0</td><td>44</td><td>1936.0</td></tr><tr><td>&hellip;</td><td>&hellip;</td><td>&hellip;</td><td>&hellip;</td><td>&hellip;</td><td>&hellip;</td><td>&hellip;</td><td>&hellip;</td><td>&hellip;</td><td>&hellip;</td><td>&hellip;</td><td>&hellip;</td><td>&hellip;</td><td>&hellip;</td><td>&hellip;</td><td>&hellip;</td><td>&hellip;</td></tr><tr><td>6024643</td><td>6024643</td><td>0.001726</td><td>-0.002103</td><td>0.000739</td><td>-0.00011</td><td>0.001239</td><td>0.000594</td><td>-0.002006</td><td>-0.00147</td><td>0.000217</td><td>-0.000941</td><td>58</td><td>-1</td><td>3364.0</td><td>-58</td><td>-3364.0</td></tr><tr><td>6024650</td><td>6024650</td><td>0.00184</td><td>-0.002591</td><td>0.00048</td><td>0.000549</td><td>0.00077</td><td>0.001946</td><td>-0.000939</td><td>0.000499</td><td>-0.00128</td><td>0.002101</td><td>58</td><td>1</td><td>3364.0</td><td>58</td><td>3364.0</td></tr><tr><td>6024664</td><td>6024664</td><td>0.000495</td><td>-0.000219</td><td>-0.00178</td><td>0.000894</td><td>-0.00022</td><td>-0.000037</td><td>-0.002041</td><td>0.000878</td><td>-0.001358</td><td>0.001527</td><td>62</td><td>-1</td><td>3844.0</td><td>-62</td><td>-3844.0</td></tr><tr><td>6024677</td><td>6024677</td><td>-0.000068</td><td>0.0025533</td><td>0.001306</td><td>0.000668</td><td>-0.001609</td><td>-0.001083</td><td>-0.00037</td><td>0.002477</td><td>0.000084</td><td>-0.003233</td><td>65</td><td>-1</td><td>4225.0</td><td>-65</td><td>-4225.0</td></tr><tr><td>6024686</td><td>6024686</td><td>-0.000032</td><td>-0.002144</td><td>0.001474</td><td>0.0013</td><td>-0.000385</td><td>0.002623</td><td>-0.00141</td><td>0.001104</td><td>-0.000585</td><td>-0.001275</td><td>61</td><td>-1</td><td>3721.0</td><td>-61</td><td>-3721.0</td></tr><tr><td>6024698</td><td>6024698</td><td>0.000753</td><td>-0.000072</td><td>0.000647</td><td>0.000566</td><td>0.001501</td><td>-0.000816</td><td>-0.000296</td><td>-0.001338</td><td>-0.0005</td><td>-0.000072</td><td>57</td><td>-1</td><td>3249.0</td><td>-57</td><td>-3249.0</td></tr><tr><td>6024729</td><td>6024729</td><td>-0.000907</td><td>0.00011</td><td>-0.00148</td><td>0.00201</td><td>-0.001784</td><td>0.000755</td><td>-0.00199</td><td>-0.000049</td><td>-0.000571</td><td>-0.004809</td><td>54</td><td>-1</td><td>2916.0</td><td>-54</td><td>-2916.0</td></tr><tr><td>6024741</td><td>6024741</td><td>0.000479</td><td>0.002282</td><td>-0.002937</td><td>-0.002381</td><td>-0.000288</td><td>0.002279</td><td>-0.001421</td><td>-0.000022</td><td>-0.000041</td><td>0.000513</td><td>50</td><td>1</td><td>2500.0</td><td>50</td><td>2500.0</td></tr><tr><td>6024753</td><td>6024753</td><td>0.001658</td><td>-0.001864</td><td>-0.000227</td><td>0.001137</td><td>0.000731</td><td>-0.001114</td><td>-0.000439</td><td>0.000366</td><td>-0.001654</td><td>0.00122</td><td>68</td><td>1</td><td>4624.0</td><td>68</td><td>4624.0</td></tr><tr><td>6024770</td><td>6024770</td><td>0.001095</td><td>0.0023963</td><td>-0.000005</td><td>-0.00178</td><td>-0.001381</td><td>-0.001809</td><td>0.000935</td><td>-0.006569</td><td>-0.000112</td><td>0.000569</td><td>61</td><td>1</td><td>3721.0</td><td>61</td><td>3721.0</td></tr><tr><td>6024784</td><td>6024784</td><td>0.002007</td><td>0.000205</td><td>0.001093</td><td>-0.000313</td><td>-0.00162</td><td>-0.001951</td><td>0.000469</td><td>0.001874</td><td>0.004747</td><td>0.000672</td><td>57</td><td>-1</td><td>3249.0</td><td>-57</td><td>-3249.0</td></tr><tr><td>6024818</td><td>6024818</td><td>0.000576</td><td>-0.000256</td><td>0.000224</td><td>-0.000836</td><td>0.002186</td><td>-0.001971</td><td>0.00246</td><td>0.000093</td><td>-0.000457</td><td>-0.001103</td><td>50</td><td>-1</td><td>2500.0</td><td>-50</td><td>-2500.0</td></tr></tbody></table></div>"
      ],
      "text/plain": [
       "shape: (384_235, 17)\n",
       "┌─────────┬─────────┬───────────┬───────────┬───┬─────┬────────┬─────────┬───────────┐\n",
       "│ #FID    ┆ IID     ┆ PC1       ┆ PC2       ┆ … ┆ Sex ┆ Age^2  ┆ Age_Sex ┆ Age^2_Sex │\n",
       "│ ---     ┆ ---     ┆ ---       ┆ ---       ┆   ┆ --- ┆ ---    ┆ ---     ┆ ---       │\n",
       "│ i64     ┆ i64     ┆ f64       ┆ f64       ┆   ┆ i64 ┆ f64    ┆ i64     ┆ f64       │\n",
       "╞═════════╪═════════╪═══════════╪═══════════╪═══╪═════╪════════╪═════════╪═══════════╡\n",
       "│ 1000010 ┆ 1000010 ┆ 0.000857  ┆ 0.002668  ┆ … ┆ -1  ┆ 3969.0 ┆ -63     ┆ -3969.0   │\n",
       "│ 1000028 ┆ 1000028 ┆ 0.000463  ┆ -0.002029 ┆ … ┆ -1  ┆ 2209.0 ┆ -47     ┆ -2209.0   │\n",
       "│ 1000034 ┆ 1000034 ┆ -0.001741 ┆ 0.00054   ┆ … ┆ -1  ┆ 3364.0 ┆ -58     ┆ -3364.0   │\n",
       "│ 1000045 ┆ 1000045 ┆ -0.000671 ┆ -0.002329 ┆ … ┆ -1  ┆ 4489.0 ┆ -67     ┆ -4489.0   │\n",
       "│ …       ┆ …       ┆ …         ┆ …         ┆ … ┆ …   ┆ …      ┆ …       ┆ …         │\n",
       "│ 6024753 ┆ 6024753 ┆ 0.001658  ┆ -0.001864 ┆ … ┆ 1   ┆ 4624.0 ┆ 68      ┆ 4624.0    │\n",
       "│ 6024770 ┆ 6024770 ┆ 0.001095  ┆ 0.0023963 ┆ … ┆ 1   ┆ 3721.0 ┆ 61      ┆ 3721.0    │\n",
       "│ 6024784 ┆ 6024784 ┆ 0.002007  ┆ 0.000205  ┆ … ┆ -1  ┆ 3249.0 ┆ -57     ┆ -3249.0   │\n",
       "│ 6024818 ┆ 6024818 ┆ 0.000576  ┆ -0.000256 ┆ … ┆ -1  ┆ 2500.0 ┆ -50     ┆ -2500.0   │\n",
       "└─────────┴─────────┴───────────┴───────────┴───┴─────┴────────┴─────────┴───────────┘"
      ]
     },
     "execution_count": 10,
     "metadata": {},
     "output_type": "execute_result"
    }
   ],
   "source": [
    "# Same as PanUKBB\n",
    "df_joined_10 = df_joined.drop([\n",
    "\"PC11\",\n",
    "\"PC12\",\n",
    "\"PC13\",\n",
    "\"PC14\",\n",
    "\"PC15\",\n",
    "\"PC16\",\n",
    "\"PC17\",\n",
    "\"PC18\",\n",
    "\"PC19\",\n",
    "\"PC20\",\n",
    "\"PC21\",\n",
    "\"PC22\",\n",
    "\"PC23\",\n",
    "\"PC24\",\n",
    "\"PC25\",\n",
    "\"PC26\",\n",
    "\"PC27\",\n",
    "\"PC28\",\n",
    "\"PC29\",\n",
    "\"PC30\",\n",
    "])\n",
    "\n",
    "file_out = os.path.join(DIR_OUT, \"covar_age_sex_combination_pc10.txt\")\n",
    "df_joined_10.write_csv(file_out, separator=\"\\t\")\n",
    "df_joined_10"
   ]
  },
  {
   "cell_type": "code",
   "execution_count": null,
   "id": "3f0ef162",
   "metadata": {},
   "outputs": [],
   "source": []
  }
 ],
 "metadata": {
  "kernelspec": {
   "display_name": "Python 3 (ipykernel)",
   "language": "python",
   "name": "python3"
  },
  "language_info": {
   "codemirror_mode": {
    "name": "ipython",
    "version": 3
   },
   "file_extension": ".py",
   "mimetype": "text/x-python",
   "name": "python",
   "nbconvert_exporter": "python",
   "pygments_lexer": "ipython3",
   "version": "3.9.16"
  },
  "toc": {
   "base_numbering": 1,
   "nav_menu": {},
   "number_sections": true,
   "sideBar": true,
   "skip_h1_title": false,
   "title_cell": "Table of Contents",
   "title_sidebar": "Contents",
   "toc_cell": false,
   "toc_position": {
    "height": "calc(100% - 180px)",
    "left": "10px",
    "top": "150px",
    "width": "210.125px"
   },
   "toc_section_display": true,
   "toc_window_display": true
  },
  "varInspector": {
   "cols": {
    "lenName": 16,
    "lenType": 16,
    "lenVar": 40
   },
   "kernels_config": {
    "python": {
     "delete_cmd_postfix": "",
     "delete_cmd_prefix": "del ",
     "library": "var_list.py",
     "varRefreshCmd": "print(var_dic_list())"
    },
    "r": {
     "delete_cmd_postfix": ") ",
     "delete_cmd_prefix": "rm(",
     "library": "var_list.r",
     "varRefreshCmd": "cat(var_dic_list()) "
    }
   },
   "types_to_exclude": [
    "module",
    "function",
    "builtin_function_or_method",
    "instance",
    "_Feature"
   ],
   "window_display": false
  }
 },
 "nbformat": 4,
 "nbformat_minor": 5
}
