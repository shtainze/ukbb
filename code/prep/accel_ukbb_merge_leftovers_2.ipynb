{
 "cells": [
  {
   "cell_type": "markdown",
   "id": "ab99449f",
   "metadata": {},
   "source": [
    "**Input:** \n",
    "- ACCEL-UKBB merger leftover IDs\n",
    "\n",
    "**Process:**\n",
    " - Attempt merging the leftover entries, based on .cwa files' sha256 sum\n",
    "\n",
    "**Output:**\n",
    " - Newly paired IDs"
   ]
  },
  {
   "cell_type": "markdown",
   "id": "6d495afd",
   "metadata": {},
   "source": [
    "# Preparation (Execute all in this section!)"
   ]
  },
  {
   "cell_type": "markdown",
   "id": "73867402",
   "metadata": {},
   "source": [
    "## Import libraries & set environment variables"
   ]
  },
  {
   "cell_type": "code",
   "execution_count": 1,
   "id": "bde0e43d",
   "metadata": {},
   "outputs": [
    {
     "name": "stdout",
     "output_type": "stream",
     "text": [
      "Current directory (check that it's your home directory): J:\\sugai\\UKBiobank\n"
     ]
    }
   ],
   "source": [
    "import collections\n",
    "import csv\n",
    "from datetime import datetime\n",
    "import os\n",
    "import numpy as np\n",
    "from pathlib import Path\n",
    "import polars as pl\n",
    "import re\n",
    "\n",
    "# Draw flowcharts using Mermaid\n",
    "import base64\n",
    "from IPython.display import Image, display\n",
    "\n",
    "def mm(graph):\n",
    "  graphbytes = graph.encode(\"ascii\")\n",
    "  base64_bytes = base64.b64encode(graphbytes)\n",
    "  base64_string = base64_bytes.decode(\"ascii\")\n",
    "  display(Image(url=\"https://mermaid.ink/img/\" + base64_string))\n",
    "\n",
    "dir_home = Path(os.getcwd()).parent.parent\n",
    "os.chdir(dir_home)\n",
    "print(\"Current directory (check that it's your home directory):\", os.getcwd())"
   ]
  },
  {
   "cell_type": "code",
   "execution_count": 4,
   "id": "7873ba04",
   "metadata": {},
   "outputs": [
    {
     "data": {
      "text/html": [
       "<img src=\"https://mermaid.ink/img/CmdyYXBoIExSOwogICAgY2xhc3NEZWYgc291cmNlZGF0YSBmaWxsOiNGRkZGRkYKICAgIGNsYXNzRGVmIGZpbmFsIGZpbGw6I0JCQkJCQgogICAgCiAgICBOZXdbTmV3IGRhdGFzZXQ6IDY3MTAwNl0gLS0+IFBhaXJbSUQgcGFpcnNdOwogICAgT2xkW09sZCBkYXRhc2V0OiAzNDEzNF0gLS0+IFBhaXIKICAgIE5ldyAtLT4gTGVmdDFbTGVmdG92ZXIgSURzXQogICAgT2xkIC0tPiBMZWZ0MltMZWZ0b3ZlciBJRHNdCiAgICBMZWZ0MSAtLT4gTWVyZ2VbQXR0ZW1wdCBtZXJnZV0KICAgIExlZnQyIC0tPiBNZXJnZQo=\"/>"
      ],
      "text/plain": [
       "<IPython.core.display.Image object>"
      ]
     },
     "metadata": {},
     "output_type": "display_data"
    }
   ],
   "source": [
    "mm(\"\"\"\n",
    "graph LR;\n",
    "    classDef sourcedata fill:#FFFFFF\n",
    "    classDef final fill:#BBBBBB\n",
    "    \n",
    "    New[New dataset: 671006] --> Pair[ID pairs];\n",
    "    Old[Old dataset: 34134] --> Pair\n",
    "    New --> Left1[Leftover IDs]\n",
    "    Old --> Left2[Leftover IDs]\n",
    "    Left1 --> Merge[Attempt merge]\n",
    "    Left2 --> Merge\n",
    "\"\"\")\n"
   ]
  },
  {
   "cell_type": "code",
   "execution_count": 45,
   "id": "297f5743",
   "metadata": {},
   "outputs": [
    {
     "name": "stdout",
     "output_type": "stream",
     "text": [
      "<bound method DataFrame.head of shape: (488_160, 2)\n",
      "┌─────────┬─────────┐\n",
      "│ eid_old ┆ eid_new │\n",
      "│ ---     ┆ ---     │\n",
      "│ i64     ┆ i64     │\n",
      "╞═════════╪═════════╡\n",
      "│ 1327806 ┆ 1000010 │\n",
      "│ 2071371 ┆ 1000028 │\n",
      "│ 3017169 ┆ 1000034 │\n",
      "│ 2373493 ┆ 1000045 │\n",
      "│ …       ┆ …       │\n",
      "│ 2350278 ┆ 6024784 │\n",
      "│ 5200659 ┆ 6024795 │\n",
      "│ 5061586 ┆ 6024804 │\n",
      "│ 6016103 ┆ 6024818 │\n",
      "└─────────┴─────────┘>\n",
      "<bound method DataFrame.head of shape: (14_367, 1)\n",
      "┌─────────┐\n",
      "│ eid_old │\n",
      "│ ---     │\n",
      "│ i64     │\n",
      "╞═════════╡\n",
      "│ 1000360 │\n",
      "│ 1000438 │\n",
      "│ 1001101 │\n",
      "│ 1001649 │\n",
      "│ …       │\n",
      "│ 6023841 │\n",
      "│ 6023896 │\n",
      "│ 6024689 │\n",
      "│ 6025116 │\n",
      "└─────────┘>\n",
      "<bound method DataFrame.head of shape: (14_226, 1)\n",
      "┌─────────┐\n",
      "│ eid_new │\n",
      "│ ---     │\n",
      "│ i64     │\n",
      "╞═════════╡\n",
      "│ 1000104 │\n",
      "│ 1000557 │\n",
      "│ 1000719 │\n",
      "│ 1001090 │\n",
      "│ …       │\n",
      "│ 6024409 │\n",
      "│ 6024677 │\n",
      "│ 6024820 │\n",
      "│ 6024833 │\n",
      "└─────────┘>\n"
     ]
    }
   ],
   "source": [
    "# Input\n",
    "DIR_SOURCE_IDS = os.path.join(\"data\", \"accel_ukbb\", \"merging\")\n",
    "FILE_IDS_PAIRED = os.path.join(DIR_SOURCE, \"pair_ids_20230518.csv\")\n",
    "FILE_IDS_OLD = os.path.join(DIR_SOURCE_IDS, \"nonpaired_ids_leftover_old_20230518.csv\")\n",
    "FILE_IDS_NEW = os.path.join(DIR_SOURCE_IDS, \"nonpaired_ids_leftover_new_20230518.csv\")\n",
    "\n",
    "df_paired_id = (pl.read_csv(FILE_IDS_PAIRED)\n",
    "                .rename({\"eid\": \"eid_new\"}))\n",
    "df_nonpaired_id_old = (pl.read_csv(FILE_IDS_OLD))\n",
    "df_nonpaired_id_new = (pl.read_csv(FILE_IDS_NEW))\n",
    "\n",
    "print(df_paired_id.head)\n",
    "print(df_nonpaired_id_old.head)\n",
    "print(df_nonpaired_id_new.head)"
   ]
  },
  {
   "cell_type": "markdown",
   "id": "57a78ac5",
   "metadata": {},
   "source": [
    "# Process"
   ]
  },
  {
   "cell_type": "markdown",
   "id": "35d4bb49",
   "metadata": {},
   "source": [
    "## Get the corresponding cwa sha256"
   ]
  },
  {
   "cell_type": "code",
   "execution_count": 18,
   "id": "12f845fe",
   "metadata": {},
   "outputs": [
    {
     "name": "stdout",
     "output_type": "stream",
     "text": [
      "<bound method DataFrame.head of shape: (60, 2)\n",
      "┌───────────────────────────────────┬─────────┐\n",
      "│ sha256                            ┆ eid_old │\n",
      "│ ---                               ┆ ---     │\n",
      "│ str                               ┆ i64     │\n",
      "╞═══════════════════════════════════╪═════════╡\n",
      "│ 073ef6d938573107bd445c8c6eb8f24e… ┆ 4458619 │\n",
      "│ 0c2785b32c53ab29febb6374d4492eea… ┆ 3872217 │\n",
      "│ 10186064a6d202e0da2fade338d681e5… ┆ 5130042 │\n",
      "│ 16364a94fa701e2cd04068fa729b9e6c… ┆ 1082096 │\n",
      "│ …                                 ┆ …       │\n",
      "│ f2372e766d168737fe43c6297d53af4a… ┆ 2341658 │\n",
      "│ f27f21f80d334c5357aa68a8e10e0f41… ┆ 4037308 │\n",
      "│ f7b85ae25975336e675c649fbdf648da… ┆ 5629432 │\n",
      "│ ff66b0a3c41d49173d8ee80ccef91deb… ┆ 3967016 │\n",
      "└───────────────────────────────────┴─────────┘>\n",
      "<bound method DataFrame.head of shape: (19, 2)\n",
      "┌───────────────────────────────────┬─────────┐\n",
      "│ sha256                            ┆ eid_new │\n",
      "│ ---                               ┆ ---     │\n",
      "│ str                               ┆ i64     │\n",
      "╞═══════════════════════════════════╪═════════╡\n",
      "│ 0c2785b32c53ab29febb6374d4492eea… ┆ 1993670 │\n",
      "│ 1659f1e3add502ad180526d3dd02cf93… ┆ 5880336 │\n",
      "│ 179ada25506c6f2fb95b1d5c3b00f7d7… ┆ 5642658 │\n",
      "│ 2273920a69ca77a6441a236c4acf8908… ┆ 4783491 │\n",
      "│ …                                 ┆ …       │\n",
      "│ c53811349717c97fc062d0cd7b731ea8… ┆ 3412694 │\n",
      "│ cb790761cb3709ce3c6b347386024fd6… ┆ 2028177 │\n",
      "│ dd0df6812ffa675c355fdab5e1791391… ┆ 5838377 │\n",
      "│ ff66b0a3c41d49173d8ee80ccef91deb… ┆ 2878903 │\n",
      "└───────────────────────────────────┴─────────┘>\n"
     ]
    }
   ],
   "source": [
    "DIR_SOURCE_CWA_DIGEST = os.path.join(\"data\", \"accel_ukbb\", \"cwa_merge\")\n",
    "FILE_DIGEST_OLD = os.path.join(DIR_SOURCE_CWA_DIGEST, \"file_list_old_sorted.txt\")\n",
    "FILE_DIGEST_NEW = os.path.join(DIR_SOURCE_CWA_DIGEST, \"file_list_new_sorted.txt\")\n",
    "\n",
    "df_digest_old = (pl.read_csv(FILE_DIGEST_OLD, separator=\"\\t\")\n",
    "                .filter(pl.col(\"eid_old\").is_in(df_nonpaired_id_old[\"eid_old\"])))\n",
    "df_digest_new = (pl.read_csv(FILE_DIGEST_NEW, separator=\"\\t\")\n",
    "                .filter(pl.col(\"eid_new\").is_in(df_nonpaired_id_new[\"eid_new\"])))\n",
    "\n",
    "print(df_digest_old.head)\n",
    "print(df_digest_new.head)"
   ]
  },
  {
   "cell_type": "markdown",
   "id": "6cf55131",
   "metadata": {},
   "source": [
    "## Merge\n",
    "- Check that no entries are duplicated\n",
    "- After merge, check that the number of joined entries are the same as the number of new dataset IDs"
   ]
  },
  {
   "cell_type": "code",
   "execution_count": 40,
   "id": "22f3b9ce",
   "metadata": {},
   "outputs": [
    {
     "name": "stdout",
     "output_type": "stream",
     "text": [
      "0 entries in the old dataset are duplicated\n",
      "0 entries in the new dataset are duplicated\n"
     ]
    }
   ],
   "source": [
    "df = df_digest_old.select(pl.col(\"sha256\").is_duplicated())\n",
    "count = df.filter(pl.col(\"sha256\")).shape[0]\n",
    "print(count, \"entries in the old dataset are duplicated\")\n",
    "\n",
    "df = df_digest_new.select(pl.col(\"sha256\").is_duplicated())\n",
    "count = df.filter(pl.col(\"sha256\")).shape[0]\n",
    "print(count, \"entries in the new dataset are duplicated\")"
   ]
  },
  {
   "cell_type": "code",
   "execution_count": 43,
   "id": "6e4ade83",
   "metadata": {},
   "outputs": [
    {
     "data": {
      "text/html": [
       "<div><style>\n",
       ".dataframe > thead > tr > th,\n",
       ".dataframe > tbody > tr > td {\n",
       "  text-align: right;\n",
       "}\n",
       "</style>\n",
       "<small>shape: (19, 3)</small><table border=\"1\" class=\"dataframe\"><thead><tr><th>sha256</th><th>eid_new</th><th>eid_old</th></tr><tr><td>str</td><td>i64</td><td>i64</td></tr></thead><tbody><tr><td>&quot;0c2785b32c53ab…</td><td>1993670</td><td>3872217</td></tr><tr><td>&quot;1659f1e3add502…</td><td>5880336</td><td>5335805</td></tr><tr><td>&quot;179ada25506c6f…</td><td>5642658</td><td>2836584</td></tr><tr><td>&quot;2273920a69ca77…</td><td>4783491</td><td>4560985</td></tr><tr><td>&quot;30727d02983b4d…</td><td>5389871</td><td>1533850</td></tr><tr><td>&quot;3766d1b02bc05f…</td><td>1866543</td><td>3146475</td></tr><tr><td>&quot;3cdc34d7b4bf26…</td><td>5755710</td><td>1886308</td></tr><tr><td>&quot;4537c1cf76b88e…</td><td>2834670</td><td>3947128</td></tr><tr><td>&quot;6173c9af945c50…</td><td>2465163</td><td>1467128</td></tr><tr><td>&quot;80c9619dde4811…</td><td>4993070</td><td>4050460</td></tr><tr><td>&quot;86b7904312ba0a…</td><td>5466121</td><td>4638096</td></tr><tr><td>&quot;9485018580f83f…</td><td>3753470</td><td>5837139</td></tr><tr><td>&quot;9a4656348d84dd…</td><td>1405581</td><td>3963643</td></tr><tr><td>&quot;b035392826881f…</td><td>3901486</td><td>1151570</td></tr><tr><td>&quot;bfee7c6e6509d7…</td><td>4416472</td><td>1691102</td></tr><tr><td>&quot;c53811349717c9…</td><td>3412694</td><td>4769313</td></tr><tr><td>&quot;cb790761cb3709…</td><td>2028177</td><td>1470562</td></tr><tr><td>&quot;dd0df6812ffa67…</td><td>5838377</td><td>2657355</td></tr><tr><td>&quot;ff66b0a3c41d49…</td><td>2878903</td><td>3967016</td></tr></tbody></table></div>"
      ],
      "text/plain": [
       "shape: (19, 3)\n",
       "┌───────────────────────────────────┬─────────┬─────────┐\n",
       "│ sha256                            ┆ eid_new ┆ eid_old │\n",
       "│ ---                               ┆ ---     ┆ ---     │\n",
       "│ str                               ┆ i64     ┆ i64     │\n",
       "╞═══════════════════════════════════╪═════════╪═════════╡\n",
       "│ 0c2785b32c53ab29febb6374d4492eea… ┆ 1993670 ┆ 3872217 │\n",
       "│ 1659f1e3add502ad180526d3dd02cf93… ┆ 5880336 ┆ 5335805 │\n",
       "│ 179ada25506c6f2fb95b1d5c3b00f7d7… ┆ 5642658 ┆ 2836584 │\n",
       "│ 2273920a69ca77a6441a236c4acf8908… ┆ 4783491 ┆ 4560985 │\n",
       "│ …                                 ┆ …       ┆ …       │\n",
       "│ c53811349717c97fc062d0cd7b731ea8… ┆ 3412694 ┆ 4769313 │\n",
       "│ cb790761cb3709ce3c6b347386024fd6… ┆ 2028177 ┆ 1470562 │\n",
       "│ dd0df6812ffa675c355fdab5e1791391… ┆ 5838377 ┆ 2657355 │\n",
       "│ ff66b0a3c41d49173d8ee80ccef91deb… ┆ 2878903 ┆ 3967016 │\n",
       "└───────────────────────────────────┴─────────┴─────────┘"
      ]
     },
     "execution_count": 43,
     "metadata": {},
     "output_type": "execute_result"
    }
   ],
   "source": [
    "df_joined = df_digest_new.join(df_digest_old, on=\"sha256\", how=\"outer\").drop_nulls()\n",
    "df_joined"
   ]
  },
  {
   "cell_type": "markdown",
   "id": "9caf2d0b",
   "metadata": {},
   "source": [
    "## Merge to the already paired fraction and export"
   ]
  },
  {
   "cell_type": "code",
   "execution_count": 52,
   "id": "798f7288",
   "metadata": {},
   "outputs": [
    {
     "name": "stdout",
     "output_type": "stream",
     "text": [
      "<bound method DataFrame.head of shape: (488_179, 2)\n",
      "┌─────────┬─────────┐\n",
      "│ eid_new ┆ eid_old │\n",
      "│ ---     ┆ ---     │\n",
      "│ i64     ┆ i64     │\n",
      "╞═════════╪═════════╡\n",
      "│ 1000010 ┆ 1327806 │\n",
      "│ 1000028 ┆ 2071371 │\n",
      "│ 1000034 ┆ 3017169 │\n",
      "│ 1000045 ┆ 2373493 │\n",
      "│ …       ┆ …       │\n",
      "│ 3412694 ┆ 4769313 │\n",
      "│ 2028177 ┆ 1470562 │\n",
      "│ 5838377 ┆ 2657355 │\n",
      "│ 2878903 ┆ 3967016 │\n",
      "└─────────┴─────────┘>\n"
     ]
    }
   ],
   "source": [
    "df_paired_id_all = pl.concat([\n",
    "    df_paired_id.select(pl.col([\"eid_new\", \"eid_old\"])),\n",
    "    df_joined.select(pl.col([\"eid_new\", \"eid_old\"]))\n",
    "])\n",
    "\n",
    "print(df_paired_id_all.head)"
   ]
  },
  {
   "cell_type": "code",
   "execution_count": 55,
   "id": "d9d67f39",
   "metadata": {},
   "outputs": [],
   "source": [
    "FILE_OUT = os.path.join(DIR_SOURCE_IDS, \"pair_ids_sorted_old.csv\")\n",
    "df_paired_id_all.sort(by=\"eid_old\").select([\"eid_old\", \"eid_new\"]).write_csv(FILE_OUT)\n",
    "\n",
    "FILE_OUT = os.path.join(DIR_SOURCE_IDS, \"pair_ids_sorted_new.csv\")\n",
    "df_paired_id_all.sort(by=\"eid_new\").write_csv(FILE_OUT)"
   ]
  },
  {
   "cell_type": "code",
   "execution_count": null,
   "id": "5dca8228",
   "metadata": {},
   "outputs": [],
   "source": []
  }
 ],
 "metadata": {
  "kernelspec": {
   "display_name": "Python 3 (ipykernel)",
   "language": "python",
   "name": "python3"
  },
  "language_info": {
   "codemirror_mode": {
    "name": "ipython",
    "version": 3
   },
   "file_extension": ".py",
   "mimetype": "text/x-python",
   "name": "python",
   "nbconvert_exporter": "python",
   "pygments_lexer": "ipython3",
   "version": "3.9.16"
  },
  "toc": {
   "base_numbering": 1,
   "nav_menu": {},
   "number_sections": true,
   "sideBar": true,
   "skip_h1_title": false,
   "title_cell": "Table of Contents",
   "title_sidebar": "Contents",
   "toc_cell": false,
   "toc_position": {
    "height": "calc(100% - 180px)",
    "left": "10px",
    "top": "150px",
    "width": "210.125px"
   },
   "toc_section_display": true,
   "toc_window_display": true
  },
  "varInspector": {
   "cols": {
    "lenName": 16,
    "lenType": 16,
    "lenVar": 40
   },
   "kernels_config": {
    "python": {
     "delete_cmd_postfix": "",
     "delete_cmd_prefix": "del ",
     "library": "var_list.py",
     "varRefreshCmd": "print(var_dic_list())"
    },
    "r": {
     "delete_cmd_postfix": ") ",
     "delete_cmd_prefix": "rm(",
     "library": "var_list.r",
     "varRefreshCmd": "cat(var_dic_list()) "
    }
   },
   "types_to_exclude": [
    "module",
    "function",
    "builtin_function_or_method",
    "instance",
    "_Feature"
   ],
   "window_display": false
  }
 },
 "nbformat": 4,
 "nbformat_minor": 5
}
